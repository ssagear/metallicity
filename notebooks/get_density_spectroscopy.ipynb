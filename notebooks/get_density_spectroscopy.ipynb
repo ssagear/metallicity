{
 "cells": [
  {
   "cell_type": "markdown",
   "metadata": {},
   "source": [
    "# Sigma_density: M Dwarfs with Spectroscopic Constraints"
   ]
  },
  {
   "cell_type": "markdown",
   "metadata": {},
   "source": [
    "Calculating density constraints for M Dwarf KOIs with spectroscopic constraints on properties."
   ]
  },
  {
   "cell_type": "markdown",
   "metadata": {},
   "source": [
    "1. From spectroscopy, we know Temperature, Mass, and Radius.\n",
    "2. Which isochrones (stellar models, with Temperature, Mass, and Radius as parameters) fit above star?\n",
    "3. Now take into account GAIA distance for the star. From this, we know the Luminosity.\n",
    "4. Look back at stellar models - which isochrone fits the Temperature, Mass Radius, and Luminority (from GAIA)?"
   ]
  },
  {
   "cell_type": "code",
   "execution_count": 61,
   "metadata": {},
   "outputs": [],
   "source": [
    "import numpy as np\n",
    "import matplotlib.pyplot as plt\n",
    "from astropy.io import fits\n",
    "from pprint import pprint\n",
    "import pandas as pd\n",
    "from tqdm import tqdm\n",
    "from astropy.table import Table\n",
    "\n",
    "plt.rcParams['figure.figsize'] = [10, 5]\n",
    "pd.set_option(\"display.max_rows\", None, \"display.max_columns\", None)"
   ]
  },
  {
   "cell_type": "code",
   "execution_count": 62,
   "metadata": {},
   "outputs": [],
   "source": [
    "headers = ['KOI', 'KIC', 'Teff', 'ETeff', 'eTeff', 'Fe/H', 'e_Fe/H', 'M/H', 'e_M/H', 'SpType', 'Mstar', 'e_Mstar', 'Rstar', 'e_Rstar', 'Dis', 'Fe/H-T', 'e_Fe/H-T', 'Fe/H-M', 'e_Fe/H-M', 'M/H-M', 'e_M/H-M']"
   ]
  },
  {
   "cell_type": "markdown",
   "metadata": {},
   "source": [
    "For now, removed any rows with missing data and saved them into \"muirhead_data_no_missing_data.txt\"."
   ]
  },
  {
   "cell_type": "raw",
   "metadata": {},
   "source": [
    "================================================================================\n",
    "Byte-by-byte Description of file: apjs496235t1_mrt.txt\n",
    "--------------------------------------------------------------------------------\n",
    "   Bytes Format Units     Label  Explanations\n",
    "--------------------------------------------------------------------------------\n",
    "   1-  7 A7     ---       KOI    KOI Number with A or B for visual binaries\n",
    "   9- 16 I8     ---       KIC    KIC identifier\n",
    "  18- 21 I4     K         Teff   ? Stellar effective temperature (1)\n",
    "  23- 26 I4     K       E_Teff   ? Positive uncertainty in Teff (1)\n",
    "  28- 31 I4     K       e_Teff   ? Negative uncertainty in Teff (1)\n",
    "  33- 37 F5.2   [Sun]     Fe/H   ? Iron abundance using R12 calibration (1)\n",
    "  39- 42 F4.2   [Sun]   e_Fe/H   ? Uncertainty in Fe/H (1)\n",
    "\n",
    "  44- 48 F5.2   [Sun]     M/H    ? Overall metallicity using R12 calibration (1)\n",
    "  50- 53 F4.2   [Sun]   e_M/H    ? Uncertainty in M/H (1)\n",
    "  55- 57 A3     ---       SpType KHM Spectral type using R12 calibration (1)\n",
    "  59- 62 F4.2   solMass   Mstar  ? Stellar mass (2)\n",
    "  64- 67 F4.2   solMass e_Mstar  ? Uncertainty in Mstar (2)\n",
    "  69- 72 F4.2   solMass   Rstar  ? Stellar radius (2)\n",
    "  74- 77 F4.2   solRad  e_Rstar  ? Uncertainty in Rstar (2)\n",
    "  79- 81 I3     pc        Dis    ? Estimated distance to star (3) \n",
    "  83- 87 F5.2   [Sun]     Fe/H-T ? Iron abundance using T12 calibration (4)\n",
    "  89- 92 F4.2   [Sun]   e_Fe/H-T ? Uncertainty in Fe/H-T (4)\n",
    "  94- 98 F5.2   [Sun]     Fe/H-M ? Iron abundance using M13 calibration (4)\n",
    " 100-103 F4.2   [Sun]   e_Fe/H-M ? Uncertainty in Fe/H-M (4)\n",
    " 105-109 F5.2   [Sun]     M/H-M  ? Overall metallicity using M13 calibration (4)\n",
    " 111-114 F4.2   [Sun]   e_M/H-M  ? Uncertainty in M/H-M (4)\n",
    "--------------------------------------------------------------------------------\n",
    "Note (1): Stellar parameters determined using the K-band spectroscopic indices \n",
    "          of Rojas-Ayala et al. (2012), referred to as B12 in the table.  \n",
    "          Metallicity measurements for stars earlier than M0 (effective \n",
    "          temperature > 4000 K) represent an extrapolation of the calibrations.\n",
    "          KHM refers to the Kirkpatrick et al. (1991) spectral type system.  \n",
    "          For KOI 961, we use the effective temperature from \n",
    "          Muirhead et al. (2012a), which was determined by comparison to \n",
    "          empirical measurements of Barnard's Star.\n",
    "Note (2): Stellar parameters determined by interpolation onto a 5-Gyr isochrone\n",
    "          from the  Dartmouth Stellar Evolution Database (Dotter et al. 2008).\n",
    "Note (3): Distance determined by combining the predicted Mk from the Dartmouth \n",
    "          isochrones to the apparent K-band magnitude from 2MASS \n",
    "          Cutri et al. (2003).\n",
    "Note (4): For completeness, we include metallicity determinations using H-band \n",
    "          indices of Terrien et al. (2012), referred to as T12, and the K-band \n",
    "          indices of Mann et al. (2013a), referred to as M13.\n",
    "--------------------------------------------------------------------------------"
   ]
  },
  {
   "cell_type": "code",
   "execution_count": 63,
   "metadata": {},
   "outputs": [],
   "source": [
    "muirhead_data = pd.read_csv(\"/Users/sheilasagear/Dropbox (UFL)/Research/MetallicityProject/Data/Muirhead2013_isochrones/muirhead_data_no_missing_data.txt\", sep=\" \")"
   ]
  },
  {
   "cell_type": "code",
   "execution_count": 64,
   "metadata": {},
   "outputs": [],
   "source": [
    "isochrones = pd.read_csv('/Users/sheilasagear/Dropbox (UFL)/Research/MetallicityProject/Data/Muirhead2013_isochrones/isochrones_sdss_spitzer_lowmass.dat', sep='\\s\\s+', engine='python')"
   ]
  },
  {
   "cell_type": "markdown",
   "metadata": {},
   "source": [
    "#### First, let's work with muirhead_data[0]: KIC 5868793."
   ]
  },
  {
   "cell_type": "markdown",
   "metadata": {},
   "source": [
    "1. Take Teff, Mass, and Radius.\n",
    "2. Which isochrones fit these Teff, Mass, and Radius?"
   ]
  },
  {
   "cell_type": "markdown",
   "metadata": {},
   "source": [
    "#### Reading Gaia-Kepler data (luminosities)"
   ]
  },
  {
   "cell_type": "code",
   "execution_count": 13,
   "metadata": {},
   "outputs": [
    {
     "name": "stderr",
     "output_type": "stream",
     "text": [
      "/Users/sheilasagear/opt/anaconda3/lib/python3.7/site-packages/IPython/core/interactiveshell.py:3331: TableReplaceWarning: converted column 'r_result_flag' from integer to float\n",
      "  exec(code_obj, self.user_global_ns, self.user_ns)\n",
      "/Users/sheilasagear/opt/anaconda3/lib/python3.7/site-packages/IPython/core/interactiveshell.py:3331: TableReplaceWarning: converted column 'r_modality_flag' from integer to float\n",
      "  exec(code_obj, self.user_global_ns, self.user_ns)\n",
      "/Users/sheilasagear/opt/anaconda3/lib/python3.7/site-packages/IPython/core/interactiveshell.py:3331: TableReplaceWarning: converted column 'teff_err1' from integer to float\n",
      "  exec(code_obj, self.user_global_ns, self.user_ns)\n",
      "/Users/sheilasagear/opt/anaconda3/lib/python3.7/site-packages/IPython/core/interactiveshell.py:3331: TableReplaceWarning: converted column 'teff_err2' from integer to float\n",
      "  exec(code_obj, self.user_global_ns, self.user_ns)\n"
     ]
    }
   ],
   "source": [
    "dat = Table.read('/Users/sheilasagear/Dropbox (UFL)/Research/MetallicityProject/Data/Kepler-Gaia/kepler_dr2_4arcsec.fits', format='fits')\n",
    "df = dat.to_pandas()"
   ]
  },
  {
   "cell_type": "code",
   "execution_count": 168,
   "metadata": {},
   "outputs": [],
   "source": [
    "muirhead_gaia = df[df['kepid'].isin(list(muirhead_data.KIC))]\n",
    "muirhead_gaia = muirhead_gaia.reset_index()\n",
    "muirhead_gaia.rename(columns={\"index\": \"KIC\"})\n",
    "\n",
    "#muirhead_comb: planet hosts with spectroscopic data + Gaia/Kepler data in one table\n",
    "muirhead_comb = pd.concat([muirhead_data, muirhead_gaia], axis=1)"
   ]
  },
  {
   "cell_type": "code",
   "execution_count": 169,
   "metadata": {},
   "outputs": [],
   "source": [
    "test_planet = muirhead_comb.loc[muirhead_comb['KIC'] == 10388286.0]"
   ]
  },
  {
   "cell_type": "code",
   "execution_count": 170,
   "metadata": {},
   "outputs": [
    {
     "data": {
      "text/plain": [
       "29    0.100968\n",
       "Name: lum_val, dtype: float32"
      ]
     },
     "execution_count": 170,
     "metadata": {},
     "output_type": "execute_result"
    }
   ],
   "source": [
    "test_planet.lum_val"
   ]
  },
  {
   "cell_type": "code",
   "execution_count": 171,
   "metadata": {},
   "outputs": [],
   "source": [
    "#muirhead_comb[\"KIC\"]"
   ]
  },
  {
   "cell_type": "code",
   "execution_count": 172,
   "metadata": {},
   "outputs": [],
   "source": [
    "#muirhead_comb[\"lum_val\"]"
   ]
  },
  {
   "cell_type": "code",
   "execution_count": 173,
   "metadata": {},
   "outputs": [
    {
     "data": {
      "text/html": [
       "<div>\n",
       "<style scoped>\n",
       "    .dataframe tbody tr th:only-of-type {\n",
       "        vertical-align: middle;\n",
       "    }\n",
       "\n",
       "    .dataframe tbody tr th {\n",
       "        vertical-align: top;\n",
       "    }\n",
       "\n",
       "    .dataframe thead th {\n",
       "        text-align: right;\n",
       "    }\n",
       "</style>\n",
       "<table border=\"1\" class=\"dataframe\">\n",
       "  <thead>\n",
       "    <tr style=\"text-align: right;\">\n",
       "      <th></th>\n",
       "      <th>KOI</th>\n",
       "      <th>KIC</th>\n",
       "      <th>Teff</th>\n",
       "      <th>ETeff</th>\n",
       "      <th>eTeff</th>\n",
       "      <th>Fe/H</th>\n",
       "      <th>e_Fe/H</th>\n",
       "      <th>M/H</th>\n",
       "      <th>e_M/H</th>\n",
       "      <th>SpType</th>\n",
       "      <th>Mstar</th>\n",
       "      <th>e_Mstar</th>\n",
       "      <th>Rstar</th>\n",
       "      <th>e_Rstar</th>\n",
       "      <th>Dis</th>\n",
       "      <th>Fe/H-T</th>\n",
       "      <th>e_Fe/H-T</th>\n",
       "      <th>Fe/H-M</th>\n",
       "      <th>e_Fe/H-M</th>\n",
       "      <th>M/H-M</th>\n",
       "      <th>e_M/H-M</th>\n",
       "      <th>index</th>\n",
       "      <th>solution_id</th>\n",
       "      <th>designation</th>\n",
       "      <th>source_id</th>\n",
       "      <th>random_index</th>\n",
       "      <th>gaia_ref_epoch</th>\n",
       "      <th>ra</th>\n",
       "      <th>ra_error</th>\n",
       "      <th>dec</th>\n",
       "      <th>dec_error</th>\n",
       "      <th>parallax</th>\n",
       "      <th>parallax_error</th>\n",
       "      <th>parallax_over_error</th>\n",
       "      <th>pmra</th>\n",
       "      <th>pmra_error</th>\n",
       "      <th>pmdec</th>\n",
       "      <th>pmdec_error</th>\n",
       "      <th>ra_dec_corr</th>\n",
       "      <th>ra_parallax_corr</th>\n",
       "      <th>ra_pmra_corr</th>\n",
       "      <th>ra_pmdec_corr</th>\n",
       "      <th>dec_parallax_corr</th>\n",
       "      <th>dec_pmra_corr</th>\n",
       "      <th>dec_pmdec_corr</th>\n",
       "      <th>parallax_pmra_corr</th>\n",
       "      <th>parallax_pmdec_corr</th>\n",
       "      <th>pmra_pmdec_corr</th>\n",
       "      <th>astrometric_n_obs_al</th>\n",
       "      <th>astrometric_n_obs_ac</th>\n",
       "      <th>astrometric_n_good_obs_al</th>\n",
       "      <th>astrometric_n_bad_obs_al</th>\n",
       "      <th>astrometric_gof_al</th>\n",
       "      <th>astrometric_chi2_al</th>\n",
       "      <th>astrometric_excess_noise</th>\n",
       "      <th>astrometric_excess_noise_sig</th>\n",
       "      <th>astrometric_params_solved</th>\n",
       "      <th>astrometric_primary_flag</th>\n",
       "      <th>astrometric_weight_al</th>\n",
       "      <th>astrometric_pseudo_colour</th>\n",
       "      <th>astrometric_pseudo_colour_error</th>\n",
       "      <th>mean_varpi_factor_al</th>\n",
       "      <th>astrometric_matched_observations</th>\n",
       "      <th>visibility_periods_used</th>\n",
       "      <th>astrometric_sigma5d_max</th>\n",
       "      <th>frame_rotator_object_type</th>\n",
       "      <th>matched_observations</th>\n",
       "      <th>duplicated_source</th>\n",
       "      <th>phot_g_n_obs</th>\n",
       "      <th>phot_g_mean_flux</th>\n",
       "      <th>phot_g_mean_flux_error</th>\n",
       "      <th>phot_g_mean_flux_over_error</th>\n",
       "      <th>phot_g_mean_mag</th>\n",
       "      <th>phot_bp_n_obs</th>\n",
       "      <th>phot_bp_mean_flux</th>\n",
       "      <th>phot_bp_mean_flux_error</th>\n",
       "      <th>phot_bp_mean_flux_over_error</th>\n",
       "      <th>phot_bp_mean_mag</th>\n",
       "      <th>phot_rp_n_obs</th>\n",
       "      <th>phot_rp_mean_flux</th>\n",
       "      <th>phot_rp_mean_flux_error</th>\n",
       "      <th>phot_rp_mean_flux_over_error</th>\n",
       "      <th>phot_rp_mean_mag</th>\n",
       "      <th>phot_bp_rp_excess_factor</th>\n",
       "      <th>phot_proc_mode</th>\n",
       "      <th>bp_rp</th>\n",
       "      <th>bp_g</th>\n",
       "      <th>g_rp</th>\n",
       "      <th>radial_velocity</th>\n",
       "      <th>radial_velocity_error</th>\n",
       "      <th>rv_nb_transits</th>\n",
       "      <th>rv_template_teff</th>\n",
       "      <th>rv_template_logg</th>\n",
       "      <th>rv_template_fe_h</th>\n",
       "      <th>phot_variable_flag</th>\n",
       "      <th>l</th>\n",
       "      <th>b</th>\n",
       "      <th>ecl_lon</th>\n",
       "      <th>ecl_lat</th>\n",
       "      <th>priam_flags</th>\n",
       "      <th>teff_val</th>\n",
       "      <th>teff_percentile_lower</th>\n",
       "      <th>teff_percentile_upper</th>\n",
       "      <th>a_g_val</th>\n",
       "      <th>a_g_percentile_lower</th>\n",
       "      <th>a_g_percentile_upper</th>\n",
       "      <th>e_bp_min_rp_val</th>\n",
       "      <th>e_bp_min_rp_percentile_lower</th>\n",
       "      <th>e_bp_min_rp_percentile_upper</th>\n",
       "      <th>flame_flags</th>\n",
       "      <th>radius_val</th>\n",
       "      <th>radius_percentile_lower</th>\n",
       "      <th>radius_percentile_upper</th>\n",
       "      <th>lum_val</th>\n",
       "      <th>lum_percentile_lower</th>\n",
       "      <th>lum_percentile_upper</th>\n",
       "      <th>datalink_url</th>\n",
       "      <th>epoch_photometry_url</th>\n",
       "      <th>kepid</th>\n",
       "      <th>ra_kic</th>\n",
       "      <th>dec_kic</th>\n",
       "      <th>r_est</th>\n",
       "      <th>r_lo</th>\n",
       "      <th>r_hi</th>\n",
       "      <th>r_length_prior</th>\n",
       "      <th>r_result_flag</th>\n",
       "      <th>r_modality_flag</th>\n",
       "      <th>tm_designation</th>\n",
       "      <th>kepmag</th>\n",
       "      <th>teff</th>\n",
       "      <th>teff_err1</th>\n",
       "      <th>teff_err2</th>\n",
       "      <th>teff_prov</th>\n",
       "      <th>logg</th>\n",
       "      <th>logg_err1</th>\n",
       "      <th>logg_err2</th>\n",
       "      <th>logg_prov</th>\n",
       "      <th>feh</th>\n",
       "      <th>feh_err1</th>\n",
       "      <th>feh_err2</th>\n",
       "      <th>feh_prov</th>\n",
       "      <th>radius</th>\n",
       "      <th>radius_err1</th>\n",
       "      <th>radius_err2</th>\n",
       "      <th>mass</th>\n",
       "      <th>mass_err1</th>\n",
       "      <th>mass_err2</th>\n",
       "      <th>prov_sec</th>\n",
       "      <th>nconfp</th>\n",
       "      <th>nkoi</th>\n",
       "      <th>ntce</th>\n",
       "      <th>jmag</th>\n",
       "      <th>hmag</th>\n",
       "      <th>kmag</th>\n",
       "      <th>planet?</th>\n",
       "      <th>kepler_gaia_ang_dist</th>\n",
       "    </tr>\n",
       "  </thead>\n",
       "  <tbody>\n",
       "    <tr>\n",
       "      <th>29</th>\n",
       "      <td>596</td>\n",
       "      <td>10388286.0</td>\n",
       "      <td>3670.0</td>\n",
       "      <td>47.0</td>\n",
       "      <td>62.0</td>\n",
       "      <td>0.01</td>\n",
       "      <td>0.13</td>\n",
       "      <td>0.0</td>\n",
       "      <td>0.12</td>\n",
       "      <td>M1V</td>\n",
       "      <td>0.49</td>\n",
       "      <td>0.04</td>\n",
       "      <td>0.46</td>\n",
       "      <td>0.04</td>\n",
       "      <td>117.0</td>\n",
       "      <td>0.3</td>\n",
       "      <td>0.13</td>\n",
       "      <td>0.13</td>\n",
       "      <td>0.12</td>\n",
       "      <td>0.08</td>\n",
       "      <td>0.12</td>\n",
       "      <td>66848</td>\n",
       "      <td>1635721458409799680</td>\n",
       "      <td>b'Gaia DR2 2076782134064256256'</td>\n",
       "      <td>2076782134064256256</td>\n",
       "      <td>1264990159</td>\n",
       "      <td>2015.5</td>\n",
       "      <td>296.876961</td>\n",
       "      <td>0.027556</td>\n",
       "      <td>41.080451</td>\n",
       "      <td>0.032424</td>\n",
       "      <td>4.51892</td>\n",
       "      <td>0.034692</td>\n",
       "      <td>130.259155</td>\n",
       "      <td>21.749907</td>\n",
       "      <td>0.05766</td>\n",
       "      <td>-26.387574</td>\n",
       "      <td>0.056427</td>\n",
       "      <td>0.079808</td>\n",
       "      <td>0.149847</td>\n",
       "      <td>-0.144091</td>\n",
       "      <td>-0.125035</td>\n",
       "      <td>0.362977</td>\n",
       "      <td>-0.194809</td>\n",
       "      <td>-0.298952</td>\n",
       "      <td>-0.260402</td>\n",
       "      <td>-0.142441</td>\n",
       "      <td>0.031841</td>\n",
       "      <td>246</td>\n",
       "      <td>0</td>\n",
       "      <td>246</td>\n",
       "      <td>0</td>\n",
       "      <td>11.528055</td>\n",
       "      <td>591.813843</td>\n",
       "      <td>0.262565</td>\n",
       "      <td>12.748386</td>\n",
       "      <td>31</td>\n",
       "      <td>False</td>\n",
       "      <td>9.85656</td>\n",
       "      <td>1.391522</td>\n",
       "      <td>0.008355</td>\n",
       "      <td>0.005119</td>\n",
       "      <td>28</td>\n",
       "      <td>16</td>\n",
       "      <td>0.063</td>\n",
       "      <td>0</td>\n",
       "      <td>30</td>\n",
       "      <td>False</td>\n",
       "      <td>262</td>\n",
       "      <td>26631.750546</td>\n",
       "      <td>8.000736</td>\n",
       "      <td>3328.662842</td>\n",
       "      <td>14.624866</td>\n",
       "      <td>29</td>\n",
       "      <td>7519.437573</td>\n",
       "      <td>16.148043</td>\n",
       "      <td>465.656281</td>\n",
       "      <td>15.660925</td>\n",
       "      <td>30</td>\n",
       "      <td>28795.030695</td>\n",
       "      <td>40.585068</td>\n",
       "      <td>709.498169</td>\n",
       "      <td>13.613626</td>\n",
       "      <td>1.363578</td>\n",
       "      <td>0</td>\n",
       "      <td>2.047298</td>\n",
       "      <td>1.036058</td>\n",
       "      <td>1.01124</td>\n",
       "      <td>NaN</td>\n",
       "      <td>NaN</td>\n",
       "      <td>0</td>\n",
       "      <td>NaN</td>\n",
       "      <td>NaN</td>\n",
       "      <td>NaN</td>\n",
       "      <td>b'NOT_AVAILABLE'</td>\n",
       "      <td>75.343661</td>\n",
       "      <td>7.882406</td>\n",
       "      <td>313.788457</td>\n",
       "      <td>60.498711</td>\n",
       "      <td>100001</td>\n",
       "      <td>3760.0</td>\n",
       "      <td>3675.75</td>\n",
       "      <td>3917.75</td>\n",
       "      <td>1.7585</td>\n",
       "      <td>1.5099</td>\n",
       "      <td>2.056</td>\n",
       "      <td>0.8753</td>\n",
       "      <td>0.7409</td>\n",
       "      <td>1.0296</td>\n",
       "      <td>200111</td>\n",
       "      <td>0.748805</td>\n",
       "      <td>0.689717</td>\n",
       "      <td>0.783525</td>\n",
       "      <td>0.100968</td>\n",
       "      <td>0.099149</td>\n",
       "      <td>0.102788</td>\n",
       "      <td>b'http://geadata.esac.esa.int/data-server/data...</td>\n",
       "      <td>b' '</td>\n",
       "      <td>5809954</td>\n",
       "      <td>296.87683</td>\n",
       "      <td>41.080582</td>\n",
       "      <td>219.904954</td>\n",
       "      <td>218.227318</td>\n",
       "      <td>221.608117</td>\n",
       "      <td>2066.41772</td>\n",
       "      <td>1.0</td>\n",
       "      <td>1.0</td>\n",
       "      <td>b'2MASS J19473044+4104500'</td>\n",
       "      <td>14.645</td>\n",
       "      <td>3645</td>\n",
       "      <td>72.0</td>\n",
       "      <td>-90.0</td>\n",
       "      <td>b'SPE70'</td>\n",
       "      <td>4.797</td>\n",
       "      <td>0.071</td>\n",
       "      <td>-0.038</td>\n",
       "      <td>b'PHO16'</td>\n",
       "      <td>-0.08</td>\n",
       "      <td>0.15</td>\n",
       "      <td>-0.15</td>\n",
       "      <td>b'SPE70'</td>\n",
       "      <td>0.449</td>\n",
       "      <td>0.04</td>\n",
       "      <td>-0.061</td>\n",
       "      <td>0.46</td>\n",
       "      <td>0.043</td>\n",
       "      <td>-0.059</td>\n",
       "      <td>b'DSEP'</td>\n",
       "      <td>0</td>\n",
       "      <td>1</td>\n",
       "      <td>2</td>\n",
       "      <td>12.29</td>\n",
       "      <td>11.631</td>\n",
       "      <td>11.452</td>\n",
       "      <td>b'cand'</td>\n",
       "      <td>0.065163</td>\n",
       "    </tr>\n",
       "  </tbody>\n",
       "</table>\n",
       "</div>"
      ],
      "text/plain": [
       "    KOI         KIC    Teff  ETeff  eTeff  Fe/H  e_Fe/H  M/H  e_M/H SpType  \\\n",
       "29  596  10388286.0  3670.0   47.0   62.0  0.01    0.13  0.0   0.12    M1V   \n",
       "\n",
       "    Mstar  e_Mstar  Rstar  e_Rstar    Dis  Fe/H-T  e_Fe/H-T  Fe/H-M  e_Fe/H-M  \\\n",
       "29   0.49     0.04   0.46     0.04  117.0     0.3      0.13    0.13      0.12   \n",
       "\n",
       "    M/H-M  e_M/H-M  index          solution_id  \\\n",
       "29   0.08     0.12  66848  1635721458409799680   \n",
       "\n",
       "                        designation            source_id  random_index  \\\n",
       "29  b'Gaia DR2 2076782134064256256'  2076782134064256256    1264990159   \n",
       "\n",
       "    gaia_ref_epoch          ra  ra_error        dec  dec_error  parallax  \\\n",
       "29          2015.5  296.876961  0.027556  41.080451   0.032424   4.51892   \n",
       "\n",
       "    parallax_error  parallax_over_error       pmra  pmra_error      pmdec  \\\n",
       "29        0.034692           130.259155  21.749907     0.05766 -26.387574   \n",
       "\n",
       "    pmdec_error  ra_dec_corr  ra_parallax_corr  ra_pmra_corr  ra_pmdec_corr  \\\n",
       "29     0.056427     0.079808          0.149847     -0.144091      -0.125035   \n",
       "\n",
       "    dec_parallax_corr  dec_pmra_corr  dec_pmdec_corr  parallax_pmra_corr  \\\n",
       "29           0.362977      -0.194809       -0.298952           -0.260402   \n",
       "\n",
       "    parallax_pmdec_corr  pmra_pmdec_corr  astrometric_n_obs_al  \\\n",
       "29            -0.142441         0.031841                   246   \n",
       "\n",
       "    astrometric_n_obs_ac  astrometric_n_good_obs_al  astrometric_n_bad_obs_al  \\\n",
       "29                     0                        246                         0   \n",
       "\n",
       "    astrometric_gof_al  astrometric_chi2_al  astrometric_excess_noise  \\\n",
       "29           11.528055           591.813843                  0.262565   \n",
       "\n",
       "    astrometric_excess_noise_sig  astrometric_params_solved  \\\n",
       "29                     12.748386                         31   \n",
       "\n",
       "    astrometric_primary_flag  astrometric_weight_al  \\\n",
       "29                     False                9.85656   \n",
       "\n",
       "    astrometric_pseudo_colour  astrometric_pseudo_colour_error  \\\n",
       "29                   1.391522                         0.008355   \n",
       "\n",
       "    mean_varpi_factor_al  astrometric_matched_observations  \\\n",
       "29              0.005119                                28   \n",
       "\n",
       "    visibility_periods_used  astrometric_sigma5d_max  \\\n",
       "29                       16                    0.063   \n",
       "\n",
       "    frame_rotator_object_type  matched_observations  duplicated_source  \\\n",
       "29                          0                    30              False   \n",
       "\n",
       "    phot_g_n_obs  phot_g_mean_flux  phot_g_mean_flux_error  \\\n",
       "29           262      26631.750546                8.000736   \n",
       "\n",
       "    phot_g_mean_flux_over_error  phot_g_mean_mag  phot_bp_n_obs  \\\n",
       "29                  3328.662842        14.624866             29   \n",
       "\n",
       "    phot_bp_mean_flux  phot_bp_mean_flux_error  phot_bp_mean_flux_over_error  \\\n",
       "29        7519.437573                16.148043                    465.656281   \n",
       "\n",
       "    phot_bp_mean_mag  phot_rp_n_obs  phot_rp_mean_flux  \\\n",
       "29         15.660925             30       28795.030695   \n",
       "\n",
       "    phot_rp_mean_flux_error  phot_rp_mean_flux_over_error  phot_rp_mean_mag  \\\n",
       "29                40.585068                    709.498169         13.613626   \n",
       "\n",
       "    phot_bp_rp_excess_factor  phot_proc_mode     bp_rp      bp_g     g_rp  \\\n",
       "29                  1.363578               0  2.047298  1.036058  1.01124   \n",
       "\n",
       "    radial_velocity  radial_velocity_error  rv_nb_transits  rv_template_teff  \\\n",
       "29              NaN                    NaN               0               NaN   \n",
       "\n",
       "    rv_template_logg  rv_template_fe_h phot_variable_flag          l  \\\n",
       "29               NaN               NaN   b'NOT_AVAILABLE'  75.343661   \n",
       "\n",
       "           b     ecl_lon    ecl_lat  priam_flags  teff_val  \\\n",
       "29  7.882406  313.788457  60.498711       100001    3760.0   \n",
       "\n",
       "    teff_percentile_lower  teff_percentile_upper  a_g_val  \\\n",
       "29                3675.75                3917.75   1.7585   \n",
       "\n",
       "    a_g_percentile_lower  a_g_percentile_upper  e_bp_min_rp_val  \\\n",
       "29                1.5099                 2.056           0.8753   \n",
       "\n",
       "    e_bp_min_rp_percentile_lower  e_bp_min_rp_percentile_upper  flame_flags  \\\n",
       "29                        0.7409                        1.0296       200111   \n",
       "\n",
       "    radius_val  radius_percentile_lower  radius_percentile_upper   lum_val  \\\n",
       "29    0.748805                 0.689717                 0.783525  0.100968   \n",
       "\n",
       "    lum_percentile_lower  lum_percentile_upper  \\\n",
       "29              0.099149              0.102788   \n",
       "\n",
       "                                         datalink_url epoch_photometry_url  \\\n",
       "29  b'http://geadata.esac.esa.int/data-server/data...                 b' '   \n",
       "\n",
       "      kepid     ra_kic    dec_kic       r_est        r_lo        r_hi  \\\n",
       "29  5809954  296.87683  41.080582  219.904954  218.227318  221.608117   \n",
       "\n",
       "    r_length_prior  r_result_flag  r_modality_flag  \\\n",
       "29      2066.41772            1.0              1.0   \n",
       "\n",
       "                tm_designation  kepmag  teff  teff_err1  teff_err2 teff_prov  \\\n",
       "29  b'2MASS J19473044+4104500'  14.645  3645       72.0      -90.0  b'SPE70'   \n",
       "\n",
       "     logg  logg_err1  logg_err2 logg_prov   feh  feh_err1  feh_err2  feh_prov  \\\n",
       "29  4.797      0.071     -0.038  b'PHO16' -0.08      0.15     -0.15  b'SPE70'   \n",
       "\n",
       "    radius  radius_err1  radius_err2  mass  mass_err1  mass_err2 prov_sec  \\\n",
       "29   0.449         0.04       -0.061  0.46      0.043     -0.059  b'DSEP'   \n",
       "\n",
       "    nconfp  nkoi  ntce   jmag    hmag    kmag  planet?  kepler_gaia_ang_dist  \n",
       "29       0     1     2  12.29  11.631  11.452  b'cand'              0.065163  "
      ]
     },
     "execution_count": 173,
     "metadata": {},
     "output_type": "execute_result"
    }
   ],
   "source": [
    "test_planet"
   ]
  },
  {
   "cell_type": "code",
   "execution_count": 174,
   "metadata": {},
   "outputs": [],
   "source": [
    "def fit_isochrone(data, isochrones):\n",
    "    \"\"\"\n",
    "       Inputs:\n",
    "       data: pd.DataFrame. Spectroscopic data + Kepler/Gaia data for n stars in one table. (muirhead_comb)\n",
    "       isochrones: pd.DataFrame. Isochrones table. (isochrones)\n",
    "       \n",
    "       Returns: list of pd.DataFrames. Each element of list is a pd.DataFrame of the isochrones that fit this star (index) BASED ONLY ON SPECTROSCOPY.\n",
    "       \"\"\"            \n",
    "    \n",
    "    iso_fits_final = list()\n",
    "    \n",
    "    #test each star in spectroscopy sample:\n",
    "    #for i in tqdm(range(len(muirhead_comb))):\n",
    "    for i in tqdm(range(1)):\n",
    "\n",
    "        iso_fits = pd.DataFrame() \n",
    "\n",
    "        Teff_range = [data.Teff[i]-data.eTeff[i], data.Teff[i]+data.ETeff[i]]\n",
    "        Mstar_range = [data.Mstar[i]-data.e_Mstar[i], data.Mstar[i]+data.e_Mstar[i]]\n",
    "        Rstar_range = [data.Rstar[i]-data.e_Rstar[i], data.Rstar[i]+data.e_Rstar[i]]\n",
    "\n",
    "        #test each stellar model to see if it falls within error bars:\n",
    "        for j in range(len(isochrones)):\n",
    "            if Teff_range[0] < 10**isochrones.logt[j] < Teff_range[1] and Mstar_range[0] < isochrones.mstar[j] < Mstar_range[1] and Rstar_range[0] < isochrones.radius[j] < Rstar_range[1]:\n",
    "                iso_fits = iso_fits.append(isochrones.loc[[j]])\n",
    "\n",
    "        iso_fits['KIC'] = muirhead_comb['KIC'][i]\n",
    "        iso_fits['KOI'] = muirhead_comb['KOI'][i]\n",
    "\n",
    "        iso_fits_final.append(iso_fits)\n",
    "\n",
    "    return iso_fits_final\n"
   ]
  },
  {
   "cell_type": "code",
   "execution_count": 175,
   "metadata": {
    "scrolled": true
   },
   "outputs": [],
   "source": [
    "#isos = fit_isochrone(muirhead_comb, isochrones)"
   ]
  },
  {
   "cell_type": "code",
   "execution_count": 176,
   "metadata": {},
   "outputs": [],
   "source": [
    "#isochrones['logg']"
   ]
  },
  {
   "cell_type": "code",
   "execution_count": 177,
   "metadata": {},
   "outputs": [],
   "source": [
    "#for i in range(len(isos)):\n",
    "#    isos[i].to_csv(\"isochrone_fits/spectroscopy/iso_fits_\" + str([i]) + \".csv\")"
   ]
  },
  {
   "cell_type": "code",
   "execution_count": 178,
   "metadata": {},
   "outputs": [],
   "source": [
    "#for i in range(12, len(isos)):\n",
    "#    isos[i].to_csv(\"isochrone_fits/spectroscopy/iso_fits_\" + str(isos[i]['KIC'].iloc[0]) + \".csv\")"
   ]
  },
  {
   "cell_type": "code",
   "execution_count": 179,
   "metadata": {},
   "outputs": [],
   "source": [
    "def fit_isochrone_lum(data, isochrones):\n",
    "    \"\"\"\n",
    "       Inputs:\n",
    "       data: pd.DataFrame. Spectroscopic data + Kepler/Gaia for n stars in one table. (muirhead_comb)\n",
    "       isochrones: pd.DataFrame. Isochrones table. (isochrones)\n",
    "       \n",
    "       Returns: list of pd.DataFrames. Each element of list is a pd.DataFrame of the isochrones that fit this star (index) BASED ON SPECTROSCOPY AND GAIA LUMINOSITY.\n",
    "       \"\"\"    \n",
    "    \n",
    "    iso_fits_final = list()\n",
    "    \n",
    "    #for i in tqdm(range(len(muirhead_comb))):\n",
    "    for i in range(1):\n",
    "        \n",
    "        iso_fits = pd.DataFrame() \n",
    "    \n",
    "#         Teff_range = [data.Teff[i]-data.eTeff[i], data.Teff[i]+data.ETeff[i]]\n",
    "#         Mstar_range = [data.Mstar[i]-data.e_Mstar[i], data.Mstar[i]+data.e_Mstar[i]]\n",
    "#         Rstar_range = [data.Rstar[i]-data.e_Rstar[i], data.Rstar[i]+data.e_Rstar[i]]\n",
    "#         lum_range = [data.lum_val[i]-data.lum_percentile_lower[i], data.lum_val[i]+data.lum_percentile_lower[i]]\n",
    "\n",
    "        Teff_range = [float(data.Teff)-float(data.eTeff), float(data.Teff)+float(data.ETeff)]\n",
    "        Mstar_range = [float(data.Mstar)-float(data.e_Mstar), float(data.Mstar)+float(data.e_Mstar)]\n",
    "        Rstar_range = [float(data.Rstar)-float(data.e_Rstar), float(data.Rstar)+float(data.e_Rstar)]\n",
    "        lum_range = [float(data.lum_val)-float(data.lum_percentile_lower), float(data.lum_val)+float(data.lum_percentile_lower)]\n",
    "\n",
    "        print(Teff_range)\n",
    "        print(Mstar_range)\n",
    "        print(Rstar_range)\n",
    "        print(lum_range)\n",
    "        \n",
    "        for j in tqdm(range(len(isochrones))):\n",
    "            if Teff_range[0] < 10**isochrones.logt[j] < Teff_range[1] and Mstar_range[0] < isochrones.mstar[j] < Mstar_range[1] and Rstar_range[0] < isochrones.radius[j] < Rstar_range[1] and lum_range[0] < 10**isochrones.logl_ls[j] < lum_range[1]:\n",
    "                iso_fits = iso_fits.append(isochrones.loc[[j]])\n",
    "        \n",
    "        iso_fits['KIC'] = muirhead_comb['KIC'][i]\n",
    "        iso_fits['KOI'] = muirhead_comb['KOI'][i]\n",
    "        \n",
    "        iso_fits_final.append(iso_fits)\n",
    "            \n",
    "    return iso_fits_final"
   ]
  },
  {
   "cell_type": "code",
   "execution_count": null,
   "metadata": {
    "scrolled": true
   },
   "outputs": [],
   "source": []
  },
  {
   "cell_type": "code",
   "execution_count": 152,
   "metadata": {
    "scrolled": false
   },
   "outputs": [
    {
     "name": "stderr",
     "output_type": "stream",
     "text": [
      "  0%|          | 2739/738479 [00:00<00:26, 27373.64it/s]"
     ]
    },
    {
     "name": "stdout",
     "output_type": "stream",
     "text": [
      "[3608.0, 3717.0]\n",
      "[0.45, 0.53]\n",
      "[0.42000000000000004, 0.5]\n",
      "[0.0018194913864135742, 0.2001165747642517]\n"
     ]
    },
    {
     "name": "stderr",
     "output_type": "stream",
     "text": [
      "100%|██████████| 738479/738479 [00:54<00:00, 13570.96it/s]\n"
     ]
    }
   ],
   "source": [
    "iso_lums = fit_isochrone_lum(test_planet, isochrones)\n"
   ]
  },
  {
   "cell_type": "code",
   "execution_count": 180,
   "metadata": {},
   "outputs": [],
   "source": [
    "for i in range(len(iso_lums)):\n",
    "   try:\n",
    "       iso_lums[i].to_csv(\"jan29_21_iso_lums_\" + '10388286' + \".csv\")\n",
    "   except IndexError:\n",
    "       pass"
   ]
  },
  {
   "cell_type": "code",
   "execution_count": null,
   "metadata": {},
   "outputs": [],
   "source": []
  },
  {
   "cell_type": "code",
   "execution_count": 181,
   "metadata": {},
   "outputs": [],
   "source": [
    "isodf = pd.read_csv(r'/Users/sheilasagear/Dropbox (UFL)/Research/MetallicityProject/photoeccentric/notebooks/jan29_21_iso_lums_10388286.csv')"
   ]
  },
  {
   "cell_type": "code",
   "execution_count": 182,
   "metadata": {},
   "outputs": [],
   "source": [
    "mstar = isodf[\"mstar\"].mean()\n",
    "mstar_err = isodf[\"mstar\"].std()\n",
    "\n",
    "rstar = isodf[\"radius\"].mean()\n",
    "rstar_err = isodf[\"radius\"].std()"
   ]
  },
  {
   "cell_type": "markdown",
   "metadata": {},
   "source": [
    "### Calculate rho"
   ]
  },
  {
   "cell_type": "code",
   "execution_count": 183,
   "metadata": {},
   "outputs": [],
   "source": [
    "#Let's just do 1 star for now\n",
    "ntargs = 1"
   ]
  },
  {
   "cell_type": "code",
   "execution_count": 184,
   "metadata": {},
   "outputs": [],
   "source": [
    "# def find_density_dist_symmetric(ntargs, masses, masserr, radii, raderr):\n",
    "#     \"\"\"Gets symmetric stellar density distribution for stars.\n",
    "#     Symmetric stellar density distribution = Gaussian with same sigma on each end.\n",
    "\n",
    "#     Parameters\n",
    "#     ----------\n",
    "#     ntargs: int\n",
    "#         Number of stars to get distribution for\n",
    "#     masses: np.ndarray\n",
    "#         Array of stellar masses (solar mass)\n",
    "#     masserr: np.ndarray\n",
    "#         Array of sigma_mass (solar mass)\n",
    "#     radii: np.ndarray\n",
    "#         Array of stellar radii (solar radii)\n",
    "#     raderr: np.ndarray\n",
    "#         Array of sigma_radius (solar radii)\n",
    "\n",
    "#     Returns\n",
    "#     -------\n",
    "#     rho_dist: np.ndarray\n",
    "#         Array of density distributions for each star in kg/m^3\n",
    "#         Each element length 1000\n",
    "#     mass_dist: np.ndarray\n",
    "#         Array of symmetric Gaussian mass distributions for each star in kg\n",
    "#         Each element length 1000\n",
    "#     rad_dist: np.ndarray\n",
    "#         Array of symmetric Gaussian radius distributions for each star in m\n",
    "#         Each element length 1000\n",
    "#     \"\"\"\n",
    "\n",
    "#     smass_kg = 1.9885e30  # Solar mass (kg)\n",
    "#     srad_m = 696.34e6     # Solar radius (m)\n",
    "\n",
    "#     rho_dist = np.zeros((ntargs, 1000))\n",
    "#     mass_dist = np.zeros((ntargs, 1000))\n",
    "#     rad_dist = np.zeros((ntargs, 1000))\n",
    "\n",
    "#     for star in tqdm(range(ntargs)):\n",
    "\n",
    "#         rho_temp = np.zeros(1000)\n",
    "#         mass_temp = np.zeros(1000)\n",
    "#         rad_temp = np.zeros(1000)\n",
    "\n",
    "#         mass_temp = np.random.normal(masses[star]*smass_kg, masserr[star]*smass_kg, 1000)\n",
    "#         rad_temp = np.random.normal(radii[star]*srad_m, raderr[star]*srad_m, 1000)\n",
    "\n",
    "#         #Add each density point to rho_temp (for each star)\n",
    "#         for point in range(len(mass_temp)):\n",
    "#             rho_temp[point] = density(mass_temp[point], rad_temp[point])\n",
    "\n",
    "#         rho_dist[star] = rho_temp\n",
    "#         mass_dist[star] = mass_temp\n",
    "#         rad_dist[star] = rad_temp\n",
    "\n",
    "\n",
    "#     return rho_dist, mass_dist, rad_dist"
   ]
  },
  {
   "cell_type": "code",
   "execution_count": 185,
   "metadata": {},
   "outputs": [],
   "source": [
    "# def density(mass, radius):\n",
    "#     \"\"\"Get density of sphere given mass and radius.\n",
    "\n",
    "#     Parameters\n",
    "#     ----------\n",
    "#     mass: float\n",
    "#         Mass of sphere (kg)\n",
    "#     radius: float\n",
    "#         Radius of sphere (m)\n",
    "\n",
    "#     Returns\n",
    "#     rho: float\n",
    "#         Density of sphere (kg*m^-3)\n",
    "#     \"\"\"\n",
    "\n",
    "#     rho = mass/((4.0/3.0)*np.pi*radius**3)\n",
    "#     return rho"
   ]
  },
  {
   "cell_type": "code",
   "execution_count": 186,
   "metadata": {},
   "outputs": [],
   "source": [
    "import photoeccentric as ph"
   ]
  },
  {
   "cell_type": "code",
   "execution_count": 187,
   "metadata": {},
   "outputs": [
    {
     "name": "stderr",
     "output_type": "stream",
     "text": [
      "100%|██████████| 1/1 [00:00<00:00, 317.97it/s]\n"
     ]
    }
   ],
   "source": [
    "rho, mass, radius = ph.find_density_dist_symmetric(ntargs, [mstar], [mstar_err], [rstar], [rstar_err])"
   ]
  },
  {
   "cell_type": "code",
   "execution_count": 188,
   "metadata": {},
   "outputs": [
    {
     "data": {
      "text/plain": [
       "6878.358708246579"
      ]
     },
     "execution_count": 188,
     "metadata": {},
     "output_type": "execute_result"
    }
   ],
   "source": [
    "np.mean(rho)"
   ]
  },
  {
   "cell_type": "code",
   "execution_count": 189,
   "metadata": {},
   "outputs": [
    {
     "data": {
      "text/plain": [
       "9.654111657058412e+29"
      ]
     },
     "execution_count": 189,
     "metadata": {},
     "output_type": "execute_result"
    }
   ],
   "source": [
    "np.mean(mass)"
   ]
  },
  {
   "cell_type": "code",
   "execution_count": 190,
   "metadata": {},
   "outputs": [
    {
     "data": {
      "text/plain": [
       "323769284.25628257"
      ]
     },
     "execution_count": 190,
     "metadata": {},
     "output_type": "execute_result"
    }
   ],
   "source": [
    "np.mean(radius)"
   ]
  },
  {
   "cell_type": "code",
   "execution_count": 191,
   "metadata": {},
   "outputs": [],
   "source": [
    "np.savetxt(\"jan29_21_rhos_\" + '10388286' + \".csv\", rho, delimiter=',')\n",
    "#masspd.to_csv(\"jan29_21_rhos_\" + str(iso_lums[i]['KIC'].iloc[0]) + \".csv\")\n",
    "#radiuspd.to_csv(\"jan29_21_rhos_\" + str(iso_lums[i]['KIC'].iloc[0]) + \".csv\")"
   ]
  },
  {
   "cell_type": "code",
   "execution_count": 192,
   "metadata": {},
   "outputs": [
    {
     "data": {
      "text/plain": [
       "0.485084227431942"
      ]
     },
     "execution_count": 192,
     "metadata": {},
     "output_type": "execute_result"
    }
   ],
   "source": [
    "mstar"
   ]
  },
  {
   "cell_type": "code",
   "execution_count": 193,
   "metadata": {},
   "outputs": [
    {
     "data": {
      "text/plain": [
       "0.46372314366762124"
      ]
     },
     "execution_count": 193,
     "metadata": {},
     "output_type": "execute_result"
    }
   ],
   "source": [
    "rstar"
   ]
  },
  {
   "cell_type": "code",
   "execution_count": null,
   "metadata": {},
   "outputs": [],
   "source": []
  },
  {
   "cell_type": "code",
   "execution_count": null,
   "metadata": {},
   "outputs": [],
   "source": []
  }
 ],
 "metadata": {
  "kernelspec": {
   "display_name": "Python 3",
   "language": "python",
   "name": "python3"
  },
  "language_info": {
   "codemirror_mode": {
    "name": "ipython",
    "version": 3
   },
   "file_extension": ".py",
   "mimetype": "text/x-python",
   "name": "python",
   "nbconvert_exporter": "python",
   "pygments_lexer": "ipython3",
   "version": "3.7.6"
  }
 },
 "nbformat": 4,
 "nbformat_minor": 4
}
