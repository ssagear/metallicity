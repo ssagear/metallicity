{
 "cells": [
  {
   "cell_type": "markdown",
   "metadata": {},
   "source": [
    "# Sigma_density: M Dwarfs with Spectroscopic Constraints"
   ]
  },
  {
   "cell_type": "markdown",
   "metadata": {},
   "source": [
    "Calculating density constraints for M Dwarf KOIs with spectroscopic constraints on properties."
   ]
  },
  {
   "cell_type": "markdown",
   "metadata": {},
   "source": [
    "1. From spectroscopy, we know Temperature, Mass, and Radius.\n",
    "2. Which isochrones (stellar models, with Temperature, Mass, and Radius as parameters) fit above star?\n",
    "3. Now take into account GAIA distance for the star. From this, we know the Luminosity.\n",
    "4. Look back at stellar models - which isochrone fits the Temperature, Mass Radius, and Luminority (from GAIA)?"
   ]
  },
  {
   "cell_type": "code",
   "execution_count": 2,
   "metadata": {},
   "outputs": [],
   "source": [
    "import numpy as np\n",
    "import matplotlib.pyplot as plt\n",
    "from astropy.io import fits\n",
    "from pprint import pprint\n",
    "import pandas as pd\n",
    "from tqdm import tqdm\n",
    "from astropy.table import Table\n",
    "\n",
    "plt.rcParams['figure.figsize'] = [10, 5]\n",
    "pd.set_option(\"display.max_rows\", None, \"display.max_columns\", None)"
   ]
  },
  {
   "cell_type": "code",
   "execution_count": 10,
   "metadata": {},
   "outputs": [],
   "source": [
    "headers = ['KOI', 'KIC', 'Teff', 'ETeff', 'eTeff', 'Fe/H', 'e_Fe/H', 'M/H', 'e_M/H', 'SpType', 'Mstar', 'e_Mstar', 'Rstar', 'e_Rstar', 'Dis', 'Fe/H-T', 'e_Fe/H-T', 'Fe/H-M', 'e_Fe/H-M', 'M/H-M', 'e_M/H-M']"
   ]
  },
  {
   "cell_type": "markdown",
   "metadata": {},
   "source": [
    "For now, removed any rows with missing data and saved them into \"muirhead_data_no_missing_data.txt\"."
   ]
  },
  {
   "cell_type": "raw",
   "metadata": {},
   "source": [
    "================================================================================\n",
    "Byte-by-byte Description of file: apjs496235t1_mrt.txt\n",
    "--------------------------------------------------------------------------------\n",
    "   Bytes Format Units     Label  Explanations\n",
    "--------------------------------------------------------------------------------\n",
    "   1-  7 A7     ---       KOI    KOI Number with A or B for visual binaries\n",
    "   9- 16 I8     ---       KIC    KIC identifier\n",
    "  18- 21 I4     K         Teff   ? Stellar effective temperature (1)\n",
    "  23- 26 I4     K       E_Teff   ? Positive uncertainty in Teff (1)\n",
    "  28- 31 I4     K       e_Teff   ? Negative uncertainty in Teff (1)\n",
    "  33- 37 F5.2   [Sun]     Fe/H   ? Iron abundance using R12 calibration (1)\n",
    "  39- 42 F4.2   [Sun]   e_Fe/H   ? Uncertainty in Fe/H (1)\n",
    "\n",
    "  44- 48 F5.2   [Sun]     M/H    ? Overall metallicity using R12 calibration (1)\n",
    "  50- 53 F4.2   [Sun]   e_M/H    ? Uncertainty in M/H (1)\n",
    "  55- 57 A3     ---       SpType KHM Spectral type using R12 calibration (1)\n",
    "  59- 62 F4.2   solMass   Mstar  ? Stellar mass (2)\n",
    "  64- 67 F4.2   solMass e_Mstar  ? Uncertainty in Mstar (2)\n",
    "  69- 72 F4.2   solMass   Rstar  ? Stellar radius (2)\n",
    "  74- 77 F4.2   solRad  e_Rstar  ? Uncertainty in Rstar (2)\n",
    "  79- 81 I3     pc        Dis    ? Estimated distance to star (3) \n",
    "  83- 87 F5.2   [Sun]     Fe/H-T ? Iron abundance using T12 calibration (4)\n",
    "  89- 92 F4.2   [Sun]   e_Fe/H-T ? Uncertainty in Fe/H-T (4)\n",
    "  94- 98 F5.2   [Sun]     Fe/H-M ? Iron abundance using M13 calibration (4)\n",
    " 100-103 F4.2   [Sun]   e_Fe/H-M ? Uncertainty in Fe/H-M (4)\n",
    " 105-109 F5.2   [Sun]     M/H-M  ? Overall metallicity using M13 calibration (4)\n",
    " 111-114 F4.2   [Sun]   e_M/H-M  ? Uncertainty in M/H-M (4)\n",
    "--------------------------------------------------------------------------------\n",
    "Note (1): Stellar parameters determined using the K-band spectroscopic indices \n",
    "          of Rojas-Ayala et al. (2012), referred to as B12 in the table.  \n",
    "          Metallicity measurements for stars earlier than M0 (effective \n",
    "          temperature > 4000 K) represent an extrapolation of the calibrations.\n",
    "          KHM refers to the Kirkpatrick et al. (1991) spectral type system.  \n",
    "          For KOI 961, we use the effective temperature from \n",
    "          Muirhead et al. (2012a), which was determined by comparison to \n",
    "          empirical measurements of Barnard's Star.\n",
    "Note (2): Stellar parameters determined by interpolation onto a 5-Gyr isochrone\n",
    "          from the  Dartmouth Stellar Evolution Database (Dotter et al. 2008).\n",
    "Note (3): Distance determined by combining the predicted Mk from the Dartmouth \n",
    "          isochrones to the apparent K-band magnitude from 2MASS \n",
    "          Cutri et al. (2003).\n",
    "Note (4): For completeness, we include metallicity determinations using H-band \n",
    "          indices of Terrien et al. (2012), referred to as T12, and the K-band \n",
    "          indices of Mann et al. (2013a), referred to as M13.\n",
    "--------------------------------------------------------------------------------"
   ]
  },
  {
   "cell_type": "code",
   "execution_count": 11,
   "metadata": {},
   "outputs": [],
   "source": [
    "muirhead_data = pd.read_csv(\"/Users/sheilasagear/Dropbox (UFL)/Research/MetallicityProject/Data/Muirhead2013_isochrones/muirhead_data_no_missing_data.txt\", sep=\" \")"
   ]
  },
  {
   "cell_type": "code",
   "execution_count": 12,
   "metadata": {},
   "outputs": [],
   "source": [
    "isochrones = pd.read_csv('/Users/sheilasagear/Dropbox (UFL)/Research/MetallicityProject/Data/Muirhead2013_isochrones/isochrones_sdss_spitzer_lowmass.dat', sep='\\s\\s+', engine='python')"
   ]
  },
  {
   "cell_type": "markdown",
   "metadata": {},
   "source": [
    "#### First, let's work with muirhead_data[0]: KIC 5868793."
   ]
  },
  {
   "cell_type": "markdown",
   "metadata": {},
   "source": [
    "1. Take Teff, Mass, and Radius.\n",
    "2. Which isochrones fit these Teff, Mass, and Radius?"
   ]
  },
  {
   "cell_type": "markdown",
   "metadata": {},
   "source": [
    "#### Reading Gaia-Kepler data (luminosities)"
   ]
  },
  {
   "cell_type": "code",
   "execution_count": 13,
   "metadata": {},
   "outputs": [
    {
     "name": "stderr",
     "output_type": "stream",
     "text": [
      "/Users/sheilasagear/opt/anaconda3/lib/python3.7/site-packages/IPython/core/interactiveshell.py:3331: TableReplaceWarning: converted column 'r_result_flag' from integer to float\n",
      "  exec(code_obj, self.user_global_ns, self.user_ns)\n",
      "/Users/sheilasagear/opt/anaconda3/lib/python3.7/site-packages/IPython/core/interactiveshell.py:3331: TableReplaceWarning: converted column 'r_modality_flag' from integer to float\n",
      "  exec(code_obj, self.user_global_ns, self.user_ns)\n",
      "/Users/sheilasagear/opt/anaconda3/lib/python3.7/site-packages/IPython/core/interactiveshell.py:3331: TableReplaceWarning: converted column 'teff_err1' from integer to float\n",
      "  exec(code_obj, self.user_global_ns, self.user_ns)\n",
      "/Users/sheilasagear/opt/anaconda3/lib/python3.7/site-packages/IPython/core/interactiveshell.py:3331: TableReplaceWarning: converted column 'teff_err2' from integer to float\n",
      "  exec(code_obj, self.user_global_ns, self.user_ns)\n"
     ]
    }
   ],
   "source": [
    "dat = Table.read('/Users/sheilasagear/Dropbox (UFL)/Research/MetallicityProject/Data/Kepler-Gaia/kepler_dr2_4arcsec.fits', format='fits')\n",
    "df = dat.to_pandas()"
   ]
  },
  {
   "cell_type": "code",
   "execution_count": 14,
   "metadata": {},
   "outputs": [],
   "source": [
    "muirhead_gaia = df[df['kepid'].isin(list(muirhead_data.KIC))]\n",
    "muirhead_gaia = muirhead_gaia.reset_index()\n",
    "muirhead_gaia.rename(columns={\"index\": \"KIC\"})\n",
    "\n",
    "#muirhead_comb: planet hosts with spectroscopic data + Gaia/Kepler data in one table\n",
    "muirhead_comb = pd.concat([muirhead_data, muirhead_gaia], axis=1)"
   ]
  },
  {
   "cell_type": "code",
   "execution_count": 15,
   "metadata": {},
   "outputs": [],
   "source": [
    "test_planet = muirhead_comb.loc[muirhead_comb['KIC'] == 5868793]"
   ]
  },
  {
   "cell_type": "code",
   "execution_count": 16,
   "metadata": {},
   "outputs": [
    {
     "data": {
      "text/html": [
       "<div>\n",
       "<style scoped>\n",
       "    .dataframe tbody tr th:only-of-type {\n",
       "        vertical-align: middle;\n",
       "    }\n",
       "\n",
       "    .dataframe tbody tr th {\n",
       "        vertical-align: top;\n",
       "    }\n",
       "\n",
       "    .dataframe thead th {\n",
       "        text-align: right;\n",
       "    }\n",
       "</style>\n",
       "<table border=\"1\" class=\"dataframe\">\n",
       "  <thead>\n",
       "    <tr style=\"text-align: right;\">\n",
       "      <th></th>\n",
       "      <th>KOI</th>\n",
       "      <th>KIC</th>\n",
       "      <th>Teff</th>\n",
       "      <th>ETeff</th>\n",
       "      <th>eTeff</th>\n",
       "      <th>Fe/H</th>\n",
       "      <th>e_Fe/H</th>\n",
       "      <th>M/H</th>\n",
       "      <th>e_M/H</th>\n",
       "      <th>SpType</th>\n",
       "      <th>Mstar</th>\n",
       "      <th>e_Mstar</th>\n",
       "      <th>Rstar</th>\n",
       "      <th>e_Rstar</th>\n",
       "      <th>Dis</th>\n",
       "      <th>Fe/H-T</th>\n",
       "      <th>e_Fe/H-T</th>\n",
       "      <th>Fe/H-M</th>\n",
       "      <th>e_Fe/H-M</th>\n",
       "      <th>M/H-M</th>\n",
       "      <th>e_M/H-M</th>\n",
       "      <th>index</th>\n",
       "      <th>solution_id</th>\n",
       "      <th>designation</th>\n",
       "      <th>source_id</th>\n",
       "      <th>random_index</th>\n",
       "      <th>gaia_ref_epoch</th>\n",
       "      <th>ra</th>\n",
       "      <th>ra_error</th>\n",
       "      <th>dec</th>\n",
       "      <th>dec_error</th>\n",
       "      <th>parallax</th>\n",
       "      <th>parallax_error</th>\n",
       "      <th>parallax_over_error</th>\n",
       "      <th>pmra</th>\n",
       "      <th>pmra_error</th>\n",
       "      <th>pmdec</th>\n",
       "      <th>pmdec_error</th>\n",
       "      <th>ra_dec_corr</th>\n",
       "      <th>ra_parallax_corr</th>\n",
       "      <th>ra_pmra_corr</th>\n",
       "      <th>ra_pmdec_corr</th>\n",
       "      <th>dec_parallax_corr</th>\n",
       "      <th>dec_pmra_corr</th>\n",
       "      <th>dec_pmdec_corr</th>\n",
       "      <th>parallax_pmra_corr</th>\n",
       "      <th>parallax_pmdec_corr</th>\n",
       "      <th>pmra_pmdec_corr</th>\n",
       "      <th>astrometric_n_obs_al</th>\n",
       "      <th>astrometric_n_obs_ac</th>\n",
       "      <th>astrometric_n_good_obs_al</th>\n",
       "      <th>astrometric_n_bad_obs_al</th>\n",
       "      <th>astrometric_gof_al</th>\n",
       "      <th>astrometric_chi2_al</th>\n",
       "      <th>astrometric_excess_noise</th>\n",
       "      <th>astrometric_excess_noise_sig</th>\n",
       "      <th>astrometric_params_solved</th>\n",
       "      <th>astrometric_primary_flag</th>\n",
       "      <th>astrometric_weight_al</th>\n",
       "      <th>astrometric_pseudo_colour</th>\n",
       "      <th>astrometric_pseudo_colour_error</th>\n",
       "      <th>mean_varpi_factor_al</th>\n",
       "      <th>astrometric_matched_observations</th>\n",
       "      <th>visibility_periods_used</th>\n",
       "      <th>astrometric_sigma5d_max</th>\n",
       "      <th>frame_rotator_object_type</th>\n",
       "      <th>matched_observations</th>\n",
       "      <th>duplicated_source</th>\n",
       "      <th>phot_g_n_obs</th>\n",
       "      <th>phot_g_mean_flux</th>\n",
       "      <th>phot_g_mean_flux_error</th>\n",
       "      <th>phot_g_mean_flux_over_error</th>\n",
       "      <th>phot_g_mean_mag</th>\n",
       "      <th>phot_bp_n_obs</th>\n",
       "      <th>phot_bp_mean_flux</th>\n",
       "      <th>phot_bp_mean_flux_error</th>\n",
       "      <th>phot_bp_mean_flux_over_error</th>\n",
       "      <th>phot_bp_mean_mag</th>\n",
       "      <th>phot_rp_n_obs</th>\n",
       "      <th>phot_rp_mean_flux</th>\n",
       "      <th>phot_rp_mean_flux_error</th>\n",
       "      <th>phot_rp_mean_flux_over_error</th>\n",
       "      <th>phot_rp_mean_mag</th>\n",
       "      <th>phot_bp_rp_excess_factor</th>\n",
       "      <th>phot_proc_mode</th>\n",
       "      <th>bp_rp</th>\n",
       "      <th>bp_g</th>\n",
       "      <th>g_rp</th>\n",
       "      <th>radial_velocity</th>\n",
       "      <th>radial_velocity_error</th>\n",
       "      <th>rv_nb_transits</th>\n",
       "      <th>rv_template_teff</th>\n",
       "      <th>rv_template_logg</th>\n",
       "      <th>rv_template_fe_h</th>\n",
       "      <th>phot_variable_flag</th>\n",
       "      <th>l</th>\n",
       "      <th>b</th>\n",
       "      <th>ecl_lon</th>\n",
       "      <th>ecl_lat</th>\n",
       "      <th>priam_flags</th>\n",
       "      <th>teff_val</th>\n",
       "      <th>teff_percentile_lower</th>\n",
       "      <th>teff_percentile_upper</th>\n",
       "      <th>a_g_val</th>\n",
       "      <th>a_g_percentile_lower</th>\n",
       "      <th>a_g_percentile_upper</th>\n",
       "      <th>e_bp_min_rp_val</th>\n",
       "      <th>e_bp_min_rp_percentile_lower</th>\n",
       "      <th>e_bp_min_rp_percentile_upper</th>\n",
       "      <th>flame_flags</th>\n",
       "      <th>radius_val</th>\n",
       "      <th>radius_percentile_lower</th>\n",
       "      <th>radius_percentile_upper</th>\n",
       "      <th>lum_val</th>\n",
       "      <th>lum_percentile_lower</th>\n",
       "      <th>lum_percentile_upper</th>\n",
       "      <th>datalink_url</th>\n",
       "      <th>epoch_photometry_url</th>\n",
       "      <th>kepid</th>\n",
       "      <th>ra_kic</th>\n",
       "      <th>dec_kic</th>\n",
       "      <th>r_est</th>\n",
       "      <th>r_lo</th>\n",
       "      <th>r_hi</th>\n",
       "      <th>r_length_prior</th>\n",
       "      <th>r_result_flag</th>\n",
       "      <th>r_modality_flag</th>\n",
       "      <th>tm_designation</th>\n",
       "      <th>kepmag</th>\n",
       "      <th>teff</th>\n",
       "      <th>teff_err1</th>\n",
       "      <th>teff_err2</th>\n",
       "      <th>teff_prov</th>\n",
       "      <th>logg</th>\n",
       "      <th>logg_err1</th>\n",
       "      <th>logg_err2</th>\n",
       "      <th>logg_prov</th>\n",
       "      <th>feh</th>\n",
       "      <th>feh_err1</th>\n",
       "      <th>feh_err2</th>\n",
       "      <th>feh_prov</th>\n",
       "      <th>radius</th>\n",
       "      <th>radius_err1</th>\n",
       "      <th>radius_err2</th>\n",
       "      <th>mass</th>\n",
       "      <th>mass_err1</th>\n",
       "      <th>mass_err2</th>\n",
       "      <th>prov_sec</th>\n",
       "      <th>nconfp</th>\n",
       "      <th>nkoi</th>\n",
       "      <th>ntce</th>\n",
       "      <th>jmag</th>\n",
       "      <th>hmag</th>\n",
       "      <th>kmag</th>\n",
       "      <th>planet?</th>\n",
       "      <th>kepler_gaia_ang_dist</th>\n",
       "    </tr>\n",
       "  </thead>\n",
       "  <tbody>\n",
       "    <tr>\n",
       "      <th>0</th>\n",
       "      <td>4290</td>\n",
       "      <td>5868793.0</td>\n",
       "      <td>3187.0</td>\n",
       "      <td>62.0</td>\n",
       "      <td>88.0</td>\n",
       "      <td>0.1</td>\n",
       "      <td>0.16</td>\n",
       "      <td>0.07</td>\n",
       "      <td>0.13</td>\n",
       "      <td>M4V</td>\n",
       "      <td>0.18</td>\n",
       "      <td>0.04</td>\n",
       "      <td>0.2</td>\n",
       "      <td>0.03</td>\n",
       "      <td>77.0</td>\n",
       "      <td>-0.08</td>\n",
       "      <td>0.14</td>\n",
       "      <td>0.12</td>\n",
       "      <td>0.2</td>\n",
       "      <td>-0.02</td>\n",
       "      <td>0.21</td>\n",
       "      <td>2339</td>\n",
       "      <td>1635721458409799680</td>\n",
       "      <td>b'Gaia DR2 2051797274209237376'</td>\n",
       "      <td>2051797274209237376</td>\n",
       "      <td>808196649</td>\n",
       "      <td>2015.5</td>\n",
       "      <td>291.726225</td>\n",
       "      <td>0.02752</td>\n",
       "      <td>37.528968</td>\n",
       "      <td>0.035908</td>\n",
       "      <td>2.502398</td>\n",
       "      <td>0.038259</td>\n",
       "      <td>65.407204</td>\n",
       "      <td>4.99012</td>\n",
       "      <td>0.063598</td>\n",
       "      <td>11.730219</td>\n",
       "      <td>0.068544</td>\n",
       "      <td>0.022927</td>\n",
       "      <td>0.056167</td>\n",
       "      <td>-0.018181</td>\n",
       "      <td>-0.176336</td>\n",
       "      <td>0.347146</td>\n",
       "      <td>-0.276979</td>\n",
       "      <td>0.020236</td>\n",
       "      <td>-0.298436</td>\n",
       "      <td>-0.17664</td>\n",
       "      <td>-0.031674</td>\n",
       "      <td>194</td>\n",
       "      <td>0</td>\n",
       "      <td>194</td>\n",
       "      <td>0</td>\n",
       "      <td>-0.310749</td>\n",
       "      <td>182.370743</td>\n",
       "      <td>0.0</td>\n",
       "      <td>0.0</td>\n",
       "      <td>31</td>\n",
       "      <td>False</td>\n",
       "      <td>12.063783</td>\n",
       "      <td>1.425002</td>\n",
       "      <td>0.008449</td>\n",
       "      <td>-0.035184</td>\n",
       "      <td>22</td>\n",
       "      <td>14</td>\n",
       "      <td>0.06968</td>\n",
       "      <td>0</td>\n",
       "      <td>26</td>\n",
       "      <td>False</td>\n",
       "      <td>221</td>\n",
       "      <td>10052.176541</td>\n",
       "      <td>6.280546</td>\n",
       "      <td>1600.526001</td>\n",
       "      <td>15.682715</td>\n",
       "      <td>23</td>\n",
       "      <td>3394.179959</td>\n",
       "      <td>15.449455</td>\n",
       "      <td>219.69577</td>\n",
       "      <td>16.524551</td>\n",
       "      <td>24</td>\n",
       "      <td>10018.773446</td>\n",
       "      <td>27.52641</td>\n",
       "      <td>363.969482</td>\n",
       "      <td>14.759884</td>\n",
       "      <td>1.334333</td>\n",
       "      <td>0</td>\n",
       "      <td>1.764668</td>\n",
       "      <td>0.841836</td>\n",
       "      <td>0.922832</td>\n",
       "      <td>NaN</td>\n",
       "      <td>NaN</td>\n",
       "      <td>0</td>\n",
       "      <td>NaN</td>\n",
       "      <td>NaN</td>\n",
       "      <td>NaN</td>\n",
       "      <td>b'NOT_AVAILABLE'</td>\n",
       "      <td>70.276623</td>\n",
       "      <td>9.728414</td>\n",
       "      <td>304.099013</td>\n",
       "      <td>58.42352</td>\n",
       "      <td>100001</td>\n",
       "      <td>4136.25</td>\n",
       "      <td>3980.0</td>\n",
       "      <td>4316.47998</td>\n",
       "      <td>0.518</td>\n",
       "      <td>0.3203</td>\n",
       "      <td>0.6026</td>\n",
       "      <td>0.2503</td>\n",
       "      <td>0.1569</td>\n",
       "      <td>0.2977</td>\n",
       "      <td>200111</td>\n",
       "      <td>0.607375</td>\n",
       "      <td>0.557714</td>\n",
       "      <td>0.656001</td>\n",
       "      <td>0.097283</td>\n",
       "      <td>0.093861</td>\n",
       "      <td>0.100705</td>\n",
       "      <td>b'http://geadata.esac.esa.int/data-server/data...</td>\n",
       "      <td>b' '</td>\n",
       "      <td>2161536</td>\n",
       "      <td>291.7262</td>\n",
       "      <td>37.5289</td>\n",
       "      <td>395.195754</td>\n",
       "      <td>389.263502</td>\n",
       "      <td>401.30828</td>\n",
       "      <td>1518.519024</td>\n",
       "      <td>1.0</td>\n",
       "      <td>1.0</td>\n",
       "      <td>b'2MASS J19265428+3731440'</td>\n",
       "      <td>15.661</td>\n",
       "      <td>3967</td>\n",
       "      <td>79.0</td>\n",
       "      <td>-79.0</td>\n",
       "      <td>b'SPE70'</td>\n",
       "      <td>4.674</td>\n",
       "      <td>0.032</td>\n",
       "      <td>-0.017</td>\n",
       "      <td>b'SPE60'</td>\n",
       "      <td>0.06</td>\n",
       "      <td>0.15</td>\n",
       "      <td>-0.15</td>\n",
       "      <td>b'SPE70'</td>\n",
       "      <td>0.587</td>\n",
       "      <td>0.026</td>\n",
       "      <td>-0.035</td>\n",
       "      <td>0.593</td>\n",
       "      <td>0.034</td>\n",
       "      <td>-0.034</td>\n",
       "      <td>b'DSEP'</td>\n",
       "      <td>0</td>\n",
       "      <td>1</td>\n",
       "      <td>1</td>\n",
       "      <td>13.594</td>\n",
       "      <td>12.937</td>\n",
       "      <td>12.776</td>\n",
       "      <td>b'cand'</td>\n",
       "      <td>0.063243</td>\n",
       "    </tr>\n",
       "  </tbody>\n",
       "</table>\n",
       "</div>"
      ],
      "text/plain": [
       "    KOI        KIC    Teff  ETeff  eTeff  Fe/H  e_Fe/H   M/H  e_M/H SpType  \\\n",
       "0  4290  5868793.0  3187.0   62.0   88.0   0.1    0.16  0.07   0.13    M4V   \n",
       "\n",
       "   Mstar  e_Mstar  Rstar  e_Rstar   Dis  Fe/H-T  e_Fe/H-T  Fe/H-M  e_Fe/H-M  \\\n",
       "0   0.18     0.04    0.2     0.03  77.0   -0.08      0.14    0.12       0.2   \n",
       "\n",
       "   M/H-M  e_M/H-M  index          solution_id  \\\n",
       "0  -0.02     0.21   2339  1635721458409799680   \n",
       "\n",
       "                       designation            source_id  random_index  \\\n",
       "0  b'Gaia DR2 2051797274209237376'  2051797274209237376     808196649   \n",
       "\n",
       "   gaia_ref_epoch          ra  ra_error        dec  dec_error  parallax  \\\n",
       "0          2015.5  291.726225   0.02752  37.528968   0.035908  2.502398   \n",
       "\n",
       "   parallax_error  parallax_over_error     pmra  pmra_error      pmdec  \\\n",
       "0        0.038259            65.407204  4.99012    0.063598  11.730219   \n",
       "\n",
       "   pmdec_error  ra_dec_corr  ra_parallax_corr  ra_pmra_corr  ra_pmdec_corr  \\\n",
       "0     0.068544     0.022927          0.056167     -0.018181      -0.176336   \n",
       "\n",
       "   dec_parallax_corr  dec_pmra_corr  dec_pmdec_corr  parallax_pmra_corr  \\\n",
       "0           0.347146      -0.276979        0.020236           -0.298436   \n",
       "\n",
       "   parallax_pmdec_corr  pmra_pmdec_corr  astrometric_n_obs_al  \\\n",
       "0             -0.17664        -0.031674                   194   \n",
       "\n",
       "   astrometric_n_obs_ac  astrometric_n_good_obs_al  astrometric_n_bad_obs_al  \\\n",
       "0                     0                        194                         0   \n",
       "\n",
       "   astrometric_gof_al  astrometric_chi2_al  astrometric_excess_noise  \\\n",
       "0           -0.310749           182.370743                       0.0   \n",
       "\n",
       "   astrometric_excess_noise_sig  astrometric_params_solved  \\\n",
       "0                           0.0                         31   \n",
       "\n",
       "   astrometric_primary_flag  astrometric_weight_al  astrometric_pseudo_colour  \\\n",
       "0                     False              12.063783                   1.425002   \n",
       "\n",
       "   astrometric_pseudo_colour_error  mean_varpi_factor_al  \\\n",
       "0                         0.008449             -0.035184   \n",
       "\n",
       "   astrometric_matched_observations  visibility_periods_used  \\\n",
       "0                                22                       14   \n",
       "\n",
       "   astrometric_sigma5d_max  frame_rotator_object_type  matched_observations  \\\n",
       "0                  0.06968                          0                    26   \n",
       "\n",
       "   duplicated_source  phot_g_n_obs  phot_g_mean_flux  phot_g_mean_flux_error  \\\n",
       "0              False           221      10052.176541                6.280546   \n",
       "\n",
       "   phot_g_mean_flux_over_error  phot_g_mean_mag  phot_bp_n_obs  \\\n",
       "0                  1600.526001        15.682715             23   \n",
       "\n",
       "   phot_bp_mean_flux  phot_bp_mean_flux_error  phot_bp_mean_flux_over_error  \\\n",
       "0        3394.179959                15.449455                     219.69577   \n",
       "\n",
       "   phot_bp_mean_mag  phot_rp_n_obs  phot_rp_mean_flux  \\\n",
       "0         16.524551             24       10018.773446   \n",
       "\n",
       "   phot_rp_mean_flux_error  phot_rp_mean_flux_over_error  phot_rp_mean_mag  \\\n",
       "0                 27.52641                    363.969482         14.759884   \n",
       "\n",
       "   phot_bp_rp_excess_factor  phot_proc_mode     bp_rp      bp_g      g_rp  \\\n",
       "0                  1.334333               0  1.764668  0.841836  0.922832   \n",
       "\n",
       "   radial_velocity  radial_velocity_error  rv_nb_transits  rv_template_teff  \\\n",
       "0              NaN                    NaN               0               NaN   \n",
       "\n",
       "   rv_template_logg  rv_template_fe_h phot_variable_flag          l         b  \\\n",
       "0               NaN               NaN   b'NOT_AVAILABLE'  70.276623  9.728414   \n",
       "\n",
       "      ecl_lon   ecl_lat  priam_flags  teff_val  teff_percentile_lower  \\\n",
       "0  304.099013  58.42352       100001   4136.25                 3980.0   \n",
       "\n",
       "   teff_percentile_upper  a_g_val  a_g_percentile_lower  a_g_percentile_upper  \\\n",
       "0             4316.47998    0.518                0.3203                0.6026   \n",
       "\n",
       "   e_bp_min_rp_val  e_bp_min_rp_percentile_lower  \\\n",
       "0           0.2503                        0.1569   \n",
       "\n",
       "   e_bp_min_rp_percentile_upper  flame_flags  radius_val  \\\n",
       "0                        0.2977       200111    0.607375   \n",
       "\n",
       "   radius_percentile_lower  radius_percentile_upper   lum_val  \\\n",
       "0                 0.557714                 0.656001  0.097283   \n",
       "\n",
       "   lum_percentile_lower  lum_percentile_upper  \\\n",
       "0              0.093861              0.100705   \n",
       "\n",
       "                                        datalink_url epoch_photometry_url  \\\n",
       "0  b'http://geadata.esac.esa.int/data-server/data...                 b' '   \n",
       "\n",
       "     kepid    ra_kic  dec_kic       r_est        r_lo       r_hi  \\\n",
       "0  2161536  291.7262  37.5289  395.195754  389.263502  401.30828   \n",
       "\n",
       "   r_length_prior  r_result_flag  r_modality_flag              tm_designation  \\\n",
       "0     1518.519024            1.0              1.0  b'2MASS J19265428+3731440'   \n",
       "\n",
       "   kepmag  teff  teff_err1  teff_err2 teff_prov   logg  logg_err1  logg_err2  \\\n",
       "0  15.661  3967       79.0      -79.0  b'SPE70'  4.674      0.032     -0.017   \n",
       "\n",
       "  logg_prov   feh  feh_err1  feh_err2  feh_prov  radius  radius_err1  \\\n",
       "0  b'SPE60'  0.06      0.15     -0.15  b'SPE70'   0.587        0.026   \n",
       "\n",
       "   radius_err2   mass  mass_err1  mass_err2 prov_sec  nconfp  nkoi  ntce  \\\n",
       "0       -0.035  0.593      0.034     -0.034  b'DSEP'       0     1     1   \n",
       "\n",
       "     jmag    hmag    kmag  planet?  kepler_gaia_ang_dist  \n",
       "0  13.594  12.937  12.776  b'cand'              0.063243  "
      ]
     },
     "execution_count": 16,
     "metadata": {},
     "output_type": "execute_result"
    }
   ],
   "source": [
    "test_planet"
   ]
  },
  {
   "cell_type": "code",
   "execution_count": 17,
   "metadata": {},
   "outputs": [],
   "source": [
    "def fit_isochrone(data, isochrones):\n",
    "    \"\"\"\n",
    "       Inputs:\n",
    "       data: pd.DataFrame. Spectroscopic data + Kepler/Gaia data for n stars in one table. (muirhead_comb)\n",
    "       isochrones: pd.DataFrame. Isochrones table. (isochrones)\n",
    "       \n",
    "       Returns: list of pd.DataFrames. Each element of list is a pd.DataFrame of the isochrones that fit this star (index) BASED ONLY ON SPECTROSCOPY.\n",
    "       \"\"\"            \n",
    "    \n",
    "    iso_fits_final = list()\n",
    "    \n",
    "    #test each star in spectroscopy sample:\n",
    "    #for i in tqdm(range(len(muirhead_comb))):\n",
    "    for i in tqdm(range(1)):\n",
    "\n",
    "        iso_fits = pd.DataFrame() \n",
    "\n",
    "        Teff_range = [data.Teff[i]-data.eTeff[i], data.Teff[i]+data.ETeff[i]]\n",
    "        Mstar_range = [data.Mstar[i]-data.e_Mstar[i], data.Mstar[i]+data.e_Mstar[i]]\n",
    "        Rstar_range = [data.Rstar[i]-data.e_Rstar[i], data.Rstar[i]+data.e_Rstar[i]]\n",
    "\n",
    "        #test each stellar model to see if it falls within error bars:\n",
    "        for j in range(len(isochrones)):\n",
    "            if Teff_range[0] < 10**isochrones.logt[j] < Teff_range[1] and Mstar_range[0] < isochrones.mstar[j] < Mstar_range[1] and Rstar_range[0] < isochrones.radius[j] < Rstar_range[1]:\n",
    "                iso_fits = iso_fits.append(isochrones.loc[[j]])\n",
    "\n",
    "        iso_fits['KIC'] = muirhead_comb['KIC'][i]\n",
    "        iso_fits['KOI'] = muirhead_comb['KOI'][i]\n",
    "\n",
    "        iso_fits_final.append(iso_fits)\n",
    "\n",
    "    return iso_fits_final\n"
   ]
  },
  {
   "cell_type": "code",
   "execution_count": 18,
   "metadata": {
    "scrolled": true
   },
   "outputs": [],
   "source": [
    "#isos = fit_isochrone(muirhead_comb, isochrones)"
   ]
  },
  {
   "cell_type": "code",
   "execution_count": 19,
   "metadata": {},
   "outputs": [],
   "source": [
    "#isochrones['logg']"
   ]
  },
  {
   "cell_type": "code",
   "execution_count": 20,
   "metadata": {},
   "outputs": [],
   "source": [
    "#for i in range(len(isos)):\n",
    "#    isos[i].to_csv(\"isochrone_fits/spectroscopy/iso_fits_\" + str([i]) + \".csv\")"
   ]
  },
  {
   "cell_type": "code",
   "execution_count": 21,
   "metadata": {},
   "outputs": [],
   "source": [
    "#for i in range(12, len(isos)):\n",
    "#    isos[i].to_csv(\"isochrone_fits/spectroscopy/iso_fits_\" + str(isos[i]['KIC'].iloc[0]) + \".csv\")"
   ]
  },
  {
   "cell_type": "code",
   "execution_count": 22,
   "metadata": {},
   "outputs": [],
   "source": [
    "def fit_isochrone_lum(data, isochrones):\n",
    "    \"\"\"\n",
    "       Inputs:\n",
    "       data: pd.DataFrame. Spectroscopic data + Kepler/Gaia for n stars in one table. (muirhead_comb)\n",
    "       isochrones: pd.DataFrame. Isochrones table. (isochrones)\n",
    "       \n",
    "       Returns: list of pd.DataFrames. Each element of list is a pd.DataFrame of the isochrones that fit this star (index) BASED ON SPECTROSCOPY AND GAIA LUMINOSITY.\n",
    "       \"\"\"    \n",
    "    \n",
    "    iso_fits_final = list()\n",
    "    \n",
    "    #for i in tqdm(range(len(muirhead_comb))):\n",
    "    for i in range(1):\n",
    "        \n",
    "        iso_fits = pd.DataFrame() \n",
    "    \n",
    "#         Teff_range = [data.Teff[i]-data.eTeff[i], data.Teff[i]+data.ETeff[i]]\n",
    "#         Mstar_range = [data.Mstar[i]-data.e_Mstar[i], data.Mstar[i]+data.e_Mstar[i]]\n",
    "#         Rstar_range = [data.Rstar[i]-data.e_Rstar[i], data.Rstar[i]+data.e_Rstar[i]]\n",
    "#         lum_range = [data.lum_val[i]-data.lum_percentile_lower[i], data.lum_val[i]+data.lum_percentile_lower[i]]\n",
    "\n",
    "        Teff_range = [float(data.Teff)-float(data.eTeff), float(data.Teff)+float(data.ETeff)]\n",
    "        Mstar_range = [float(data.Mstar)-float(data.e_Mstar), float(data.Mstar)+float(data.e_Mstar)]\n",
    "        Rstar_range = [float(data.Rstar)-float(data.e_Rstar), float(data.Rstar)+float(data.e_Rstar)]\n",
    "        lum_range = [float(data.lum_val)-float(data.lum_percentile_lower), float(data.lum_val)+float(data.lum_percentile_lower)]\n",
    "\n",
    "        print(Teff_range)\n",
    "        print(Mstar_range)\n",
    "        print(Rstar_range)\n",
    "        print(lum_range)\n",
    "        \n",
    "        for j in tqdm(range(len(isochrones))):\n",
    "            if Teff_range[0] < 10**isochrones.logt[j] < Teff_range[1] and Mstar_range[0] < isochrones.mstar[j] < Mstar_range[1] and Rstar_range[0] < isochrones.radius[j] < Rstar_range[1] and lum_range[0] < 10**isochrones.logl_ls[j] < lum_range[1]:\n",
    "                iso_fits = iso_fits.append(isochrones.loc[[j]])\n",
    "        \n",
    "        iso_fits['KIC'] = muirhead_comb['KIC'][i]\n",
    "        iso_fits['KOI'] = muirhead_comb['KOI'][i]\n",
    "        \n",
    "        iso_fits_final.append(iso_fits)\n",
    "            \n",
    "    return iso_fits_final"
   ]
  },
  {
   "cell_type": "code",
   "execution_count": 23,
   "metadata": {
    "scrolled": true
   },
   "outputs": [
    {
     "data": {
      "text/plain": [
       "0    0.097283\n",
       "Name: lum_val, dtype: float32"
      ]
     },
     "execution_count": 23,
     "metadata": {},
     "output_type": "execute_result"
    }
   ],
   "source": [
    "test_planet.lum_val"
   ]
  },
  {
   "cell_type": "code",
   "execution_count": 24,
   "metadata": {
    "scrolled": false
   },
   "outputs": [
    {
     "name": "stderr",
     "output_type": "stream",
     "text": [
      "  0%|          | 1170/738479 [00:00<01:03, 11698.59it/s]"
     ]
    },
    {
     "name": "stdout",
     "output_type": "stream",
     "text": [
      "[3099.0, 3249.0]\n",
      "[0.13999999999999999, 0.22]\n",
      "[0.17, 0.23]\n",
      "[0.0034218057990074158, 0.19114386290311813]\n"
     ]
    },
    {
     "name": "stderr",
     "output_type": "stream",
     "text": [
      "100%|██████████| 738479/738479 [01:02<00:00, 11810.56it/s]\n"
     ]
    }
   ],
   "source": [
    "iso_lums = fit_isochrone_lum(test_planet, isochrones)\n"
   ]
  },
  {
   "cell_type": "code",
   "execution_count": 26,
   "metadata": {},
   "outputs": [],
   "source": [
    "for i in range(len(iso_lums)):\n",
    "   try:\n",
    "       iso_lums[i].to_csv(\"jan29_21_iso_lums_\" + str(iso_lums[i]['KIC'].iloc[0]) + \".csv\")\n",
    "   except IndexError:\n",
    "       pass"
   ]
  },
  {
   "cell_type": "code",
   "execution_count": null,
   "metadata": {},
   "outputs": [],
   "source": []
  },
  {
   "cell_type": "code",
   "execution_count": 28,
   "metadata": {},
   "outputs": [],
   "source": [
    "isodf = pd.read_csv(r'/Users/sheilasagear/Dropbox (UFL)/Research/MetallicityProject/photoeccentric/notebooks/jan29_21_iso_lums_5868793.0.csv')"
   ]
  },
  {
   "cell_type": "code",
   "execution_count": 36,
   "metadata": {},
   "outputs": [],
   "source": [
    "mstar = isodf[\"mstar\"].mean()\n",
    "mstar_err = isodf[\"mstar\"].std()\n",
    "\n",
    "rstar = isodf[\"radius\"].mean()\n",
    "rstar_err = isodf[\"radius\"].std()"
   ]
  },
  {
   "cell_type": "markdown",
   "metadata": {},
   "source": [
    "### Calculate rho"
   ]
  },
  {
   "cell_type": "code",
   "execution_count": 41,
   "metadata": {},
   "outputs": [],
   "source": [
    "#Let's just do 1 star for now\n",
    "ntargs = 1"
   ]
  },
  {
   "cell_type": "code",
   "execution_count": 44,
   "metadata": {},
   "outputs": [],
   "source": [
    "# def find_density_dist_symmetric(ntargs, masses, masserr, radii, raderr):\n",
    "#     \"\"\"Gets symmetric stellar density distribution for stars.\n",
    "#     Symmetric stellar density distribution = Gaussian with same sigma on each end.\n",
    "\n",
    "#     Parameters\n",
    "#     ----------\n",
    "#     ntargs: int\n",
    "#         Number of stars to get distribution for\n",
    "#     masses: np.ndarray\n",
    "#         Array of stellar masses (solar mass)\n",
    "#     masserr: np.ndarray\n",
    "#         Array of sigma_mass (solar mass)\n",
    "#     radii: np.ndarray\n",
    "#         Array of stellar radii (solar radii)\n",
    "#     raderr: np.ndarray\n",
    "#         Array of sigma_radius (solar radii)\n",
    "\n",
    "#     Returns\n",
    "#     -------\n",
    "#     rho_dist: np.ndarray\n",
    "#         Array of density distributions for each star in kg/m^3\n",
    "#         Each element length 1000\n",
    "#     mass_dist: np.ndarray\n",
    "#         Array of symmetric Gaussian mass distributions for each star in kg\n",
    "#         Each element length 1000\n",
    "#     rad_dist: np.ndarray\n",
    "#         Array of symmetric Gaussian radius distributions for each star in m\n",
    "#         Each element length 1000\n",
    "#     \"\"\"\n",
    "\n",
    "#     smass_kg = 1.9885e30  # Solar mass (kg)\n",
    "#     srad_m = 696.34e6     # Solar radius (m)\n",
    "\n",
    "#     rho_dist = np.zeros((ntargs, 1000))\n",
    "#     mass_dist = np.zeros((ntargs, 1000))\n",
    "#     rad_dist = np.zeros((ntargs, 1000))\n",
    "\n",
    "#     for star in tqdm(range(ntargs)):\n",
    "\n",
    "#         rho_temp = np.zeros(1000)\n",
    "#         mass_temp = np.zeros(1000)\n",
    "#         rad_temp = np.zeros(1000)\n",
    "\n",
    "#         mass_temp = np.random.normal(masses[star]*smass_kg, masserr[star]*smass_kg, 1000)\n",
    "#         rad_temp = np.random.normal(radii[star]*srad_m, raderr[star]*srad_m, 1000)\n",
    "\n",
    "#         #Add each density point to rho_temp (for each star)\n",
    "#         for point in range(len(mass_temp)):\n",
    "#             rho_temp[point] = density(mass_temp[point], rad_temp[point])\n",
    "\n",
    "#         rho_dist[star] = rho_temp\n",
    "#         mass_dist[star] = mass_temp\n",
    "#         rad_dist[star] = rad_temp\n",
    "\n",
    "\n",
    "#     return rho_dist, mass_dist, rad_dist"
   ]
  },
  {
   "cell_type": "code",
   "execution_count": 45,
   "metadata": {},
   "outputs": [],
   "source": [
    "# def density(mass, radius):\n",
    "#     \"\"\"Get density of sphere given mass and radius.\n",
    "\n",
    "#     Parameters\n",
    "#     ----------\n",
    "#     mass: float\n",
    "#         Mass of sphere (kg)\n",
    "#     radius: float\n",
    "#         Radius of sphere (m)\n",
    "\n",
    "#     Returns\n",
    "#     rho: float\n",
    "#         Density of sphere (kg*m^-3)\n",
    "#     \"\"\"\n",
    "\n",
    "#     rho = mass/((4.0/3.0)*np.pi*radius**3)\n",
    "#     return rho"
   ]
  },
  {
   "cell_type": "code",
   "execution_count": 46,
   "metadata": {},
   "outputs": [],
   "source": [
    "import photoeccentric as ph"
   ]
  },
  {
   "cell_type": "code",
   "execution_count": 48,
   "metadata": {},
   "outputs": [
    {
     "name": "stderr",
     "output_type": "stream",
     "text": [
      "100%|██████████| 1/1 [00:00<00:00, 61.82it/s]\n"
     ]
    }
   ],
   "source": [
    "rho, mass, radius = ph.find_density_dist_symmetric(ntargs, [mstar], [mstar_err], [rstar], [rstar_err])"
   ]
  },
  {
   "cell_type": "code",
   "execution_count": 50,
   "metadata": {},
   "outputs": [
    {
     "data": {
      "text/plain": [
       "28680.804526515014"
      ]
     },
     "execution_count": 50,
     "metadata": {},
     "output_type": "execute_result"
    }
   ],
   "source": [
    "np.mean(rho)"
   ]
  },
  {
   "cell_type": "code",
   "execution_count": 51,
   "metadata": {},
   "outputs": [
    {
     "data": {
      "text/plain": [
       "3.706698733670779e+29"
      ]
     },
     "execution_count": 51,
     "metadata": {},
     "output_type": "execute_result"
    }
   ],
   "source": [
    "np.mean(mass)"
   ]
  },
  {
   "cell_type": "code",
   "execution_count": 52,
   "metadata": {},
   "outputs": [
    {
     "data": {
      "text/plain": [
       "146408354.98054194"
      ]
     },
     "execution_count": 52,
     "metadata": {},
     "output_type": "execute_result"
    }
   ],
   "source": [
    "np.mean(radius)"
   ]
  },
  {
   "cell_type": "code",
   "execution_count": 60,
   "metadata": {},
   "outputs": [],
   "source": [
    "np.savetxt(\"jan29_21_rhos_\" + str(iso_lums[i]['KIC'].iloc[0]) + \".csv\", rho, delimiter=',')\n",
    "#masspd.to_csv(\"jan29_21_rhos_\" + str(iso_lums[i]['KIC'].iloc[0]) + \".csv\")\n",
    "#radiuspd.to_csv(\"jan29_21_rhos_\" + str(iso_lums[i]['KIC'].iloc[0]) + \".csv\")"
   ]
  },
  {
   "cell_type": "code",
   "execution_count": null,
   "metadata": {},
   "outputs": [],
   "source": []
  }
 ],
 "metadata": {
  "kernelspec": {
   "display_name": "Python 3",
   "language": "python",
   "name": "python3"
  },
  "language_info": {
   "codemirror_mode": {
    "name": "ipython",
    "version": 3
   },
   "file_extension": ".py",
   "mimetype": "text/x-python",
   "name": "python",
   "nbconvert_exporter": "python",
   "pygments_lexer": "ipython3",
   "version": "3.7.6"
  }
 },
 "nbformat": 4,
 "nbformat_minor": 4
}
