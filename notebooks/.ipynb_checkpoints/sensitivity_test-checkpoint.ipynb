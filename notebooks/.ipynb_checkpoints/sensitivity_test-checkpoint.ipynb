{
 "cells": [
  {
   "cell_type": "markdown",
   "metadata": {},
   "source": [
    "# Setting up `photoeccentric` sensitivitiy tests"
   ]
  },
  {
   "cell_type": "code",
   "execution_count": 53,
   "metadata": {},
   "outputs": [
    {
     "name": "stdout",
     "output_type": "stream",
     "text": [
      "The autoreload extension is already loaded. To reload it, use:\n",
      "  %reload_ext autoreload\n"
     ]
    }
   ],
   "source": [
    "import numpy as np\n",
    "import matplotlib.pyplot as plt\n",
    "import pandas as pd\n",
    "from tqdm import tqdm\n",
    "from astropy.table import Table\n",
    "import astropy.units as u\n",
    "\n",
    "# Using `batman` to create & fit fake transit\n",
    "import batman\n",
    "\n",
    "# Using astropy BLS and scipy curve_fit to fit transit\n",
    "from astropy.timeseries import BoxLeastSquares\n",
    "from scipy.optimize import curve_fit\n",
    "\n",
    "import scipy.optimize as opt\n",
    "\n",
    "# Using emcee & corner to find and plot (e, w) distribution\n",
    "import emcee\n",
    "import corner\n",
    "\n",
    "# And importing `photoeccentric`\n",
    "import photoeccentric as ph\n",
    "\n",
    "import scipy.constants as c\n",
    "import os\n",
    "\n",
    "%load_ext autoreload\n",
    "%autoreload 2\n",
    "\n",
    "%matplotlib inline\n",
    "\n",
    "plt.rcParams['figure.figsize'] = [12, 8]"
   ]
  },
  {
   "cell_type": "code",
   "execution_count": 54,
   "metadata": {},
   "outputs": [],
   "source": [
    "nwalk = 64\n",
    "nsteps_d = 3000\n",
    "ndiscard_d = 1000\n",
    "arrlen = (nsteps_d-ndiscard_d)*nwalk"
   ]
  },
  {
   "cell_type": "code",
   "execution_count": 55,
   "metadata": {},
   "outputs": [],
   "source": [
    "smass_kg = 1.9885e30  # Solar mass (kg)\n",
    "srad_m = 696.34e6 # Solar radius (m)"
   ]
  },
  {
   "cell_type": "markdown",
   "metadata": {},
   "source": [
    "## Reading in Sample Data"
   ]
  },
  {
   "cell_type": "code",
   "execution_count": 56,
   "metadata": {},
   "outputs": [
    {
     "name": "stderr",
     "output_type": "stream",
     "text": [
      "/Users/sheilasagear/opt/anaconda3/lib/python3.7/site-packages/IPython/core/interactiveshell.py:3331: TableReplaceWarning: converted column 'r_result_flag' from integer to float\n",
      "  exec(code_obj, self.user_global_ns, self.user_ns)\n",
      "/Users/sheilasagear/opt/anaconda3/lib/python3.7/site-packages/IPython/core/interactiveshell.py:3331: TableReplaceWarning: converted column 'r_modality_flag' from integer to float\n",
      "  exec(code_obj, self.user_global_ns, self.user_ns)\n",
      "/Users/sheilasagear/opt/anaconda3/lib/python3.7/site-packages/IPython/core/interactiveshell.py:3331: TableReplaceWarning: converted column 'teff_err1' from integer to float\n",
      "  exec(code_obj, self.user_global_ns, self.user_ns)\n",
      "/Users/sheilasagear/opt/anaconda3/lib/python3.7/site-packages/IPython/core/interactiveshell.py:3331: TableReplaceWarning: converted column 'teff_err2' from integer to float\n",
      "  exec(code_obj, self.user_global_ns, self.user_ns)\n"
     ]
    }
   ],
   "source": [
    "muirhead_data = pd.read_csv(\"/Users/sheilasagear/Dropbox (UFL)/Research/MetallicityProject/Data/Muirhead2013_isochrones/muirhead_data_no_missing_data.txt\", sep=\" \")\n",
    "\n",
    "# ALL Kepler planets from exo archive\n",
    "planets = pd.read_csv('/Users/sheilasagear/Dropbox (UFL)/Research/MetallicityProject/Data/exoplanetarchive/cumulative_kois.csv')\n",
    "\n",
    "# Take the Kepler planet archive entries for the planets in Muirhead et al. 2013 sample\n",
    "spectplanets = planets[planets['kepid'].isin(list(muirhead_data['KIC']))]\n",
    "spectplanets = spectplanets.reset_index()\n",
    "\n",
    "# Kepler-Gaia Data\n",
    "kpgaia = Table.read('/Users/sheilasagear/Dropbox (UFL)/Research/MetallicityProject/Data/Kepler-Gaia/kepler_dr2_4arcsec.fits', format='fits').to_pandas();\n",
    "\n",
    "# Kepler-Gaia data for only the objects in our sample\n",
    "muirhead_gaia = kpgaia[kpgaia['kepid'].isin(list(muirhead_data.KIC))]\n",
    "muirhead_gaia = muirhead_gaia.reset_index()\n",
    "muirhead_gaia.rename(columns={\"index\": \"KIC\"})\n",
    "\n",
    "# Combined spectroscopy data + Gaia/Kepler data for our sample\n",
    "muirhead_comb = pd.concat([muirhead_data, muirhead_gaia], axis=1)\n",
    "muirhead_comb_nn = muirhead_comb[muirhead_comb.KOI.notnull()]\n",
    "\n",
    "# Only targets from table above with published luminosities from Gaia\n",
    "muirhead_comb_lums = muirhead_comb_nn[muirhead_comb_nn.lum_val.notnull()]\n",
    "\n",
    "# Read in MESA isochrones\n",
    "isochrones = pd.read_csv('/Users/sheilasagear/Dropbox (UFL)/Research/MetallicityProject/Data/Muirhead2013_isochrones/isochrones_sdss_spitzer_lowmass.dat', sep='\\s\\s+', engine='python')"
   ]
  },
  {
   "cell_type": "markdown",
   "metadata": {},
   "source": [
    "## Outline for Sensitivity Test\n",
    "\n",
    "1. Define \"test planet\" parameters. These parameters will come from a real Kepler planet, but I'll use a fake light curve. These \"test planet\" parameters will stay the same across the entire test.\n",
    "2. Write two functions: one that wraps the entire light curve initialization process, and one that wraps the transit fit and eccentricity estimation.\n",
    "3. For each eccentricity recovered, take the difference between the input e and the peak of the e distribution as the error.\n",
    "4. Plot on a heatmap"
   ]
  },
  {
   "cell_type": "markdown",
   "metadata": {},
   "source": [
    "#### Defining a \"test planet\""
   ]
  },
  {
   "cell_type": "code",
   "execution_count": 57,
   "metadata": {},
   "outputs": [],
   "source": [
    "# Kepler ID for Kepler-1582 b\n",
    "kepid = 5868793\n",
    "kepname = spectplanets.loc[spectplanets['kepid'] == kepid].kepler_name.values[0]\n",
    "\n",
    "kp1582b = muirhead_comb.loc[muirhead_comb['KIC'] == kepid]\n",
    "\n",
    "#iso_lums = ph.fit_isochrone_lum(kp1582b, muirhead_comb, isochrones, gaia_lum=True)\n",
    "\n",
    "# Write to csv, then read back in (keeps python notebook from lagging)\n",
    "#iso_lums.to_csv(\"feb19_21_iso_lums_\" + str(kepid) + \".csv\")"
   ]
  },
  {
   "cell_type": "code",
   "execution_count": 58,
   "metadata": {},
   "outputs": [],
   "source": [
    "isodf = pd.read_csv(r'/Users/sheilasagear/Dropbox (UFL)/Research/MetallicityProject/photoeccentric/notebooks/feb19_21_iso_lums_' + str(kepid) + '.csv')\n",
    "\n",
    "mstar = isodf[\"mstar\"].mean()\n",
    "mstar_err = isodf[\"mstar\"].std()\n",
    "\n",
    "rstar = isodf[\"radius\"].mean()\n",
    "rstar_err = isodf[\"radius\"].std()\n",
    "\n",
    "rho_star, mass, radius = ph.find_density_dist_symmetric(mstar, mstar_err, rstar, rstar_err, arrlen)"
   ]
  },
  {
   "cell_type": "code",
   "execution_count": 59,
   "metadata": {},
   "outputs": [
    {
     "name": "stdout",
     "output_type": "stream",
     "text": [
      "Stellar mass (Msun):  0.18620280162489727 Stellar radius (Rsun):  0.21038847941706276\n",
      "Period (Days):  4.83809469 Rp/Rs:  0.036066\n",
      "a/Rs:  32.64384979582086\n",
      "i (deg):  89.98\n"
     ]
    }
   ],
   "source": [
    "period, period_uerr, period_lerr, rprs, rprs_uerr, rprs_lerr, a_arc, a_uerr_arc, a_lerr_arc, i, e_arc, w_arc = ph.planet_params_from_archive(spectplanets, kepname)\n",
    "\n",
    "# We calculate a_rs to ensure that it's consistent with the spec/Gaia stellar density.\n",
    "a_rs = ph.calc_a(period*86400.0, mstar*smass_kg, rstar*srad_m)\n",
    "a_rs_err = np.mean((a_uerr_arc, a_lerr_arc))\n",
    "\n",
    "print('Stellar mass (Msun): ', mstar, 'Stellar radius (Rsun): ', rstar)\n",
    "print('Period (Days): ', period, 'Rp/Rs: ', rprs)\n",
    "print('a/Rs: ', a_rs)\n",
    "print('i (deg): ', i)"
   ]
  },
  {
   "cell_type": "markdown",
   "metadata": {},
   "source": [
    "###### Density of this star based on Gaia and spectroscopy:"
   ]
  },
  {
   "cell_type": "code",
   "execution_count": null,
   "metadata": {},
   "outputs": [],
   "source": [
    "def get_a_rs(rhos, periods):\n",
    "    \"\"\"Gets a/Rs guess based on orbital period, density & Kepler's 3rd law\n",
    "    \n",
    "    Parameters\n",
    "    ----------\n",
    "    rhos: np.array\n",
    "        Stellar density array\n",
    "    periods: np.array\n",
    "        Periods array\n",
    "        \n",
    "    Returns\n",
    "    -------\n",
    "    a_rs: np.array\n",
    "        a/Rs array calculated from periods, rhos\n",
    "    \n",
    "    \"\"\"\n",
    "    \n",
    "    a_rs = np.zeros(len(rhos))\n",
    "    \n",
    "    for i in range(len(rhos)):\n",
    "        per_iter = periods[i]*86400\n",
    "        rho_iter = rhos[i]\n",
    "        \n",
    "        a_rs[i] = ((per_iter**2)*((c.G*rho_iter)/(3*np.pi)))**(1.0/3.0)\n",
    "        \n",
    "    return a_rs"
   ]
  },
  {
   "cell_type": "code",
   "execution_count": 61,
   "metadata": {},
   "outputs": [
    {
     "name": "stdout",
     "output_type": "stream",
     "text": [
      "Mean density:  28680.804526515014\n"
     ]
    }
   ],
   "source": [
    "rhos_gaia = np.genfromtxt(r'/Users/sheilasagear/Dropbox (UFL)/Research/MetallicityProject/photoeccentric/notebooks/datafiles/jan29_21_rhos_5868793.0.csv', delimiter=',')\n",
    "\n",
    "print('Mean density: ', np.mean(rhos_gaia))\n"
   ]
  },
  {
   "cell_type": "markdown",
   "metadata": {},
   "source": [
    "##### Calculate A_rs prior:"
   ]
  },
  {
   "cell_type": "code",
   "execution_count": 62,
   "metadata": {},
   "outputs": [],
   "source": [
    "pdist = np.random.normal(period, np.mean((abs(period_uerr), abs(period_lerr))), len(rhos_gaia))\n",
    "a_rs_gaia = get_a_rs(rhos_gaia, pdist)\n",
    "a_rs_gaia = get_a_rs(rhos_gaia, pdist)\n",
    "a_rs_gaia_sigmin, a_rs_gaia_sigpls = ph.get_sigmas(a_rs_gaia)\n",
    "a_rs_guess = np.mean(a_rs_gaia)\n",
    "a_rs_priors = [a_rs_guess-10*np.std(a_rs_gaia), a_rs_guess+10*np.std(a_rs_gaia)]"
   ]
  },
  {
   "cell_type": "markdown",
   "metadata": {},
   "source": [
    "###### Creating a transit"
   ]
  },
  {
   "cell_type": "code",
   "execution_count": 63,
   "metadata": {},
   "outputs": [],
   "source": [
    "def planetlc(time, per, rp, a, e, inc, w):\n",
    "    params = batman.TransitParams()       #object to store transit parameters\n",
    "    params.t0 = 0.                        #time of inferior conjunction\n",
    "    params.per = per                      #orbital period\n",
    "    params.rp = rp                        #planet radius (in units of stellar radii)\n",
    "    params.a = a                          #semi-major axis (in units of stellar radii)\n",
    "    params.inc = inc                      #orbital inclination (in degrees)\n",
    "    params.ecc = e\n",
    "    params.w = w                          #longitude of periastron (in degrees)\n",
    "    #params.limb_dark = \"linear\"\n",
    "    #params.u = [0.3]\n",
    "    #params.limb_dark = \"quadratic\"\n",
    "    #params.u = [0.1, 0.3]\n",
    "    params.limb_dark = \"uniform\"\n",
    "    params.u = []\n",
    "\n",
    "    #times to calculate light curve\n",
    "    m = batman.TransitModel(params, time)\n",
    "    \n",
    "    flux = m.light_curve(params)\n",
    "    \n",
    "    return flux"
   ]
  },
  {
   "cell_type": "code",
   "execution_count": 64,
   "metadata": {},
   "outputs": [],
   "source": [
    "def photo_init(time, per, rp, a, e, inc, w, noise=0.000005):\n",
    "    \"\"\"Creates fake transit based on input planet parameters.\n",
    "    \n",
    "    Parameters\n",
    "    ----------\n",
    "    time: np.array\n",
    "        Time over which to evaluate transit flux\n",
    "    per: float\n",
    "        Orbital peiod (days)\n",
    "    rp: float\n",
    "        Planet radius (units of stellar radii)\n",
    "    a: float\n",
    "        Semi-major axis (units of stellar radii)\n",
    "    e: float\n",
    "        Eccentricity\n",
    "    inc: float\n",
    "        Inclination (degrees)\n",
    "    w: float\n",
    "        Longitude of periastron (degrees)\n",
    "    noise: float, default 0.000005\n",
    "        Sigma of Gaussian noise to be added to light curve flux \n",
    "        \n",
    "    Returns\n",
    "    -------\n",
    "    nflux: np.array\n",
    "        Flux array with noise\n",
    "    flux_err: np.array\n",
    "        Flux errors\n",
    "    \n",
    "    \"\"\"\n",
    "    \n",
    "    # Calculate flux from transit model\n",
    "    flux = planetlc(time, period, rprs, a_rs, e, i, w)\n",
    "\n",
    "    # Adding some gaussian noise\n",
    "    noise = np.random.normal(0,noise,len(time))\n",
    "    nflux = flux+noise\n",
    "    \n",
    "    flux_err = np.array([0.00005]*len(nflux))\n",
    "    \n",
    "    return nflux, flux_err"
   ]
  },
  {
   "cell_type": "code",
   "execution_count": 65,
   "metadata": {},
   "outputs": [],
   "source": [
    "def chisqfunc(params, time, nflux, flux_err):\n",
    "    per, rp, a, inc, w = params\n",
    "    mod_flux = ph.planetlc_fitter(time, per, rp, a, inc, w)\n",
    "    chisq = np.sum(((nflux - mod_flux)/flux_err)**2)\n",
    "    return chisq"
   ]
  },
  {
   "cell_type": "code",
   "execution_count": 66,
   "metadata": {},
   "outputs": [],
   "source": [
    "def tfit_log_likelihood(theta, time, flux, flux_err):\n",
    "    \"\"\"\n",
    "    Transit fit emcee function\n",
    "    \n",
    "    model = ph.planetlc_fitter()\n",
    "    gerr = sigma of g distribution\n",
    "    \n",
    "    \"\"\"\n",
    "    per, rp, a, inc = theta\n",
    "    model = ph.planetlc_fitter(time, per, rp, a, inc, 0.0)\n",
    "    sigma2 = flux_err ** 2\n",
    "    return -0.5 * np.sum((flux - model) ** 2 / sigma2 + np.log(sigma2))\n",
    "\n",
    "def tfit_log_prior(theta):\n",
    "    \"\"\"\n",
    "    Transit fit emcee function\n",
    "    \n",
    "    e must be between 0 and 1\n",
    "    w must be between -90 and 300\n",
    "    \n",
    "    \"\"\"\n",
    "    per, rp, a, inc = theta\n",
    "    if 0.0 < rp < 1.0 and 0.0 < inc < 90.0:\n",
    "        return 0.0\n",
    "    return -np.inf\n",
    "\n",
    "def tfit_log_probability(theta, time, flux, flux_err):\n",
    "    \"\"\"\n",
    "    Transit fit emcee function\n",
    "    \"\"\"\n",
    "    lp = tfit_log_prior(theta)\n",
    "    if not np.isfinite(lp):\n",
    "        return -np.inf\n",
    "    return lp + tfit_log_likelihood(theta, time, flux, flux_err)\n"
   ]
  },
  {
   "cell_type": "code",
   "execution_count": 67,
   "metadata": {},
   "outputs": [],
   "source": [
    "def zscore(dat, mean, sigma):\n",
    "    \"\"\"Calculates zscore of a data point in (or outside of) a dataset\n",
    "    zscore: how many sigmas away is a value from the mean of a dataset?\n",
    "    \n",
    "    Parameters\n",
    "    ----------\n",
    "    dat: float\n",
    "        Data point\n",
    "    mean: float\n",
    "        Mean of dataset\n",
    "    sigma: flaot\n",
    "        Sigma of dataset\n",
    "    \n",
    "    \"\"\"\n",
    "    zsc = (dat-mean)/sigma\n",
    "    return zsc"
   ]
  },
  {
   "cell_type": "code",
   "execution_count": 68,
   "metadata": {},
   "outputs": [],
   "source": [
    "def mcmc_fitter(guess_transit, time, nflux, flux_err, nwalkers, nsteps, ndiscard, e, w, directory, plot_Tburnin=True, plot_Tcorner=True):\n",
    "    \"\"\"One-step MCMC transit fitting with `photoeccentric`.\n",
    "    \n",
    "    NB: (nsteps-ndiscard)*nwalkers must equal the length of rho_star.\n",
    "    \n",
    "    Parameters\n",
    "    ----------\n",
    "    guess_transit: np.array\n",
    "        Initial guess: [period (days), Rp/Rs, a/Rs, i (deg)]\n",
    "    time: np.array\n",
    "        Time axis of light curve to fit\n",
    "    nflux: np.array\n",
    "        Flux of light curve to fit\n",
    "    flux_err: np.array\n",
    "        Flux errors of light curve to fit\n",
    "    nwalkers: int\n",
    "        Number of `emcee` walkers\n",
    "    nsteps: int\n",
    "        Number of `emcee` steps to run\n",
    "    ndiscard: int\n",
    "        Number of `emcee` steps to discard (after burn-in)\n",
    "    e: float\n",
    "        True eccentricity (just to name directory)\n",
    "    w: float\n",
    "        True longitude of periastron (just to name directory)\n",
    "    directory: str\n",
    "        Full directory path to save plots\n",
    "    plot_Tburnin: boolean, default True\n",
    "        Plot burn-in and save to directory\n",
    "    plot_Tcorner: boolean, default True\n",
    "        Plot corner plot and save to directory\n",
    "        \n",
    "    Returns\n",
    "    -------\n",
    "    results: list\n",
    "        Fit results [period, Rp/Rs, a/Rs, i]\n",
    "    results_errs: list\n",
    "        Fit results errors [period err, Rp/Rs err, a/Rs err, i err]\n",
    "    per_dist: np.array\n",
    "        MCMC period distribution\n",
    "    rprs_dist: np.array\n",
    "        MCMC Rp/Rs distribution\n",
    "    ars_dist: np.array\n",
    "        MCMC a/Rs distribution\n",
    "    i_dist: np.array\n",
    "        MCMC i distribution\n",
    "    \n",
    "    \"\"\"\n",
    "    \n",
    "    solnx = (guess_transit[0], guess_transit[1], guess_transit[2], guess_transit[3])\n",
    "    pos = solnx + 1e-4 * np.random.randn(nwalk, 4)\n",
    "    nwalkers, ndim = pos.shape\n",
    "    \n",
    "    sampler = emcee.EnsembleSampler(nwalkers, ndim, tfit_log_probability, args=(time, nflux, flux_err), threads=4)\n",
    "    sampler.run_mcmc(pos, nsteps, progress=True);\n",
    "    samples = sampler.get_chain()\n",
    "    \n",
    "    if plot_Tburnin==True:\n",
    "        fig, axes = plt.subplots(4, figsize=(10, 7), sharex=True)\n",
    "        labels = [\"period\", \"rprs\", \"a/Rs\", \"i\"]\n",
    "        for i in range(ndim):\n",
    "            ax = axes[i]\n",
    "            ax.plot(samples[:, :, i], \"k\", alpha=0.3)\n",
    "            ax.set_xlim(0, len(samples))\n",
    "            ax.set_ylabel(labels[i])\n",
    "            ax.yaxis.set_label_coords(-0.1, 0.5)\n",
    "\n",
    "        axes[-1].set_xlabel(\"step number\");\n",
    "        fig.savefig(directory + 'lcfit_burnin.png')\n",
    "        plt.close(fig)\n",
    "    \n",
    "    flat_samples = sampler.get_chain(discard=ndiscard, thin=1, flat=True)\n",
    "    \n",
    "    if plot_Tcorner==True:  \n",
    "        fig = corner.corner(flat_samples, labels=labels);\n",
    "        fig.savefig(directory + 'transit_corner.png')\n",
    "        plt.close(fig)\n",
    "\n",
    "    results = []\n",
    "    results_errs = []\n",
    "    \n",
    "    for i in range(ndim):\n",
    "        results.append(np.percentile(flat_samples[:,i], 50))\n",
    "        results_errs.append(np.mean((np.percentile(flat_samples[:,i], 16), np.percentile(flat_samples[:,i], 84))))\n",
    "\n",
    "    per_dist = flat_samples[:,0]\n",
    "    rprs_dist = flat_samples[:,1]\n",
    "    ars_dist = flat_samples[:,2]\n",
    "    i_dist = flat_samples[:,3]\n",
    "        \n",
    "    return results, results_errs, per_dist, rprs_dist, ars_dist, i_dist"
   ]
  },
  {
   "cell_type": "code",
   "execution_count": 69,
   "metadata": {},
   "outputs": [],
   "source": [
    "def bls(time, nflux):\n",
    "    \"\"\"Applies astropy Box Least-Squares to light curve to fit period\n",
    "    \n",
    "    Parameters\n",
    "    ----------\n",
    "    time: np.array\n",
    "        Time array\n",
    "    nflux: np.array\n",
    "        Flux array\n",
    "        \n",
    "    \n",
    "    Returns\n",
    "    -------\n",
    "    per_guess: float\n",
    "        Period fit from BLS\n",
    "    \"\"\"\n",
    "    \n",
    "    from astropy.timeseries import BoxLeastSquares\n",
    "    import astropy.units as u\n",
    "    \n",
    "    mod = BoxLeastSquares(time*u.day, nflux, dy=0.01)\n",
    "    periodogram = mod.autopower(0.2, objective=\"snr\")\n",
    "    per_guess = np.asarray(periodogram.period)[int(np.median(np.argmax(periodogram.power)))]\n",
    "    \n",
    "    return per_guess"
   ]
  },
  {
   "cell_type": "code",
   "execution_count": 84,
   "metadata": {},
   "outputs": [],
   "source": [
    "def photo_fit(time, nflux, flux_err, guess_transit, guess_ew, rho_star, e, w, directory, nsteps, ndiscard, plot_transit=True, plot_burnin=True, plot_corner=True, plot_Tburnin=True, plot_Tcorner=True, ):\n",
    "\n",
    "    \"\"\"Fit eccentricity for a planet.\n",
    "    \n",
    "    Parameters\n",
    "    ----------\n",
    "    time: np.array\n",
    "        Light curve time\n",
    "    nflux: np.array\n",
    "        Light curve flux\n",
    "    flux_err: np.array\n",
    "        Light curve flux errors\n",
    "    guess_transit: np.array (length 4)\n",
    "        Initial guess for MCMC transit fitting. Passed into mcmc_fitter().\n",
    "    guess_ew: np.array (length 2)\n",
    "        Initial guess for MCMC e and w fitting. [e guess, w guess]\n",
    "    rho_star: np.array\n",
    "        \"True\" stellar density distribution\n",
    "    e: float\n",
    "        True eccentricity (just to name plots)\n",
    "    w: float\n",
    "        True longitude of periastron (just to name plots)\n",
    "    directory: str\n",
    "        Directory to save plots\n",
    "    nsteps: int\n",
    "        Number of steps to run in MCMC. Passed into mcmc_fitter().\n",
    "    ndiscard: int\n",
    "        Number of steps to discard in MCMC. Passed into mcmc_fitter().\n",
    "    plot_transit: boolean, default True\n",
    "        Save transit light curve plot + fit in specified directory.\n",
    "    \n",
    "    Returns\n",
    "    -------\n",
    "    fite: float\n",
    "        Best-fit eccentricity (mean of MCMC distribution)\n",
    "    fitw: float\n",
    "        Best-fit longitude of periastron (mean of MCMC distribution)\n",
    "    gs: np.array\n",
    "        \"g\" distribution for planet\n",
    "    g_mean: float\n",
    "        Mean of g distribution\n",
    "    g_sigmas: list (length 2)\n",
    "        [(-) sigma, (+) sigma] of g distribution\n",
    "    zsc: list (length 2)\n",
    "        Number of sigmas away [fit e, fit w] are from true [e, w]\n",
    "    \n",
    "    \n",
    "    \"\"\"\n",
    "    \n",
    "    # EMCEE Transit Model Fitting\n",
    "    _, _, pdist, rdist, adist, idist = mcmc_fitter(guess_transit, time, nflux, flux_err, nwalk, nsteps, ndiscard, e, w, directory, plot_Tburnin=True, plot_Tcorner=True)\n",
    "\n",
    "    p_f, perr_f = np.mean(pdist), ph.get_sigmas(pdist)\n",
    "    rprs_f, rprserr_f = np.mean(rdist), ph.get_sigmas(rdist)\n",
    "    a_f, aerr_f = np.mean(adist), ph.get_sigmas(adist)\n",
    "    i_f, ierr_f = np.mean(idist), ph.get_sigmas(idist)\n",
    "\n",
    "    # Create a light curve with the fit parameters\n",
    "    fit = ph.planetlc_fitter(time, p_f, rprs_f, a_f, i_f, 0.0)\n",
    "    \n",
    "    if plot_transit==True:\n",
    "        plt.cla()\n",
    "        plt.plot(time, nflux, c='blue', alpha=0.5, label='Original LC')\n",
    "        plt.plot(time, fit, c='red', alpha=1.0, label='Fit LC')\n",
    "        plt.xlim(-0.1, 0.1)\n",
    "        plt.legend()\n",
    "        \n",
    "        plt.savefig(directory + 'lightcurve_fitp' + str(p_f) + '_fitrprs' + str(rprs_f) + '_fitars' + str(a_f) + '_fiti' + str(i_f) + '.png')\n",
    "        plt.close()\n",
    "            \n",
    "    print('Fit params:')\n",
    "    print('Period (days): ', p_f, 'Rp/Rs: ', rprs_f)\n",
    "    print('a/Rs: ', a_f)\n",
    "    print('i (deg): ', i_f)\n",
    "    \n",
    "    T14dist = ph.get_T14(pdist, rdist, adist, idist)\n",
    "    T23dist = ph.get_T23(pdist, rdist, adist, idist)\n",
    "    \n",
    "    gs, rho_c = ph.get_g_distribution(rho_star, pdist, rdist, T14dist, T23dist)\n",
    "    \n",
    "    g_mean = np.nanmean(gs)\n",
    "    g_sigma_min, g_sigma_plus = ph.get_sigmas(gs)\n",
    "    g_sigmas = [g_sigma_min, g_sigma_plus]\n",
    "    \n",
    "    #Guesses\n",
    "    w_guess = guess_ew[1]\n",
    "    e_guess = guess_ew[0]\n",
    "\n",
    "    solnx = (w_guess, e_guess)\n",
    "    pos = solnx + 1e-4 * np.random.randn(32, 2)\n",
    "    nwalkers, ndim = pos.shape\n",
    "    \n",
    "    sampler = emcee.EnsembleSampler(nwalkers, ndim, ph.log_probability, args=(g_mean, np.nanmean(g_sigmas)), threads=4)\n",
    "    print(g_mean)\n",
    "    \n",
    "    print('-------MCMC------')\n",
    "    sampler.run_mcmc(pos, 5000, progress=True);\n",
    "    flat_samples_e = sampler.get_chain(discard=1000, thin=15, flat=True)\n",
    "    \n",
    "    if plot_burnin==True:\n",
    "    \n",
    "        fig, axes = plt.subplots(2, figsize=(10, 7), sharex=True)\n",
    "        samples = sampler.get_chain()\n",
    "        labels = [\"w\", \"e\"]\n",
    "\n",
    "        for i in range(ndim):\n",
    "            ax = axes[i]\n",
    "            ax.plot(samples[:, :, i], \"k\", alpha=0.3)\n",
    "            ax.set_xlim(0, len(samples))\n",
    "            ax.set_ylabel(labels[i])\n",
    "            ax.yaxis.set_label_coords(-0.1, 0.5)\n",
    "\n",
    "        axes[-1].set_xlabel(\"step number\");\n",
    "\n",
    "        fig.savefig(directory + 'e_g_burnin.png')\n",
    "        plt.close(fig)\n",
    "\n",
    "    edist = flat_samples_e[:,1]    \n",
    "    wdist = flat_samples_e[:,0]\n",
    "    \n",
    "    fite = np.percentile(edist, 50)\n",
    "    fitw = np.percentile(wdist, 50)\n",
    "\n",
    "    mcmc_e = np.percentile(edist, [16, 50, 84])\n",
    "    q_e = np.diff(mcmc_e)\n",
    "    \n",
    "    mcmc_w = np.percentile(wdist, [16, 50, 84])\n",
    "    q_w = np.diff(mcmc_w)\n",
    "\n",
    "    zsc_e = zscore(e, mcmc_e[1], np.mean(q_e))\n",
    "    zsc_w = zscore(w, mcmc_w[1], np.mean(q_w))\n",
    "    zsc = [zsc_e, zsc_w]\n",
    "    \n",
    "    if plot_corner==True:\n",
    "    \n",
    "        fig = corner.corner(flat_samples_e, labels=labels, show_titles=True, title_kwargs={\"fontsize\": 12}, truths=[w, e], quantiles=[0.16, 0.5, 0.84], plot_contours=True);\n",
    "        fig.savefig(directory + 'corner_fit_e' + str(fite) + '_fit_w' + str(fitw) + '_fit_g' + str(g_mean) + '.png')\n",
    "        plt.close(fig)\n",
    "    \n",
    "    return fite, fitw, edist, wdist, gs, g_mean, g_sigmas, zsc\n",
    "    \n",
    "\n"
   ]
  },
  {
   "cell_type": "markdown",
   "metadata": {},
   "source": [
    "# Using photo_init and photo_fit"
   ]
  },
  {
   "cell_type": "code",
   "execution_count": 72,
   "metadata": {},
   "outputs": [],
   "source": [
    "e_rand = np.random.uniform(0.0, 1.0, size=10)\n",
    "w_rand = np.random.uniform(-90.0, 90.0, size=10)"
   ]
  },
  {
   "cell_type": "code",
   "execution_count": 73,
   "metadata": {},
   "outputs": [],
   "source": [
    "# Testing how accurately MCMC fits period/radius/i/ars..."
   ]
  },
  {
   "cell_type": "code",
   "execution_count": 74,
   "metadata": {},
   "outputs": [],
   "source": [
    "gmeans = np.zeros(10)\n",
    "gsigs = np.zeros(10)\n",
    "es_best = np.zeros(10)\n",
    "ws_best = np.zeros(10)\n",
    "zscores = np.zeros((10, 2))"
   ]
  },
  {
   "cell_type": "code",
   "execution_count": 83,
   "metadata": {
    "scrolled": true
   },
   "outputs": [
    {
     "name": "stdout",
     "output_type": "stream",
     "text": [
      "Period (Days):  4.83809469\n",
      "Rp/Rs:  0.036066\n",
      "a/Rs:  32.64384979582086\n",
      "i (deg):  89.98\n",
      "e:  0.38498914283071084 w:  61.63393876527462\n"
     ]
    },
    {
     "name": "stderr",
     "output_type": "stream",
     "text": [
      "100%|██████████| 3000/3000 [08:16<00:00,  6.05it/s]\n"
     ]
    },
    {
     "name": "stdout",
     "output_type": "stream",
     "text": [
      "Fit params:\n",
      "Period (days):  4.838051627163768 Rp/Rs:  0.036064092553292786\n",
      "a/Rs:  46.25356332542835\n",
      "i (deg):  89.76576604578128\n"
     ]
    },
    {
     "name": "stderr",
     "output_type": "stream",
     "text": [
      "  0%|          | 0/5000 [00:00<?, ?it/s]/Users/sheilasagear/opt/anaconda3/lib/python3.7/site-packages/emcee/moves/red_blue.py:99: RuntimeWarning: invalid value encountered in double_scalars\n",
      "  lnpdiff = f + nlp - state.log_prob[j]\n",
      "  1%|          | 59/5000 [00:00<00:08, 586.58it/s]"
     ]
    },
    {
     "name": "stdout",
     "output_type": "stream",
     "text": [
      "1.4178164208086788\n",
      "-------MCMC------\n"
     ]
    },
    {
     "name": "stderr",
     "output_type": "stream",
     "text": [
      "100%|██████████| 5000/5000 [00:08<00:00, 601.92it/s]\n"
     ]
    },
    {
     "name": "stdout",
     "output_type": "stream",
     "text": [
      "Best e:  0.43944061489843\n"
     ]
    }
   ],
   "source": [
    "print('Period (Days): ', period)\n",
    "print('Rp/Rs: ', rprs)\n",
    "print('a/Rs: ', a_rs)\n",
    "print('i (deg): ', i)\n",
    "\n",
    "for j in range(1):\n",
    "    print('e: ', e_rand[j], 'w: ', w_rand[j])\n",
    "    \n",
    "    dr = 'e_' + str(e_rand[j]) + '_w_' + str(w_rand[j])\n",
    "    direct = '/Users/sheilasagear/Dropbox (UFL)/Research/MetallicityProject/photoeccentric/notebooks/plots/' + dr + '/'\n",
    "    \n",
    "    if not os.path.exists(direct):\n",
    "        os.mkdir(direct)\n",
    "    \n",
    "    ttime = np.linspace(-24, 24, 10000)\n",
    "    tflux, tflux_err = photo_init(ttime, period, rprs, a_rs, e_rand[j], i, w_rand[j])\n",
    "\n",
    "    # nsteps kept 1000, nwalkers 32, len(result) 32000\n",
    "    \n",
    "    guess_transit = np.array([bls(ttime, tflux), 0.036066, a_rs_guess, 89.9, 90.0])\n",
    "    guess_ew = np.array([0, 0])\n",
    "    \n",
    "    beste, bestw, edist, wdist, gs, g_mean, g_sigmas, zsc = photo_fit(ttime, tflux, tflux_err, guess_transit, guess_ew, rho_star, e_rand[j], w_rand[j], direct, nsteps_d, ndiscard_d) \n",
    "    gmeans[j] = g_mean\n",
    "    gsigs[j] = np.mean(g_sigmas)\n",
    "    es_best[j] = beste\n",
    "    ws_best[j] = bestw\n",
    "    zscores[j] = np.mean(zsc)\n",
    "    print(\"Best e: \", beste)\n"
   ]
  },
  {
   "cell_type": "code",
   "execution_count": 403,
   "metadata": {},
   "outputs": [],
   "source": [
    "es_best = np.array(es_best)\n",
    "ws_best = np.array(ws_best)\n",
    "zscores = np.array(zscores)\n",
    "\n",
    "np.savetxt('31921_e_best.csv', es_best, delimiter=',')\n",
    "np.savetxt('31921_w_best.csv', ws_best, delimiter=',')\n",
    "np.savetxt('31921_e_rand.csv', e_rand, delimiter=',')\n",
    "np.savetxt('31921_w_rand.csv', w_rand, delimiter=',')\n",
    "np.savetxt('31921_zscores_e.csv', abs(zscores[:,0]), delimiter=',')\n",
    "np.savetxt('31921_zscores_w.csv', abs(zscores[:,1]), delimiter=',')"
   ]
  },
  {
   "cell_type": "code",
   "execution_count": 404,
   "metadata": {},
   "outputs": [
    {
     "data": {
      "text/plain": [
       "array([0.73797464, 0.17279585, 0.24237217, 0.10912234, 0.4099164 ,\n",
       "       0.8393299 , 0.04650088, 0.10085475, 0.74115741, 0.64902034])"
      ]
     },
     "execution_count": 404,
     "metadata": {},
     "output_type": "execute_result"
    }
   ],
   "source": [
    "e_rand"
   ]
  },
  {
   "cell_type": "code",
   "execution_count": 405,
   "metadata": {},
   "outputs": [
    {
     "data": {
      "text/plain": [
       "array([0.62309582, 0.11737293, 0.24239346, 0.19184535, 0.47299598,\n",
       "       0.80662831, 0.11499879, 0.1232968 , 0.14963918, 0.56344944])"
      ]
     },
     "execution_count": 405,
     "metadata": {},
     "output_type": "execute_result"
    }
   ],
   "source": [
    "es_best"
   ]
  },
  {
   "cell_type": "code",
   "execution_count": 406,
   "metadata": {},
   "outputs": [
    {
     "data": {
      "text/plain": [
       "array([[ 7.23333571e-01, -7.78109029e-01],\n",
       "       [ 2.58967187e-01, -1.13558822e+00],\n",
       "       [-9.15240714e-05, -6.74406898e-01],\n",
       "       [-3.72712968e-01, -3.78584827e-01],\n",
       "       [-3.46750680e-01, -3.85328439e-01],\n",
       "       [ 3.59162104e-01, -2.25800754e-01],\n",
       "       [-3.43159538e-01, -1.25036676e+00],\n",
       "       [-1.03460578e-01, -9.28012406e-01],\n",
       "       [ 2.74862489e+00, -1.12656282e+00],\n",
       "       [ 6.20174786e-01,  6.06677870e-01]])"
      ]
     },
     "execution_count": 406,
     "metadata": {},
     "output_type": "execute_result"
    }
   ],
   "source": [
    "zscores"
   ]
  },
  {
   "cell_type": "code",
   "execution_count": 407,
   "metadata": {},
   "outputs": [
    {
     "data": {
      "text/plain": [
       "<matplotlib.colorbar.Colorbar at 0x7fc460235c50>"
      ]
     },
     "execution_count": 407,
     "metadata": {},
     "output_type": "execute_result"
    },
    {
     "data": {
      "image/png": "[encoded data removed]",
      "text/plain": [
       "<Figure size 864x576 with 2 Axes>"
      ]
     },
     "metadata": {
      "needs_background": "light"
     },
     "output_type": "display_data"
    }
   ],
   "source": [
    "plt.scatter(e_rand, w_rand, c=zscores[:,0])\n",
    "plt.xlim(0.0, 1.0)\n",
    "plt.ylim(-90., 90.)\n",
    "plt.colorbar()"
   ]
  },
  {
   "cell_type": "code",
   "execution_count": null,
   "metadata": {},
   "outputs": [],
   "source": []
  },
  {
   "cell_type": "code",
   "execution_count": null,
   "metadata": {},
   "outputs": [],
   "source": []
  },
  {
   "cell_type": "code",
   "execution_count": null,
   "metadata": {},
   "outputs": [],
   "source": []
  },
  {
   "cell_type": "code",
   "execution_count": 396,
   "metadata": {},
   "outputs": [
    {
     "data": {
      "text/plain": [
       "<matplotlib.colorbar.Colorbar at 0x7fc466f94f90>"
      ]
     },
     "execution_count": 396,
     "metadata": {},
     "output_type": "execute_result"
    },
    {
     "data": {
      "image/png": "[encoded data removed]",
      "text/plain": [
       "<Figure size 864x576 with 2 Axes>"
      ]
     },
     "metadata": {
      "needs_background": "light"
     },
     "output_type": "display_data"
    }
   ],
   "source": [
    "plt.scatter(e_rand, w_rand, c=zscores[:,0])\n",
    "plt.xlim(0.0, 1.0)\n",
    "plt.ylim(-90., 90.)\n",
    "plt.colorbar()"
   ]
  },
  {
   "cell_type": "code",
   "execution_count": 557,
   "metadata": {},
   "outputs": [],
   "source": []
  },
  {
   "cell_type": "code",
   "execution_count": 212,
   "metadata": {},
   "outputs": [],
   "source": []
  },
  {
   "cell_type": "code",
   "execution_count": 560,
   "metadata": {},
   "outputs": [],
   "source": [
    "erand = np.loadtxt('31721_e_rand.csv')\n",
    "wrand = np.loadtxt('31721_w_rand.csv')\n",
    "efit = np.loadtxt('31721_es_best.csv')\n",
    "wfit = np.loadtxt('31721_ws_best.csv')"
   ]
  },
  {
   "cell_type": "code",
   "execution_count": 564,
   "metadata": {},
   "outputs": [],
   "source": [
    "errs = np.abs((erand-efit)/erand)"
   ]
  },
  {
   "cell_type": "code",
   "execution_count": 588,
   "metadata": {},
   "outputs": [
    {
     "data": {
      "text/plain": [
       "array([1.09612249e-01, 2.77707188e-01, 3.24760967e-02, 1.19246482e-01,\n",
       "       4.10805225e-02, 6.42226043e-01, 3.16838922e-01, 2.43508115e-01,\n",
       "       8.45079589e-01, 5.42086386e-02, 8.18905049e-01, 5.16023868e-03,\n",
       "       4.51909869e-01, 5.25078762e-03, 4.34700252e-01, 2.38801915e-01,\n",
       "       2.17174741e-01, 3.28045531e-02, 2.06283349e-01, 1.15919034e-02,\n",
       "       8.01954973e-02, 1.33675850e-01, 3.14904751e-01, 1.90412000e-01,\n",
       "       1.03855284e-01, 2.00530000e-01, 3.72341291e-01, 3.23728550e-01,\n",
       "       5.60525504e-01, 5.17295280e-01, 1.36040711e+00, 6.87338149e+00,\n",
       "       1.58868334e-01, 2.67233582e-01, 1.01972012e+00, 6.43116204e-01,\n",
       "       3.74165196e-01, 1.30391148e-01, 8.62654730e+00, 8.67338486e-02,\n",
       "       2.56962838e-01, 6.05146320e-01, 4.85456990e-01, 4.05607812e-01,\n",
       "       5.96147313e-01, 2.48175197e-01, 3.42859740e-01, 1.02228314e-01,\n",
       "       7.12646528e-01, 1.21599143e-01, 9.07150031e-03, 2.11721663e-01,\n",
       "       4.49101576e-01, 4.15919705e-03, 3.30036747e-01, 4.21436476e-01,\n",
       "       7.29462852e-03, 2.10986355e-01, 3.26223286e-01, 4.47519581e-02,\n",
       "       2.22402956e-01, 1.13933999e+00, 2.42426218e-01, 7.92769039e-01,\n",
       "       1.71010527e-01, 5.32280356e-01, 4.85132107e-03])"
      ]
     },
     "execution_count": 588,
     "metadata": {},
     "output_type": "execute_result"
    }
   ],
   "source": [
    "errs"
   ]
  },
  {
   "cell_type": "code",
   "execution_count": 580,
   "metadata": {},
   "outputs": [
    {
     "data": {
      "text/plain": [
       "Text(0.5, 1.0, 'Color = Percent Error')"
      ]
     },
     "execution_count": 580,
     "metadata": {},
     "output_type": "execute_result"
    },
    {
     "data": {
      "image/png": "[encoded data removed]",
      "text/plain": [
       "<Figure size 864x576 with 2 Axes>"
      ]
     },
     "metadata": {
      "needs_background": "light"
     },
     "output_type": "display_data"
    }
   ],
   "source": [
    "plt.scatter(erand, wrand, c=errs*100)\n",
    "plt.colorbar()\n",
    "plt.xlabel('True e')\n",
    "plt.ylabel('True w')\n",
    "plt.title('Color = Percent Error')"
   ]
  },
  {
   "cell_type": "code",
   "execution_count": 593,
   "metadata": {},
   "outputs": [
    {
     "data": {
      "text/plain": [
       "Text(0.5, 1.0, 'No Outliers ||| Color = Percent Error')"
      ]
     },
     "execution_count": 593,
     "metadata": {},
     "output_type": "execute_result"
    },
    {
     "data": {
      "image/png": "[encoded data removed]",
      "text/plain": [
       "<Figure size 864x576 with 2 Axes>"
      ]
     },
     "metadata": {
      "needs_background": "light"
     },
     "output_type": "display_data"
    }
   ],
   "source": [
    "plt.scatter(np.delete(erand, [31, 38]), np.delete(wrand, [31,38]), c=np.delete(errs, [31,38])*100)\n",
    "plt.colorbar()\n",
    "plt.xlabel('True e')\n",
    "plt.ylabel('True w')\n",
    "plt.title('No Outliers ||| Color = Percent Error')"
   ]
  },
  {
   "cell_type": "code",
   "execution_count": 155,
   "metadata": {},
   "outputs": [],
   "source": [
    "# es_best_2 = []\n",
    "\n",
    "# print('Period (Days): ', period)\n",
    "# print('Rp/Rs: ', rprs)\n",
    "# print('a/Rs: ', a_rs)\n",
    "# print('i (deg): ', i)\n",
    "\n",
    "# for j in range(40):\n",
    "#     print('e: ', e_rand[j], 'w: ', w_rand[j])\n",
    "#     ttime = np.linspace(-24, 24, 10000)\n",
    "#     tflux, tflux_err = photo_init(ttime, period, rprs, a_rs, e_rand[j], i, w_rand[j])\n",
    "#     try:\n",
    "#         es_best_c = photo_fit(ttime, tflux, tflux_err, rho_star, plot=True, fitter='BFGS')\n",
    "#         es_best_2.append(es_best_c)\n",
    "#     except ValueError:\n",
    "#         es_best_2.append(np.nan)"
   ]
  },
  {
   "cell_type": "code",
   "execution_count": 156,
   "metadata": {},
   "outputs": [],
   "source": [
    "# errs_2 = np.abs((e_rand[0:40]-es_best)/e_rand[0:40])"
   ]
  },
  {
   "cell_type": "code",
   "execution_count": 157,
   "metadata": {},
   "outputs": [],
   "source": [
    "# plt.scatter(e_rand[0:40], w_rand[0:40], c=errs_2*100)\n",
    "# plt.colorbar()\n",
    "# plt.xlabel('True e')\n",
    "# plt.ylabel('True w')\n",
    "# plt.title('Color = Percent Error')"
   ]
  },
  {
   "cell_type": "code",
   "execution_count": null,
   "metadata": {},
   "outputs": [],
   "source": []
  }
 ],
 "metadata": {
  "kernelspec": {
   "display_name": "Python 3",
   "language": "python",
   "name": "python3"
  },
  "language_info": {
   "codemirror_mode": {
    "name": "ipython",
    "version": 3
   },
   "file_extension": ".py",
   "mimetype": "text/x-python",
   "name": "python",
   "nbconvert_exporter": "python",
   "pygments_lexer": "ipython3",
   "version": "3.7.6"
  }
 },
 "nbformat": 4,
 "nbformat_minor": 4
}
