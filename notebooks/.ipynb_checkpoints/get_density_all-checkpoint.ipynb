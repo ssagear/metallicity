{
 "cells": [
  {
   "cell_type": "markdown",
   "metadata": {},
   "source": [
    "## Sigma_density"
   ]
  },
  {
   "cell_type": "markdown",
   "metadata": {},
   "source": [
    "Determining eccentricity using the photoeccentric effect requires transit duration, orbital period, and stellar density. Assuming a spherical star, we need M_star, sigma_M_star and R_star, sigma_R_star to determine density rho_star, sigma_rho_star. \n",
    "\n",
    "In this notebook, I will extract M_star, sigma_M_star and R_star, sigma_R_star from the Kepler/Gaia cross-matched data. I will create 2 Gaussians with mean and sigma for mass and radius. Then I will use each value in each Gaussian to calculate the density and sigma_density. I will read sigma_density from the plot."
   ]
  },
  {
   "cell_type": "markdown",
   "metadata": {},
   "source": [
    "## All KIC Columns explained: https://exoplanetarchive.ipac.caltech.edu/docs/API_keplerstellar_columns.html"
   ]
  },
  {
   "cell_type": "markdown",
   "metadata": {},
   "source": [
    "## All Gaia Columns explained: "
   ]
  },
  {
   "cell_type": "code",
   "execution_count": 1,
   "metadata": {},
   "outputs": [],
   "source": [
    "import numpy as np\n",
    "import matplotlib.pyplot as plt\n",
    "from astropy.io import fits\n",
    "from pprint import pprint"
   ]
  },
  {
   "cell_type": "code",
   "execution_count": 2,
   "metadata": {},
   "outputs": [],
   "source": [
    "plt.rcParams['figure.figsize'] = [10, 5]"
   ]
  },
  {
   "cell_type": "markdown",
   "metadata": {},
   "source": [
    "Kepler/Gaia DR2 crossmatched data with 1, 4, and 20 arcsecond radius. I'll use the 1 arcsec radius (for now). "
   ]
  },
  {
   "cell_type": "code",
   "execution_count": 3,
   "metadata": {},
   "outputs": [],
   "source": [
    "hdul4as = fits.open('/Users/sheilasagear/Dropbox (UFL)/Research/MetallicityProject/Data/Kepler-Gaia/kepler_dr2_4arcsec.fits')\n",
    "hdul20as = fits.open('/Users/sheilasagear/Dropbox (UFL)/Research/MetallicityProject/Data/Kepler-Gaia/kepler_dr2_20arcsec.fits')\n",
    "hdul1as = fits.open('/Users/sheilasagear/Dropbox (UFL)/Research/MetallicityProject/Data/Kepler-Gaia/kepler_dr2_1arcsec.fits')\n"
   ]
  },
  {
   "cell_type": "code",
   "execution_count": 4,
   "metadata": {},
   "outputs": [],
   "source": [
    "# Print indices of all data in fits file. Number - 1 at the end of header name is index.\n",
    "#hdul4as[1].header"
   ]
  },
  {
   "cell_type": "markdown",
   "metadata": {},
   "source": [
    "Create arrays of masses and radii"
   ]
  },
  {
   "cell_type": "code",
   "execution_count": 5,
   "metadata": {},
   "outputs": [],
   "source": [
    "from tqdm import tqdm"
   ]
  },
  {
   "cell_type": "code",
   "execution_count": 6,
   "metadata": {},
   "outputs": [
    {
     "data": {
      "text/plain": [
       "astropy.io.fits.hdu.hdulist.HDUList"
      ]
     },
     "execution_count": 6,
     "metadata": {},
     "output_type": "execute_result"
    }
   ],
   "source": [
    "type(hdul4as)"
   ]
  },
  {
   "cell_type": "code",
   "execution_count": 7,
   "metadata": {},
   "outputs": [],
   "source": [
    "def get_kepID(hdul):\n",
    "    kepID_lst = []\n",
    "\n",
    "    for i in tqdm(range(len(hdul[1].data))):\n",
    "        kepID_lst.append(hdul[1].data[i][96])\n",
    "        \n",
    "    return np.asarray(kepID_lst)"
   ]
  },
  {
   "cell_type": "code",
   "execution_count": 8,
   "metadata": {},
   "outputs": [],
   "source": [
    "def get_masses(hdul):\n",
    "    mass_lst = []\n",
    "    masserr1_lst = []\n",
    "    masserr2_lst = []\n",
    "\n",
    "    for i in tqdm(range(len(hdul[1].data))):\n",
    "        mass_lst.append(hdul[1].data[i][122])\n",
    "        masserr1_lst.append(hdul[1].data[i][123])\n",
    "        masserr2_lst.append(hdul[1].data[i][124])\n",
    "        \n",
    "    return np.asarray(mass_lst), np.asarray(masserr1_lst), np.asarray(masserr2_lst)"
   ]
  },
  {
   "cell_type": "code",
   "execution_count": 9,
   "metadata": {},
   "outputs": [],
   "source": [
    "def get_radii(hdul, mission='Kepler'):\n",
    "\n",
    "    rad_lst = []\n",
    "    raderr1_lst = []\n",
    "    raderr2_lst = []\n",
    "\n",
    "    for i in tqdm(range(len(hdul[1].data))):\n",
    "        \n",
    "        if mission=='Kepler':\n",
    "            \n",
    "            #Kepler radii\n",
    "            rad_lst.append(hdul[1].data[i][119])\n",
    "            raderr1_lst.append(hdul[1].data[i][120])\n",
    "            raderr2_lst.append(hdul[1].data[i][121])\n",
    "            \n",
    "        elif mission=='Gaia':\n",
    "\n",
    "            #Gaia radii\n",
    "            rad_lst.append(hdul[1].data[i][88])\n",
    "            raderr1_lst.append(hdul[1].data[i][89])\n",
    "            raderr2_lst.append(hdul[1].data[i][90])\n",
    "            \n",
    "        else:\n",
    "            raise KeyError(\"Invalid mission\")\n",
    "            \n",
    "    return np.asarray(rad_lst), np.asarray(raderr1_lst), np.asarray(raderr2_lst)"
   ]
  },
  {
   "cell_type": "code",
   "execution_count": 10,
   "metadata": {},
   "outputs": [],
   "source": [
    "def get_logg(hdul):\n",
    "    logg_lst = []\n",
    "    loggerr1_lst = []\n",
    "    loggerr2_lst = []\n",
    "\n",
    "    for i in tqdm(range(len(hdul[1].data))):\n",
    "        logg_lst.append(hdul[1].data[i][111])\n",
    "        loggerr1_lst.append(hdul[1].data[i][112])\n",
    "        loggerr2_lst.append(hdul[1].data[i][113])\n",
    "        \n",
    "    return np.asarray(logg_lst), np.asarray(loggerr1_lst), np.asarray(loggerr2_lst)"
   ]
  },
  {
   "cell_type": "code",
   "execution_count": 11,
   "metadata": {},
   "outputs": [
    {
     "name": "stderr",
     "output_type": "stream",
     "text": [
      "100%|██████████| 201312/201312 [00:41<00:00, 4820.74it/s]\n"
     ]
    }
   ],
   "source": [
    "logg_lst, loggerr1_lst, loggerr2_lst = get_logg(hdul1as)"
   ]
  },
  {
   "cell_type": "code",
   "execution_count": null,
   "metadata": {},
   "outputs": [
    {
     "name": "stderr",
     "output_type": "stream",
     "text": [
      "100%|██████████| 201312/201312 [00:42<00:00, 4788.72it/s]\n",
      " 51%|█████     | 103042/201312 [00:21<00:20, 4910.89it/s]"
     ]
    }
   ],
   "source": [
    "mass_lst, masserr1_lst, masserr2_lst = get_masses(hdul1as)\n",
    "rad_lst, raderr1_lst, raderr2_lst = get_radii(hdul1as, mission='Kepler')\n",
    "kepID_lst = get_kepID(hdul1as)"
   ]
  },
  {
   "cell_type": "code",
   "execution_count": null,
   "metadata": {},
   "outputs": [],
   "source": [
    "rad_lst_gaia, raderr1_lst_gaia, raderr2_lst_gaia = get_radii(hdul1as, mission='Gaia')"
   ]
  },
  {
   "cell_type": "code",
   "execution_count": null,
   "metadata": {},
   "outputs": [],
   "source": [
    "plt.scatter(rad_lst, rad_lst_gaia)\n",
    "plt.xlabel(\"Kepler Radii\")\n",
    "plt.ylabel(\"Gaia Radii\")"
   ]
  },
  {
   "cell_type": "markdown",
   "metadata": {},
   "source": [
    "### Number of targets"
   ]
  },
  {
   "cell_type": "code",
   "execution_count": null,
   "metadata": {},
   "outputs": [],
   "source": [
    "ntargs = len(mass_lst)"
   ]
  },
  {
   "cell_type": "markdown",
   "metadata": {},
   "source": [
    "## Histograms of entire mass & radius sample"
   ]
  },
  {
   "cell_type": "code",
   "execution_count": 44,
   "metadata": {},
   "outputs": [
    {
     "data": {
      "text/plain": [
       "Text(0.5, 0, 'Solar mass')"
      ]
     },
     "execution_count": 44,
     "metadata": {},
     "output_type": "execute_result"
    },
    {
     "data": {
      "image/png": "[encoded data removed]",
      "text/plain": [
       "<Figure size 720x360 with 1 Axes>"
      ]
     },
     "metadata": {
      "needs_background": "light"
     },
     "output_type": "display_data"
    }
   ],
   "source": [
    "plt.hist(mass_lst, bins=50)\n",
    "plt.title('Sample - Mass')\n",
    "plt.xlabel('Solar mass')"
   ]
  },
  {
   "cell_type": "code",
   "execution_count": 45,
   "metadata": {},
   "outputs": [
    {
     "data": {
      "text/plain": [
       "Text(0.5, 0, 'Solar radius')"
      ]
     },
     "execution_count": 45,
     "metadata": {},
     "output_type": "execute_result"
    },
    {
     "data": {
      "image/png": "[encoded data removed]",
      "text/plain": [
       "<Figure size 720x360 with 1 Axes>"
      ]
     },
     "metadata": {
      "needs_background": "light"
     },
     "output_type": "display_data"
    }
   ],
   "source": [
    "plt.hist(rad_lst, bins=50, range=(0, 3.5))\n",
    "plt.title('Sample - Radius')\n",
    "plt.xlabel('Solar radius')"
   ]
  },
  {
   "cell_type": "code",
   "execution_count": 46,
   "metadata": {},
   "outputs": [
    {
     "data": {
      "text/plain": [
       "Text(0.5, 0, 'log(g)')"
      ]
     },
     "execution_count": 46,
     "metadata": {},
     "output_type": "execute_result"
    },
    {
     "data": {
      "image/png": "[encoded data removed]",
      "text/plain": [
       "<Figure size 720x360 with 1 Axes>"
      ]
     },
     "metadata": {
      "needs_background": "light"
     },
     "output_type": "display_data"
    }
   ],
   "source": [
    "plt.hist(logg_lst, bins=50)\n",
    "plt.title('Sample - log(g)')\n",
    "plt.xlabel('log(g)')"
   ]
  },
  {
   "cell_type": "markdown",
   "metadata": {},
   "source": [
    "## Remove nans"
   ]
  },
  {
   "cell_type": "code",
   "execution_count": 47,
   "metadata": {},
   "outputs": [
    {
     "data": {
      "text/plain": [
       "numpy.ndarray"
      ]
     },
     "execution_count": 47,
     "metadata": {},
     "output_type": "execute_result"
    }
   ],
   "source": [
    "type(mass_lst)"
   ]
  },
  {
   "cell_type": "code",
   "execution_count": 51,
   "metadata": {},
   "outputs": [],
   "source": [
    "def no_nans(masses, radii, radii2, logg):\n",
    "    nan_i = []\n",
    "\n",
    "    for i in range(len(masses)):\n",
    "        if np.isnan(masses[i]) or np.isnan(radii[i]) or np.isnan(radii2[i]):\n",
    "            nan_i.append(i)\n",
    "            \n",
    "    return nan_i"
   ]
  },
  {
   "cell_type": "code",
   "execution_count": 52,
   "metadata": {},
   "outputs": [],
   "source": [
    "# Don't run this cell more than once!!\n",
    "# Don't run this cell more than once!!\n",
    "# Don't run this cell more than once!!\n",
    "# Don't run this cell more than once!!\n",
    "# Don't run this cell more than once!!\n",
    "\n",
    "nan_i = no_nans(mass_lst, rad_lst, rad_lst_gaia, logg_lst)\n",
    "\n",
    "#Delete nans from masses\n",
    "\n",
    "mass_lst = np.delete(mass_lst, nan_i)\n",
    "masserr1_lst = np.delete(masserr1_lst, nan_i)\n",
    "masserr2_lst = np.delete(masserr2_lst, nan_i)\n",
    "\n",
    "#Delete nans from Kepler radii\n",
    "rad_lst = np.delete(rad_lst, nan_i)\n",
    "raderr1_lst = np.delete(raderr1_lst, nan_i)\n",
    "raderr2_lst = np.delete(raderr2_lst, nan_i)\n",
    "\n",
    "#Delete from Gaia radii\n",
    "rad_lst_gaia = np.delete(rad_lst_gaia, nan_i)\n",
    "raderr1_lst_gaia = np.delete(raderr1_lst_gaia, nan_i)\n",
    "raderr2_lst_gaia = np.delete(raderr2_lst_gaia, nan_i)\n",
    "\n",
    "#Delete from KepID\n",
    "kepID_lst = np.delete(kepID_lst, nan_i)\n",
    "\n",
    "#Delete from log(g)\n",
    "logg_lst = np.delete(logg_lst, nan_i)"
   ]
  },
  {
   "cell_type": "code",
   "execution_count": 53,
   "metadata": {},
   "outputs": [],
   "source": [
    "#plt.errorbar(rad_lst_a, rad_lst_gaia, )\n",
    "#plt.xlabel('Kepler radii')\n",
    "#plt.xlabel('Gaia radii')"
   ]
  },
  {
   "cell_type": "markdown",
   "metadata": {},
   "source": [
    "## Define solar density"
   ]
  },
  {
   "cell_type": "code",
   "execution_count": 54,
   "metadata": {},
   "outputs": [
    {
     "data": {
      "text/plain": [
       "1406.3134952270054"
      ]
     },
     "execution_count": 54,
     "metadata": {},
     "output_type": "execute_result"
    }
   ],
   "source": [
    "#Define Solar density for 1 Msol and 1 Rsol in kg/m3\n",
    "sol_density = ((1.*1.989e30)/((4./3.)*np.pi*1.**3*696.34e6**3))\n",
    "sol_density"
   ]
  },
  {
   "cell_type": "markdown",
   "metadata": {},
   "source": [
    "# Find density distributions"
   ]
  },
  {
   "cell_type": "markdown",
   "metadata": {},
   "source": [
    "Asymmetric Gaussian (?): https://stackoverflow.com/questions/53016469/python-pulling-from-a-normal-distribution-with-asymmetric-error-bars"
   ]
  },
  {
   "cell_type": "code",
   "execution_count": 55,
   "metadata": {},
   "outputs": [],
   "source": [
    "#ntargs = len(mass_lst)\n",
    "ntargs = len(mass_lst)//100"
   ]
  },
  {
   "cell_type": "code",
   "execution_count": 56,
   "metadata": {},
   "outputs": [
    {
     "data": {
      "text/plain": [
       "1787"
      ]
     },
     "execution_count": 56,
     "metadata": {},
     "output_type": "execute_result"
    }
   ],
   "source": [
    "ntargs"
   ]
  },
  {
   "cell_type": "code",
   "execution_count": 57,
   "metadata": {},
   "outputs": [
    {
     "data": {
      "text/plain": [
       "0"
      ]
     },
     "execution_count": 57,
     "metadata": {},
     "output_type": "execute_result"
    }
   ],
   "source": [
    "len(mass_dwarf)"
   ]
  },
  {
   "cell_type": "code",
   "execution_count": 58,
   "metadata": {},
   "outputs": [],
   "source": [
    "def find_density_dist_symmetric(ntargs, masses, masserr1, masserr2, radii, raderr1, raderr2):\n",
    "    \n",
    "    rho_dist = np.zeros((ntargs, 1000))\n",
    "    mass_dist = np.zeros((ntargs, 1000))\n",
    "    rad_dist = np.zeros((ntargs, 1000))\n",
    "\n",
    "    #star: indexing star\n",
    "    #point: indexing PDF point for star\n",
    "    for star in tqdm(range(ntargs)):\n",
    "        \n",
    "        rho_temp = np.zeros(1200)\n",
    "        mass_temp = np.zeros(1200)\n",
    "        rad_temp = np.zeros(1200)\n",
    "        \n",
    "        #####\n",
    "        mass_temp = np.random.normal(masses[star], np.mean((abs(masserr2[star]), abs(masserr1[star]))), 1200)\n",
    "        #len 1200\n",
    "        rad_temp = np.random.normal(radii[star], np.mean((abs(raderr2[star]), abs(raderr1[star]))), 1200)\n",
    "        #len 1200\n",
    "        #####\n",
    "        \n",
    "        #for j from 0 to 1200\n",
    "        #for each point in individual star PDF\n",
    "        #Adding each density point to rho_temp (specific to this star)\n",
    "        for point in range(len(mass_temp)):\n",
    "            #if mass_dist[point] >= 0. and rad_dist[point] >= 0:\n",
    "            if True:\n",
    "                rho_temp[point] = density(mass_temp[point], rad_temp[point], sol_density)\n",
    "                \n",
    "        #Now rho_temp is a n-long array with this star. We want it to be 1000-long exactly\n",
    "                                 \n",
    "        while len(rho_temp) > 1000:\n",
    "            temp_ind = np.random.randint(0, len(rho_temp)-1)\n",
    "            rho_temp = np.delete(rho_temp, temp_ind)\n",
    "            mass_temp = np.delete(mass_temp, temp_ind)\n",
    "            rad_temp = np.delete(rad_temp, temp_ind)\n",
    "        else:\n",
    "            rho_dist[star] = rho_temp\n",
    "            mass_dist[star] = mass_temp\n",
    "            rad_dist[star] = rad_temp\n",
    "    \n",
    "    return rho_dist, mass_dist, rad_dist\n",
    "    "
   ]
  },
  {
   "cell_type": "code",
   "execution_count": 59,
   "metadata": {},
   "outputs": [],
   "source": [
    "mass_dwarf = []\n",
    "masserr1_dwarf = []\n",
    "masserr2_dwarf = []\n",
    "rad_dwarf = []\n",
    "raderr1_dwarf = []\n",
    "raderr2_dwarf = []\n",
    "logg_dwarf = []\n",
    "\n",
    "for star in range(ntargs):\n",
    "    if logg_lst[star] > 4.3:\n",
    "        #print(mass_lst[star])\n",
    "        #print(logg_lst[star])\n",
    "        mass_dwarf.append(mass_lst[star])\n",
    "        masserr1_dwarf.append(masserr1_lst[star])\n",
    "        masserr2_dwarf.append(masserr2_lst[star])\n",
    "        rad_dwarf.append(rad_lst[star])\n",
    "        raderr1_dwarf.append(raderr1_lst[star])\n",
    "        raderr2_dwarf.append(raderr2_lst[star])\n",
    "        logg_dwarf.append(logg_lst[star])"
   ]
  },
  {
   "cell_type": "code",
   "execution_count": 60,
   "metadata": {},
   "outputs": [],
   "source": [
    "ntargs = len(mass_dwarf)"
   ]
  },
  {
   "cell_type": "code",
   "execution_count": 61,
   "metadata": {},
   "outputs": [],
   "source": [
    "ntargs = 2"
   ]
  },
  {
   "cell_type": "code",
   "execution_count": 62,
   "metadata": {},
   "outputs": [],
   "source": [
    "def find_density_dist_asymmetric(ntargs, masses, masserr1, masserr2, radii, raderr1, raderr2, logg):\n",
    "    \n",
    "    rho_dist = np.zeros((ntargs, 1000))\n",
    "    mass_dist = np.zeros((ntargs, 1000))\n",
    "    rad_dist = np.zeros((ntargs, 1000))\n",
    "\n",
    "    #star: indexing star\n",
    "    #point: indexing PDF point for star\n",
    "    for star in tqdm(range(ntargs)):\n",
    "        \n",
    "        rho_temp = np.zeros(1200)\n",
    "        mass_temp = np.zeros(1200)\n",
    "        rad_temp = np.zeros(1200)\n",
    "\n",
    "        #####\n",
    "        mass_temp = asymmetric_gaussian(masses[star], masserr2[star], masserr1[star])\n",
    "        #len 1200\n",
    "        rad_temp = asymmetric_gaussian(radii[star], raderr2[star], raderr1[star])\n",
    "        #len 1200\n",
    "        #####\n",
    "\n",
    "        #for j from 0 to 1200\n",
    "        #for each point in individual star PDF\n",
    "        #Adding each density point to rho_temp (specific to this star)\n",
    "        for point in range(len(mass_temp)-1):\n",
    "            #if (mass_temp[point] >= 0. and rad_temp[point] >= 0):\n",
    "            if True:\n",
    "                rho_temp[point] = density(mass_temp[point], rad_temp[point], sol_density)\n",
    "\n",
    "        #Now rho_temp is a n-long array with this star. We want it to be 1000-long exactly\n",
    "\n",
    "        while len(rho_temp) > 1000:\n",
    "            temp_ind = np.random.randint(0, len(rho_temp)-1)\n",
    "            rho_temp = np.delete(rho_temp, temp_ind)\n",
    "            mass_temp = np.delete(mass_temp, temp_ind)\n",
    "            rad_temp = np.delete(rad_temp, temp_ind)\n",
    "        else:\n",
    "            rho_dist[star] = rho_temp\n",
    "            mass_dist[star] = mass_temp\n",
    "            rad_dist[star] = rad_temp\n",
    "            \n",
    "    \n",
    "    return rho_dist, mass_dist, rad_dist"
   ]
  },
  {
   "cell_type": "code",
   "execution_count": 63,
   "metadata": {},
   "outputs": [],
   "source": [
    "def asymmetric_gaussian(mean, sigma_minus, sigma_plus):\n",
    "    \n",
    "    left = np.random.normal(mean, abs(sigma_minus), 1300)\n",
    "    right = np.random.normal(mean, abs(sigma_plus), 1300)\n",
    "    dist_left = left[left<mean]\n",
    "    dist_right = right[right>=mean]\n",
    "    dist = np.concatenate((dist_right, dist_left), axis=None)\n",
    "    \n",
    "    np.random.shuffle(dist)\n",
    "    \n",
    "    while len(dist) > 1200:\n",
    "        dist = np.delete(dist, [np.random.randint(0, len(dist)-1)])\n",
    "    else:\n",
    "        return dist"
   ]
  },
  {
   "cell_type": "code",
   "execution_count": 64,
   "metadata": {},
   "outputs": [],
   "source": [
    "def density(mass, radius, sol_density):\n",
    "    \"\"\"Mass in solar density\n",
    "    Radius in solar density\n",
    "    sol_density in kg/m^3\"\"\"\n",
    "\n",
    "    return ((mass*1.989e30)/((4./3.)*np.pi*radius**3*696.34e6**3))/sol_density"
   ]
  },
  {
   "cell_type": "code",
   "execution_count": 66,
   "metadata": {
    "scrolled": true
   },
   "outputs": [
    {
     "name": "stderr",
     "output_type": "stream",
     "text": [
      "100%|██████████| 2/2 [00:00<00:00, 26.43it/s]\n"
     ]
    }
   ],
   "source": [
    "rho, mass, radius = find_density_dist_asymmetric(ntargs, mass_dwarf, masserr1_dwarf, masserr2_dwarf, rad_dwarf, raderr1_dwarf, raderr2_dwarf, logg_dwarf)"
   ]
  },
  {
   "cell_type": "code",
   "execution_count": 73,
   "metadata": {},
   "outputs": [
    {
     "data": {
      "text/plain": [
       "array([1.58674697, 1.65650106, 1.42556534, 1.55976203, 1.73400479,\n",
       "       1.43011507, 0.96932331, 1.00672022, 1.70788458, 1.41501436,\n",
       "       1.32027012, 1.36882302, 1.16772714, 1.15384658, 1.81734642,\n",
       "       1.13746247, 1.42012752, 1.69165438, 1.50632342, 1.25818739,\n",
       "       1.62343452, 1.1467028 , 1.46434098, 1.70146494, 1.60220034,\n",
       "       1.21079666, 1.72067006, 1.28302372, 1.62694801, 1.21586037,\n",
       "       0.97694131, 1.88124233, 1.73097442, 2.15083474, 1.41348104,\n",
       "       1.54177731, 1.37235606, 1.7773841 , 1.16075875, 1.2823293 ,\n",
       "       1.51883784, 1.80858701, 1.55674   , 1.5834758 , 2.08883202,\n",
       "       1.377229  , 1.90623413, 1.57135765, 1.43692352, 1.71825276,\n",
       "       1.60603308, 1.26652681, 1.31598205, 1.24325474, 1.09671402,\n",
       "       1.31580323, 1.48071502, 1.33642917, 1.72225716, 0.83480888,\n",
       "       1.22549448, 1.54327803, 1.28275604, 1.54304616, 1.03289451,\n",
       "       1.79430829, 1.57938846, 1.52249202, 1.32845078, 1.05883702,\n",
       "       1.37853225, 1.66006393, 1.24276292, 1.91742238, 1.52835241,\n",
       "       0.99961829, 1.37953833, 1.6351438 , 1.44960808, 1.32713062,\n",
       "       2.20115118, 1.50681573, 1.1341041 , 1.25031506, 1.83820921,\n",
       "       1.64356816, 1.23389405, 1.16362239, 1.5454366 , 1.38362989,\n",
       "       1.41019436, 1.43464916, 1.18641521, 1.15122166, 1.18246014,\n",
       "       1.25425177, 1.47074901, 1.54567723, 1.02767283, 1.27552712,\n",
       "       1.47362166, 1.38147205, 0.93047688, 1.10293585, 1.19538384,\n",
       "       1.37546535, 1.41443295, 1.48547381, 1.91008871, 1.30814231,\n",
       "       0.97619122, 1.41122602, 1.53595416, 1.12258489, 1.98868463,\n",
       "       1.2072347 , 1.32121769, 1.00467707, 1.57427141, 1.42256949,\n",
       "       1.13382618, 1.49135538, 1.45627808, 0.86807451, 1.6646943 ,\n",
       "       1.30451163, 2.18538009, 1.64011816, 1.36413212, 1.26590609,\n",
       "       1.65310045, 2.0449781 , 1.36530227, 1.43592674, 1.38684295,\n",
       "       1.43472928, 1.27391054, 1.87516723, 2.32022475, 1.84517819,\n",
       "       1.33584388, 1.4248779 , 1.60035897, 1.79333635, 1.72304086,\n",
       "       1.13253413, 1.15365994, 1.5322601 , 1.56436935, 1.45733972,\n",
       "       1.394141  , 1.69153003, 1.23718884, 1.16573162, 1.14058556,\n",
       "       1.76477861, 1.35782613, 1.7237929 , 1.48204454, 1.4075816 ,\n",
       "       1.63751455, 0.89790979, 1.41082723, 1.64298959, 1.60465532,\n",
       "       1.43639867, 1.4677614 , 1.24920202, 1.41177849, 1.53054423,\n",
       "       1.4380236 , 1.26963124, 1.2652335 , 1.54340915, 1.41460046,\n",
       "       1.65202731, 1.17406319, 1.25944758, 1.50459367, 1.81664944,\n",
       "       1.76917848, 1.31571484, 1.84265197, 1.37372026, 1.30165505,\n",
       "       2.20198418, 1.54727179, 1.54356779, 1.47725034, 1.13843807,\n",
       "       1.62216977, 1.30005073, 1.62861926, 0.96385004, 1.57768704,\n",
       "       1.62809736, 1.39148051, 1.53699252, 1.52009977, 1.38106004,\n",
       "       1.54417606, 1.60948982, 1.35681153, 1.83500486, 1.7400855 ,\n",
       "       1.50483663, 1.40865287, 2.0885587 , 1.85952826, 1.48893015,\n",
       "       1.20547137, 1.81197877, 1.17326431, 1.88556349, 1.6114513 ,\n",
       "       1.33092462, 1.23326451, 1.26938859, 1.6504596 , 1.26465206,\n",
       "       1.13542453, 1.18339767, 1.44247529, 1.610042  , 1.23727348,\n",
       "       1.13955054, 1.53754452, 1.16802958, 1.40289781, 1.18763493,\n",
       "       1.52712126, 1.48285128, 1.13064632, 1.43431727, 1.34769081,\n",
       "       1.04905633, 1.62349607, 1.41265404, 1.38894354, 1.4280881 ,\n",
       "       1.69162162, 1.33180006, 1.87568914, 1.17583825, 1.18883564,\n",
       "       1.59508033, 1.49558714, 1.2920896 , 1.84406309, 1.46956244,\n",
       "       1.17803087, 1.44406467, 1.47188175, 1.11583664, 1.4613698 ,\n",
       "       2.08500623, 1.71381203, 1.44055109, 1.33943675, 1.10732657,\n",
       "       1.52297765, 1.65434888, 1.74023107, 1.09725456, 1.31101892,\n",
       "       1.40626952, 1.51739068, 1.37609883, 1.33852855, 0.93164671,\n",
       "       1.03137281, 1.27734033, 1.1819586 , 0.98867198, 1.03859123,\n",
       "       1.26358981, 1.06056005, 1.30012539, 1.49225979, 1.2349496 ,\n",
       "       1.62294827, 1.14207683, 1.74099318, 1.29421769, 1.6037889 ,\n",
       "       1.2275968 , 1.77742703, 1.19113259, 1.60685446, 1.40173101,\n",
       "       1.42005966, 1.21520786, 1.42934222, 1.15847372, 1.39733023,\n",
       "       1.81120026, 1.35546056, 1.37066089, 1.51311021, 1.38803478,\n",
       "       1.13236942, 1.34631952, 1.43184015, 1.44360033, 1.21825969,\n",
       "       1.19783792, 1.00132246, 1.35420627, 1.23526691, 0.92926687,\n",
       "       1.12926721, 1.37204901, 1.72568559, 1.07065813, 1.29806456,\n",
       "       1.25011575, 1.27095813, 1.50424794, 1.57692339, 1.27015618,\n",
       "       1.0811953 , 1.3425751 , 1.33009108, 1.37228026, 1.24845319,\n",
       "       1.3552822 , 1.11681472, 1.17779274, 1.35132861, 1.4086939 ,\n",
       "       1.59696452, 1.55674146, 1.24766785, 1.12081814, 1.16580775,\n",
       "       1.66520655, 1.43720523, 1.32496668, 1.48089921, 1.24951357,\n",
       "       1.27047072, 1.18359398, 1.37667436, 1.41451313, 1.29717254,\n",
       "       1.12798568, 1.10912122, 1.36522662, 1.88395295, 1.34016552,\n",
       "       1.53835126, 1.26226929, 1.12057299, 1.2973083 , 2.23829419,\n",
       "       1.54999153, 0.9553329 , 1.28503667, 1.33937869, 1.90665543,\n",
       "       1.45508856, 1.76196335, 2.05511861, 1.251712  , 1.26313993,\n",
       "       1.91222954, 1.09744217, 1.57046623, 1.29631046, 1.73625214,\n",
       "       1.40298218, 1.28516236, 1.36691258, 1.34112881, 1.25308217,\n",
       "       1.46957457, 1.52031894, 1.31285908, 1.5312416 , 1.16993277,\n",
       "       1.25021505, 0.90130673, 1.6868779 , 1.36328851, 1.34178461,\n",
       "       1.31054053, 1.47056332, 1.466382  , 1.46887701, 1.58545581,\n",
       "       1.20369003, 1.20074546, 1.67206669, 1.4765593 , 1.00970869,\n",
       "       1.26940592, 1.31000896, 1.14858922, 1.95423689, 1.18881235,\n",
       "       1.70995134, 1.14524936, 1.21969982, 0.9122944 , 1.39488954,\n",
       "       1.16218105, 1.19752962, 1.23639512, 1.3856926 , 1.4680904 ,\n",
       "       1.16201587, 1.29998053, 1.21923799, 1.37964426, 1.35185536,\n",
       "       1.61429175, 1.39167838, 0.98128272, 1.11555756, 1.16093265,\n",
       "       1.26962529, 1.04131699, 1.0540496 , 1.31112085, 2.55405261,\n",
       "       1.48315712, 1.81424256, 1.19029858, 1.53508722, 1.32970733,\n",
       "       1.04287273, 1.38148453, 1.4470106 , 0.9431003 , 2.03021727,\n",
       "       1.1935924 , 1.34905134, 1.3345877 , 1.73054258, 1.43048771,\n",
       "       1.00691327, 1.56456721, 1.04374972, 0.91464576, 1.22224186,\n",
       "       1.38698181, 1.45874499, 1.52511399, 1.53103034, 1.27762983,\n",
       "       1.75606764, 1.30001896, 1.47083658, 1.3153456 , 1.22765836,\n",
       "       1.06293303, 1.53237499, 1.1593415 , 1.25422877, 1.71279171,\n",
       "       1.20531894, 1.05730997, 1.40805109, 1.00212268, 1.71486083,\n",
       "       1.23683022, 1.41045564, 1.39521172, 1.55862715, 1.25335163,\n",
       "       0.90265736, 1.3330348 , 1.48187397, 1.24221182, 1.25710798,\n",
       "       1.42490315, 1.65187983, 1.52379693, 1.59638954, 2.07331332,\n",
       "       1.88366605, 1.11071603, 1.6617447 , 1.39800568, 2.06370971,\n",
       "       1.54732223, 0.96779262, 1.31953474, 1.16041929, 1.49670651,\n",
       "       1.76033645, 1.48965882, 1.00544775, 1.05400321, 1.19369743,\n",
       "       1.67505463, 1.35612974, 1.14195204, 1.85603823, 1.64461942,\n",
       "       1.28748753, 1.52257911, 1.18596802, 1.82758826, 1.47417121,\n",
       "       1.07809679, 1.33862226, 1.60374005, 1.47268305, 1.05143053,\n",
       "       1.67430304, 1.75282413, 1.77664714, 1.2428772 , 1.38481395,\n",
       "       1.38497863, 1.25986515, 1.52702089, 0.90876192, 1.59789557,\n",
       "       1.31037417, 1.37914601, 1.58144825, 1.2302538 , 1.46393157,\n",
       "       1.27286286, 1.3733297 , 1.48216983, 1.36588697, 1.64335744,\n",
       "       1.75152251, 1.21185161, 1.21220579, 1.38967085, 1.47550034,\n",
       "       1.41513817, 1.14381351, 1.3008914 , 1.52736292, 1.73855346,\n",
       "       0.8534403 , 1.12250851, 1.25159893, 1.87705587, 1.72758537,\n",
       "       1.26239843, 1.28083449, 1.99317559, 1.39694133, 1.55943579,\n",
       "       1.2913096 , 1.93234314, 1.7356847 , 1.6826739 , 1.6477651 ,\n",
       "       1.46319926, 1.40706815, 1.1475605 , 1.12913508, 1.54579794,\n",
       "       0.95198106, 0.93849613, 1.47293206, 1.53562611, 1.51370691,\n",
       "       1.35798818, 1.69585423, 1.93390724, 1.21867656, 1.35558182,\n",
       "       2.12480754, 1.23089047, 1.38825178, 1.18727385, 1.99312869,\n",
       "       1.32519465, 1.88105344, 1.54587026, 1.24179856, 1.62129254,\n",
       "       1.30455595, 1.1128896 , 1.03259773, 1.3676903 , 1.02851674,\n",
       "       1.92885315, 1.53264495, 1.04682052, 1.53601024, 1.03216748,\n",
       "       1.10993119, 1.28975847, 1.13856112, 1.16338561, 1.97599093,\n",
       "       2.05659073, 1.62135221, 1.27729821, 1.83577987, 1.50439614,\n",
       "       1.61706637, 1.72531431, 1.28110143, 1.42841532, 1.18431833,\n",
       "       0.99139862, 1.35805965, 1.44906736, 1.75312324, 1.39204857,\n",
       "       1.74453673, 1.94548555, 1.29388275, 1.37992339, 1.53479214,\n",
       "       2.05912929, 1.44837044, 1.354629  , 1.24648815, 1.28467071,\n",
       "       1.42981197, 1.39746483, 1.25906722, 1.18822659, 1.13562246,\n",
       "       2.10275716, 1.94082491, 1.49278825, 1.19482976, 1.50179543,\n",
       "       1.55311212, 1.39088284, 1.72456376, 1.5988902 , 1.48712552,\n",
       "       1.47362294, 1.22906358, 1.72968544, 1.24297759, 1.24505242,\n",
       "       1.52608151, 1.12173029, 1.40585714, 1.29670318, 1.67302815,\n",
       "       1.30309335, 1.71476872, 1.46990597, 2.2650706 , 1.41837827,\n",
       "       1.15510452, 1.50550157, 1.48975213, 1.14998302, 1.42832398,\n",
       "       1.46146707, 1.14944276, 1.71057013, 1.46604046, 1.1071213 ,\n",
       "       1.05407253, 1.15479183, 1.36869546, 1.28940678, 1.11098434,\n",
       "       1.30771099, 1.43213044, 1.22254035, 1.12625225, 1.32777435,\n",
       "       1.42484146, 1.287492  , 1.30290746, 1.44790583, 1.12596611,\n",
       "       1.44896863, 0.93144909, 1.68499499, 1.44537809, 1.48302194,\n",
       "       1.40012449, 0.90315674, 1.65688295, 1.21402973, 1.14610195,\n",
       "       1.27654741, 2.01791445, 1.82610998, 2.12610539, 1.30901255,\n",
       "       1.89360304, 1.64130987, 1.2987943 , 1.45498582, 1.22778191,\n",
       "       1.71322489, 1.28578697, 1.30885563, 1.43081025, 2.08307416,\n",
       "       1.29378051, 1.50889454, 1.46536446, 1.21233495, 1.22542097,\n",
       "       1.43794525, 1.37201784, 1.50167761, 1.14600623, 1.14417976,\n",
       "       1.67592708, 1.6567124 , 1.55539339, 1.40461492, 1.828264  ,\n",
       "       1.7493911 , 1.31542776, 1.21736402, 1.31586898, 1.31438261,\n",
       "       1.19371716, 1.52799275, 1.75095411, 1.26040434, 1.46415624,\n",
       "       1.7632599 , 1.15390653, 1.62302695, 1.62028776, 1.09865974,\n",
       "       1.57623832, 1.29921744, 1.56264932, 1.28891358, 1.88610855,\n",
       "       1.30499374, 1.49526837, 1.63987903, 1.87775001, 1.70070441,\n",
       "       1.43405023, 1.48846992, 1.04718829, 1.24290245, 1.7539794 ,\n",
       "       1.61293588, 1.45136148, 1.70311115, 1.60587837, 1.36988103,\n",
       "       1.36523263, 1.37790497, 1.8250926 , 1.51284712, 1.93737143,\n",
       "       1.25572452, 1.16372387, 1.53350992, 1.02951   , 1.30971896,\n",
       "       1.81760959, 1.31871189, 1.30562574, 1.49007016, 1.24905202,\n",
       "       1.54237153, 1.35030869, 1.52630723, 1.56537695, 1.49749932,\n",
       "       1.46541245, 1.09643732, 1.27964174, 1.3835361 , 1.66803799,\n",
       "       1.78959483, 0.97225133, 1.09314947, 1.71471321, 1.30588871,\n",
       "       1.04982586, 2.06560663, 2.19321087, 1.43243566, 1.00876854,\n",
       "       1.16966449, 1.07793932, 1.76619703, 1.45543925, 1.36059895,\n",
       "       1.56073208, 1.32319896, 1.70971266, 1.59706755, 1.44628952,\n",
       "       1.4591688 , 1.41938734, 1.45295572, 1.76878001, 1.37722398,\n",
       "       1.07641601, 1.47063981, 1.19506601, 1.20935706, 1.52292152,\n",
       "       1.49623144, 1.3212378 , 1.15650318, 1.30854058, 2.06222864,\n",
       "       1.36394917, 1.29270359, 1.45188951, 1.08161496, 1.351055  ,\n",
       "       1.64453578, 1.60672384, 1.24171872, 1.69657404, 1.10843733,\n",
       "       0.96311557, 1.08657965, 1.32729766, 1.36857651, 1.1834011 ,\n",
       "       1.23301655, 1.19216381, 1.6109967 , 0.9860291 , 1.01952739,\n",
       "       1.71025881, 1.39595523, 0.99492136, 1.41300394, 1.20285613,\n",
       "       1.79556535, 1.12665215, 1.68966086, 1.36669389, 1.16363738,\n",
       "       1.44713201, 1.04140148, 1.25495661, 1.61285121, 1.72606734,\n",
       "       1.40106979, 1.285496  , 1.35092172, 1.36980089, 1.60469894,\n",
       "       1.50779204, 1.74153009, 1.478016  , 1.24310213, 1.18245681,\n",
       "       1.81701163, 1.3024179 , 1.77520107, 1.14814261, 1.75479313,\n",
       "       1.51070197, 1.38525541, 1.25751695, 1.43642565, 1.44099309,\n",
       "       1.70627514, 1.20373734, 1.27979372, 1.76794955, 1.80149615,\n",
       "       1.08169318, 1.43914454, 1.19796191, 2.09179644, 1.43239087,\n",
       "       1.17950198, 1.24072078, 1.42411675, 1.11484674, 1.71849801,\n",
       "       1.28172998, 1.17911473, 1.86421523, 1.36135371, 1.50963788,\n",
       "       1.3257061 , 1.83705496, 1.24129817, 1.46414054, 1.28606543,\n",
       "       1.48954564, 1.61371807, 1.88075398, 1.476953  , 1.35130122,\n",
       "       1.50998579, 1.84991856, 1.33616437, 1.41645675, 1.61902949,\n",
       "       1.46361693, 1.31770961, 1.17048953, 1.06891511, 1.83394682,\n",
       "       1.35783333, 1.1261329 , 1.34666647, 1.47433457, 0.97246711,\n",
       "       1.51628891, 1.08622817, 1.32785436, 2.00398795, 1.09630188,\n",
       "       1.64295024, 1.25525438, 1.26759073, 1.27693082, 1.09288262,\n",
       "       1.36225013, 1.5811758 , 1.3511286 , 1.56140699, 1.07286022,\n",
       "       1.32001167, 1.20857624, 1.17872124, 1.28891847, 1.24441263,\n",
       "       1.30070938, 1.64954519, 1.21460665, 1.36969841, 1.13701491,\n",
       "       1.68332917, 1.22624125, 1.61289689, 1.46373068, 1.15206326,\n",
       "       1.38906267, 1.72008221, 1.27306218, 1.59090126, 1.91912269,\n",
       "       1.25322814, 1.24722132, 0.95603045, 1.35713258, 1.38602539,\n",
       "       1.10974181, 1.1632431 , 1.86099465, 1.92702124, 1.2537083 ,\n",
       "       1.62977586, 1.3650589 , 1.68776459, 1.24337565, 1.09883631,\n",
       "       1.16643209, 1.27423446, 1.60995729, 1.57439449, 1.11222776,\n",
       "       1.87436533, 1.61632848, 1.42911583, 1.11458495, 1.34426202,\n",
       "       1.50693447, 1.10593532, 1.10248845, 1.38154226, 1.15323081,\n",
       "       1.35191652, 1.71436532, 1.67516407, 1.30389719, 1.1664759 ,\n",
       "       1.77185601, 1.62944682, 1.3889208 , 1.15201306, 1.07634611,\n",
       "       1.22340331, 2.0946535 , 1.19481271, 1.64101133, 1.44799238,\n",
       "       1.76411171, 1.44237774, 1.00758139, 1.14053426, 1.22961697,\n",
       "       1.72225001, 1.44325182, 1.2541631 , 1.83044257, 0.        ])"
      ]
     },
     "execution_count": 73,
     "metadata": {},
     "output_type": "execute_result"
    }
   ],
   "source": [
    "rho[0]"
   ]
  },
  {
   "cell_type": "code",
   "execution_count": 68,
   "metadata": {},
   "outputs": [
    {
     "ename": "IndexError",
     "evalue": "index 4 is out of bounds for axis 0 with size 2",
     "output_type": "error",
     "traceback": [
      "\u001b[0;31m---------------------------------------------------------------------------\u001b[0m",
      "\u001b[0;31mIndexError\u001b[0m                                Traceback (most recent call last)",
      "\u001b[0;32m<ipython-input-68-64759bd577b3>\u001b[0m in \u001b[0;36m<module>\u001b[0;34m\u001b[0m\n\u001b[0;32m----> 1\u001b[0;31m \u001b[0mplt\u001b[0m\u001b[0;34m.\u001b[0m\u001b[0mscatter\u001b[0m\u001b[0;34m(\u001b[0m\u001b[0mmass\u001b[0m\u001b[0;34m[\u001b[0m\u001b[0;36m4\u001b[0m\u001b[0;34m]\u001b[0m\u001b[0;34m,\u001b[0m \u001b[0mradius\u001b[0m\u001b[0;34m[\u001b[0m\u001b[0;36m4\u001b[0m\u001b[0;34m]\u001b[0m\u001b[0;34m)\u001b[0m\u001b[0;34m\u001b[0m\u001b[0;34m\u001b[0m\u001b[0m\n\u001b[0m",
      "\u001b[0;31mIndexError\u001b[0m: index 4 is out of bounds for axis 0 with size 2"
     ]
    }
   ],
   "source": [
    "plt.scatter(mass[4], radius[4])"
   ]
  },
  {
   "cell_type": "code",
   "execution_count": 92,
   "metadata": {},
   "outputs": [],
   "source": [
    "np.savetxt(\"rho_neg_vals_included_asymmetric_logg43_1787stars.csv\", rho, delimiter=\",\")"
   ]
  },
  {
   "cell_type": "code",
   "execution_count": 93,
   "metadata": {},
   "outputs": [],
   "source": [
    "np.savetxt(\"mass_neg_vals_included_asymmetric_logg43_1787stars.csv\", mass, delimiter=\",\")"
   ]
  },
  {
   "cell_type": "code",
   "execution_count": 94,
   "metadata": {},
   "outputs": [],
   "source": [
    "np.savetxt(\"rad_neg_vals_included_asymmetric_logg43_1787stars.csv\", radius, delimiter=\",\")"
   ]
  },
  {
   "cell_type": "code",
   "execution_count": 95,
   "metadata": {},
   "outputs": [
    {
     "name": "stdout",
     "output_type": "stream",
     "text": [
      "178751\n"
     ]
    }
   ],
   "source": [
    "print(len(kepID_lst))"
   ]
  },
  {
   "cell_type": "markdown",
   "metadata": {},
   "source": [
    "## Save KIC with same indices as star density distributions."
   ]
  },
  {
   "cell_type": "code",
   "execution_count": 74,
   "metadata": {},
   "outputs": [],
   "source": [
    "kepID_lst = kepID_lst[0:1786]"
   ]
  },
  {
   "cell_type": "code",
   "execution_count": 76,
   "metadata": {},
   "outputs": [],
   "source": [
    "kepID_lst = kepID_lst.reshape(1786,1)"
   ]
  },
  {
   "cell_type": "code",
   "execution_count": 77,
   "metadata": {},
   "outputs": [],
   "source": [
    "np.savetxt(\"kepID_neg_vals_included_asymmetric_1787stars.csv\", kepID_lst, delimiter=\",\")"
   ]
  },
  {
   "cell_type": "code",
   "execution_count": null,
   "metadata": {},
   "outputs": [],
   "source": []
  },
  {
   "cell_type": "code",
   "execution_count": null,
   "metadata": {},
   "outputs": [],
   "source": []
  },
  {
   "cell_type": "code",
   "execution_count": null,
   "metadata": {},
   "outputs": [],
   "source": []
  },
  {
   "cell_type": "code",
   "execution_count": null,
   "metadata": {},
   "outputs": [],
   "source": []
  },
  {
   "cell_type": "code",
   "execution_count": null,
   "metadata": {},
   "outputs": [],
   "source": []
  },
  {
   "cell_type": "code",
   "execution_count": null,
   "metadata": {},
   "outputs": [],
   "source": []
  }
 ],
 "metadata": {
  "kernelspec": {
   "display_name": "Python 3",
   "language": "python",
   "name": "python3"
  },
  "language_info": {
   "codemirror_mode": {
    "name": "ipython",
    "version": 3
   },
   "file_extension": ".py",
   "mimetype": "text/x-python",
   "name": "python",
   "nbconvert_exporter": "python",
   "pygments_lexer": "ipython3",
   "version": "3.7.6"
  }
 },
 "nbformat": 4,
 "nbformat_minor": 4
}
