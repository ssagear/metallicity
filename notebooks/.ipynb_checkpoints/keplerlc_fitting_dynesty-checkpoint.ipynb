{
 "cells": [
  {
   "cell_type": "markdown",
   "metadata": {},
   "source": [
    "# fitting real Kepler light curves"
   ]
  },
  {
   "cell_type": "code",
   "execution_count": 1,
   "metadata": {},
   "outputs": [],
   "source": [
    "import numpy as np\n",
    "import matplotlib.pyplot as plt\n",
    "import pandas as pd\n",
    "from tqdm import tqdm\n",
    "from astropy.table import Table\n",
    "import astropy.units as u\n",
    "import scipy\n",
    "from scipy import signal\n",
    "\n",
    "\n",
    "from astropy.io import fits\n",
    "\n",
    "# Using astropy BLS and scipy curve_fit to fit transit\n",
    "from astropy.timeseries import BoxLeastSquares\n",
    "from scipy.optimize import curve_fit\n",
    "\n",
    "import scipy.optimize as opt\n",
    "\n",
    "# Using emcee & corner to find and plot (e, w) distribution\n",
    "import emcee\n",
    "import corner\n",
    "\n",
    "# And importing `photoeccentric`\n",
    "import photoeccentric as ph\n",
    "\n",
    "# Random stuff\n",
    "import scipy.constants as c\n",
    "import os\n",
    "\n",
    "%load_ext autoreload\n",
    "%autoreload 2\n",
    "\n",
    "%matplotlib inline\n",
    "\n",
    "plt.rcParams['figure.figsize'] = [12, 8]"
   ]
  },
  {
   "cell_type": "code",
   "execution_count": 2,
   "metadata": {},
   "outputs": [],
   "source": [
    "nwalk = 64\n",
    "nsteps_d = 1500\n",
    "ndiscard_d = 1000\n",
    "arrlen = (nsteps_d-ndiscard_d)*nwalk"
   ]
  },
  {
   "cell_type": "code",
   "execution_count": 3,
   "metadata": {},
   "outputs": [],
   "source": [
    "smass_kg = 1.9885e30  # Solar mass (kg)\n",
    "srad_m = 696.34e6 # Solar radius (m)"
   ]
  },
  {
   "cell_type": "markdown",
   "metadata": {},
   "source": [
    "## Reading in Sample Data"
   ]
  },
  {
   "cell_type": "code",
   "execution_count": 4,
   "metadata": {},
   "outputs": [],
   "source": [
    "spectplanets = pd.read_csv('spectplanets.csv')\n",
    "muirhead_comb = pd.read_csv('muirhead_comb.csv')\n",
    "muirhead_comb_lums = pd.read_csv('muirhead_comb_lums.csv')\n",
    "muirhead_lamost = pd.read_csv('muirhead_lamost.csv')"
   ]
  },
  {
   "cell_type": "code",
   "execution_count": 5,
   "metadata": {},
   "outputs": [],
   "source": [
    "KICs = np.sort(np.unique(np.array(muirhead_comb['KIC'])))\n",
    "KOIs = np.sort(np.unique(np.array(muirhead_comb['KOI'])))"
   ]
  },
  {
   "cell_type": "code",
   "execution_count": 45,
   "metadata": {},
   "outputs": [
    {
     "data": {
      "text/plain": [
       "array(['1078', '1085', '1141', '1146', '1201', '1393', '1397', '1408',\n",
       "       '1422', '1427', '1459', '1649', '1681', '1686', '1702', '1725A',\n",
       "       '1725B', '1843', '1867', '1868', '1879', '1880', '1902', '1907',\n",
       "       '2006', '2036', '2057', '2058', '2090', '2130', '2156', '2179',\n",
       "       '2191', '2238', '2306', '2329', '2347', '2417', '2418', '2453',\n",
       "       '247', '248', '249A', '249B', '250', '251', '252', '253', '254',\n",
       "       '2542', '255', '256', '2626', '2650', '2662', '2704', '2705',\n",
       "       '2715', '2764', '2839', '2842', '2845', '2862', '2926', '2992',\n",
       "       '3010', '3034', '3090', '3119', '314', '3140', '3144', '3263',\n",
       "       '3282', '3284', '3414', '3444', '3497', '3749', '4087', '4252',\n",
       "       '4290', '4427', '4463SE', '463', '478', '4875', '531', '571',\n",
       "       '596', '641', '739', '781', '812', '817', '818', '854', '886',\n",
       "       '898', '899', '936', '947', '952', '961', '977'], dtype=object)"
      ]
     },
     "execution_count": 45,
     "metadata": {},
     "output_type": "execute_result"
    }
   ],
   "source": [
    "KOIs"
   ]
  },
  {
   "cell_type": "code",
   "execution_count": 6,
   "metadata": {},
   "outputs": [],
   "source": [
    "strkois = [str(i) for i in KOIs]"
   ]
  },
  {
   "cell_type": "code",
   "execution_count": 7,
   "metadata": {},
   "outputs": [],
   "source": [
    "strkois = ['KOI ' + i for i in strkois]"
   ]
  },
  {
   "cell_type": "code",
   "execution_count": 8,
   "metadata": {},
   "outputs": [],
   "source": [
    "# Some of these are false positives, e.g. KOI 961\n",
    "\n",
    "# KOIs"
   ]
  },
  {
   "cell_type": "code",
   "execution_count": 9,
   "metadata": {},
   "outputs": [],
   "source": [
    "#np.savetxt('MuirheadKOIs.txt', strkois, fmt='%s')"
   ]
  },
  {
   "cell_type": "code",
   "execution_count": 532,
   "metadata": {},
   "outputs": [],
   "source": [
    "lcpath = '/Users/ssagear/Dropbox (UFL)/Research/MetallicityProject/photoeccentric/notebooks/datafiles/sample_LCs/'\n",
    "lclist = []\n",
    "\n",
    "for i in range(len(KICs)):\n",
    "    templst = []\n",
    "    for subdir, dirs, files in os.walk(lcpath):\n",
    "        for file in files:\n",
    "            if str(KICs[i]) in file:\n",
    "                templst.append(os.path.join(subdir, file))\n",
    "    lclist.append(templst)"
   ]
  },
  {
   "cell_type": "code",
   "execution_count": 543,
   "metadata": {},
   "outputs": [],
   "source": [
    "KIC1 = 9710326"
   ]
  },
  {
   "cell_type": "code",
   "execution_count": 572,
   "metadata": {},
   "outputs": [],
   "source": [
    "def get_stitched_lcs(KOI, KIC):\n",
    "    \n",
    "    files = lclist[int(np.argwhere(KICs==KIC))]\n",
    "    print(np.argwhere(KICs==KIC))\n",
    "    print(files)\n",
    "\n",
    "    files = sorted(files)\n",
    "    \n",
    "    time = []\n",
    "    flux = []\n",
    "    flux_err = []\n",
    "    hdus = []\n",
    "    \n",
    "    starttimes = []\n",
    "    stoptimes = []\n",
    "    \n",
    "    for file in files:\n",
    "        #print(file)\n",
    "        hdu = fits.open(file)\n",
    "        \n",
    "        time_p = list(hdu[1].data['TIME'] + hdu[1].header['BJDREFI'] + hdu[1].header['BJDREFF'])\n",
    "        time.append(time_p)\n",
    "        \n",
    "        flux_p = hdu[1].data['PDCSAP_FLUX']\n",
    "        flux_err_p = hdu[1].data['PDCSAP_FLUX_ERR']\n",
    "        \n",
    "        fmed = np.nanmedian(flux_p)\n",
    "\n",
    "        start = hdu[1].header['TSTART'] + hdu[1].header['BJDREFI'] + hdu[1].header['BJDREFF']\n",
    "        starttimes.append(start)\n",
    "        \n",
    "        stop = hdu[1].header['TSTOP'] + hdu[1].header['BJDREFI'] + hdu[1].header['BJDREFF']\n",
    "        stoptimes.append(stop)\n",
    "        \n",
    "        #print(hdu[1].data['TIMECORR'])\n",
    "        \n",
    "        flux.append(list(flux_p/fmed))\n",
    "        flux_err.append(list(flux_err_p/fmed))\n",
    "        \n",
    "        hdus.append(hdu)\n",
    "\n",
    "\n",
    "        #hdu.close()\n",
    "    \n",
    "    return hdus, time, flux, flux_err, starttimes, stoptimes"
   ]
  },
  {
   "cell_type": "code",
   "execution_count": 573,
   "metadata": {},
   "outputs": [
    {
     "name": "stdout",
     "output_type": "stream",
     "text": [
      "[[64]]\n",
      "['/Users/ssagear/Dropbox (UFL)/Research/MetallicityProject/photoeccentric/notebooks/datafiles/sample_LCs/kplr009710326-2013065031647_slc.fits', '/Users/ssagear/Dropbox (UFL)/Research/MetallicityProject/photoeccentric/notebooks/datafiles/sample_LCs/kplr009710326-2012151031540_slc.fits', '/Users/ssagear/Dropbox (UFL)/Research/MetallicityProject/photoeccentric/notebooks/datafiles/sample_LCs/kplr009710326-2012121044856_slc.fits', '/Users/ssagear/Dropbox (UFL)/Research/MetallicityProject/photoeccentric/notebooks/datafiles/sample_LCs/kplr009710326-2012179063303_slc.fits', '/Users/ssagear/Dropbox (UFL)/Research/MetallicityProject/photoeccentric/notebooks/datafiles/sample_LCs/kplr009710326-2012277125453_slc.fits', '/Users/ssagear/Dropbox (UFL)/Research/MetallicityProject/photoeccentric/notebooks/datafiles/sample_LCs/kplr009710326-2012242122129_slc.fits', '/Users/ssagear/Dropbox (UFL)/Research/MetallicityProject/photoeccentric/notebooks/datafiles/sample_LCs/kplr009710326-2012211050319_slc.fits', '/Users/ssagear/Dropbox (UFL)/Research/MetallicityProject/photoeccentric/notebooks/datafiles/sample_LCs/kplr009710326-2013131215648_llc.fits', '/Users/ssagear/Dropbox (UFL)/Research/MetallicityProject/photoeccentric/notebooks/datafiles/sample_LCs/kplr009710326-2013098041711_slc.fits', '/Users/ssagear/Dropbox (UFL)/Research/MetallicityProject/photoeccentric/notebooks/datafiles/sample_LCs/kplr009710326-2010078095331_llc.fits', '/Users/ssagear/Dropbox (UFL)/Research/MetallicityProject/photoeccentric/notebooks/datafiles/sample_LCs/kplr009710326-2012088054726_llc.fits', '/Users/ssagear/Dropbox (UFL)/Research/MetallicityProject/photoeccentric/notebooks/datafiles/sample_LCs/kplr009710326-2013011073258_slc.fits', '/Users/ssagear/Dropbox (UFL)/Research/MetallicityProject/photoeccentric/notebooks/datafiles/sample_LCs/kplr009710326-2012004120508_llc.fits', '/Users/ssagear/Dropbox (UFL)/Research/MetallicityProject/photoeccentric/notebooks/datafiles/sample_LCs/kplr009710326-2013017113907_slc.fits', '/Users/ssagear/Dropbox (UFL)/Research/MetallicityProject/photoeccentric/notebooks/datafiles/sample_LCs/kplr009710326-2011177032512_llc.fits', '/Users/ssagear/Dropbox (UFL)/Research/MetallicityProject/photoeccentric/notebooks/datafiles/sample_LCs/kplr009710326-2011303113607_slc.fits', '/Users/ssagear/Dropbox (UFL)/Research/MetallicityProject/photoeccentric/notebooks/datafiles/sample_LCs/kplr009710326-2013098041711_llc.fits', '/Users/ssagear/Dropbox (UFL)/Research/MetallicityProject/photoeccentric/notebooks/datafiles/sample_LCs/kplr009710326-2011271113734_llc.fits', '/Users/ssagear/Dropbox (UFL)/Research/MetallicityProject/photoeccentric/notebooks/datafiles/sample_LCs/kplr009710326-2010174085026_llc.fits', '/Users/ssagear/Dropbox (UFL)/Research/MetallicityProject/photoeccentric/notebooks/datafiles/sample_LCs/kplr009710326-2009350155506_llc.fits', '/Users/ssagear/Dropbox (UFL)/Research/MetallicityProject/photoeccentric/notebooks/datafiles/sample_LCs/kplr009710326-2012088054726_slc.fits', '/Users/ssagear/Dropbox (UFL)/Research/MetallicityProject/photoeccentric/notebooks/datafiles/sample_LCs/kplr009710326-2009166043257_llc.fits', '/Users/ssagear/Dropbox (UFL)/Research/MetallicityProject/photoeccentric/notebooks/datafiles/sample_LCs/kplr009710326-2011334093404_slc.fits', '/Users/ssagear/Dropbox (UFL)/Research/MetallicityProject/photoeccentric/notebooks/datafiles/sample_LCs/kplr009710326-2012004120508_slc.fits', '/Users/ssagear/Dropbox (UFL)/Research/MetallicityProject/photoeccentric/notebooks/datafiles/sample_LCs/kplr009710326-2012032013838_slc.fits', '/Users/ssagear/Dropbox (UFL)/Research/MetallicityProject/photoeccentric/notebooks/datafiles/sample_LCs/kplr009710326-2013011073258_llc.fits', '/Users/ssagear/Dropbox (UFL)/Research/MetallicityProject/photoeccentric/notebooks/datafiles/sample_LCs/kplr009710326-2012341132017_slc.fits', '/Users/ssagear/Dropbox (UFL)/Research/MetallicityProject/photoeccentric/notebooks/datafiles/sample_LCs/kplr009710326-2010265121752_llc.fits', '/Users/ssagear/Dropbox (UFL)/Research/MetallicityProject/photoeccentric/notebooks/datafiles/sample_LCs/kplr009710326-2009259160929_llc.fits', '/Users/ssagear/Dropbox (UFL)/Research/MetallicityProject/photoeccentric/notebooks/datafiles/sample_LCs/kplr009710326-2012060035710_slc.fits', '/Users/ssagear/Dropbox (UFL)/Research/MetallicityProject/photoeccentric/notebooks/datafiles/sample_LCs/kplr009710326-2011073133259_llc.fits', '/Users/ssagear/Dropbox (UFL)/Research/MetallicityProject/photoeccentric/notebooks/datafiles/sample_LCs/kplr009710326-2010355172524_llc.fits', '/Users/ssagear/Dropbox (UFL)/Research/MetallicityProject/photoeccentric/notebooks/datafiles/sample_LCs/kplr009710326-2012277125453_llc.fits', '/Users/ssagear/Dropbox (UFL)/Research/MetallicityProject/photoeccentric/notebooks/datafiles/sample_LCs/kplr009710326-2012310112549_slc.fits', '/Users/ssagear/Dropbox (UFL)/Research/MetallicityProject/photoeccentric/notebooks/datafiles/sample_LCs/kplr009710326-2012179063303_llc.fits']\n"
     ]
    }
   ],
   "source": [
    "hdus, t, f, fe, starts, stops = get_stitched_lcs('947', 9710326)\n",
    "#hdus[0][1].header"
   ]
  },
  {
   "cell_type": "code",
   "execution_count": 574,
   "metadata": {},
   "outputs": [],
   "source": [
    "#hdus[0][1].header"
   ]
  },
  {
   "cell_type": "code",
   "execution_count": 575,
   "metadata": {},
   "outputs": [
    {
     "data": {
      "text/plain": [
       "[2454964.5019555,\n",
       " 2455002.50970808,\n",
       " 2455093.21451708,\n",
       " 2455185.36672895,\n",
       " 2455276.48006746,\n",
       " 2455372.439554,\n",
       " 2455463.16485202,\n",
       " 2455568.35337006,\n",
       " 2455641.50570136,\n",
       " 2455739.8355391,\n",
       " 2455834.19816379,\n",
       " 2455866.03270974,\n",
       " 2455834.19816385,\n",
       " 2455897.11099788,\n",
       " 2455932.39856079,\n",
       " 2455959.61557499,\n",
       " 2455932.39856075,\n",
       " 2455987.89563884,\n",
       " 2456015.7266673,\n",
       " 2456048.68711085,\n",
       " 2456015.72666736,\n",
       " 2456078.8278184,\n",
       " 2456107.1293215,\n",
       " 2456139.14953838,\n",
       " 2456107.12932146,\n",
       " 2456170.16794852,\n",
       " 2456206.47789425,\n",
       " 2456238.27157453,\n",
       " 2456206.47789431,\n",
       " 2456269.22725173,\n",
       " 2456305.08694942,\n",
       " 2456321.65821321,\n",
       " 2456305.08694938,\n",
       " 2456359.11280269,\n",
       " 2456392.21582228]"
      ]
     },
     "execution_count": 575,
     "metadata": {},
     "output_type": "execute_result"
    }
   ],
   "source": [
    "starts"
   ]
  },
  {
   "cell_type": "code",
   "execution_count": 576,
   "metadata": {},
   "outputs": [],
   "source": [
    "#disc = float(t[0][0]-starts)"
   ]
  },
  {
   "cell_type": "code",
   "execution_count": 577,
   "metadata": {},
   "outputs": [],
   "source": [
    "alltime_noclip = []\n",
    "allflux_noclip = []\n",
    "allfluxerr_noclip = []\n",
    "\n",
    "for sublist in t:\n",
    "    for item in sublist:\n",
    "        alltime_noclip.append(item)\n",
    "        \n",
    "for sublist in f:\n",
    "    for item in sublist:\n",
    "        allflux_noclip.append(item)\n",
    "        \n",
    "for sublist in fe:\n",
    "    for item in sublist:\n",
    "        allfluxerr_noclip.append(item)"
   ]
  },
  {
   "cell_type": "code",
   "execution_count": 578,
   "metadata": {},
   "outputs": [],
   "source": [
    "def sigma_clip(time, flux, fluxerr, sig=4):\n",
    "    for i in tqdm(range(len(flux))):\n",
    "        if flux[i] > np.nanmean(flux) + sig*np.nanstd(flux) or flux[i] < np.nanmean(flux) - sig*np.nanstd(flux):\n",
    "            time[i] = np.nan\n",
    "            flux[i] = np.nan\n",
    "            fluxerr[i] = np.nan\n",
    "            \n",
    "    return time, flux, fluxerr\n",
    "            "
   ]
  },
  {
   "cell_type": "code",
   "execution_count": 579,
   "metadata": {},
   "outputs": [
    {
     "data": {
      "image/png": "[encoded data removed]",
      "text/plain": [
       "<Figure size 864x576 with 1 Axes>"
      ]
     },
     "metadata": {
      "needs_background": "light"
     },
     "output_type": "display_data"
    }
   ],
   "source": [
    "# alltime, allflux, allfluxerr = sigma_clip(alltime_noclip, allflux_noclip, allfluxerr_noclip, sig=4)\n",
    "\n",
    "alltime, allflux, allfluxerr = alltime_noclip, allflux_noclip, allfluxerr_noclip\n",
    "\n",
    "plt.scatter(alltime, allflux, s=1)\n",
    "plt.title('KOI 947')\n",
    "\n",
    "plt.ticklabel_format(useOffset=False, style='plain')"
   ]
  },
  {
   "cell_type": "code",
   "execution_count": 580,
   "metadata": {},
   "outputs": [],
   "source": [
    "#alltime"
   ]
  },
  {
   "cell_type": "markdown",
   "metadata": {},
   "source": [
    "# Kepler-1582 b"
   ]
  },
  {
   "cell_type": "code",
   "execution_count": 581,
   "metadata": {},
   "outputs": [],
   "source": [
    "kepid = 9710326\n",
    "kepname = spectplanets.loc[spectplanets['kepid'] == kepid].kepler_name.values[0]"
   ]
  },
  {
   "cell_type": "code",
   "execution_count": 582,
   "metadata": {},
   "outputs": [],
   "source": [
    "isodf = pd.read_csv(\"datafiles/isochrones/iso_lums_\" + str(kepid) + \".csv\")\n",
    "\n",
    "mstar = isodf[\"mstar\"].mean()\n",
    "mstar_err = isodf[\"mstar\"].std()\n",
    "\n",
    "rstar = isodf[\"radius\"].mean()\n",
    "rstar_err = isodf[\"radius\"].std()"
   ]
  },
  {
   "cell_type": "code",
   "execution_count": 583,
   "metadata": {},
   "outputs": [
    {
     "name": "stdout",
     "output_type": "stream",
     "text": [
      "Stellar mass (Msun):  0.48797798116154106 Stellar radius (Rsun):  0.4690682721275218\n",
      "Period (Days):  28.59914031 Rp/Rs:  0.036375\n",
      "a/Rs:  65.99499728728715\n",
      "i (deg):  89.99\n"
     ]
    }
   ],
   "source": [
    "period, period_uerr, period_lerr, rprs, rprs_uerr, rprs_lerr, a_arc, a_uerr_arc, a_lerr_arc, i, e_arc, w_arc = ph.planet_params_from_archive(spectplanets, kepname)\n",
    "\n",
    "# We calculate a_rs to ensure that it's consistent with the spec/Gaia stellar density.\n",
    "a_rs = ph.calc_a(period*86400.0, mstar*smass_kg, rstar*srad_m)\n",
    "a_rs_err = np.mean((a_uerr_arc, a_lerr_arc))\n",
    "\n",
    "print('Stellar mass (Msun): ', mstar, 'Stellar radius (Rsun): ', rstar)\n",
    "print('Period (Days): ', period, 'Rp/Rs: ', rprs)\n",
    "print('a/Rs: ', a_rs)\n",
    "print('i (deg): ', i)"
   ]
  },
  {
   "cell_type": "code",
   "execution_count": 584,
   "metadata": {},
   "outputs": [],
   "source": [
    "transitmpt = 2455022.92667000"
   ]
  },
  {
   "cell_type": "code",
   "execution_count": 585,
   "metadata": {},
   "outputs": [],
   "source": [
    "midpoints = np.concatenate((np.arange(transitmpt, starts[0], -period), np.arange(transitmpt, stops[-1], period)))"
   ]
  },
  {
   "cell_type": "code",
   "execution_count": 586,
   "metadata": {},
   "outputs": [
    {
     "data": {
      "text/plain": [
       "array([2455022.92667   , 2454994.32752969, 2454965.72838938])"
      ]
     },
     "execution_count": 586,
     "metadata": {},
     "output_type": "execute_result"
    }
   ],
   "source": [
    "np.arange(transitmpt, starts[0], -period)"
   ]
  },
  {
   "cell_type": "code",
   "execution_count": 587,
   "metadata": {},
   "outputs": [
    {
     "data": {
      "text/plain": [
       "2454964.5019555"
      ]
     },
     "execution_count": 587,
     "metadata": {},
     "output_type": "execute_result"
    }
   ],
   "source": [
    "starts[0]"
   ]
  },
  {
   "cell_type": "code",
   "execution_count": 588,
   "metadata": {},
   "outputs": [
    {
     "data": {
      "image/png": "[encoded data removed]",
      "text/plain": [
       "<Figure size 864x576 with 1 Axes>"
      ]
     },
     "metadata": {
      "needs_background": "light"
     },
     "output_type": "display_data"
    }
   ],
   "source": [
    "plt.scatter(np.array(alltime)-2454833, allflux, s=2)\n",
    "\n",
    "for i in range(len(midpoints)):\n",
    "    plt.axvline(midpoints[i]-2454833, c='r')\n",
    "    \n",
    "#plt.axvline(2454967, c='g')\n",
    "#plt.axvline(2454967 + period, c='g')\n",
    "#plt.axvline(2454965.72900, c='b')\n",
    "#plt.axvline(2455022.92667000-period, c='k')\n",
    "    \n",
    "#plt.xlim(alltime[0], alltime[-1])\n",
    "#plt.ylim(0.99,1.06)\n",
    "plt.xticks(ticks=np.arange(175, 260, 5))\n",
    "plt.ticklabel_format(useOffset=False, style='plain')\n",
    "    "
   ]
  },
  {
   "cell_type": "code",
   "execution_count": 589,
   "metadata": {},
   "outputs": [
    {
     "data": {
      "text/plain": [
       "847052"
      ]
     },
     "execution_count": 589,
     "metadata": {},
     "output_type": "execute_result"
    }
   ],
   "source": [
    "len(allflux)"
   ]
  },
  {
   "cell_type": "code",
   "execution_count": 590,
   "metadata": {},
   "outputs": [
    {
     "data": {
      "image/png": "[encoded data removed]",
      "text/plain": [
       "<Figure size 864x576 with 1 Axes>"
      ]
     },
     "metadata": {
      "needs_background": "light"
     },
     "output_type": "display_data"
    }
   ],
   "source": [
    "medfilt = scipy.signal.medfilt(allflux, kernel_size=101)\n",
    "\n",
    "plt.scatter(np.array(alltime)-2454900.0, allflux-medfilt+1, s=2)\n",
    "\n",
    "#plt.scatter(np.array(alltime)-2454900.0, allflux, s=2)\n",
    "#plt.plot(np.array(alltime)-2454900.0, medfilt)\n",
    "\n",
    "for i in range(len(midpoints)):\n",
    "    plt.axvline(midpoints[i]-2454900.0, c='r')\n",
    "    \n",
    "# plt.axvline(2454967-2454900.0, c='g')\n",
    "# plt.axvline(2454967-2454900.0 + period, c='g')\n",
    "# plt.axvline(2454965.72900-2454900, c='b')\n",
    "    \n",
    "#plt.xlim(0, 100)\n",
    "#plt.ylim(0.998, 1.001)\n",
    "#plt.xticks(ticks=np.arange(100, 200, 5))\n",
    "plt.ticklabel_format(useOffset=False, style='plain')"
   ]
  },
  {
   "cell_type": "code",
   "execution_count": 591,
   "metadata": {},
   "outputs": [],
   "source": [
    "#midpoints = np.unique(list(midjd[midjd['planetname'] == 'Kepler-737 b']['midpointjd']))\n",
    "#midpoints_errs = np.unique(list(midjd[midjd['username'] == 'KOI ' + '947']['propmidpointunc']))"
   ]
  },
  {
   "cell_type": "code",
   "execution_count": 592,
   "metadata": {},
   "outputs": [],
   "source": [
    "def get_KIC(KOI, muirhead_comb):\n",
    "    return muirhead_comb[muirhead_comb['KOI'] == str(KOI)].KIC.item()"
   ]
  },
  {
   "cell_type": "code",
   "execution_count": 595,
   "metadata": {},
   "outputs": [],
   "source": [
    "def fit_Kepler_lc(KOI, midpoints, time, flux, flux_err, period, nbuffer, spectplanets, muirhead_comb):\n",
    "    \n",
    "    # Get alt IDs\n",
    "    kepid = get_KIC(KOI, muirhead_comb)\n",
    "    kepname = spectplanets.loc[spectplanets['kepid'] == kepid].kepler_name.values[0]\n",
    "    \n",
    "    dr = str(KOI)\n",
    "    direct = 'segfits/' + dr + '_NEW/'\n",
    "\n",
    "    if not os.path.exists(direct):\n",
    "        os.mkdir(direct)\n",
    "    \n",
    "    # Get stellar params\n",
    "    isodf = pd.read_csv(\"datafiles/isochrones/iso_lums_\" + str(kepid) + \".csv\")\n",
    "    \n",
    "    mstar = isodf[\"mstar\"].mean()\n",
    "    mstar_err = isodf[\"mstar\"].std()\n",
    "\n",
    "    rstar = isodf[\"radius\"].mean()\n",
    "    rstar_err = isodf[\"radius\"].std()\n",
    "    \n",
    "    # Get planet params\n",
    "    period, period_uerr, period_lerr, rprs, rprs_uerr, rprs_lerr, a_arc, a_uerr_arc, a_lerr_arc, i, e_arc, w_arc = ph.planet_params_from_archive(spectplanets, kepname)\n",
    "\n",
    "    # We calculate a_rs to ensure that it's consistent with the spec/Gaia stellar density.\n",
    "    a_rs = ph.calc_a(period*86400.0, mstar*smass_kg, rstar*srad_m)\n",
    "    a_rs_err = np.mean((a_uerr_arc, a_lerr_arc))\n",
    "\n",
    "    print('Stellar mass (Msun): ', mstar, 'Stellar radius (Rsun): ', rstar)\n",
    "    print('Period (Days): ', period, 'Rp/Rs: ', rprs)\n",
    "    print('a/Rs: ', a_rs)\n",
    "    print('i (deg): ', i)\n",
    "            \n",
    "    \n",
    "    for ind in range(len(midpoints)):\n",
    "\n",
    "        try:\n",
    "        \n",
    "            transitmid = midpoints[ind]\n",
    "\n",
    "            tindex = int(np.where(alltime == ph.find_nearest(alltime, transitmid))[0])\n",
    "\n",
    "            t1 = np.array(time[tindex-nbuffer:tindex+nbuffer]) - transitmid\n",
    "            t1bjd = np.array(time[tindex-nbuffer:tindex+nbuffer])\n",
    "            \n",
    "            f1 = np.array(flux[tindex-nbuffer:tindex+nbuffer])\n",
    "            fe1 = np.array(flux_err[tindex-nbuffer:tindex+nbuffer])\n",
    "\n",
    "            tindex = int(np.where(time == ph.find_nearest(time, transitmid))[0])\n",
    "\n",
    "            idx = np.isfinite(t1) & np.isfinite(f1)\n",
    "\n",
    "            disc = 5\n",
    "            m, b = np.polyfit(np.concatenate((t1[idx][:disc], t1[idx][-disc:])), np.concatenate((f1[idx][:disc], f1[idx][-disc:])), 1)\n",
    "\n",
    "            linfit = m*t1 + b\n",
    "            fnorm = (f1-linfit)+1\n",
    "            \n",
    "            plt.cla()\n",
    "            plt.errorbar(t1, f1, yerr=fe1, fmt='o', c='blue')\n",
    "            plt.plot(t1, linfit, c='green')\n",
    "            plt.xlabel('Time')\n",
    "            plt.ylabel('Rel. Flux')\n",
    "            plt.axvline(0, c='r')\n",
    "            plt.savefig(direct + str(KOI) + 'segment' + str(ind) + '.png')\n",
    "\n",
    "            mid = ph.get_mid(time)\n",
    "            ptime = ph.get_ptime(t1, mid, 29)\n",
    "\n",
    "            fnorm = np.nan_to_num(fnorm, nan=1.0)\n",
    "            fe1 = np.nan_to_num(fe1, nan=np.nanmedian(fe1))\n",
    "\n",
    "\n",
    "            # Inital guess: rprs, a/Rs, i, t0\n",
    "            p0 = [rprs, a_rs, i, 0]\n",
    "\n",
    "            # EMCEE Transit Model Fitting\n",
    "            _, _, rdist, adist, idist, t0dist = ph.mcmc_fitter_noper(p0, period, t1, ptime, fnorm, fe1, nwalk, nsteps_d, ndiscard_d, 'X', 'X', direct, plot_Tburnin=False, plot_Tcorner=False)\n",
    "            \n",
    "            # Create a light curve with the fit parameters\n",
    "            mcmcfit = ph.integratedlc_fitter(t1, period, ph.mode(rdist), ph.mode(adist), ph.mode(idist), ph.mode(t0dist))\n",
    "            truefit = ph.integratedlc_fitter(t1, period, rprs, a_rs, i, 0)\n",
    "\n",
    "            plt.cla()\n",
    "            offset = 2454900.0\n",
    "            plt.errorbar(t1bjd-offset, fnorm, yerr=fe1, c='blue', alpha=0.5, label='Original LC', fmt=\"o\", capsize=0)\n",
    "            plt.scatter(t1bjd-offset, mcmcfit, c='red', alpha=1.0, label='Fit LC')\n",
    "            plt.plot(t1bjd-offset, mcmcfit, c='red', alpha=1.0)\n",
    "            plt.plot(t1bjd-offset, truefit, c='green', alpha=0.4)\n",
    "            plt.xlabel('BJD-2454900.0')\n",
    "            \n",
    "            textstr = '\\n'.join((\n",
    "            r'$\\mathrm{Rp/Rs}=%.2f$' % (ph.mode(rdist), ),\n",
    "            r'$\\mathrm{a_rs}=%.2f$' % (ph.mode(adist), ),\n",
    "            r'$\\mathrm{i}=%.2f$' % (ph.mode(idist), ),\n",
    "            r'$\\mathrm{t0}=%.2f$' % (ph.mode(t0dist), )))\n",
    "            plt.title(textstr)\n",
    "\n",
    "            plt.legend()\n",
    "            \n",
    "            plt.savefig(direct + str(KOI) + 'segment' + str(ind) + 'fit.png')\n",
    "            \n",
    "            \n",
    "        # Skip if transit mid-time falls outside of Kepler observations\n",
    "        except TypeError:\n",
    "            continue\n",
    "\n"
   ]
  },
  {
   "cell_type": "code",
   "execution_count": 596,
   "metadata": {
    "scrolled": true
   },
   "outputs": [
    {
     "name": "stdout",
     "output_type": "stream",
     "text": [
      "Stellar mass (Msun):  0.48797798116154106 Stellar radius (Rsun):  0.4690682721275218\n",
      "Period (Days):  28.59914031 Rp/Rs:  0.036375\n",
      "a/Rs:  65.99499728728715\n",
      "i (deg):  89.99\n"
     ]
    },
    {
     "name": "stderr",
     "output_type": "stream",
     "text": [
      "100%|██████████| 1500/1500 [01:00<00:00, 24.63it/s]\n",
      "100%|██████████| 1500/1500 [01:03<00:00, 23.66it/s]\n",
      "100%|██████████| 1500/1500 [01:01<00:00, 24.38it/s]\n",
      "100%|██████████| 1500/1500 [01:01<00:00, 24.47it/s]\n",
      "100%|██████████| 1500/1500 [01:06<00:00, 22.55it/s]\n",
      "100%|██████████| 1500/1500 [01:05<00:00, 22.82it/s]\n",
      "100%|██████████| 1500/1500 [01:04<00:00, 23.09it/s]\n",
      "100%|██████████| 1500/1500 [01:03<00:00, 23.48it/s]\n",
      "100%|██████████| 1500/1500 [01:03<00:00, 23.76it/s]\n",
      "100%|██████████| 1500/1500 [01:03<00:00, 23.79it/s]\n",
      "100%|██████████| 1500/1500 [01:04<00:00, 23.36it/s]\n",
      "100%|██████████| 1500/1500 [01:03<00:00, 23.47it/s]\n",
      "100%|██████████| 1500/1500 [01:00<00:00, 24.79it/s]\n",
      "100%|██████████| 1500/1500 [00:51<00:00, 29.36it/s]\n",
      "100%|██████████| 1500/1500 [00:52<00:00, 28.56it/s]\n",
      "100%|██████████| 1500/1500 [01:03<00:00, 23.44it/s]\n",
      "100%|██████████| 1500/1500 [01:03<00:00, 23.67it/s]\n",
      "100%|██████████| 1500/1500 [01:04<00:00, 23.25it/s]\n",
      "100%|██████████| 1500/1500 [01:05<00:00, 23.01it/s]\n",
      "100%|██████████| 1500/1500 [01:04<00:00, 23.08it/s]\n",
      "100%|██████████| 1500/1500 [01:01<00:00, 24.44it/s]\n",
      "100%|██████████| 1500/1500 [01:00<00:00, 24.67it/s]\n",
      "100%|██████████| 1500/1500 [00:44<00:00, 33.98it/s]\n",
      "100%|██████████| 1500/1500 [00:47<00:00, 31.43it/s]\n",
      "100%|██████████| 1500/1500 [01:01<00:00, 24.57it/s]\n",
      "100%|██████████| 1500/1500 [01:06<00:00, 22.73it/s]\n",
      "100%|██████████| 1500/1500 [00:46<00:00, 32.41it/s]\n",
      "100%|██████████| 1500/1500 [01:04<00:00, 23.38it/s]\n",
      "100%|██████████| 1500/1500 [01:02<00:00, 24.10it/s]\n",
      "100%|██████████| 1500/1500 [01:04<00:00, 23.31it/s]\n",
      "100%|██████████| 1500/1500 [01:01<00:00, 24.22it/s]\n",
      "100%|██████████| 1500/1500 [01:02<00:00, 24.06it/s]\n",
      "100%|██████████| 1500/1500 [00:41<00:00, 35.77it/s]\n",
      "100%|██████████| 1500/1500 [00:43<00:00, 34.53it/s]\n",
      "100%|██████████| 1500/1500 [00:43<00:00, 34.40it/s]\n",
      "100%|██████████| 1500/1500 [00:40<00:00, 36.59it/s]\n",
      "100%|██████████| 1500/1500 [00:41<00:00, 36.32it/s]\n",
      "100%|██████████| 1500/1500 [00:41<00:00, 36.21it/s]\n",
      "100%|██████████| 1500/1500 [30:37<00:00,  1.23s/it]   \n",
      "100%|██████████| 1500/1500 [03:21<00:00,  7.45it/s]\n",
      "100%|██████████| 1500/1500 [1:46:57<00:00,  4.28s/it]     \n",
      "100%|██████████| 1500/1500 [2:17:23<00:00,  5.50s/it]     \n",
      "100%|██████████| 1500/1500 [44:52<00:00,  1.79s/it]   \n",
      "100%|██████████| 1500/1500 [02:41<00:00,  9.31it/s]\n",
      "100%|██████████| 1500/1500 [02:12<00:00, 11.32it/s]\n",
      "100%|██████████| 1500/1500 [02:06<00:00, 11.81it/s]\n",
      "100%|██████████| 1500/1500 [02:02<00:00, 12.26it/s]\n",
      "100%|██████████| 1500/1500 [02:02<00:00, 12.22it/s]\n",
      "100%|██████████| 1500/1500 [02:09<00:00, 11.62it/s]\n",
      "100%|██████████| 1500/1500 [02:04<00:00, 12.04it/s]\n",
      "100%|██████████| 1500/1500 [03:02<00:00,  8.22it/s]\n"
     ]
    },
    {
     "data": {
      "image/png": "[encoded data removed]",
      "text/plain": [
       "<Figure size 864x576 with 1 Axes>"
      ]
     },
     "metadata": {
      "needs_background": "light"
     },
     "output_type": "display_data"
    }
   ],
   "source": [
    "fit_Kepler_lc(947, midpoints, alltime, allflux, allfluxerr, period, 9, spectplanets, muirhead_comb)"
   ]
  },
  {
   "cell_type": "code",
   "execution_count": 213,
   "metadata": {},
   "outputs": [],
   "source": [
    "t0 = hdu[1].header['BJDREFI']\n",
    "tm1 = hdu[1].header['BJDREFI']+period*100\n",
    "tmidtimes = np.arange(t0, tm1, period)"
   ]
  },
  {
   "cell_type": "code",
   "execution_count": 47,
   "metadata": {},
   "outputs": [],
   "source": [
    "midjd = pd.read_csv('/Users/ssagear/Dropbox (UFL)/Research/MetallicityProject/photoeccentric/notebooks/datafiles/keplerstellar/transitmpts/MuirheadKOIs_4_MPTS.csv', comment='#')\n"
   ]
  },
  {
   "cell_type": "code",
   "execution_count": 48,
   "metadata": {},
   "outputs": [],
   "source": [
    "midpoints = [item for item in midjd[midjd['username'] == 'KOI 947']['midpointjd']]\n",
    "midpoints_errs = [item for item in midjd[midjd['username'] == 'KOI 947']['propmidpointunc']]"
   ]
  },
  {
   "cell_type": "code",
   "execution_count": 50,
   "metadata": {},
   "outputs": [],
   "source": [
    "#cmtimes[6] = cmtimes[6] + 0.017\n",
    "#cmtimes[-6] = cmtimes[-6] - 0.017\n",
    "\n",
    "mp = 1\n",
    "\n",
    "transitmid = cmtimes[mp]\n",
    "transitmid_err = cmerrors[mp]\n",
    "\n",
    "transitmid = cmtimes[mp]"
   ]
  },
  {
   "cell_type": "code",
   "execution_count": 51,
   "metadata": {},
   "outputs": [],
   "source": [
    "start = hdu[1].header['TSTART'] + hdu[1].header['BJDREFI']\n",
    "end = hdu[1].header['TSTOP'] + hdu[1].header['BJDREFI']"
   ]
  },
  {
   "cell_type": "code",
   "execution_count": 52,
   "metadata": {},
   "outputs": [],
   "source": [
    "mid = ph.get_mid(alltime)"
   ]
  },
  {
   "cell_type": "code",
   "execution_count": 53,
   "metadata": {},
   "outputs": [],
   "source": [
    "tindex = int(np.where(alltime == ph.find_nearest(alltime, transitmid))[0])"
   ]
  },
  {
   "cell_type": "code",
   "execution_count": 54,
   "metadata": {},
   "outputs": [],
   "source": [
    "n = 6\n",
    "\n",
    "t1 = np.array(alltime[tindex-n:tindex+n]) - transitmid\n",
    "f1 = np.array(allflux[tindex-n:tindex+n])\n",
    "fe1 = np.array(allfluxerr[tindex-n:tindex+n])"
   ]
  },
  {
   "cell_type": "code",
   "execution_count": 55,
   "metadata": {},
   "outputs": [],
   "source": [
    "# plt.errorbar(alltime, allflux, yerr=allfluxerr, fmt='o')\n",
    "# plt.axvline(cmtimes[5], c='r')\n",
    "# plt.axvline(cmtimes[6], c='r')\n",
    "# plt.xlim(cmtimes[5]-3, cmtimes[6]+3)\n",
    "# plt.ylim(.990, 1.010)"
   ]
  },
  {
   "cell_type": "code",
   "execution_count": 56,
   "metadata": {},
   "outputs": [
    {
     "data": {
      "text/plain": [
       "<matplotlib.lines.Line2D at 0x7f877b217040>"
      ]
     },
     "execution_count": 56,
     "metadata": {},
     "output_type": "execute_result"
    },
    {
     "data": {
      "image/png": "[encoded data removed]",
      "text/plain": [
       "<Figure size 864x576 with 1 Axes>"
      ]
     },
     "metadata": {
      "needs_background": "light"
     },
     "output_type": "display_data"
    }
   ],
   "source": [
    "plt.errorbar(t1, f1, yerr=fe1)\n",
    "#plt.axvline(0+transitmid_err, c='r')\n",
    "#plt.axvline(0-transitmid_err, c='r')\n",
    "plt.axvline(0, c='r')\n"
   ]
  },
  {
   "cell_type": "code",
   "execution_count": 73,
   "metadata": {},
   "outputs": [
    {
     "name": "stdout",
     "output_type": "stream",
     "text": [
      "[ True  True  True  True  True  True  True  True  True  True  True  True]\n"
     ]
    },
    {
     "data": {
      "text/plain": [
       "<matplotlib.collections.PathCollection at 0x7f87582b9340>"
      ]
     },
     "execution_count": 73,
     "metadata": {},
     "output_type": "execute_result"
    },
    {
     "data": {
      "image/png": "[encoded data removed]",
      "text/plain": [
       "<Figure size 864x576 with 1 Axes>"
      ]
     },
     "metadata": {
      "needs_background": "light"
     },
     "output_type": "display_data"
    }
   ],
   "source": [
    "idx = np.isfinite(t1) & np.isfinite(f1)\n",
    "print(idx)\n",
    "disc = 3\n",
    "\n",
    "a, b, c = np.polyfit(np.concatenate((t1[idx][:disc], t1[idx][-disc:])), np.concatenate((f1[idx][:disc], f1[idx][-disc:])), 2)\n",
    "m, b = np.polyfit(np.concatenate((t1[idx][:disc], t1[idx][-disc:])), np.concatenate((f1[idx][:disc], f1[idx][-disc:])), 1)\n",
    "\n",
    "\n",
    "plt.scatter(np.concatenate((t1[idx][:disc], t1[idx][-disc:])), np.concatenate((f1[idx][:disc], f1[idx][-disc:])))"
   ]
  },
  {
   "cell_type": "code",
   "execution_count": 65,
   "metadata": {},
   "outputs": [
    {
     "data": {
      "text/plain": [
       "<matplotlib.lines.Line2D at 0x7f8796bb8a00>"
      ]
     },
     "execution_count": 65,
     "metadata": {},
     "output_type": "execute_result"
    },
    {
     "data": {
      "image/png": "[encoded data removed]",
      "text/plain": [
       "<Figure size 864x576 with 1 Axes>"
      ]
     },
     "metadata": {
      "needs_background": "light"
     },
     "output_type": "display_data"
    }
   ],
   "source": [
    "plt.plot(t1, m*t1 + b, c='g')\n",
    "#plt.plot(t1, a*t1**2 + b*t1 + c, c='g')\n",
    "plt.errorbar(t1, f1, yerr=fe1, fmt='o')\n",
    "plt.axvline(0, c='r')"
   ]
  },
  {
   "cell_type": "code",
   "execution_count": 66,
   "metadata": {},
   "outputs": [],
   "source": [
    "linfit = m*t1 + b\n",
    "fnorm = (f1-linfit)+1\n",
    "\n",
    "#quadfit = a*t1**2 + b*t1 + c\n",
    "#fnorm = (f1-quadfit)+1"
   ]
  },
  {
   "cell_type": "code",
   "execution_count": 67,
   "metadata": {},
   "outputs": [
    {
     "data": {
      "text/plain": [
       "<matplotlib.lines.Line2D at 0x7f87a6f79d30>"
      ]
     },
     "execution_count": 67,
     "metadata": {},
     "output_type": "execute_result"
    },
    {
     "data": {
      "image/png": "[encoded data removed]",
      "text/plain": [
       "<Figure size 864x576 with 1 Axes>"
      ]
     },
     "metadata": {
      "needs_background": "light"
     },
     "output_type": "display_data"
    }
   ],
   "source": [
    "plt.errorbar(t1, fnorm, yerr=fe1, fmt='o')\n",
    "plt.axvline(0, c='r')"
   ]
  },
  {
   "cell_type": "code",
   "execution_count": 68,
   "metadata": {},
   "outputs": [
    {
     "data": {
      "text/plain": [
       "0.01021709106862545"
      ]
     },
     "execution_count": 68,
     "metadata": {},
     "output_type": "execute_result"
    }
   ],
   "source": [
    "mid"
   ]
  },
  {
   "cell_type": "code",
   "execution_count": 69,
   "metadata": {},
   "outputs": [],
   "source": [
    "ptime = ph.get_ptime(t1, mid, 29)\n",
    "fnorm = np.nan_to_num(fnorm, nan=1.0)\n",
    "fe1 = np.nan_to_num(fe1, nan=np.nanmedian(fe1))"
   ]
  },
  {
   "cell_type": "code",
   "execution_count": 70,
   "metadata": {},
   "outputs": [],
   "source": [
    "#fnorm[np.argmax(fnorm)] = np.nanmedian(fnorm)"
   ]
  },
  {
   "cell_type": "code",
   "execution_count": 71,
   "metadata": {},
   "outputs": [],
   "source": [
    "#fe1 = fe1/4"
   ]
  },
  {
   "cell_type": "code",
   "execution_count": 72,
   "metadata": {},
   "outputs": [
    {
     "data": {
      "text/plain": [
       "<matplotlib.lines.Line2D at 0x7f877be6cd60>"
      ]
     },
     "execution_count": 72,
     "metadata": {},
     "output_type": "execute_result"
    },
    {
     "data": {
      "image/png": "[encoded data removed]",
      "text/plain": [
       "<Figure size 864x576 with 1 Axes>"
      ]
     },
     "metadata": {
      "needs_background": "light"
     },
     "output_type": "display_data"
    }
   ],
   "source": [
    "plt.errorbar(t1, fnorm, yerr=fe1, fmt='o')\n",
    "plt.axvline(0, c='r')"
   ]
  },
  {
   "cell_type": "code",
   "execution_count": 40,
   "metadata": {},
   "outputs": [
    {
     "name": "stderr",
     "output_type": "stream",
     "text": [
      "  8%|▊         | 123/1500 [00:03<00:30, 45.72it/s]Traceback (most recent call last):\n",
      "  File \"/Users/ssagear/anaconda3/lib/python3.8/site-packages/emcee/ensemble.py\", line 545, in __call__\n",
      "    return self.f(x, *self.args, **self.kwargs)\n",
      "  File \"/Users/ssagear/Dropbox (UFL)/Research/MetallicityProject/photoeccentric/photoeccentric/photoeccentric.py\", line 973, in tfit_noper_log_probability\n",
      "    return lp + tfit_noper_log_likelihood(theta, per, time, ptime, flux, flux_err)\n",
      "  File \"/Users/ssagear/Dropbox (UFL)/Research/MetallicityProject/photoeccentric/photoeccentric/photoeccentric.py\", line 948, in tfit_noper_log_likelihood\n",
      "    model = integratedlc_fitter(time, per, rp, a, inc, t0)\n",
      "  File \"/Users/ssagear/Dropbox (UFL)/Research/MetallicityProject/photoeccentric/photoeccentric/lcfitter.py\", line 164, in integratedlc_fitter\n",
      "    ptime = get_ptime(time, get_mid(time), 29)\n",
      "  File \"/Users/ssagear/Dropbox (UFL)/Research/MetallicityProject/photoeccentric/photoeccentric/lcfitter.py\", line 271, in get_ptime\n",
      "    ettemp = np.linspace(time[i]-mid, time[i]+mid, num, endpoint=True)\n",
      "  File \"<__array_function__ internals>\", line 5, in linspace\n",
      "  File \"/Users/ssagear/anaconda3/lib/python3.8/site-packages/numpy/core/function_base.py\", line 151, in linspace\n",
      "    y *= step\n",
      "KeyboardInterrupt\n",
      "  8%|▊         | 124/1500 [00:03<00:35, 38.74it/s]\n"
     ]
    },
    {
     "name": "stdout",
     "output_type": "stream",
     "text": [
      "emcee: Exception while calling your likelihood function:\n",
      "  params: [   0.54895355  125.55668043   49.28103601 -226.9785562 ]\n",
      "  args: (28.59915399, array([-0.12571831, -0.10528542, -0.08485254, -0.06441965, -0.04398676,\n",
      "       -0.02355387, -0.00312098,  0.01731191,  0.0377448 ,  0.05817768,\n",
      "        0.07861057,  0.09904346]), array([-0.1359354 , -0.13520561, -0.13447582, -0.13374603, -0.13301623,\n",
      "       -0.13228644, -0.13155665, -0.13082686, -0.13009707, -0.12936727,\n",
      "       -0.12863748, -0.12790769, -0.1271779 , -0.12644811, -0.12571831,\n",
      "       -0.12498852, -0.12425873, -0.12352894, -0.12279914, -0.12206935,\n",
      "       -0.12133956, -0.12060977, -0.11987998, -0.11915018, -0.11842039,\n",
      "       -0.1176906 , -0.11696081, -0.11623101, -0.11550122, -0.11550252,\n",
      "       -0.11477272, -0.11404293, -0.11331314, -0.11258335, -0.11185355,\n",
      "       -0.11112376, -0.11039397, -0.10966418, -0.10893439, -0.10820459,\n",
      "       -0.1074748 , -0.10674501, -0.10601522, -0.10528542, -0.10455563,\n",
      "       -0.10382584, -0.10309605, -0.10236626, -0.10163646, -0.10090667,\n",
      "       -0.10017688, -0.09944709, -0.09871729, -0.0979875 , -0.09725771,\n",
      "       -0.09652792, -0.09579813, -0.09506833, -0.09506963, -0.09433983,\n",
      "       -0.09361004, -0.09288025, -0.09215046, -0.09142067, -0.09069087,\n",
      "       -0.08996108, -0.08923129, -0.0885015 , -0.0877717 , -0.08704191,\n",
      "       -0.08631212, -0.08558233, -0.08485254, -0.08412274, -0.08339295,\n",
      "       -0.08266316, -0.08193337, -0.08120357, -0.08047378, -0.07974399,\n",
      "       -0.0790142 , -0.07828441, -0.07755461, -0.07682482, -0.07609503,\n",
      "       -0.07536524, -0.07463544, -0.07463674, -0.07390695, -0.07317715,\n",
      "       -0.07244736, -0.07171757, -0.07098778, -0.07025798, -0.06952819,\n",
      "       -0.0687984 , -0.06806861, -0.06733882, -0.06660902, -0.06587923,\n",
      "       -0.06514944, -0.06441965, -0.06368985, -0.06296006, -0.06223027,\n",
      "       -0.06150048, -0.06077069, -0.06004089, -0.0593111 , -0.05858131,\n",
      "       -0.05785152, -0.05712172, -0.05639193, -0.05566214, -0.05493235,\n",
      "       -0.05420256, -0.05420385, -0.05347406, -0.05274426, -0.05201447,\n",
      "       -0.05128468, -0.05055489, -0.0498251 , -0.0490953 , -0.04836551,\n",
      "       -0.04763572, -0.04690593, -0.04617613, -0.04544634, -0.04471655,\n",
      "       -0.04398676, -0.04325697, -0.04252717, -0.04179738, -0.04106759,\n",
      "       -0.0403378 , -0.039608  , -0.03887821, -0.03814842, -0.03741863,\n",
      "       -0.03668884, -0.03595904, -0.03522925, -0.03449946, -0.03376967,\n",
      "       -0.03377096, -0.03304117, -0.03231138, -0.03158158, -0.03085179,\n",
      "       -0.030122  , -0.02939221, -0.02866241, -0.02793262, -0.02720283,\n",
      "       -0.02647304, -0.02574325, -0.02501345, -0.02428366, -0.02355387,\n",
      "       -0.02282408, -0.02209428, -0.02136449, -0.0206347 , -0.01990491,\n",
      "       -0.01917512, -0.01844532, -0.01771553, -0.01698574, -0.01625595,\n",
      "       -0.01552615, -0.01479636, -0.01406657, -0.01333678, -0.01333807,\n",
      "       -0.01260828, -0.01187849, -0.0111487 , -0.0104189 , -0.00968911,\n",
      "       -0.00895932, -0.00822953, -0.00749973, -0.00676994, -0.00604015,\n",
      "       -0.00531036, -0.00458057, -0.00385077, -0.00312098, -0.00239119,\n",
      "       -0.0016614 , -0.0009316 , -0.00020181,  0.00052798,  0.00125777,\n",
      "        0.00198756,  0.00271736,  0.00344715,  0.00417694,  0.00490673,\n",
      "        0.00563653,  0.00636632,  0.00709611,  0.00709482,  0.00782461,\n",
      "        0.0085544 ,  0.00928419,  0.01001399,  0.01074378,  0.01147357,\n",
      "        0.01220336,  0.01293315,  0.01366295,  0.01439274,  0.01512253,\n",
      "        0.01585232,  0.01658212,  0.01731191,  0.0180417 ,  0.01877149,\n",
      "        0.01950128,  0.02023108,  0.02096087,  0.02169066,  0.02242045,\n",
      "        0.02315025,  0.02388004,  0.02460983,  0.02533962,  0.02606941,\n",
      "        0.02679921,  0.027529  ,  0.0275277 ,  0.0282575 ,  0.02898729,\n",
      "        0.02971708,  0.03044687,  0.03117667,  0.03190646,  0.03263625,\n",
      "        0.03336604,  0.03409583,  0.03482563,  0.03555542,  0.03628521,\n",
      "        0.037015  ,  0.0377448 ,  0.03847459,  0.03920438,  0.03993417,\n",
      "        0.04066396,  0.04139376,  0.04212355,  0.04285334,  0.04358313,\n",
      "        0.04431293,  0.04504272,  0.04577251,  0.0465023 ,  0.04723209,\n",
      "        0.04796189,  0.04796059,  0.04869039,  0.04942018,  0.05014997,\n",
      "        0.05087976,  0.05160955,  0.05233935,  0.05306914,  0.05379893,\n",
      "        0.05452872,  0.05525852,  0.05598831,  0.0567181 ,  0.05744789,\n",
      "        0.05817768,  0.05890748,  0.05963727,  0.06036706,  0.06109685,\n",
      "        0.06182665,  0.06255644,  0.06328623,  0.06401602,  0.06474581,\n",
      "        0.06547561,  0.0662054 ,  0.06693519,  0.06766498,  0.06839478,\n",
      "        0.06839348,  0.06912327,  0.06985307,  0.07058286,  0.07131265,\n",
      "        0.07204244,  0.07277223,  0.07350203,  0.07423182,  0.07496161,\n",
      "        0.0756914 ,  0.0764212 ,  0.07715099,  0.07788078,  0.07861057,\n",
      "        0.07934036,  0.08007016,  0.08079995,  0.08152974,  0.08225953,\n",
      "        0.08298933,  0.08371912,  0.08444891,  0.0851787 ,  0.08590849,\n",
      "        0.08663829,  0.08736808,  0.08809787,  0.08882766,  0.08882637,\n",
      "        0.08955616,  0.09028595,  0.09101575,  0.09174554,  0.09247533,\n",
      "        0.09320512,  0.09393491,  0.09466471,  0.0953945 ,  0.09612429,\n",
      "        0.09685408,  0.09758388,  0.09831367,  0.09904346,  0.09977325,\n",
      "        0.10050304,  0.10123284,  0.10196263,  0.10269242,  0.10342221,\n",
      "        0.10415201,  0.1048818 ,  0.10561159,  0.10634138,  0.10707117,\n",
      "        0.10780097,  0.10853076,  0.10926055]), array([0.99919   , 1.00078525, 1.00101603, 1.00157678, 0.9995576 ,\n",
      "       0.99951241, 1.00014898, 0.99999388, 1.00101167, 0.99989789,\n",
      "       1.00105755, 0.9989672 ]), array([0.00067778, 0.00067794, 0.00067789, 0.00067803, 0.00067793,\n",
      "       0.00067788, 0.00067787, 0.00067787, 0.00067799, 0.00067789,\n",
      "       0.00067777, 0.0006777 ], dtype=float32))\n",
      "  kwargs: {}\n",
      "  exception:\n"
     ]
    },
    {
     "ename": "KeyboardInterrupt",
     "evalue": "",
     "output_type": "error",
     "traceback": [
      "\u001b[0;31m---------------------------------------------------------------------------\u001b[0m",
      "\u001b[0;31mKeyboardInterrupt\u001b[0m                         Traceback (most recent call last)",
      "\u001b[0;32m<ipython-input-40-0682802bb9c8>\u001b[0m in \u001b[0;36m<module>\u001b[0;34m\u001b[0m\n\u001b[1;32m      9\u001b[0m \u001b[0;34m\u001b[0m\u001b[0m\n\u001b[1;32m     10\u001b[0m \u001b[0;31m# EMCEE Transit Model Fitting\u001b[0m\u001b[0;34m\u001b[0m\u001b[0;34m\u001b[0m\u001b[0;34m\u001b[0m\u001b[0m\n\u001b[0;32m---> 11\u001b[0;31m \u001b[0m_\u001b[0m\u001b[0;34m,\u001b[0m \u001b[0m_\u001b[0m\u001b[0;34m,\u001b[0m \u001b[0mrdist\u001b[0m\u001b[0;34m,\u001b[0m \u001b[0madist\u001b[0m\u001b[0;34m,\u001b[0m \u001b[0midist\u001b[0m\u001b[0;34m,\u001b[0m \u001b[0mt0dist\u001b[0m \u001b[0;34m=\u001b[0m \u001b[0mph\u001b[0m\u001b[0;34m.\u001b[0m\u001b[0mmcmc_fitter_noper\u001b[0m\u001b[0;34m(\u001b[0m\u001b[0mp0\u001b[0m\u001b[0;34m,\u001b[0m \u001b[0mperiod\u001b[0m\u001b[0;34m,\u001b[0m \u001b[0mt1\u001b[0m\u001b[0;34m,\u001b[0m \u001b[0mptime\u001b[0m\u001b[0;34m,\u001b[0m \u001b[0mfnorm\u001b[0m\u001b[0;34m,\u001b[0m \u001b[0mfe1\u001b[0m\u001b[0;34m,\u001b[0m \u001b[0mnwalk\u001b[0m\u001b[0;34m,\u001b[0m \u001b[0mnsteps_d\u001b[0m\u001b[0;34m,\u001b[0m \u001b[0mndiscard_d\u001b[0m\u001b[0;34m,\u001b[0m \u001b[0;34m'X'\u001b[0m\u001b[0;34m,\u001b[0m \u001b[0;34m'X'\u001b[0m\u001b[0;34m,\u001b[0m \u001b[0mdirect\u001b[0m\u001b[0;34m)\u001b[0m\u001b[0;34m\u001b[0m\u001b[0;34m\u001b[0m\u001b[0m\n\u001b[0m",
      "\u001b[0;32m~/Dropbox (UFL)/Research/MetallicityProject/photoeccentric/photoeccentric/photoeccentric.py\u001b[0m in \u001b[0;36mmcmc_fitter_noper\u001b[0;34m(guess_transit, per, time, ptime, nflux, flux_err, nwalk, nsteps, ndiscard, e, w, directory, plot_Tburnin, plot_Tcorner)\u001b[0m\n\u001b[1;32m   1031\u001b[0m \u001b[0;34m\u001b[0m\u001b[0m\n\u001b[1;32m   1032\u001b[0m     \u001b[0msampler\u001b[0m \u001b[0;34m=\u001b[0m \u001b[0memcee\u001b[0m\u001b[0;34m.\u001b[0m\u001b[0mEnsembleSampler\u001b[0m\u001b[0;34m(\u001b[0m\u001b[0mnwalkers\u001b[0m\u001b[0;34m,\u001b[0m \u001b[0mndim\u001b[0m\u001b[0;34m,\u001b[0m \u001b[0mtfit_noper_log_probability\u001b[0m\u001b[0;34m,\u001b[0m \u001b[0margs\u001b[0m\u001b[0;34m=\u001b[0m\u001b[0;34m(\u001b[0m\u001b[0mper\u001b[0m\u001b[0;34m,\u001b[0m \u001b[0mtime\u001b[0m\u001b[0;34m,\u001b[0m \u001b[0mptime\u001b[0m\u001b[0;34m,\u001b[0m \u001b[0mnflux\u001b[0m\u001b[0;34m,\u001b[0m \u001b[0mflux_err\u001b[0m\u001b[0;34m)\u001b[0m\u001b[0;34m,\u001b[0m \u001b[0mthreads\u001b[0m\u001b[0;34m=\u001b[0m\u001b[0;36m4\u001b[0m\u001b[0;34m)\u001b[0m\u001b[0;34m\u001b[0m\u001b[0;34m\u001b[0m\u001b[0m\n\u001b[0;32m-> 1033\u001b[0;31m     \u001b[0msampler\u001b[0m\u001b[0;34m.\u001b[0m\u001b[0mrun_mcmc\u001b[0m\u001b[0;34m(\u001b[0m\u001b[0mpos\u001b[0m\u001b[0;34m,\u001b[0m \u001b[0mnsteps\u001b[0m\u001b[0;34m,\u001b[0m \u001b[0mprogress\u001b[0m\u001b[0;34m=\u001b[0m\u001b[0;32mTrue\u001b[0m\u001b[0;34m)\u001b[0m\u001b[0;34m;\u001b[0m\u001b[0;34m\u001b[0m\u001b[0;34m\u001b[0m\u001b[0m\n\u001b[0m\u001b[1;32m   1034\u001b[0m     \u001b[0msamples\u001b[0m \u001b[0;34m=\u001b[0m \u001b[0msampler\u001b[0m\u001b[0;34m.\u001b[0m\u001b[0mget_chain\u001b[0m\u001b[0;34m(\u001b[0m\u001b[0;34m)\u001b[0m\u001b[0;34m\u001b[0m\u001b[0;34m\u001b[0m\u001b[0m\n\u001b[1;32m   1035\u001b[0m \u001b[0;34m\u001b[0m\u001b[0m\n",
      "\u001b[0;32m~/anaconda3/lib/python3.8/site-packages/emcee/ensemble.py\u001b[0m in \u001b[0;36mrun_mcmc\u001b[0;34m(self, initial_state, nsteps, **kwargs)\u001b[0m\n\u001b[1;32m    382\u001b[0m \u001b[0;34m\u001b[0m\u001b[0m\n\u001b[1;32m    383\u001b[0m         \u001b[0mresults\u001b[0m \u001b[0;34m=\u001b[0m \u001b[0;32mNone\u001b[0m\u001b[0;34m\u001b[0m\u001b[0;34m\u001b[0m\u001b[0m\n\u001b[0;32m--> 384\u001b[0;31m         \u001b[0;32mfor\u001b[0m \u001b[0mresults\u001b[0m \u001b[0;32min\u001b[0m \u001b[0mself\u001b[0m\u001b[0;34m.\u001b[0m\u001b[0msample\u001b[0m\u001b[0;34m(\u001b[0m\u001b[0minitial_state\u001b[0m\u001b[0;34m,\u001b[0m \u001b[0miterations\u001b[0m\u001b[0;34m=\u001b[0m\u001b[0mnsteps\u001b[0m\u001b[0;34m,\u001b[0m \u001b[0;34m**\u001b[0m\u001b[0mkwargs\u001b[0m\u001b[0;34m)\u001b[0m\u001b[0;34m:\u001b[0m\u001b[0;34m\u001b[0m\u001b[0;34m\u001b[0m\u001b[0m\n\u001b[0m\u001b[1;32m    385\u001b[0m             \u001b[0;32mpass\u001b[0m\u001b[0;34m\u001b[0m\u001b[0;34m\u001b[0m\u001b[0m\n\u001b[1;32m    386\u001b[0m \u001b[0;34m\u001b[0m\u001b[0m\n",
      "\u001b[0;32m~/anaconda3/lib/python3.8/site-packages/emcee/ensemble.py\u001b[0m in \u001b[0;36msample\u001b[0;34m(self, initial_state, log_prob0, rstate0, blobs0, iterations, tune, skip_initial_state_check, thin_by, thin, store, progress)\u001b[0m\n\u001b[1;32m    341\u001b[0m \u001b[0;34m\u001b[0m\u001b[0m\n\u001b[1;32m    342\u001b[0m                     \u001b[0;31m# Propose\u001b[0m\u001b[0;34m\u001b[0m\u001b[0;34m\u001b[0m\u001b[0;34m\u001b[0m\u001b[0m\n\u001b[0;32m--> 343\u001b[0;31m                     \u001b[0mstate\u001b[0m\u001b[0;34m,\u001b[0m \u001b[0maccepted\u001b[0m \u001b[0;34m=\u001b[0m \u001b[0mmove\u001b[0m\u001b[0;34m.\u001b[0m\u001b[0mpropose\u001b[0m\u001b[0;34m(\u001b[0m\u001b[0mmodel\u001b[0m\u001b[0;34m,\u001b[0m \u001b[0mstate\u001b[0m\u001b[0;34m)\u001b[0m\u001b[0;34m\u001b[0m\u001b[0;34m\u001b[0m\u001b[0m\n\u001b[0m\u001b[1;32m    344\u001b[0m                     \u001b[0mstate\u001b[0m\u001b[0;34m.\u001b[0m\u001b[0mrandom_state\u001b[0m \u001b[0;34m=\u001b[0m \u001b[0mself\u001b[0m\u001b[0;34m.\u001b[0m\u001b[0mrandom_state\u001b[0m\u001b[0;34m\u001b[0m\u001b[0;34m\u001b[0m\u001b[0m\n\u001b[1;32m    345\u001b[0m \u001b[0;34m\u001b[0m\u001b[0m\n",
      "\u001b[0;32m~/anaconda3/lib/python3.8/site-packages/emcee/moves/red_blue.py\u001b[0m in \u001b[0;36mpropose\u001b[0;34m(self, model, state)\u001b[0m\n\u001b[1;32m     91\u001b[0m \u001b[0;34m\u001b[0m\u001b[0m\n\u001b[1;32m     92\u001b[0m             \u001b[0;31m# Compute the lnprobs of the proposed position.\u001b[0m\u001b[0;34m\u001b[0m\u001b[0;34m\u001b[0m\u001b[0;34m\u001b[0m\u001b[0m\n\u001b[0;32m---> 93\u001b[0;31m             \u001b[0mnew_log_probs\u001b[0m\u001b[0;34m,\u001b[0m \u001b[0mnew_blobs\u001b[0m \u001b[0;34m=\u001b[0m \u001b[0mmodel\u001b[0m\u001b[0;34m.\u001b[0m\u001b[0mcompute_log_prob_fn\u001b[0m\u001b[0;34m(\u001b[0m\u001b[0mq\u001b[0m\u001b[0;34m)\u001b[0m\u001b[0;34m\u001b[0m\u001b[0;34m\u001b[0m\u001b[0m\n\u001b[0m\u001b[1;32m     94\u001b[0m \u001b[0;34m\u001b[0m\u001b[0m\n\u001b[1;32m     95\u001b[0m             \u001b[0;31m# Loop over the walkers and update them accordingly.\u001b[0m\u001b[0;34m\u001b[0m\u001b[0;34m\u001b[0m\u001b[0;34m\u001b[0m\u001b[0m\n",
      "\u001b[0;32m~/anaconda3/lib/python3.8/site-packages/emcee/ensemble.py\u001b[0m in \u001b[0;36mcompute_log_prob\u001b[0;34m(self, coords)\u001b[0m\n\u001b[1;32m    424\u001b[0m             \u001b[0;32melse\u001b[0m\u001b[0;34m:\u001b[0m\u001b[0;34m\u001b[0m\u001b[0;34m\u001b[0m\u001b[0m\n\u001b[1;32m    425\u001b[0m                 \u001b[0mmap_func\u001b[0m \u001b[0;34m=\u001b[0m \u001b[0mmap\u001b[0m\u001b[0;34m\u001b[0m\u001b[0;34m\u001b[0m\u001b[0m\n\u001b[0;32m--> 426\u001b[0;31m             results = list(\n\u001b[0m\u001b[1;32m    427\u001b[0m                 \u001b[0mmap_func\u001b[0m\u001b[0;34m(\u001b[0m\u001b[0mself\u001b[0m\u001b[0;34m.\u001b[0m\u001b[0mlog_prob_fn\u001b[0m\u001b[0;34m,\u001b[0m \u001b[0;34m(\u001b[0m\u001b[0mp\u001b[0m\u001b[0;34m[\u001b[0m\u001b[0mi\u001b[0m\u001b[0;34m]\u001b[0m \u001b[0;32mfor\u001b[0m \u001b[0mi\u001b[0m \u001b[0;32min\u001b[0m \u001b[0mrange\u001b[0m\u001b[0;34m(\u001b[0m\u001b[0mlen\u001b[0m\u001b[0;34m(\u001b[0m\u001b[0mp\u001b[0m\u001b[0;34m)\u001b[0m\u001b[0;34m)\u001b[0m\u001b[0;34m)\u001b[0m\u001b[0;34m)\u001b[0m\u001b[0;34m\u001b[0m\u001b[0;34m\u001b[0m\u001b[0m\n\u001b[1;32m    428\u001b[0m             )\n",
      "\u001b[0;32m~/anaconda3/lib/python3.8/site-packages/emcee/ensemble.py\u001b[0m in \u001b[0;36m__call__\u001b[0;34m(self, x)\u001b[0m\n\u001b[1;32m    543\u001b[0m     \u001b[0;32mdef\u001b[0m \u001b[0m__call__\u001b[0m\u001b[0;34m(\u001b[0m\u001b[0mself\u001b[0m\u001b[0;34m,\u001b[0m \u001b[0mx\u001b[0m\u001b[0;34m)\u001b[0m\u001b[0;34m:\u001b[0m\u001b[0;34m\u001b[0m\u001b[0;34m\u001b[0m\u001b[0m\n\u001b[1;32m    544\u001b[0m         \u001b[0;32mtry\u001b[0m\u001b[0;34m:\u001b[0m\u001b[0;34m\u001b[0m\u001b[0;34m\u001b[0m\u001b[0m\n\u001b[0;32m--> 545\u001b[0;31m             \u001b[0;32mreturn\u001b[0m \u001b[0mself\u001b[0m\u001b[0;34m.\u001b[0m\u001b[0mf\u001b[0m\u001b[0;34m(\u001b[0m\u001b[0mx\u001b[0m\u001b[0;34m,\u001b[0m \u001b[0;34m*\u001b[0m\u001b[0mself\u001b[0m\u001b[0;34m.\u001b[0m\u001b[0margs\u001b[0m\u001b[0;34m,\u001b[0m \u001b[0;34m**\u001b[0m\u001b[0mself\u001b[0m\u001b[0;34m.\u001b[0m\u001b[0mkwargs\u001b[0m\u001b[0;34m)\u001b[0m\u001b[0;34m\u001b[0m\u001b[0;34m\u001b[0m\u001b[0m\n\u001b[0m\u001b[1;32m    546\u001b[0m         \u001b[0;32mexcept\u001b[0m\u001b[0;34m:\u001b[0m  \u001b[0;31m# pragma: no cover\u001b[0m\u001b[0;34m\u001b[0m\u001b[0;34m\u001b[0m\u001b[0m\n\u001b[1;32m    547\u001b[0m             \u001b[0;32mimport\u001b[0m \u001b[0mtraceback\u001b[0m\u001b[0;34m\u001b[0m\u001b[0;34m\u001b[0m\u001b[0m\n",
      "\u001b[0;32m~/Dropbox (UFL)/Research/MetallicityProject/photoeccentric/photoeccentric/photoeccentric.py\u001b[0m in \u001b[0;36mtfit_noper_log_probability\u001b[0;34m(theta, per, time, ptime, flux, flux_err)\u001b[0m\n\u001b[1;32m    971\u001b[0m     \u001b[0;32mif\u001b[0m \u001b[0;32mnot\u001b[0m \u001b[0mnp\u001b[0m\u001b[0;34m.\u001b[0m\u001b[0misfinite\u001b[0m\u001b[0;34m(\u001b[0m\u001b[0mlp\u001b[0m\u001b[0;34m)\u001b[0m\u001b[0;34m:\u001b[0m\u001b[0;34m\u001b[0m\u001b[0;34m\u001b[0m\u001b[0m\n\u001b[1;32m    972\u001b[0m         \u001b[0;32mreturn\u001b[0m \u001b[0;34m-\u001b[0m\u001b[0mnp\u001b[0m\u001b[0;34m.\u001b[0m\u001b[0minf\u001b[0m\u001b[0;34m\u001b[0m\u001b[0;34m\u001b[0m\u001b[0m\n\u001b[0;32m--> 973\u001b[0;31m     \u001b[0;32mreturn\u001b[0m \u001b[0mlp\u001b[0m \u001b[0;34m+\u001b[0m \u001b[0mtfit_noper_log_likelihood\u001b[0m\u001b[0;34m(\u001b[0m\u001b[0mtheta\u001b[0m\u001b[0;34m,\u001b[0m \u001b[0mper\u001b[0m\u001b[0;34m,\u001b[0m \u001b[0mtime\u001b[0m\u001b[0;34m,\u001b[0m \u001b[0mptime\u001b[0m\u001b[0;34m,\u001b[0m \u001b[0mflux\u001b[0m\u001b[0;34m,\u001b[0m \u001b[0mflux_err\u001b[0m\u001b[0;34m)\u001b[0m\u001b[0;34m\u001b[0m\u001b[0;34m\u001b[0m\u001b[0m\n\u001b[0m\u001b[1;32m    974\u001b[0m \u001b[0;34m\u001b[0m\u001b[0m\n\u001b[1;32m    975\u001b[0m \u001b[0;31m##############################################################################################\u001b[0m\u001b[0;34m\u001b[0m\u001b[0;34m\u001b[0m\u001b[0;34m\u001b[0m\u001b[0m\n",
      "\u001b[0;32m~/Dropbox (UFL)/Research/MetallicityProject/photoeccentric/photoeccentric/photoeccentric.py\u001b[0m in \u001b[0;36mtfit_noper_log_likelihood\u001b[0;34m(theta, per, time, ptime, flux, flux_err)\u001b[0m\n\u001b[1;32m    946\u001b[0m     \u001b[0mrp\u001b[0m\u001b[0;34m,\u001b[0m \u001b[0ma\u001b[0m\u001b[0;34m,\u001b[0m \u001b[0minc\u001b[0m\u001b[0;34m,\u001b[0m \u001b[0mt0\u001b[0m \u001b[0;34m=\u001b[0m \u001b[0mtheta\u001b[0m\u001b[0;34m\u001b[0m\u001b[0;34m\u001b[0m\u001b[0m\n\u001b[1;32m    947\u001b[0m \u001b[0;34m\u001b[0m\u001b[0m\n\u001b[0;32m--> 948\u001b[0;31m     \u001b[0mmodel\u001b[0m \u001b[0;34m=\u001b[0m \u001b[0mintegratedlc_fitter\u001b[0m\u001b[0;34m(\u001b[0m\u001b[0mtime\u001b[0m\u001b[0;34m,\u001b[0m \u001b[0mper\u001b[0m\u001b[0;34m,\u001b[0m \u001b[0mrp\u001b[0m\u001b[0;34m,\u001b[0m \u001b[0ma\u001b[0m\u001b[0;34m,\u001b[0m \u001b[0minc\u001b[0m\u001b[0;34m,\u001b[0m \u001b[0mt0\u001b[0m\u001b[0;34m)\u001b[0m\u001b[0;34m\u001b[0m\u001b[0;34m\u001b[0m\u001b[0m\n\u001b[0m\u001b[1;32m    949\u001b[0m     \u001b[0msigma2\u001b[0m \u001b[0;34m=\u001b[0m \u001b[0mflux_err\u001b[0m \u001b[0;34m**\u001b[0m \u001b[0;36m2\u001b[0m\u001b[0;34m\u001b[0m\u001b[0;34m\u001b[0m\u001b[0m\n\u001b[1;32m    950\u001b[0m \u001b[0;34m\u001b[0m\u001b[0m\n",
      "\u001b[0;32m~/Dropbox (UFL)/Research/MetallicityProject/photoeccentric/photoeccentric/lcfitter.py\u001b[0m in \u001b[0;36mintegratedlc_fitter\u001b[0;34m(time, per, rp, ars, inc, t0)\u001b[0m\n\u001b[1;32m    162\u001b[0m \u001b[0;34m\u001b[0m\u001b[0m\n\u001b[1;32m    163\u001b[0m     \u001b[0;31m#times to calculate light curve\u001b[0m\u001b[0;34m\u001b[0m\u001b[0;34m\u001b[0m\u001b[0;34m\u001b[0m\u001b[0m\n\u001b[0;32m--> 164\u001b[0;31m     \u001b[0mptime\u001b[0m \u001b[0;34m=\u001b[0m \u001b[0mget_ptime\u001b[0m\u001b[0;34m(\u001b[0m\u001b[0mtime\u001b[0m\u001b[0;34m,\u001b[0m \u001b[0mget_mid\u001b[0m\u001b[0;34m(\u001b[0m\u001b[0mtime\u001b[0m\u001b[0;34m)\u001b[0m\u001b[0;34m,\u001b[0m \u001b[0;36m29\u001b[0m\u001b[0;34m)\u001b[0m\u001b[0;34m\u001b[0m\u001b[0;34m\u001b[0m\u001b[0m\n\u001b[0m\u001b[1;32m    165\u001b[0m \u001b[0;34m\u001b[0m\u001b[0m\n\u001b[1;32m    166\u001b[0m     \u001b[0mm\u001b[0m \u001b[0;34m=\u001b[0m \u001b[0mbatman\u001b[0m\u001b[0;34m.\u001b[0m\u001b[0mTransitModel\u001b[0m\u001b[0;34m(\u001b[0m\u001b[0mparams\u001b[0m\u001b[0;34m,\u001b[0m \u001b[0mptime\u001b[0m\u001b[0;34m)\u001b[0m\u001b[0;34m\u001b[0m\u001b[0;34m\u001b[0m\u001b[0m\n",
      "\u001b[0;32m~/Dropbox (UFL)/Research/MetallicityProject/photoeccentric/photoeccentric/lcfitter.py\u001b[0m in \u001b[0;36mget_ptime\u001b[0;34m(time, mid, num)\u001b[0m\n\u001b[1;32m    269\u001b[0m \u001b[0;34m\u001b[0m\u001b[0m\n\u001b[1;32m    270\u001b[0m     \u001b[0;32mfor\u001b[0m \u001b[0mi\u001b[0m \u001b[0;32min\u001b[0m \u001b[0mrange\u001b[0m\u001b[0;34m(\u001b[0m\u001b[0mlen\u001b[0m\u001b[0;34m(\u001b[0m\u001b[0mtime\u001b[0m\u001b[0;34m)\u001b[0m\u001b[0;34m)\u001b[0m\u001b[0;34m:\u001b[0m\u001b[0;34m\u001b[0m\u001b[0;34m\u001b[0m\u001b[0m\n\u001b[0;32m--> 271\u001b[0;31m         \u001b[0mettemp\u001b[0m \u001b[0;34m=\u001b[0m \u001b[0mnp\u001b[0m\u001b[0;34m.\u001b[0m\u001b[0mlinspace\u001b[0m\u001b[0;34m(\u001b[0m\u001b[0mtime\u001b[0m\u001b[0;34m[\u001b[0m\u001b[0mi\u001b[0m\u001b[0;34m]\u001b[0m\u001b[0;34m-\u001b[0m\u001b[0mmid\u001b[0m\u001b[0;34m,\u001b[0m \u001b[0mtime\u001b[0m\u001b[0;34m[\u001b[0m\u001b[0mi\u001b[0m\u001b[0;34m]\u001b[0m\u001b[0;34m+\u001b[0m\u001b[0mmid\u001b[0m\u001b[0;34m,\u001b[0m \u001b[0mnum\u001b[0m\u001b[0;34m,\u001b[0m \u001b[0mendpoint\u001b[0m\u001b[0;34m=\u001b[0m\u001b[0;32mTrue\u001b[0m\u001b[0;34m)\u001b[0m\u001b[0;34m\u001b[0m\u001b[0;34m\u001b[0m\u001b[0m\n\u001b[0m\u001b[1;32m    272\u001b[0m         \u001b[0mettemp\u001b[0m \u001b[0;34m=\u001b[0m \u001b[0mlist\u001b[0m\u001b[0;34m(\u001b[0m\u001b[0mettemp\u001b[0m\u001b[0;34m)\u001b[0m\u001b[0;34m\u001b[0m\u001b[0;34m\u001b[0m\u001b[0m\n\u001b[1;32m    273\u001b[0m \u001b[0;34m\u001b[0m\u001b[0m\n",
      "\u001b[0;32m<__array_function__ internals>\u001b[0m in \u001b[0;36mlinspace\u001b[0;34m(*args, **kwargs)\u001b[0m\n",
      "\u001b[0;32m~/anaconda3/lib/python3.8/site-packages/numpy/core/function_base.py\u001b[0m in \u001b[0;36mlinspace\u001b[0;34m(start, stop, num, endpoint, retstep, dtype, axis)\u001b[0m\n\u001b[1;32m    149\u001b[0m         \u001b[0;32melse\u001b[0m\u001b[0;34m:\u001b[0m\u001b[0;34m\u001b[0m\u001b[0;34m\u001b[0m\u001b[0m\n\u001b[1;32m    150\u001b[0m             \u001b[0;32mif\u001b[0m \u001b[0m_mult_inplace\u001b[0m\u001b[0;34m:\u001b[0m\u001b[0;34m\u001b[0m\u001b[0;34m\u001b[0m\u001b[0m\n\u001b[0;32m--> 151\u001b[0;31m                 \u001b[0my\u001b[0m \u001b[0;34m*=\u001b[0m \u001b[0mstep\u001b[0m\u001b[0;34m\u001b[0m\u001b[0;34m\u001b[0m\u001b[0m\n\u001b[0m\u001b[1;32m    152\u001b[0m             \u001b[0;32melse\u001b[0m\u001b[0;34m:\u001b[0m\u001b[0;34m\u001b[0m\u001b[0;34m\u001b[0m\u001b[0m\n\u001b[1;32m    153\u001b[0m                 \u001b[0my\u001b[0m \u001b[0;34m=\u001b[0m \u001b[0my\u001b[0m \u001b[0;34m*\u001b[0m \u001b[0mstep\u001b[0m\u001b[0;34m\u001b[0m\u001b[0;34m\u001b[0m\u001b[0m\n",
      "\u001b[0;31mKeyboardInterrupt\u001b[0m: "
     ]
    }
   ],
   "source": [
    "# Inital guess: rprs, a/Rs, i, w\n",
    "p0 = [0.037493, 61, 89.99, 0]\n",
    "\n",
    "dr = 'Kepler737b'\n",
    "direct = 'plots/' + dr + '/'\n",
    "\n",
    "if not os.path.exists(direct):\n",
    "    os.mkdir(direct)\n",
    "\n",
    "# EMCEE Transit Model Fitting\n",
    "_, _, rdist, adist, idist, t0dist = ph.mcmc_fitter_noper(p0, period, t1, ptime, fnorm, fe1, nwalk, nsteps_d, ndiscard_d, 'X', 'X', direct)"
   ]
  },
  {
   "cell_type": "code",
   "execution_count": 1134,
   "metadata": {},
   "outputs": [
    {
     "data": {
      "text/plain": [
       "0.989835250918609"
      ]
     },
     "execution_count": 1134,
     "metadata": {},
     "output_type": "execute_result"
    }
   ],
   "source": [
    "ph.mode(rdist)"
   ]
  },
  {
   "cell_type": "code",
   "execution_count": 1135,
   "metadata": {},
   "outputs": [
    {
     "data": {
      "text/plain": [
       "138824040095800.0"
      ]
     },
     "execution_count": 1135,
     "metadata": {},
     "output_type": "execute_result"
    }
   ],
   "source": [
    "ph.mode(adist)"
   ]
  },
  {
   "cell_type": "code",
   "execution_count": 1136,
   "metadata": {},
   "outputs": [
    {
     "data": {
      "text/plain": [
       "0.9159162961717467"
      ]
     },
     "execution_count": 1136,
     "metadata": {},
     "output_type": "execute_result"
    }
   ],
   "source": [
    "ph.mode(idist)"
   ]
  },
  {
   "cell_type": "code",
   "execution_count": 1137,
   "metadata": {},
   "outputs": [
    {
     "data": {
      "text/plain": [
       "-5.653595704209818e+31"
      ]
     },
     "execution_count": 1137,
     "metadata": {},
     "output_type": "execute_result"
    }
   ],
   "source": [
    "ph.mode(t0dist)"
   ]
  },
  {
   "cell_type": "code",
   "execution_count": 1138,
   "metadata": {},
   "outputs": [
    {
     "data": {
      "text/plain": [
       "<matplotlib.legend.Legend at 0x7fdc07898cd0>"
      ]
     },
     "execution_count": 1138,
     "metadata": {},
     "output_type": "execute_result"
    },
    {
     "data": {
      "image/png": "[encoded data removed]",
      "text/plain": [
       "<Figure size 864x576 with 1 Axes>"
      ]
     },
     "metadata": {
      "needs_background": "light"
     },
     "output_type": "display_data"
    }
   ],
   "source": [
    "# Create a light curve with the fit parameters\n",
    "\n",
    "mcmcfit = ph.integratedlc_fitter(t1, period, ph.mode(rdist), ph.mode(adist), ph.mode(idist), ph.mode(t0dist))\n",
    "truefit = ph.integratedlc_fitter(t1, period, 0.037451, 60, 89.9, 0)\n",
    "\n",
    "plt.errorbar(t1, fnorm, yerr=fe1, c='blue', alpha=0.5, label='Original LC', fmt=\"o\", capsize=0)\n",
    "plt.scatter(t1, mcmcfit, c='red', alpha=1.0, label='Fit LC')\n",
    "plt.plot(t1, mcmcfit, c='red', alpha=1.0)\n",
    "plt.plot(t1, truefit, c='green', alpha=1.0)\n",
    "\n",
    "plt.legend()"
   ]
  },
  {
   "cell_type": "code",
   "execution_count": null,
   "metadata": {},
   "outputs": [],
   "source": []
  },
  {
   "cell_type": "code",
   "execution_count": null,
   "metadata": {},
   "outputs": [],
   "source": []
  },
  {
   "cell_type": "code",
   "execution_count": null,
   "metadata": {},
   "outputs": [],
   "source": []
  },
  {
   "cell_type": "code",
   "execution_count": null,
   "metadata": {},
   "outputs": [],
   "source": []
  },
  {
   "cell_type": "code",
   "execution_count": null,
   "metadata": {},
   "outputs": [],
   "source": []
  },
  {
   "cell_type": "code",
   "execution_count": null,
   "metadata": {},
   "outputs": [],
   "source": []
  }
 ],
 "metadata": {
  "kernelspec": {
   "display_name": "Python 3",
   "language": "python",
   "name": "python3"
  },
  "language_info": {
   "codemirror_mode": {
    "name": "ipython",
    "version": 3
   },
   "file_extension": ".py",
   "mimetype": "text/x-python",
   "name": "python",
   "nbconvert_exporter": "python",
   "pygments_lexer": "ipython3",
   "version": "3.8.5"
  }
 },
 "nbformat": 4,
 "nbformat_minor": 4
}
