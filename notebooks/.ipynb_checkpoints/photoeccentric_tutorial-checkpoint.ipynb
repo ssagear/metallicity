{
 "cells": [
  {
   "cell_type": "markdown",
   "metadata": {},
   "source": [
    "# `photoeccentric` Tutorial"
   ]
  },
  {
   "cell_type": "markdown",
   "metadata": {},
   "source": [
    "In this tutorial, I will create a simulated transit based on a Kepler planet and demonstrate how to use `photoeccentric` to recover the planet's eccentricity using the photoeccentric effect [(Dawson & Johnson 2012)](https://arxiv.org/pdf/1203.5537.pdf)."
   ]
  },
  {
   "cell_type": "markdown",
   "metadata": {},
   "source": [
    "The code I'm using to implement the photoeccentric effect is compiled into a package called `photoeccentric`, and can be viewed/downloaded here: https://github.com/ssagear/photoeccentric"
   ]
  },
  {
   "cell_type": "code",
   "execution_count": 1,
   "metadata": {},
   "outputs": [],
   "source": [
    "import numpy as np\n",
    "import matplotlib.pyplot as plt\n",
    "import pandas as pd\n",
    "from tqdm import tqdm\n",
    "from astropy.table import Table\n",
    "import astropy.units as u\n",
    "import os\n",
    "\n",
    "# Using `batman` to create & fit fake transit\n",
    "import batman\n",
    "\n",
    "# Using astropy BLS and scipy curve_fit to fit transit\n",
    "from astropy.timeseries import BoxLeastSquares\n",
    "from scipy.optimize import curve_fit\n",
    "\n",
    "import scipy.optimize as opt\n",
    "\n",
    "# Using emcee & corner to find and plot (e, w) distribution\n",
    "import emcee\n",
    "import corner\n",
    "\n",
    "# And importing `photoeccentric`\n",
    "import photoeccentric as ph\n",
    "\n",
    "%load_ext autoreload\n",
    "%autoreload 2\n",
    "\n",
    "#import importlib\n",
    "#importlib.reload(photoeccentric)"
   ]
  },
  {
   "cell_type": "code",
   "execution_count": 2,
   "metadata": {},
   "outputs": [],
   "source": [
    "def get_mid(time):\n",
    "    \"\"\"Gets approximately 1/2 of cadence time.\"\"\"\n",
    "    \n",
    "    return (time[1]-time[0])/2.\n",
    "\n",
    "\n",
    "def get_transit_cutout(transitmid, ncadences, time, flux, flux_err):\n",
    "    \n",
    "    \"\"\"Gets cutout with n cadences before and after transit.\n",
    "    transitmid and time have same units.\n",
    "    \n",
    "    Parameters\n",
    "    ----------\n",
    "    transitmid: float\n",
    "        Transit mid-time\n",
    "    ncadences: int\n",
    "        Number of cadences before and after transit mid-time.\n",
    "    time: np.array\n",
    "        Time \n",
    "    flux: np.array\n",
    "        Flux\n",
    "        \n",
    "    Returns\n",
    "    -------\n",
    "    t1: np.array\n",
    "        Cutout time\n",
    "    f1: np.array\n",
    "        Cutout flux\n",
    "    fe1: np.array\n",
    "        Cutout flux error\n",
    "    \n",
    "    \"\"\"\n",
    "    \n",
    "    \n",
    "    tindex = int(np.where(time == find_nearest(time, transitmid))[0])\n",
    "\n",
    "    n = 20\n",
    "\n",
    "    t1 = time[tindex-n:tindex+n] - transitmid\n",
    "    f1 = flux[tindex-n:tindex+n]\n",
    "    fe1 = flux_err[tindex-n:tindex+n]\n",
    "    \n",
    "    return t1, f1, fe1\n",
    "\n",
    "\n",
    "def divide_chunks(l, n):\n",
    "    for i in range(0, len(l), n):\n",
    "        yield l[i:i + n]\n",
    "        \n",
    "\n",
    "def array_integrated(arr, nint):\n",
    "\n",
    "    arr = list(divide_chunks(arr, nint))\n",
    "    arr = np.mean(np.array(arr), axis=1)\n",
    "\n",
    "    return arr\n",
    "\n",
    "\n",
    "def get_ptime(time, mid, num):\n",
    "\n",
    "    eti = []\n",
    "\n",
    "    for i in range(len(time)):\n",
    "        ettemp = np.linspace(time[i]-mid, time[i]+mid, num, endpoint=True)\n",
    "        ettemp = list(ettemp)\n",
    "\n",
    "        eti.append(ettemp)\n",
    "        \n",
    "    ptime = np.array([item for sublist in eti for item in sublist])\n",
    "    \n",
    "    return ptime\n",
    "\n",
    "\n",
    "def find_nearest(array, value):\n",
    "    array = np.asarray(array)\n",
    "    idx = np.nanargmin((np.abs(array - value)))\n",
    "    return array[idx]\n",
    "        "
   ]
  },
  {
   "cell_type": "code",
   "execution_count": 30,
   "metadata": {},
   "outputs": [],
   "source": [
    "nwalk = 64\n",
    "nsteps = 1000\n",
    "ndiscard = 500\n",
    "arrlen = (nsteps-ndiscard)*nwalk"
   ]
  },
  {
   "cell_type": "markdown",
   "metadata": {},
   "source": [
    "I'll define the conversions between solar mass -> kg and solar radius -> meters for convenience."
   ]
  },
  {
   "cell_type": "code",
   "execution_count": 31,
   "metadata": {},
   "outputs": [],
   "source": [
    "smass_kg = 1.9885e30  # Solar mass (kg)\n",
    "srad_m = 696.34e6 # Solar radius (m)"
   ]
  },
  {
   "cell_type": "markdown",
   "metadata": {},
   "source": [
    "## The Sample"
   ]
  },
  {
   "cell_type": "markdown",
   "metadata": {},
   "source": [
    "I'm using the sample of \"cool KOIs\" from [Muirhead et al. 2013](https://iopscience.iop.org/article/10.1088/0067-0049/213/1/5), and their properites from spectroscopy published here."
   ]
  },
  {
   "cell_type": "code",
   "execution_count": 32,
   "metadata": {},
   "outputs": [],
   "source": [
    "muirhead_data = pd.read_csv(\"datafiles/Muirhead2013_isochrones/muirhead_data_no_missing_data.txt\", sep=\" \")\n"
   ]
  },
  {
   "cell_type": "markdown",
   "metadata": {},
   "source": [
    "I'm reading in a file containing data for all Kepler planets from the Exoplanet Archive (`planets`), then only taking these data for planets in the Muirhead et al. 2013 sample (`spectplanets`)."
   ]
  },
  {
   "cell_type": "code",
   "execution_count": 33,
   "metadata": {},
   "outputs": [],
   "source": [
    "# ALL Kepler planets from exo archive\n",
    "planets = pd.read_csv('datafiles/exoplanetarchive/cumulative_kois.csv')\n",
    "\n",
    "# Take the Kepler planet archive entries for the planets in Muirhead et al. 2013 sample\n",
    "spectplanets = planets[planets['kepid'].isin(list(muirhead_data['KIC']))]\n",
    "spectplanets = spectplanets.reset_index()"
   ]
  },
  {
   "cell_type": "markdown",
   "metadata": {},
   "source": [
    "Now, I'm reading in the entire Kepler/Gaia dataset from [gaia-kepler.fun]. I'm again matching these data with the objects in our sample (`muirhead_gaia`). I'm using the DR2 data with a 4 arcsecond search radius.\n",
    "\n",
    "Then I'll combine the spectroscopy data with Kepler/Gaia data for our sample."
   ]
  },
  {
   "cell_type": "code",
   "execution_count": 34,
   "metadata": {},
   "outputs": [
    {
     "name": "stderr",
     "output_type": "stream",
     "text": [
      "/Users/ssagear/anaconda3/lib/python3.8/site-packages/IPython/core/interactiveshell.py:3418: TableReplaceWarning: converted column 'r_result_flag' from integer to float\n",
      "  exec(code_obj, self.user_global_ns, self.user_ns)\n",
      "/Users/ssagear/anaconda3/lib/python3.8/site-packages/IPython/core/interactiveshell.py:3418: TableReplaceWarning: converted column 'r_modality_flag' from integer to float\n",
      "  exec(code_obj, self.user_global_ns, self.user_ns)\n",
      "/Users/ssagear/anaconda3/lib/python3.8/site-packages/IPython/core/interactiveshell.py:3418: TableReplaceWarning: converted column 'teff_err1' from integer to float\n",
      "  exec(code_obj, self.user_global_ns, self.user_ns)\n",
      "/Users/ssagear/anaconda3/lib/python3.8/site-packages/IPython/core/interactiveshell.py:3418: TableReplaceWarning: converted column 'teff_err2' from integer to float\n",
      "  exec(code_obj, self.user_global_ns, self.user_ns)\n"
     ]
    }
   ],
   "source": [
    "# Kepler-Gaia Data\n",
    "kpgaia = Table.read('datafiles/Kepler-Gaia/kepler_dr2_4arcsec.fits', format='fits').to_pandas();\n",
    "\n",
    "# Kepler-Gaia data for only the objects in our sample\n",
    "muirhead_gaia = kpgaia[kpgaia['kepid'].isin(list(muirhead_data.KIC))]\n",
    "muirhead_gaia = muirhead_gaia.reset_index()\n",
    "muirhead_gaia.rename(columns={\"index\": \"KIC\"})\n",
    "\n",
    "# Combined spectroscopy data + Gaia/Kepler data for our sample\n",
    "muirhead_comb = pd.concat([muirhead_data, muirhead_gaia], axis=1)\n",
    "muirhead_comb_nn = muirhead_comb[muirhead_comb.KOI.notnull()]\n",
    "\n",
    "# Only targets from table above with published luminosities from Gaia\n",
    "muirhead_comb_lums = muirhead_comb_nn[muirhead_comb_nn.lum_val.notnull()]"
   ]
  },
  {
   "cell_type": "markdown",
   "metadata": {},
   "source": [
    "# Defining a \"test planet\""
   ]
  },
  {
   "cell_type": "markdown",
   "metadata": {},
   "source": [
    "I'm going to pick a random planet from our sample to test how well `photoeccentric` works. Here, I'm picking Kepler-1582 b, a super-Earth orbiting an M dwarf [Exoplanet Catalog Entry](https://exoplanets.nasa.gov/exoplanet-catalog/2457/kepler-1582-b/). It has an orbital period of about 5 days.\n",
    "\n",
    "First, I'll use the spectroscopy data from Muirhead et al. 2013 and Gaia luminosities to constrain the mass and radius of the host star beyond the constraint published in the Exoplanet Archive. I'll do this by matching these data with stellar isochrones [MESA](https://iopscience.iop.org/article/10.3847/0004-637X/823/2/102) (check this ciation) and using the masses/radii from the matching isochrones to constrian the stellar density."
   ]
  },
  {
   "cell_type": "code",
   "execution_count": 35,
   "metadata": {},
   "outputs": [],
   "source": [
    "# Kepler ID for Kepler-1582 b\n",
    "kepid = 5868793\n",
    "kepname = spectplanets.loc[spectplanets['kepid'] == kepid].kepler_name.values[0]\n",
    "\n",
    "kp1582b = muirhead_comb.loc[muirhead_comb['KIC'] == kepid]\n"
   ]
  },
  {
   "cell_type": "code",
   "execution_count": 36,
   "metadata": {},
   "outputs": [],
   "source": [
    "# Read in MESA isochrones\n",
    "isochrones = pd.read_csv('datafiles/Muirhead2013_isochrones/isochrones_sdss_spitzer_lowmass.dat', sep='\\s\\s+', engine='python')\n"
   ]
  },
  {
   "cell_type": "markdown",
   "metadata": {},
   "source": [
    "##### Using `ph.fit_isochrone_lum()` to match isochrones to stellar data"
   ]
  },
  {
   "cell_type": "code",
   "execution_count": 37,
   "metadata": {},
   "outputs": [],
   "source": [
    "#iso_lums = ph.fit_isochrone_lum(kp1582b, muirhead_comb, isochrones, gaia_lum=True)"
   ]
  },
  {
   "cell_type": "code",
   "execution_count": 38,
   "metadata": {},
   "outputs": [],
   "source": [
    "# Write to csv, then read back in (prevents python notebook from lagging)\n",
    "#iso_lums.to_csv(\"datafiles/isochrones/iso_lums_\" + str(kepid) + \".csv\")"
   ]
  },
  {
   "cell_type": "code",
   "execution_count": 39,
   "metadata": {},
   "outputs": [],
   "source": [
    "isodf = pd.read_csv(\"datafiles/isochrones/iso_lums_\" + str(kepid) + \".csv\")"
   ]
  },
  {
   "cell_type": "markdown",
   "metadata": {},
   "source": [
    "I'm determining the mass and radius constraints of this star based on the isochrones that were consistent with the observational data."
   ]
  },
  {
   "cell_type": "code",
   "execution_count": 40,
   "metadata": {},
   "outputs": [],
   "source": [
    "mstar = isodf[\"mstar\"].mean()\n",
    "mstar_err = isodf[\"mstar\"].std()\n",
    "\n",
    "rstar = isodf[\"radius\"].mean()\n",
    "rstar_err = isodf[\"radius\"].std()"
   ]
  },
  {
   "cell_type": "markdown",
   "metadata": {},
   "source": [
    "##### Using `ph.find_density_dist_symmetric()` to create a stellar density distribution from symmetric (Gaussian) distributions based on mstar and rstar (from isochrones). \n",
    "Note: this does not necessarily mean the resulting density distribution will appear symmetric."
   ]
  },
  {
   "cell_type": "code",
   "execution_count": 41,
   "metadata": {
    "scrolled": true
   },
   "outputs": [],
   "source": [
    "rho_star, mass, radius = ph.find_density_dist_symmetric(mstar, mstar_err, rstar, rstar_err, arrlen)"
   ]
  },
  {
   "cell_type": "code",
   "execution_count": 42,
   "metadata": {},
   "outputs": [
    {
     "data": {
      "text/plain": [
       "Text(0.5, 0, 'Stellar Density Histogram (kg m^-3)')"
      ]
     },
     "execution_count": 42,
     "metadata": {},
     "output_type": "execute_result"
    },
    {
     "data": {
      "image/png": "[encoded data removed]",
      "text/plain": [
       "<Figure size 432x288 with 1 Axes>"
      ]
     },
     "metadata": {
      "needs_background": "light"
     },
     "output_type": "display_data"
    }
   ],
   "source": [
    "plt.hist(rho_star, bins=20)\n",
    "plt.xlabel('Stellar Density Histogram (kg m^-3)', fontsize=20)"
   ]
  },
  {
   "cell_type": "markdown",
   "metadata": {},
   "source": [
    "# Creating a fake light curve based on a real planet"
   ]
  },
  {
   "cell_type": "markdown",
   "metadata": {},
   "source": [
    "I'm pulling the planet parameters of Kepler-1582 b from the exoplanet archive using `ph.planet_params_from_archive()`. This will give me the published period, Rp/Rs, and inclination constraints of this planet. (It will also return some other parameters, but we don't need those right now)."
   ]
  },
  {
   "cell_type": "markdown",
   "metadata": {},
   "source": [
    "#### I'm calculating a/Rs using `ph.calc_a()`, instead of using the a/Rs constraint from the Exoplanet Archive. The reason is because a/Rs must be consistent with the density calculated above from spectroscopy/Gaia for the photoeccentric effect to work correctly, and the published a/Rs is often inconsistent. a/Rs depends on the orbital period, Mstar, and Rstar."
   ]
  },
  {
   "cell_type": "code",
   "execution_count": 43,
   "metadata": {},
   "outputs": [
    {
     "name": "stdout",
     "output_type": "stream",
     "text": [
      "Stellar mass (Msun):  0.18620280162489727 Stellar radius (Rsun):  0.21038847941706276\n",
      "Period (Days):  4.83809469 Rp/Rs:  0.036066\n",
      "a/Rs:  32.64384979582086\n",
      "i (deg):  89.98\n"
     ]
    }
   ],
   "source": [
    "period, period_uerr, period_lerr, rprs, rprs_uerr, rprs_lerr, a_arc, a_uerr_arc, a_lerr_arc, i, e_arc, w_arc = ph.planet_params_from_archive(spectplanets, kepname)\n",
    "\n",
    "# We calculate a_rs to ensure that it's consistent with the spec/Gaia stellar density.\n",
    "a_rs = ph.calc_a(period*86400.0, mstar*smass_kg, rstar*srad_m)\n",
    "a_rs_err = np.mean((a_uerr_arc, a_lerr_arc))\n",
    "\n",
    "print('Stellar mass (Msun): ', mstar, 'Stellar radius (Rsun): ', rstar)\n",
    "print('Period (Days): ', period, 'Rp/Rs: ', rprs)\n",
    "print('a/Rs: ', a_rs)\n",
    "print('i (deg): ', i)"
   ]
  },
  {
   "cell_type": "markdown",
   "metadata": {},
   "source": [
    "Now, I'll create a fake transit using `batman`.\n",
    "I'm creating a model with the period, Rp/Rs, a/Rs, and inclination specified by the Kepler catalog entry and the density constraints I determined\n",
    "\n",
    "I'll create the transit model with an $e$ and $w$ of my choice. This will allow me to test whether `photoeccentric` accurately recovers the $(e,w)$ combination I have input. I'll start with $e = 0.0$ and $w = 90.0$ degrees."
   ]
  },
  {
   "cell_type": "markdown",
   "metadata": {},
   "source": [
    "## $e = 0.0$, $\\omega = 90.0$"
   ]
  },
  {
   "cell_type": "code",
   "execution_count": 44,
   "metadata": {},
   "outputs": [],
   "source": [
    "time = np.arange(-24, 24, 0.02142857142857143)\n"
   ]
  },
  {
   "cell_type": "code",
   "execution_count": 45,
   "metadata": {},
   "outputs": [],
   "source": [
    "def planetlc(time, per, rp, a, inc, w):\n",
    "    params = batman.TransitParams()       #object to store transit parameters\n",
    "    params.t0 = 0.                        #time of inferior conjunction\n",
    "    params.per = per                      #orbital period\n",
    "    params.rp = rp                        #planet radius (in units of stellar radii)\n",
    "    params.a = a                          #semi-major axis (in units of stellar radii)\n",
    "    params.inc = inc                      #orbital inclination (in degrees)\n",
    "    params.ecc = 0.0\n",
    "    params.w = w                          #longitude of periastron (in degrees)\n",
    "    #params.limb_dark = \"linear\"\n",
    "    #params.u = [0.3]\n",
    "    #params.limb_dark = \"quadratic\"\n",
    "    #params.u = [0.1, 0.3]\n",
    "    params.limb_dark = \"uniform\"\n",
    "    params.u = []\n",
    "\n",
    "    #times to calculate light curve\n",
    "    m = batman.TransitModel(params, time)\n",
    "    \n",
    "    flux = m.light_curve(params)\n",
    "    \n",
    "    return flux"
   ]
  },
  {
   "cell_type": "code",
   "execution_count": 46,
   "metadata": {},
   "outputs": [],
   "source": [
    "# Calculate flux from transit model\n",
    "e = 0.0\n",
    "w = 90.0\n",
    "flux = ph.integrate_lcfitter_P(time, period, rprs, a_rs, i)\n",
    "\n",
    "# Adding some gaussian noise\n",
    "noise = np.random.normal(0,0.000005,len(time))\n",
    "nflux = flux+noise\n",
    "\n",
    "flux_err = np.array([0.000005]*len(nflux))"
   ]
  },
  {
   "cell_type": "code",
   "execution_count": 47,
   "metadata": {},
   "outputs": [
    {
     "data": {
      "text/plain": [
       "(-1.0, 1.0)"
      ]
     },
     "execution_count": 47,
     "metadata": {},
     "output_type": "execute_result"
    },
    {
     "data": {
      "image/png": "[encoded data removed]",
      "text/plain": [
       "<Figure size 432x288 with 1 Axes>"
      ]
     },
     "metadata": {
      "needs_background": "light"
     },
     "output_type": "display_data"
    }
   ],
   "source": [
    "plt.errorbar(time, nflux, yerr=flux_err)\n",
    "plt.xlabel('Time')\n",
    "plt.ylabel('Flux')\n",
    "plt.xlim(-1, 1)"
   ]
  },
  {
   "cell_type": "markdown",
   "metadata": {},
   "source": [
    "## Fitting the transit"
   ]
  },
  {
   "cell_type": "markdown",
   "metadata": {},
   "source": [
    "I'm using the Astropy BLS method to determine the period of the fake light curve. I'll use the power spectrum to create a PDF of the possible periods for this planet. I'm fitting the period and the other planet parameters separately."
   ]
  },
  {
   "cell_type": "code",
   "execution_count": 48,
   "metadata": {},
   "outputs": [],
   "source": [
    "def get_period_dist(time, flux, periods, size):\n",
    "    \"\"\"Periods is an array of periods to test.\"\"\"\n",
    "    \n",
    "    model = BoxLeastSquares(time*u.day, nflux, dy=0.01)\n",
    "    periodogram = model.power(periods, 0.2)\n",
    "    normpower = periodogram.power/np.sum(periodogram.power)\n",
    "    \n",
    "    periodPDF = np.random.choice(periods, size=size, p=normpower)\n",
    "    \n",
    "    return periodPDF\n",
    "    "
   ]
  },
  {
   "cell_type": "code",
   "execution_count": 49,
   "metadata": {},
   "outputs": [],
   "source": [
    "periods = np.linspace(4, 6, 1000) * u.day\n",
    "\n",
    "periodPDF = get_period_dist(time, nflux, periods, arrlen)"
   ]
  },
  {
   "cell_type": "code",
   "execution_count": 50,
   "metadata": {},
   "outputs": [
    {
     "name": "stdout",
     "output_type": "stream",
     "text": [
      "Period fit:  4.842842842842843\n"
     ]
    }
   ],
   "source": [
    "print('Period fit: ', np.median(periodPDF))"
   ]
  },
  {
   "cell_type": "markdown",
   "metadata": {},
   "source": [
    "Now, I'm fitting the transit shape with `emcee`. $Rp/Rs$, $a/Rs$, $i$, and $w$ are allowed to vary as free parameters. \n",
    "\n",
    "The transit fitter, `ph.planetlc_fitter`, fixes $e = 0.0$, even if the input eccentricity is not zero! This means that if e != 0, the transit fitter will fit the wrong values for $a/Rs$ and $i$ -- but they will be wrong in such a way that reveals the eccentricity of the orbit. More on that in the next section.\n",
    "\n",
    "I enter an initial guess based on what I estimate the fit parameters will be. For this one, I'll enter values pretty close to what I input."
   ]
  },
  {
   "cell_type": "code",
   "execution_count": 51,
   "metadata": {},
   "outputs": [],
   "source": [
    "time1, nflux1, fluxerr1 = get_transit_cutout(0.0, 20, time, nflux, flux_err)"
   ]
  },
  {
   "cell_type": "code",
   "execution_count": 52,
   "metadata": {},
   "outputs": [],
   "source": [
    "mid = get_mid(time1)\n",
    "ptime1 = get_ptime(time1, mid, 29)"
   ]
  },
  {
   "cell_type": "code",
   "execution_count": 86,
   "metadata": {},
   "outputs": [
    {
     "name": "stderr",
     "output_type": "stream",
     "text": [
      "  0%|          | 0/1000 [00:00<?, ?it/s]/Users/ssagear/anaconda3/lib/python3.8/site-packages/emcee/moves/red_blue.py:99: RuntimeWarning: invalid value encountered in double_scalars\n",
      "  lnpdiff = f + nlp - state.log_prob[j]\n",
      "100%|██████████| 1000/1000 [00:00<00:00, 1388.16it/s]\n",
      "WARNING:root:Too few points to create valid contours\n",
      "WARNING:root:Too few points to create valid contours\n",
      "WARNING:root:Too few points to create valid contours\n"
     ]
    }
   ],
   "source": [
    "# Inital guess: period, rprs, a/Rs, i, w\n",
    "p0 = [4.8, rprs, 35, 89.9]\n",
    "\n",
    "dr = 'e_' + str(0) + '_w_' + str(w)\n",
    "direct = 'plots_tutorial/' + dr + '/'\n",
    "\n",
    "if not os.path.exists(direct):\n",
    "    os.mkdir(direct)\n",
    "\n",
    "# EMCEE Transit Model Fitting\n",
    "_, _, rdist, adist, idist = ph.mcmc_fitter_P(p0, time1, ptime1, nflux1, fluxerr1, nwalk, nsteps, ndiscard, e, w, direct)"
   ]
  },
  {
   "cell_type": "code",
   "execution_count": 87,
   "metadata": {},
   "outputs": [],
   "source": [
    "pdist = periodPDF\n",
    "\n",
    "per_f = ph.mode(pdist)\n",
    "rprs_f = ph.mode(rdist)\n",
    "a_f = ph.mode(adist)\n",
    "i_f = ph.mode(idist)"
   ]
  },
  {
   "cell_type": "markdown",
   "metadata": {},
   "source": [
    "\n",
    "Below, I print the original parameters and fit parameters, and overlay the fit light curve on the input light curve. \n",
    "\n",
    "Because I input $e = 0.0$, the transit fitter should return the exact same parameters I input (because the transit fitter always requires $e = 0.0$)."
   ]
  },
  {
   "cell_type": "code",
   "execution_count": 88,
   "metadata": {},
   "outputs": [],
   "source": [
    "# Create a light curve with the fit parameters\n",
    "fit1 = ph.integrate_lcfitter_P(time1, per_f, rprs_f, a_f, i_f)"
   ]
  },
  {
   "cell_type": "code",
   "execution_count": 89,
   "metadata": {},
   "outputs": [
    {
     "name": "stdout",
     "output_type": "stream",
     "text": [
      "Stellar mass (Msun):  0.18620280162489727 Stellar radius (Rsun):  0.21038847941706276\n",
      "\n",
      "\n",
      "Input params:\n",
      "Rp/Rs:  0.036066\n",
      "a/Rs:  32.64384979582086\n",
      "i (deg):  89.98\n",
      "w (deg):  90.0\n",
      "\n",
      "\n",
      "Fit params:\n",
      "Rp/Rs:  4.800151510190375\n",
      "a/Rs:  0.03618476211428078\n",
      "i (deg):  34.99998856829554\n"
     ]
    },
    {
     "data": {
      "image/png": "[encoded data removed]",
      "text/plain": [
       "<Figure size 432x288 with 1 Axes>"
      ]
     },
     "metadata": {
      "needs_background": "light"
     },
     "output_type": "display_data"
    }
   ],
   "source": [
    "plt.errorbar(time1, nflux1, yerr=fluxerr1, c='blue', alpha=0.5, label='Original LC')\n",
    "plt.plot(time1, fit1, c='red', alpha=1.0, label='Fit LC')\n",
    "#plt.xlim(-0.1, 0.1)\n",
    "plt.legend()\n",
    "\n",
    "print('Stellar mass (Msun): ', mstar, 'Stellar radius (Rsun): ', rstar)\n",
    "\n",
    "print('\\n')\n",
    "\n",
    "print('Input params:')\n",
    "print('Rp/Rs: ', rprs)\n",
    "print('a/Rs: ', a_rs)\n",
    "print('i (deg): ', i)\n",
    "print('w (deg): ', w)\n",
    "\n",
    "print('\\n')\n",
    "\n",
    "print('Fit params:')\n",
    "print('Rp/Rs: ', rprs_f)\n",
    "print('a/Rs: ', a_f)\n",
    "print('i (deg): ', i_f)"
   ]
  },
  {
   "cell_type": "markdown",
   "metadata": {},
   "source": [
    "### Determining T14 and T23"
   ]
  },
  {
   "cell_type": "markdown",
   "metadata": {},
   "source": [
    "A crucial step to determining the $(e, w)$ distribution from the transit is calculating the total and full transit durations. T14 is the total transit duration (the time between first and fourth contact). T23 is the full transit duration (i.e. the time during which the entire planet disk is in front of the star, the time between second and third contact.)\n",
    "\n",
    "\n",
    "Here, I'm using equations 14 and 15 from [this textbook](https://sites.astro.caltech.edu/~lah/review/transits_occultations.winn.pdf). We calculate T14 and T23 assuming the orbit must be circular, and using the fit parameters assuming the orbit is circular. (If the orbit is not circular, T14 and T23 will not be correct -- but this is what we want, because they will differ from the true T14 and T23 in a way that reveals the eccentricity of the orbit.)"
   ]
  },
  {
   "cell_type": "code",
   "execution_count": 78,
   "metadata": {},
   "outputs": [],
   "source": [
    "T14dist = ph.get_T14(pdist, rdist, adist, idist)\n",
    "T14errs = ph.get_sigmas(T14dist)\n",
    "\n",
    "T23dist = ph.get_T23(pdist, rdist, adist, idist)\n",
    "T23errs = ph.get_sigmas(T23dist)"
   ]
  },
  {
   "cell_type": "markdown",
   "metadata": {},
   "source": [
    "# Get $g$"
   ]
  },
  {
   "attachments": {
    "image.png": {
     "image/png": "[encoded data removed]"
    }
   },
   "cell_type": "markdown",
   "metadata": {},
   "source": [
    "Finally, we can use all the values above to determine $\\rho_{circ}$. $\\rho_{circ}$ is what we would calculate the stellar density to be if we knew that the orbit was definitely perfectly circular. We  will compare $\\rho_{circ}$ to $\\rho_{star}$ (the true, observed stellar density we calculated from spectroscopy/Gaia), and get $g(e, w)$:\n",
    "![image.png](attachment:image.png)"
   ]
  },
  {
   "attachments": {
    "image.png": {
     "image/png": "[encoded data removed]"
    }
   },
   "cell_type": "markdown",
   "metadata": {},
   "source": [
    "which is also defined as ![image.png](attachment:image.png)"
   ]
  },
  {
   "cell_type": "markdown",
   "metadata": {},
   "source": [
    "Thus, if the orbit is circular $(e = 0)$, then $g$ should equal 1. If the orbit is not circular $(e != 0)$, then $\\rho_{circ}$ should differ from $\\rho_{star}$, and $g$ should be something other than 1. We can draw a $(e, w)$ distribution based on the value we calcaulte for $g(e,w)$!"
   ]
  },
  {
   "cell_type": "markdown",
   "metadata": {},
   "source": [
    "`ph.get_g_distribution()` will help us determine the value of g. This function takes the observed $\\rho_{star}$ as well as the fit (circular) transit parameters and calculated transit durations, and calculates $\\rho_{circ}$ and $g(e,w)$ based on equations 6 and 7 in [Dawson & Johnson 2012](https://arxiv.org/pdf/1203.5537.pdf)."
   ]
  },
  {
   "cell_type": "code",
   "execution_count": 79,
   "metadata": {},
   "outputs": [],
   "source": [
    "gs, rho_c = ph.get_g_distribution(rho_star, pdist, rdist, T14dist, T23dist)\n",
    "\n",
    "g_mean = np.nanmean(gs)\n",
    "g_sigma = np.mean(np.abs(ph.get_sigmas(gs)))"
   ]
  },
  {
   "cell_type": "markdown",
   "metadata": {},
   "source": [
    "Print $g$ and $\\sigma_{g}$:"
   ]
  },
  {
   "cell_type": "code",
   "execution_count": 80,
   "metadata": {},
   "outputs": [
    {
     "data": {
      "text/plain": [
       "0.9026491076365084"
      ]
     },
     "execution_count": 80,
     "metadata": {},
     "output_type": "execute_result"
    }
   ],
   "source": [
    "g_mean"
   ]
  },
  {
   "cell_type": "code",
   "execution_count": 81,
   "metadata": {},
   "outputs": [
    {
     "data": {
      "text/plain": [
       "0.11998600631799067"
      ]
     },
     "execution_count": 81,
     "metadata": {},
     "output_type": "execute_result"
    }
   ],
   "source": [
    "g_sigma"
   ]
  },
  {
   "cell_type": "markdown",
   "metadata": {},
   "source": [
    "The mean of $g$ is about 1.0, which means that $\\rho_{circ}$ agrees with $\\rho_{star}$ and the eccentricity of this transit must be zero, which is exactly what we input! We can take $g$ and $\\sigma_{g}$ and use MCMC (`emcee`) to determine the surface of most likely $(e,w)$.\n",
    "\n",
    "`photoeccentric` has the probability function for $(e,w)$ from $g$ built in to `ph.log_probability()`."
   ]
  },
  {
   "cell_type": "code",
   "execution_count": 82,
   "metadata": {},
   "outputs": [],
   "source": [
    "#Guesses\n",
    "w_guess = 0.0\n",
    "e_guess = 0.0\n",
    "\n",
    "solnx = (w_guess, e_guess)\n",
    "pos = solnx + 1e-4 * np.random.randn(32, 2)\n",
    "nwalkers, ndim = pos.shape"
   ]
  },
  {
   "cell_type": "code",
   "execution_count": 83,
   "metadata": {
    "scrolled": true
   },
   "outputs": [
    {
     "name": "stderr",
     "output_type": "stream",
     "text": [
      "  0%|          | 0/5000 [00:00<?, ?it/s]/Users/ssagear/anaconda3/lib/python3.8/site-packages/emcee/moves/red_blue.py:99: RuntimeWarning: invalid value encountered in double_scalars\n",
      "  lnpdiff = f + nlp - state.log_prob[j]\n",
      "100%|██████████| 5000/5000 [00:04<00:00, 1194.30it/s]\n"
     ]
    }
   ],
   "source": [
    "sampler = emcee.EnsembleSampler(nwalkers, ndim, ph.log_probability, args=(g_mean, g_sigma), threads=4)\n",
    "sampler.run_mcmc(pos, 5000, progress=True);"
   ]
  },
  {
   "cell_type": "code",
   "execution_count": 84,
   "metadata": {},
   "outputs": [
    {
     "data": {
      "image/png": "[encoded data removed]",
      "text/plain": [
       "<Figure size 396x396 with 4 Axes>"
      ]
     },
     "metadata": {
      "needs_background": "light"
     },
     "output_type": "display_data"
    }
   ],
   "source": [
    "labels = [\"w\", \"e\"]\n",
    "\n",
    "flat_samples = sampler.get_chain(discard=100, thin=15, flat=True)\n",
    "fig = corner.corner(flat_samples, labels=labels, show_titles=True, title_kwargs={\"fontsize\": 12}, truths=[w, e], quantiles=[0.16, 0.5, 0.84], plot_contours=True)"
   ]
  },
  {
   "cell_type": "markdown",
   "metadata": {},
   "source": [
    "And here is the corner plot for the most likely values of $(e, w)$ that correspond to $g = 1$. The $e$ distribution peaks at 0!"
   ]
  },
  {
   "cell_type": "markdown",
   "metadata": {},
   "source": [
    "# $e=0.3$, $w=90.0$"
   ]
  },
  {
   "cell_type": "markdown",
   "metadata": {},
   "source": [
    "Let's do that again, but this time I'll do an eccentric orbit: e = 0.3 and w = 90."
   ]
  },
  {
   "cell_type": "code",
   "execution_count": 126,
   "metadata": {},
   "outputs": [],
   "source": [
    "time = np.linspace(-24, 24, 10000)"
   ]
  },
  {
   "cell_type": "code",
   "execution_count": 127,
   "metadata": {},
   "outputs": [],
   "source": [
    "def planetlc(time, per, rp, a, inc, w):\n",
    "    params = batman.TransitParams()       #object to store transit parameters\n",
    "    params.t0 = 0.                        #time of inferior conjunction\n",
    "    params.per = per                      #orbital period\n",
    "    params.rp = rp                        #planet radius (in units of stellar radii)\n",
    "    params.a = a                          #semi-major axis (in units of stellar radii)\n",
    "    params.inc = inc                      #orbital inclination (in degrees)\n",
    "    params.ecc = 0.3\n",
    "    params.w = w                          #longitude of periastron (in degrees)\n",
    "    #params.limb_dark = \"linear\"\n",
    "    #params.u = [0.3]\n",
    "    params.limb_dark = \"quadratic\"\n",
    "    params.u = [0.1, 0.3]\n",
    "    #params.limb_dark = \"uniform\"\n",
    "    #params.u = []\n",
    "\n",
    "    #times to calculate light curve\n",
    "    m = batman.TransitModel(params, time)\n",
    "    \n",
    "    flux = m.light_curve(params)\n",
    "    \n",
    "    return flux"
   ]
  },
  {
   "cell_type": "code",
   "execution_count": 128,
   "metadata": {},
   "outputs": [],
   "source": [
    "# Calculate flux from transit model\n",
    "e = 0.3\n",
    "w = 90.0\n",
    "flux = planetlc(time, period, rprs, a_rs, i, w)\n",
    "\n",
    "# Adding some gaussian noise\n",
    "noise = np.random.normal(0,0.00005,len(time))\n",
    "nflux = flux+noise"
   ]
  },
  {
   "cell_type": "code",
   "execution_count": 129,
   "metadata": {},
   "outputs": [
    {
     "data": {
      "text/plain": [
       "Text(0, 0.5, 'Flux')"
      ]
     },
     "execution_count": 129,
     "metadata": {},
     "output_type": "execute_result"
    },
    {
     "data": {
      "image/png": "[encoded data removed]",
      "text/plain": [
       "<Figure size 432x288 with 1 Axes>"
      ]
     },
     "metadata": {
      "needs_background": "light"
     },
     "output_type": "display_data"
    }
   ],
   "source": [
    "plt.plot(time, nflux)\n",
    "plt.xlabel('Time')\n",
    "plt.ylabel('Flux')\n",
    "#plt.xlim(-1, 1)"
   ]
  },
  {
   "cell_type": "markdown",
   "metadata": {},
   "source": [
    "## Fitting the transit"
   ]
  },
  {
   "cell_type": "markdown",
   "metadata": {},
   "source": [
    "Using astropy BLS:"
   ]
  },
  {
   "cell_type": "code",
   "execution_count": 130,
   "metadata": {},
   "outputs": [],
   "source": [
    "per_guess = ph.bls(time, nflux)"
   ]
  },
  {
   "cell_type": "markdown",
   "metadata": {},
   "source": [
    "And fitting the transit using `ph.planetlc_fitter()`.\n",
    "\n",
    "As explained above, because here the true eccentricity of the orbit is not zero, the transit fitter should fit the wrong values for $a/Rs$ and $i$ in a way that reveals the eccentricity of the orbit.\n",
    "\n",
    "I enter an initial guess based on what I estimate the fit parameters will be: here, I'll try guesses for $a/Rs$ and $i$ that are slightly larger and smaller than the true values, respectively."
   ]
  },
  {
   "cell_type": "code",
   "execution_count": 132,
   "metadata": {},
   "outputs": [
    {
     "ename": "TypeError",
     "evalue": "mcmc_fitter() missing 1 required positional argument: 'directory'",
     "output_type": "error",
     "traceback": [
      "\u001b[0;31m---------------------------------------------------------------------------\u001b[0m",
      "\u001b[0;31mTypeError\u001b[0m                                 Traceback (most recent call last)",
      "\u001b[0;32m<ipython-input-132-7939bfef0e97>\u001b[0m in \u001b[0;36m<module>\u001b[0;34m\u001b[0m\n\u001b[1;32m      9\u001b[0m \u001b[0;34m\u001b[0m\u001b[0m\n\u001b[1;32m     10\u001b[0m \u001b[0;31m# EMCEE Transit Model Fitting\u001b[0m\u001b[0;34m\u001b[0m\u001b[0;34m\u001b[0m\u001b[0;34m\u001b[0m\u001b[0m\n\u001b[0;32m---> 11\u001b[0;31m \u001b[0mres\u001b[0m\u001b[0;34m,\u001b[0m \u001b[0merrs\u001b[0m\u001b[0;34m,\u001b[0m \u001b[0mpdist\u001b[0m\u001b[0;34m,\u001b[0m \u001b[0mrdist\u001b[0m\u001b[0;34m,\u001b[0m \u001b[0madist\u001b[0m\u001b[0;34m,\u001b[0m \u001b[0midist\u001b[0m \u001b[0;34m=\u001b[0m \u001b[0mph\u001b[0m\u001b[0;34m.\u001b[0m\u001b[0mmcmc_fitter\u001b[0m\u001b[0;34m(\u001b[0m\u001b[0mp0\u001b[0m\u001b[0;34m,\u001b[0m \u001b[0mtime\u001b[0m\u001b[0;34m,\u001b[0m \u001b[0mnflux\u001b[0m\u001b[0;34m,\u001b[0m \u001b[0mflux_err\u001b[0m\u001b[0;34m,\u001b[0m \u001b[0mnwalk\u001b[0m\u001b[0;34m,\u001b[0m \u001b[0mnsteps\u001b[0m\u001b[0;34m,\u001b[0m \u001b[0mndiscard\u001b[0m\u001b[0;34m,\u001b[0m \u001b[0me\u001b[0m\u001b[0;34m,\u001b[0m \u001b[0mw\u001b[0m\u001b[0;34m,\u001b[0m \u001b[0mdirect\u001b[0m\u001b[0;34m)\u001b[0m\u001b[0;34m\u001b[0m\u001b[0;34m\u001b[0m\u001b[0m\n\u001b[0m\u001b[1;32m     12\u001b[0m \u001b[0;34m\u001b[0m\u001b[0m\n\u001b[1;32m     13\u001b[0m \u001b[0mp_f\u001b[0m\u001b[0;34m,\u001b[0m \u001b[0mrprs_f\u001b[0m\u001b[0;34m,\u001b[0m \u001b[0ma_f\u001b[0m\u001b[0;34m,\u001b[0m \u001b[0mi_f\u001b[0m \u001b[0;34m=\u001b[0m \u001b[0mres\u001b[0m\u001b[0;34m\u001b[0m\u001b[0;34m\u001b[0m\u001b[0m\n",
      "\u001b[0;31mTypeError\u001b[0m: mcmc_fitter() missing 1 required positional argument: 'directory'"
     ]
    }
   ],
   "source": [
    "# Inital guess: period, rprs, a/Rs, i, w\n",
    "p0 = [per_guess, rprs, 40, 89, w]\n",
    "\n",
    "dr = 'e_' + str(0) + '_w_' + str(w)\n",
    "direct = 'plots_tutorial/' + dr + '/'\n",
    "\n",
    "if not os.path.exists(direct):\n",
    "    os.mkdir(direct)\n",
    "\n",
    "# EMCEE Transit Model Fitting\n",
    "res, errs, pdist, rdist, adist, idist = ph.mcmc_fitter(p0, time, nflux, flux_err, nwalk, nsteps, ndiscard, e, w, direct)\n",
    "\n",
    "p_f, rprs_f, a_f, i_f = res\n",
    "perr_f, rprserr_f, aerr_f, ierr_f = errs\n",
    "\n",
    "# Create a light curve with the fit parameters\n",
    "fit = ph.planetlc_fitter(time, p_f, rprs_f, a_f, i_f, 0.0)\n"
   ]
  },
  {
   "cell_type": "markdown",
   "metadata": {},
   "source": [
    "Printing the original and fit parameters, and plotting the original and fit light curves:"
   ]
  },
  {
   "cell_type": "code",
   "execution_count": null,
   "metadata": {},
   "outputs": [],
   "source": [
    "plt.plot(time, nflux, c='blue', alpha=0.5, label='Original LC')\n",
    "plt.plot(time, fit, c='red', alpha=1.0, label='Fit LC')\n",
    "plt.xlim(-0.1, 0.1)\n",
    "plt.legend()\n",
    "\n",
    "print('Stellar mass (Msun): ', mstar, 'Stellar radius (Rsun): ', rstar)\n",
    "\n",
    "print('\\n')\n",
    "\n",
    "print('Input params:')\n",
    "print('Period (days): ', period, 'Rp/Rs: ', rprs)\n",
    "print('a/Rs: ', a_rs)\n",
    "print('i (deg): ', i)\n",
    "print('w (deg): ', w)\n",
    "\n",
    "print('\\n')\n",
    "\n",
    "print('Fit params:')\n",
    "print('Period (days): ', p_f, 'Rp/Rs: ', rprs_f)\n",
    "print('a/Rs: ', a_f)\n",
    "print('i (deg): ', i_f)"
   ]
  },
  {
   "cell_type": "markdown",
   "metadata": {},
   "source": [
    "We need to calculate T14 and T23 again, and this time they should differ from the true transit durations because the equations we're using require $e = 0$, and we've input $e = 0.3$."
   ]
  },
  {
   "cell_type": "code",
   "execution_count": null,
   "metadata": {},
   "outputs": [],
   "source": [
    "T14dist = ph.get_T14(pdist, rdist, adist, idist)\n",
    "T14errs = ph.get_sigmas(T14dist)\n",
    "\n",
    "T23dist = ph.get_T23(pdist, rdist, adist, idist)\n",
    "T23errs = ph.get_sigmas(T23dist)"
   ]
  },
  {
   "cell_type": "markdown",
   "metadata": {},
   "source": [
    "And now, we're getting $g$ in the same way as above, using `ph.get_g_distribution()`. "
   ]
  },
  {
   "cell_type": "code",
   "execution_count": 44,
   "metadata": {},
   "outputs": [],
   "source": [
    "gs, rho_c = ph.get_g_distribution(rho_star, pdist, rdist, T14dist, T23dist)\n",
    "\n",
    "g_mean = np.mean(gs)\n",
    "g_sigma = np.mean(np.abs(ph.get_sigmas(gs)))"
   ]
  },
  {
   "cell_type": "markdown",
   "metadata": {},
   "source": [
    "Print $g$ and $\\sigma_{g}$:"
   ]
  },
  {
   "cell_type": "code",
   "execution_count": 45,
   "metadata": {},
   "outputs": [
    {
     "data": {
      "text/plain": [
       "1.3258218392606815"
      ]
     },
     "execution_count": 45,
     "metadata": {},
     "output_type": "execute_result"
    }
   ],
   "source": [
    "g_mean"
   ]
  },
  {
   "cell_type": "code",
   "execution_count": 46,
   "metadata": {},
   "outputs": [
    {
     "data": {
      "text/plain": [
       "0.08578042610545233"
      ]
     },
     "execution_count": 46,
     "metadata": {},
     "output_type": "execute_result"
    }
   ],
   "source": [
    "g_sigma"
   ]
  },
  {
   "cell_type": "markdown",
   "metadata": {},
   "source": [
    "The mean of $g$ is not 1 this time. It's about 1.3, which means that $\\rho_{circ}$ differs from $\\rho_{star}$ and the eccentricity of this transit must NOT be zero! This is good. Let's take $g$ and $\\sigma_{g}$ and use MCMC again to see if the most likely $e$ is 0.3, as we input."
   ]
  },
  {
   "cell_type": "code",
   "execution_count": 47,
   "metadata": {},
   "outputs": [],
   "source": [
    "#Guesses\n",
    "w_guess = 0.0\n",
    "e_guess = 0.0\n",
    "\n",
    "solnx = (w_guess, e_guess)\n",
    "pos = solnx + 1e-4 * np.random.randn(32, 2)\n",
    "nwalkers, ndim = pos.shape"
   ]
  },
  {
   "cell_type": "code",
   "execution_count": 48,
   "metadata": {
    "scrolled": true
   },
   "outputs": [
    {
     "name": "stderr",
     "output_type": "stream",
     "text": [
      "  0%|          | 0/5000 [00:00<?, ?it/s]/Users/sheilasagear/opt/anaconda3/lib/python3.7/site-packages/emcee/moves/red_blue.py:99: RuntimeWarning: invalid value encountered in double_scalars\n",
      "  lnpdiff = f + nlp - state.log_prob[j]\n",
      "100%|██████████| 5000/5000 [00:07<00:00, 710.32it/s]\n"
     ]
    }
   ],
   "source": [
    "sampler = emcee.EnsembleSampler(nwalkers, ndim, ph.log_probability, args=(g_mean, g_sigma), threads=4)\n",
    "sampler.run_mcmc(pos, 5000, progress=True);"
   ]
  },
  {
   "cell_type": "code",
   "execution_count": 49,
   "metadata": {},
   "outputs": [
    {
     "data": {
      "image/png": "[encoded data removed]",
      "text/plain": [
       "<Figure size 396x396 with 4 Axes>"
      ]
     },
     "metadata": {
      "needs_background": "light"
     },
     "output_type": "display_data"
    }
   ],
   "source": [
    "labels = [\"w\", \"e\"]\n",
    "\n",
    "flat_samples = sampler.get_chain(discard=100, thin=15, flat=True)\n",
    "fig = corner.corner(flat_samples, labels=labels, show_titles=True, title_kwargs={\"fontsize\": 12}, truths=[90.0, 0.3], quantiles=[0.16, 0.5, 0.84], plot_contours=True)"
   ]
  },
  {
   "cell_type": "markdown",
   "metadata": {},
   "source": [
    "Here is the corner plot for the most likely values of $(e, w)$ that correspond to $g = 1.3$. This $e$ distribution peaks at about 0.3, which is exactly what we expect based on the transit we created!"
   ]
  },
  {
   "cell_type": "code",
   "execution_count": null,
   "metadata": {},
   "outputs": [],
   "source": []
  },
  {
   "cell_type": "markdown",
   "metadata": {},
   "source": [
    "# $e=0.3$, $w=-90.0$"
   ]
  },
  {
   "cell_type": "markdown",
   "metadata": {},
   "source": [
    "Let's do one more, this time a planet with the same eccentricity $e = 0.3$, but where the longitude of periastron $\\omega$ is -90 deg (insteadl of 90 deg). This means that this planet would be passing in front of the star (from our perspective) at the \"long\" side of its orbital ellipse, instead of the \"short\" side. A planet with $\\omega = -90$ will produce the longest transit possible, while a planet with $\\omega = +90$ will produce the shortest transit possible, assuming that all other parameters are the same. \n",
    "\n",
    "`photoeccentric` should catch onto this, and produce an $(e, w)$ surface that corresponds to the most likely $w$."
   ]
  },
  {
   "cell_type": "code",
   "execution_count": 50,
   "metadata": {},
   "outputs": [],
   "source": [
    "time = np.linspace(-24, 24, 10000)"
   ]
  },
  {
   "cell_type": "code",
   "execution_count": 51,
   "metadata": {},
   "outputs": [],
   "source": [
    "def planetlc(time, per, rp, a, inc, w):\n",
    "    params = batman.TransitParams()       #object to store transit parameters\n",
    "    params.t0 = 0.                        #time of inferior conjunction\n",
    "    params.per = per                      #orbital period\n",
    "    params.rp = rp                        #planet radius (in units of stellar radii)\n",
    "    params.a = a                          #semi-major axis (in units of stellar radii)\n",
    "    params.inc = inc                      #orbital inclination (in degrees)\n",
    "    params.ecc = 0.3\n",
    "    params.w = w                          #longitude of periastron (in degrees)\n",
    "    #params.limb_dark = \"linear\"\n",
    "    #params.u = [0.3]\n",
    "    params.limb_dark = \"quadratic\"\n",
    "    params.u = [0.1, 0.3]\n",
    "    #params.limb_dark = \"uniform\"\n",
    "    #params.u = []\n",
    "\n",
    "    #times to calculate light curve\n",
    "    m = batman.TransitModel(params, time)\n",
    "    \n",
    "    flux = m.light_curve(params)\n",
    "    \n",
    "    return flux"
   ]
  },
  {
   "cell_type": "code",
   "execution_count": 53,
   "metadata": {},
   "outputs": [],
   "source": [
    "# Calculate flux from transit model\n",
    "e = 0.3\n",
    "w = -90.0\n",
    "flux = planetlc(time, period, rprs, a_rs, i, w)\n",
    "\n",
    "# Adding some gaussian noise\n",
    "noise = np.random.normal(0,0.00005,len(time))\n",
    "nflux = flux+noise"
   ]
  },
  {
   "cell_type": "markdown",
   "metadata": {},
   "source": [
    "## Fitting the transit"
   ]
  },
  {
   "cell_type": "markdown",
   "metadata": {},
   "source": [
    "Using astropy BLS:"
   ]
  },
  {
   "cell_type": "code",
   "execution_count": 54,
   "metadata": {},
   "outputs": [],
   "source": [
    "per_guess = ph.bls(time, nflux)"
   ]
  },
  {
   "cell_type": "markdown",
   "metadata": {},
   "source": [
    "And fitting the transit using `ph.planetlc_fitter()`.\n",
    "\n",
    "The true eccentricity of this orbit is again not zero, so the transit fitter should fit the wrong values for $a/Rs$ and $i$ in a way that reveals the eccentricity of the orbit.\n",
    "\n",
    "I enter an initial guess based on what I estimate the fit parameters will be: here, I'll try guesses for $a/Rs$ and $i$ that are slightly smaller than both of these true values."
   ]
  },
  {
   "cell_type": "code",
   "execution_count": 55,
   "metadata": {},
   "outputs": [
    {
     "name": "stderr",
     "output_type": "stream",
     "text": [
      "100%|██████████| 3000/3000 [06:05<00:00,  8.20it/s]\n"
     ]
    }
   ],
   "source": [
    "# Inital guess: period, rprs, a/Rs, i, w\n",
    "p0 = [per_guess, rprs, 20, 89, -80]\n",
    "\n",
    "dr = 'e_' + str(0) + '_w_' + str(w)\n",
    "direct = '/Users/sheilasagear/Dropbox (UFL)/Research/MetallicityProject/photoeccentric/notebooks/plots_tutorial/' + dr + '/'\n",
    "\n",
    "if not os.path.exists(direct):\n",
    "    os.mkdir(direct)\n",
    "\n",
    "# EMCEE Transit Model Fitting\n",
    "res, errs, pdist, rdist, adist, idist = ph.mcmc_fitter(p0, time, nflux, flux_err, nwalk, nsteps, ndiscard, e, w, direct)\n",
    "\n",
    "p_f, rprs_f, a_f, i_f = res\n",
    "perr_f, rprserr_f, aerr_f, ierr_f = errs\n",
    "\n",
    "# Create a light curve with the fit parameters\n",
    "fit = ph.planetlc_fitter(time, p_f, rprs_f, a_f, i_f, 0.0)\n"
   ]
  },
  {
   "cell_type": "markdown",
   "metadata": {},
   "source": [
    "Printing the original and fit parameters, and plotting the original and fit light curves:"
   ]
  },
  {
   "cell_type": "code",
   "execution_count": 56,
   "metadata": {},
   "outputs": [
    {
     "name": "stdout",
     "output_type": "stream",
     "text": [
      "Input params:\n",
      "Period (days):  4.83809469 Rp/Rs:  0.036066\n",
      "a/Rs:  32.64384979582086\n",
      "i (deg):  89.98\n",
      "w (deg):  -90.0\n",
      "\n",
      "\n",
      "Fit params:\n",
      "Period (days):  4.838096855527195 Rp/Rs:  0.036130916298390665\n",
      "a/Rs:  23.833885932316072\n",
      "i (deg):  89.77953033780808\n"
     ]
    },
    {
     "data": {
      "image/png": "[encoded data removed]",
      "text/plain": [
       "<Figure size 432x288 with 1 Axes>"
      ]
     },
     "metadata": {
      "needs_background": "light"
     },
     "output_type": "display_data"
    }
   ],
   "source": [
    "plt.plot(time, nflux, c='blue', alpha=0.5, label='Original LC')\n",
    "plt.plot(time, fit, c='red', alpha=1.0, label='Fit LC')\n",
    "plt.xlim(-0.1, 0.1)\n",
    "plt.legend()\n",
    "\n",
    "print('Input params:')\n",
    "print('Period (days): ', period, 'Rp/Rs: ', rprs)\n",
    "print('a/Rs: ', a_rs)\n",
    "print('i (deg): ', i)\n",
    "print('w (deg): ', w)\n",
    "\n",
    "print('\\n')\n",
    "\n",
    "print('Fit params:')\n",
    "print('Period (days): ', p_f, 'Rp/Rs: ', rprs_f)\n",
    "print('a/Rs: ', a_f)\n",
    "print('i (deg): ', i_f)"
   ]
  },
  {
   "cell_type": "markdown",
   "metadata": {},
   "source": [
    "We need to calculate T14 and T23 again, and this time they should differ from the true transit durations because the equations we're using require $e = 0$, and we've input $e = 0.3$. \n",
    "\n",
    "How will `ph.get_T14()` and `ph.get_T23()` know that the planet is transiting at apoapse ($\\omega = -90$) instead of periapse ($\\omega = 90$)? Because the fit values for $a/Rs$ and $i$ compensate for the change in transit duration! All the information we need is encoded into the fit $a/Rs$ and $i$."
   ]
  },
  {
   "cell_type": "code",
   "execution_count": 57,
   "metadata": {},
   "outputs": [],
   "source": [
    "T14dist = ph.get_T14(pdist, rdist, adist, idist)\n",
    "T14errs = ph.get_sigmas(T14dist)\n",
    "\n",
    "T23dist = ph.get_T23(pdist, rdist, adist, idist)\n",
    "T23errs = ph.get_sigmas(T23dist)"
   ]
  },
  {
   "cell_type": "markdown",
   "metadata": {},
   "source": [
    "And now, we're getting $g$ in the same way as above, using `ph.get_g_distribution()`. "
   ]
  },
  {
   "cell_type": "code",
   "execution_count": 58,
   "metadata": {},
   "outputs": [],
   "source": [
    "gs, rho_c = ph.get_g_distribution(rho_star, pdist, rdist, T14dist, T23dist)\n",
    "\n",
    "g_mean = np.mean(gs)\n",
    "g_sigma = np.mean(np.abs(ph.get_sigmas(gs)))"
   ]
  },
  {
   "cell_type": "markdown",
   "metadata": {},
   "source": [
    "Print $g$ and $\\sigma_{g}$:"
   ]
  },
  {
   "cell_type": "code",
   "execution_count": 59,
   "metadata": {},
   "outputs": [
    {
     "data": {
      "text/plain": [
       "0.7276400000661077"
      ]
     },
     "execution_count": 59,
     "metadata": {},
     "output_type": "execute_result"
    }
   ],
   "source": [
    "g_mean"
   ]
  },
  {
   "cell_type": "code",
   "execution_count": 60,
   "metadata": {},
   "outputs": [
    {
     "data": {
      "text/plain": [
       "0.04147222793874611"
      ]
     },
     "execution_count": 60,
     "metadata": {},
     "output_type": "execute_result"
    }
   ],
   "source": [
    "g_sigma"
   ]
  },
  {
   "cell_type": "markdown",
   "metadata": {},
   "source": [
    "The mean of $g$ this time is about 0.7. Again, this means that $\\rho_{circ}$ differs from $\\rho_{star}$ and the eccentricity must not be zero. \n",
    "\n",
    "But why is g less than 1, when in the previous example (with the same eccentricity) g was greater than 1?\n",
    "\n",
    "Let's take $g$ and $\\sigma_{g}$ and use MCMC again to see what the most likely $(e, w)$ surface looks like."
   ]
  },
  {
   "cell_type": "code",
   "execution_count": 61,
   "metadata": {},
   "outputs": [],
   "source": [
    "#Guesses\n",
    "w_guess = 0.0\n",
    "e_guess = 0.0\n",
    "\n",
    "solnx = (w_guess, e_guess)\n",
    "pos = solnx + 1e-4 * np.random.randn(32, 2)\n",
    "nwalkers, ndim = pos.shape"
   ]
  },
  {
   "cell_type": "code",
   "execution_count": 62,
   "metadata": {
    "scrolled": true
   },
   "outputs": [
    {
     "name": "stderr",
     "output_type": "stream",
     "text": [
      "  0%|          | 0/5000 [00:00<?, ?it/s]/Users/sheilasagear/opt/anaconda3/lib/python3.7/site-packages/emcee/moves/red_blue.py:99: RuntimeWarning: invalid value encountered in double_scalars\n",
      "  lnpdiff = f + nlp - state.log_prob[j]\n",
      "100%|██████████| 5000/5000 [00:07<00:00, 712.50it/s]\n"
     ]
    }
   ],
   "source": [
    "sampler = emcee.EnsembleSampler(nwalkers, ndim, ph.log_probability, args=(g_mean, g_sigma), threads=4)\n",
    "sampler.run_mcmc(pos, 5000, progress=True);"
   ]
  },
  {
   "cell_type": "code",
   "execution_count": 63,
   "metadata": {},
   "outputs": [
    {
     "data": {
      "image/png": "[encoded data removed]",
      "text/plain": [
       "<Figure size 396x396 with 4 Axes>"
      ]
     },
     "metadata": {
      "needs_background": "light"
     },
     "output_type": "display_data"
    }
   ],
   "source": [
    "labels = [\"w\", \"e\"]\n",
    "\n",
    "flat_samples = sampler.get_chain(discard=100, thin=15, flat=True)\n",
    "fig = corner.corner(flat_samples, labels=labels, show_titles=True, title_kwargs={\"fontsize\": 12}, truths=[-90.0, 0.3], quantiles=[0.16, 0.5, 0.84], plot_contours=True)"
   ]
  },
  {
   "cell_type": "markdown",
   "metadata": {},
   "source": [
    "In this corner plot, $e$ peaks at about 0.3 again! The $\\omega$ distribution differs though -- this time, where $e = 0.3$ on this distribution, $\\omega$ can equal -90. (If you look back at the previous example, $e = 0.3$ and $\\omega = -90$ was inconsistent with the probability distribution in the corner plot.) So `photoeccentric` was able to accurately determine $(e, w)$ for at least these three cases!"
   ]
  },
  {
   "cell_type": "code",
   "execution_count": null,
   "metadata": {},
   "outputs": [],
   "source": []
  },
  {
   "cell_type": "code",
   "execution_count": null,
   "metadata": {},
   "outputs": [],
   "source": []
  },
  {
   "cell_type": "code",
   "execution_count": null,
   "metadata": {},
   "outputs": [],
   "source": []
  },
  {
   "cell_type": "code",
   "execution_count": null,
   "metadata": {},
   "outputs": [],
   "source": []
  }
 ],
 "metadata": {
  "kernelspec": {
   "display_name": "Python 3",
   "language": "python",
   "name": "python3"
  },
  "language_info": {
   "codemirror_mode": {
    "name": "ipython",
    "version": 3
   },
   "file_extension": ".py",
   "mimetype": "text/x-python",
   "name": "python",
   "nbconvert_exporter": "python",
   "pygments_lexer": "ipython3",
   "version": "3.8.5"
  }
 },
 "nbformat": 4,
 "nbformat_minor": 4
}
