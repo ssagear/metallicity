{
 "cells": [
  {
   "cell_type": "markdown",
   "metadata": {},
   "source": [
    "# fitting real Kepler light curves"
   ]
  },
  {
   "cell_type": "code",
   "execution_count": 655,
   "metadata": {},
   "outputs": [
    {
     "name": "stdout",
     "output_type": "stream",
     "text": [
      "The autoreload extension is already loaded. To reload it, use:\n",
      "  %reload_ext autoreload\n"
     ]
    }
   ],
   "source": [
    "import numpy as np\n",
    "import matplotlib.pyplot as plt\n",
    "import pandas as pd\n",
    "from tqdm import tqdm\n",
    "from astropy.table import Table\n",
    "import astropy.units as u\n",
    "import scipy\n",
    "from scipy import signal\n",
    "\n",
    "\n",
    "from astropy.io import fits\n",
    "\n",
    "# Using astropy BLS and scipy curve_fit to fit transit\n",
    "from astropy.timeseries import BoxLeastSquares\n",
    "from scipy.optimize import curve_fit\n",
    "\n",
    "import scipy.optimize as opt\n",
    "\n",
    "# Using emcee & corner to find and plot (e, w) distribution\n",
    "import emcee\n",
    "import corner\n",
    "\n",
    "# And importing `photoeccentric`\n",
    "import photoeccentric as ph\n",
    "\n",
    "# Random stuff\n",
    "import scipy.constants as c\n",
    "import os\n",
    "\n",
    "%load_ext autoreload\n",
    "%autoreload 2\n",
    "\n",
    "%matplotlib inline\n",
    "\n",
    "plt.rcParams['figure.figsize'] = [12, 8]"
   ]
  },
  {
   "cell_type": "code",
   "execution_count": 656,
   "metadata": {},
   "outputs": [],
   "source": [
    "nwalk = 64\n",
    "nsteps_d = 1500\n",
    "ndiscard_d = 1000\n",
    "arrlen = (nsteps_d-ndiscard_d)*nwalk"
   ]
  },
  {
   "cell_type": "code",
   "execution_count": 657,
   "metadata": {},
   "outputs": [],
   "source": [
    "smass_kg = 1.9885e30  # Solar mass (kg)\n",
    "srad_m = 696.34e6 # Solar radius (m)"
   ]
  },
  {
   "cell_type": "markdown",
   "metadata": {},
   "source": [
    "## Reading in Sample Data"
   ]
  },
  {
   "cell_type": "code",
   "execution_count": 658,
   "metadata": {},
   "outputs": [],
   "source": [
    "spectplanets = pd.read_csv('spectplanets.csv')\n",
    "muirhead_comb = pd.read_csv('muirhead_comb.csv')\n",
    "muirhead_comb_lums = pd.read_csv('muirhead_comb_lums.csv')\n",
    "muirhead_lamost = pd.read_csv('muirhead_lamost.csv')"
   ]
  },
  {
   "cell_type": "code",
   "execution_count": 659,
   "metadata": {},
   "outputs": [],
   "source": [
    "KICs = np.sort(np.unique(np.array(muirhead_comb['KIC'])))\n",
    "KOIs = np.sort(np.unique(np.array(muirhead_comb['KOI'])))"
   ]
  },
  {
   "cell_type": "code",
   "execution_count": 660,
   "metadata": {},
   "outputs": [],
   "source": [
    "strkois = [str(i) for i in KOIs]"
   ]
  },
  {
   "cell_type": "code",
   "execution_count": 661,
   "metadata": {},
   "outputs": [],
   "source": [
    "strkois = ['KOI ' + i for i in strkois]"
   ]
  },
  {
   "cell_type": "code",
   "execution_count": 662,
   "metadata": {},
   "outputs": [],
   "source": [
    "#np.savetxt('MuirheadKOIs.txt', strkois, fmt='%s')"
   ]
  },
  {
   "cell_type": "code",
   "execution_count": 663,
   "metadata": {},
   "outputs": [],
   "source": [
    "lcpath = '/Users/ssagear/Dropbox (UFL)/Research/MetallicityProject/photoeccentric/notebooks/datafiles/sample_LCs/'\n",
    "lclist = []\n",
    "\n",
    "for i in range(len(KICs)):\n",
    "    templst = []\n",
    "    for subdir, dirs, files in os.walk(lcpath):\n",
    "        for file in files:\n",
    "            if str(KICs[i]) in file:\n",
    "                templst.append(os.path.join(subdir, file))\n",
    "    lclist.append(templst)"
   ]
  },
  {
   "cell_type": "code",
   "execution_count": 667,
   "metadata": {},
   "outputs": [],
   "source": [
    "KOI1 = 4290\n",
    "KIC1 = 5868793"
   ]
  },
  {
   "cell_type": "code",
   "execution_count": 668,
   "metadata": {},
   "outputs": [],
   "source": [
    "def get_stitched_lcs(KOI, KIC):\n",
    "    \n",
    "    files = lclist[int(np.argwhere(KICs==KIC))]\n",
    "\n",
    "\n",
    "    files = sorted(files)\n",
    "    \n",
    "    time = []\n",
    "    flux = []\n",
    "    flux_err = []\n",
    "    hdus = []\n",
    "    \n",
    "    starttimes = []\n",
    "    stoptimes = []\n",
    "    \n",
    "    for file in files:\n",
    "\n",
    "        hdu = fits.open(file)\n",
    "        \n",
    "        time_p = list(hdu[1].data['TIME'] + hdu[1].header['BJDREFI'] + hdu[1].header['BJDREFF'])\n",
    "        time.append(time_p)\n",
    "        \n",
    "        flux_p = hdu[1].data['PDCSAP_FLUX']\n",
    "        flux_err_p = hdu[1].data['PDCSAP_FLUX_ERR']\n",
    "        \n",
    "        fmed = np.nanmedian(flux_p)\n",
    "\n",
    "        start = hdu[1].header['TSTART'] + hdu[1].header['BJDREFI'] + hdu[1].header['BJDREFF']\n",
    "        starttimes.append(start)\n",
    "        \n",
    "        stop = hdu[1].header['TSTOP'] + hdu[1].header['BJDREFI'] + hdu[1].header['BJDREFF']\n",
    "        stoptimes.append(stop)\n",
    "        \n",
    "        \n",
    "        flux.append(list(flux_p/fmed))\n",
    "        flux_err.append(list(flux_err_p/fmed))\n",
    "        \n",
    "        hdus.append(hdu)\n",
    "\n",
    "\n",
    "        #hdu.close()\n",
    "    \n",
    "    return hdus, time, flux, flux_err, starttimes, stoptimes"
   ]
  },
  {
   "cell_type": "code",
   "execution_count": 669,
   "metadata": {},
   "outputs": [],
   "source": [
    "hdus, t, f, fe, starts, stops = get_stitched_lcs(str(KOI1), KIC1)\n",
    "#hdus[0][1].header"
   ]
  },
  {
   "cell_type": "code",
   "execution_count": 670,
   "metadata": {},
   "outputs": [],
   "source": [
    "alltime_noclip = []\n",
    "allflux_noclip = []\n",
    "allfluxerr_noclip = []\n",
    "\n",
    "for sublist in t:\n",
    "    for item in sublist:\n",
    "        alltime_noclip.append(item)\n",
    "        \n",
    "for sublist in f:\n",
    "    for item in sublist:\n",
    "        allflux_noclip.append(item)\n",
    "        \n",
    "for sublist in fe:\n",
    "    for item in sublist:\n",
    "        allfluxerr_noclip.append(item)"
   ]
  },
  {
   "cell_type": "code",
   "execution_count": 671,
   "metadata": {},
   "outputs": [],
   "source": [
    "def sigma_clip(time, flux, fluxerr, sig=4):\n",
    "    for i in tqdm(range(len(flux))):\n",
    "        if flux[i] > np.nanmean(flux) + sig*np.nanstd(flux) or flux[i] < np.nanmean(flux) - sig*np.nanstd(flux):\n",
    "            time[i] = np.nan\n",
    "            flux[i] = np.nan\n",
    "            fluxerr[i] = np.nan\n",
    "            \n",
    "    return time, flux, fluxerr\n",
    "            "
   ]
  },
  {
   "cell_type": "code",
   "execution_count": 673,
   "metadata": {},
   "outputs": [
    {
     "data": {
      "image/png": "[encoded data removed]",
      "text/plain": [
       "<Figure size 864x576 with 1 Axes>"
      ]
     },
     "metadata": {
      "needs_background": "light"
     },
     "output_type": "display_data"
    }
   ],
   "source": [
    "# alltime, allflux, allfluxerr = sigma_clip(alltime_noclip, allflux_noclip, allfluxerr_noclip, sig=4)\n",
    "\n",
    "alltime, allflux, allfluxerr = alltime_noclip, allflux_noclip, allfluxerr_noclip\n",
    "\n",
    "plt.scatter(alltime, allflux, s=1)\n",
    "plt.title('KOI ' + str(KOI1))\n",
    "\n",
    "plt.ticklabel_format(useOffset=False, style='plain')"
   ]
  },
  {
   "cell_type": "markdown",
   "metadata": {},
   "source": [
    "# Kepler-1582 b"
   ]
  },
  {
   "cell_type": "code",
   "execution_count": 690,
   "metadata": {},
   "outputs": [
    {
     "data": {
      "text/plain": [
       "2455372.450321894"
      ]
     },
     "execution_count": 690,
     "metadata": {},
     "output_type": "execute_result"
    }
   ],
   "source": [
    "alltime[0]"
   ]
  },
  {
   "cell_type": "code",
   "execution_count": 691,
   "metadata": {},
   "outputs": [
    {
     "data": {
      "text/plain": [
       "2455372.44010484"
      ]
     },
     "execution_count": 691,
     "metadata": {},
     "output_type": "execute_result"
    }
   ],
   "source": [
    "starts[0]"
   ]
  },
  {
   "cell_type": "code",
   "execution_count": 692,
   "metadata": {},
   "outputs": [],
   "source": [
    "kepid = KIC1\n",
    "kepname = spectplanets.loc[spectplanets['kepid'] == kepid].kepler_name.values[0]"
   ]
  },
  {
   "cell_type": "code",
   "execution_count": 693,
   "metadata": {},
   "outputs": [],
   "source": [
    "isodf = pd.read_csv(\"datafiles/isochrones/iso_lums_\" + str(kepid) + \".csv\")\n",
    "\n",
    "mstar = isodf[\"mstar\"].mean()\n",
    "mstar_err = isodf[\"mstar\"].std()\n",
    "\n",
    "rstar = isodf[\"radius\"].mean()\n",
    "rstar_err = isodf[\"radius\"].std()"
   ]
  },
  {
   "cell_type": "code",
   "execution_count": 694,
   "metadata": {},
   "outputs": [
    {
     "name": "stdout",
     "output_type": "stream",
     "text": [
      "Stellar mass (Msun):  0.17438311970562165 Stellar radius (Rsun):  0.19884797856314\n",
      "Period (Days):  4.83809469 Rp/Rs:  0.036066\n",
      "a/Rs:  33.79155851141583\n",
      "i (deg):  89.98\n"
     ]
    }
   ],
   "source": [
    "period, period_uerr, period_lerr, rprs, rprs_uerr, rprs_lerr, a_arc, a_uerr_arc, a_lerr_arc, i, e_arc, w_arc = ph.planet_params_from_archive(spectplanets, kepname)\n",
    "\n",
    "# We calculate a_rs to ensure that it's consistent with the spec/Gaia stellar density.\n",
    "a_rs = ph.calc_a(period*86400.0, mstar*smass_kg, rstar*srad_m)\n",
    "a_rs_err = np.mean((a_uerr_arc, a_lerr_arc))\n",
    "\n",
    "print('Stellar mass (Msun): ', mstar, 'Stellar radius (Rsun): ', rstar)\n",
    "print('Period (Days): ', period, 'Rp/Rs: ', rprs)\n",
    "print('a/Rs: ', a_rs)\n",
    "print('i (deg): ', i)"
   ]
  },
  {
   "cell_type": "code",
   "execution_count": 695,
   "metadata": {},
   "outputs": [],
   "source": [
    "transitmpt = 2454968.15620000"
   ]
  },
  {
   "cell_type": "code",
   "execution_count": 709,
   "metadata": {},
   "outputs": [],
   "source": [
    "midpoints = np.concatenate((np.arange(transitmpt, starts[0], -period), np.arange(transitmpt, stops[-1], period)))\n",
    "\n",
    "for i in range(len(midpoints)):\n",
    "    if not starts[0] < midpoints[i] < stops[-1]:\n",
    "        midpoints[i] = np.nan"
   ]
  },
  {
   "cell_type": "code",
   "execution_count": 711,
   "metadata": {},
   "outputs": [],
   "source": [
    "midpoints = midpoints[~np.isnan(midpoints)]"
   ]
  },
  {
   "cell_type": "code",
   "execution_count": 718,
   "metadata": {},
   "outputs": [],
   "source": [
    "# plt.scatter(np.array(alltime)-2454833, allflux, s=2)\n",
    "\n",
    "# for i in range(len(midpoints)):\n",
    "#     plt.axvline(midpoints[i]-2454833, c='r')\n",
    "    \n",
    "# #plt.axvline(2454967, c='g')\n",
    "# #plt.axvline(2454967 + period, c='g')\n",
    "# #plt.axvline(2454965.72900, c='b')\n",
    "# #plt.axvline(2455022.92667000-period, c='k')\n",
    "    \n",
    "# #plt.xlim(alltime[0], alltime[-1])\n",
    "# #plt.ylim(0.99,1.06)\n",
    "# plt.xticks(ticks=np.arange(175, 260, 5))\n",
    "# plt.ticklabel_format(useOffset=False, style='plain')\n",
    "    "
   ]
  },
  {
   "cell_type": "code",
   "execution_count": 719,
   "metadata": {},
   "outputs": [],
   "source": [
    "# medfilt = scipy.signal.medfilt(allflux, kernel_size=101)\n",
    "\n",
    "# plt.scatter(np.array(alltime)-2454900.0, allflux-medfilt+1, s=2)\n",
    "\n",
    "# #plt.scatter(np.array(alltime)-2454900.0, allflux, s=2)\n",
    "# #plt.plot(np.array(alltime)-2454900.0, medfilt)\n",
    "\n",
    "# for i in range(len(midpoints)):\n",
    "#     plt.axvline(midpoints[i]-2454900.0, c='r')\n",
    "    \n",
    "# # plt.axvline(2454967-2454900.0, c='g')\n",
    "# # plt.axvline(2454967-2454900.0 + period, c='g')\n",
    "# # plt.axvline(2454965.72900-2454900, c='b')\n",
    "    \n",
    "# #plt.xlim(0, 100)\n",
    "# #plt.ylim(0.998, 1.001)\n",
    "# #plt.xticks(ticks=np.arange(100, 200, 5))\n",
    "# plt.ticklabel_format(useOffset=False, style='plain')"
   ]
  },
  {
   "cell_type": "code",
   "execution_count": 720,
   "metadata": {},
   "outputs": [],
   "source": [
    "#midpoints = np.unique(list(midjd[midjd['planetname'] == 'Kepler-737 b']['midpointjd']))\n",
    "#midpoints_errs = np.unique(list(midjd[midjd['username'] == 'KOI ' + '947']['propmidpointunc']))"
   ]
  },
  {
   "cell_type": "code",
   "execution_count": 721,
   "metadata": {},
   "outputs": [],
   "source": [
    "def get_KIC(KOI, muirhead_comb):\n",
    "    return muirhead_comb[muirhead_comb['KOI'] == str(KOI)].KIC.item()"
   ]
  },
  {
   "cell_type": "code",
   "execution_count": 737,
   "metadata": {},
   "outputs": [],
   "source": [
    "def fit_Kepler_lc(KOI, midpoints, time, flux, flux_err, period, nbuffer, spectplanets, muirhead_comb):\n",
    "    \n",
    "    # Get alt IDs\n",
    "    kepid = get_KIC(KOI, muirhead_comb)\n",
    "    kepname = spectplanets.loc[spectplanets['kepid'] == kepid].kepler_name.values[0]\n",
    "    \n",
    "    dr = str(KOI)\n",
    "    direct = 'segfits/' + dr + '_emcee/'\n",
    "\n",
    "    if not os.path.exists(direct):\n",
    "        os.mkdir(direct)\n",
    "    \n",
    "    # Get stellar params\n",
    "    isodf = pd.read_csv(\"datafiles/isochrones/iso_lums_\" + str(kepid) + \".csv\")\n",
    "    \n",
    "    mstar = isodf[\"mstar\"].mean()\n",
    "    mstar_err = isodf[\"mstar\"].std()\n",
    "\n",
    "    rstar = isodf[\"radius\"].mean()\n",
    "    rstar_err = isodf[\"radius\"].std()\n",
    "    \n",
    "    # Get planet params\n",
    "    period, period_uerr, period_lerr, rprs, rprs_uerr, rprs_lerr, a_arc, a_uerr_arc, a_lerr_arc, i, e_arc, w_arc = ph.planet_params_from_archive(spectplanets, kepname)\n",
    "\n",
    "    # We calculate a_rs to ensure that it's consistent with the spec/Gaia stellar density.\n",
    "    a_rs = ph.calc_a(period*86400.0, mstar*smass_kg, rstar*srad_m)\n",
    "    a_rs_err = np.mean((a_uerr_arc, a_lerr_arc))\n",
    "\n",
    "    print('Stellar mass (Msun): ', mstar, 'Stellar radius (Rsun): ', rstar)\n",
    "    print('Period (Days): ', period, 'Rp/Rs: ', rprs)\n",
    "    print('a/Rs: ', a_rs)\n",
    "    print('i (deg): ', i)\n",
    "            \n",
    "    \n",
    "    for ind in range(len(midpoints)):\n",
    "\n",
    "        try:\n",
    "        \n",
    "            transitmid = midpoints[ind]\n",
    "\n",
    "            tindex = int(np.where(alltime == ph.find_nearest(alltime, transitmid))[0])\n",
    "\n",
    "            t1 = np.array(time[tindex-nbuffer:tindex+nbuffer]) - transitmid\n",
    "            t1bjd = np.array(time[tindex-nbuffer:tindex+nbuffer])\n",
    "            \n",
    "            f1 = np.array(flux[tindex-nbuffer:tindex+nbuffer])\n",
    "            fe1 = np.array(flux_err[tindex-nbuffer:tindex+nbuffer])\n",
    "\n",
    "            tindex = int(np.where(time == ph.find_nearest(time, transitmid))[0])\n",
    "\n",
    "            idx = np.isfinite(t1) & np.isfinite(f1)\n",
    "\n",
    "            disc = 5\n",
    "            m, b = np.polyfit(np.concatenate((t1[idx][:disc], t1[idx][-disc:])), np.concatenate((f1[idx][:disc], f1[idx][-disc:])), 1)\n",
    "\n",
    "            linfit = m*t1 + b\n",
    "            fnorm = (f1-linfit)+1\n",
    "            \n",
    "            plt.cla()\n",
    "            plt.errorbar(t1bjd-2454833, fnorm, yerr=fe1, fmt='o', c='blue')\n",
    "            #plt.plot(t1bjd-2454833, linfit, c='green')\n",
    "            plt.xlabel('Time')\n",
    "            plt.ylabel('Rel. Flux')\n",
    "            #plt.axvline(0, c='r')\n",
    "            \n",
    "            plt.savefig(direct + str(KOI) + 'segment' + str(ind) + '.png')\n",
    "            \n",
    "            \n",
    "            \n",
    "            mid = ph.get_mid(time)\n",
    "            ptime = ph.get_ptime(t1, mid, 29)\n",
    "\n",
    "            fnorm = np.nan_to_num(fnorm, nan=1.0)\n",
    "            fe1 = np.nan_to_num(fe1, nan=np.nanmedian(fe1))\n",
    "\n",
    "\n",
    "            # Inital guess: rprs, a/Rs, i, t0\n",
    "            p0 = [rprs, a_rs, i, 0]\n",
    "\n",
    "            # EMCEE Transit Model Fitting\n",
    "            _, _, rdist, adist, idist, t0dist = ph.mcmc_fitter_noper(p0, period, t1, ptime, fnorm, fe1, nwalk, nsteps_d, ndiscard_d, 'X', 'X', direct, plot_Tburnin=False, plot_Tcorner=False)\n",
    "            \n",
    "            # Create a light curve with the fit parameters\n",
    "            mcmcfit = ph.integratedlc_fitter(t1, period, ph.mode(rdist), ph.mode(adist), ph.mode(idist), ph.mode(t0dist))\n",
    "            truefit = ph.integratedlc_fitter(t1, period, rprs, a_rs, i, 0)\n",
    "\n",
    "            plt.cla()\n",
    "            offset = 2454900.0\n",
    "            plt.errorbar(t1bjd-offset, fnorm, yerr=fe1, c='blue', alpha=0.5, label='Original LC', fmt=\"o\", capsize=0)\n",
    "            plt.scatter(t1bjd-offset, mcmcfit, c='red', alpha=1.0, label='Fit LC')\n",
    "            plt.plot(t1bjd-offset, mcmcfit, c='red', alpha=1.0)\n",
    "            plt.plot(t1bjd-offset, truefit, c='green', alpha=0.4)\n",
    "            plt.xlabel('BJD-2454900.0')\n",
    "            \n",
    "            textstr = '\\n'.join((\n",
    "            r'$\\mathrm{Rp/Rs}=%.2f$' % (ph.mode(rdist), ),\n",
    "            r'$\\mathrm{a_rs}=%.2f$' % (ph.mode(adist), ),\n",
    "            r'$\\mathrm{i}=%.2f$' % (ph.mode(idist), ),\n",
    "            r'$\\mathrm{t0}=%.2f$' % (ph.mode(t0dist), )))\n",
    "            plt.title(textstr)\n",
    "\n",
    "            plt.legend()\n",
    "            \n",
    "            plt.savefig(direct + str(KOI) + 'segment' + str(ind) + 'fit.png')\n",
    "            \n",
    "            \n",
    "        # Skip if transit mid-time falls outside of Kepler observations\n",
    "        except TypeError:\n",
    "            continue\n",
    "\n"
   ]
  },
  {
   "cell_type": "code",
   "execution_count": null,
   "metadata": {
    "scrolled": false
   },
   "outputs": [
    {
     "name": "stderr",
     "output_type": "stream",
     "text": [
      "\r",
      "  0%|          | 0/1500 [00:00<?, ?it/s]"
     ]
    },
    {
     "name": "stdout",
     "output_type": "stream",
     "text": [
      "Stellar mass (Msun):  0.17438311970562165 Stellar radius (Rsun):  0.19884797856314\n",
      "Period (Days):  4.83809469 Rp/Rs:  0.036066\n",
      "a/Rs:  33.79155851141583\n",
      "i (deg):  89.98\n"
     ]
    },
    {
     "name": "stderr",
     "output_type": "stream",
     "text": [
      "100%|██████████| 1500/1500 [00:37<00:00, 40.35it/s]\n",
      "100%|██████████| 1500/1500 [00:37<00:00, 40.05it/s]\n",
      "100%|██████████| 1500/1500 [00:37<00:00, 40.17it/s]\n",
      "100%|██████████| 1500/1500 [00:37<00:00, 39.93it/s]\n",
      "100%|██████████| 1500/1500 [00:37<00:00, 40.24it/s]\n",
      "100%|██████████| 1500/1500 [00:40<00:00, 36.77it/s]\n",
      "100%|██████████| 1500/1500 [00:37<00:00, 39.78it/s]\n",
      "100%|██████████| 1500/1500 [00:40<00:00, 36.65it/s]\n",
      "100%|██████████| 1500/1500 [00:37<00:00, 39.75it/s]\n",
      "100%|██████████| 1500/1500 [00:37<00:00, 39.63it/s]\n",
      "100%|██████████| 1500/1500 [00:37<00:00, 40.10it/s]\n",
      "100%|██████████| 1500/1500 [00:37<00:00, 39.81it/s]\n",
      "100%|██████████| 1500/1500 [00:37<00:00, 40.08it/s]\n",
      "100%|██████████| 1500/1500 [00:36<00:00, 40.65it/s]\n",
      "100%|██████████| 1500/1500 [00:37<00:00, 40.32it/s]\n",
      "100%|██████████| 1500/1500 [00:37<00:00, 39.78it/s]\n",
      "100%|██████████| 1500/1500 [00:37<00:00, 40.13it/s]\n",
      "100%|██████████| 1500/1500 [00:37<00:00, 39.82it/s]\n",
      "100%|██████████| 1500/1500 [00:37<00:00, 39.69it/s]\n",
      "100%|██████████| 1500/1500 [00:37<00:00, 39.99it/s]\n",
      "100%|██████████| 1500/1500 [00:44<00:00, 33.65it/s]\n",
      "100%|██████████| 1500/1500 [00:37<00:00, 39.89it/s]\n",
      "100%|██████████| 1500/1500 [00:37<00:00, 39.96it/s]\n",
      "100%|██████████| 1500/1500 [00:40<00:00, 37.13it/s]\n",
      "100%|██████████| 1500/1500 [00:37<00:00, 39.83it/s]\n",
      "100%|██████████| 1500/1500 [00:37<00:00, 39.93it/s]\n",
      "100%|██████████| 1500/1500 [00:37<00:00, 40.10it/s]\n",
      "100%|██████████| 1500/1500 [00:37<00:00, 40.16it/s]\n",
      "100%|██████████| 1500/1500 [00:37<00:00, 40.32it/s]\n",
      "100%|██████████| 1500/1500 [00:37<00:00, 40.09it/s]\n",
      "100%|██████████| 1500/1500 [00:37<00:00, 40.26it/s]\n",
      "100%|██████████| 1500/1500 [00:37<00:00, 40.23it/s]\n",
      "100%|██████████| 1500/1500 [00:37<00:00, 39.88it/s]\n",
      "100%|██████████| 1500/1500 [00:37<00:00, 39.89it/s]\n",
      "100%|██████████| 1500/1500 [00:37<00:00, 39.85it/s]\n",
      "100%|██████████| 1500/1500 [00:37<00:00, 39.76it/s]\n",
      "100%|██████████| 1500/1500 [00:37<00:00, 40.33it/s]\n",
      "100%|██████████| 1500/1500 [00:36<00:00, 40.80it/s]\n",
      "100%|██████████| 1500/1500 [00:37<00:00, 39.77it/s]\n",
      "100%|██████████| 1500/1500 [00:39<00:00, 38.24it/s]\n",
      "100%|██████████| 1500/1500 [00:38<00:00, 38.77it/s]\n",
      "100%|██████████| 1500/1500 [00:38<00:00, 38.69it/s]\n",
      "100%|██████████| 1500/1500 [00:42<00:00, 35.04it/s]\n",
      " 65%|██████▌   | 979/1500 [00:25<00:12, 42.47it/s]"
     ]
    }
   ],
   "source": [
    "fit_Kepler_lc(KOI1, midpoints, alltime, allflux, allfluxerr, period, 8, spectplanets, muirhead_comb)"
   ]
  },
  {
   "cell_type": "code",
   "execution_count": null,
   "metadata": {},
   "outputs": [],
   "source": []
  },
  {
   "cell_type": "code",
   "execution_count": null,
   "metadata": {},
   "outputs": [],
   "source": []
  },
  {
   "cell_type": "code",
   "execution_count": null,
   "metadata": {},
   "outputs": [],
   "source": []
  }
 ],
 "metadata": {
  "kernelspec": {
   "display_name": "Python 3",
   "language": "python",
   "name": "python3"
  },
  "language_info": {
   "codemirror_mode": {
    "name": "ipython",
    "version": 3
   },
   "file_extension": ".py",
   "mimetype": "text/x-python",
   "name": "python",
   "nbconvert_exporter": "python",
   "pygments_lexer": "ipython3",
   "version": "3.8.5"
  }
 },
 "nbformat": 4,
 "nbformat_minor": 4
}
