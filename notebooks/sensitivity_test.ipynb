{
 "cells": [
  {
   "cell_type": "markdown",
   "metadata": {},
   "source": [
    "# Setting up `photoeccentric` sensitivitiy tests"
   ]
  },
  {
   "cell_type": "code",
   "execution_count": 1,
   "metadata": {},
   "outputs": [],
   "source": [
    "import numpy as np\n",
    "import matplotlib.pyplot as plt\n",
    "import pandas as pd\n",
    "from tqdm import tqdm\n",
    "from astropy.table import Table\n",
    "import astropy.units as u\n",
    "\n",
    "# Using `batman` to create & fit fake transit\n",
    "import batman\n",
    "\n",
    "# Using astropy BLS and scipy curve_fit to fit transit\n",
    "from astropy.timeseries import BoxLeastSquares\n",
    "from scipy.optimize import curve_fit\n",
    "\n",
    "import scipy.optimize as opt\n",
    "\n",
    "# Using emcee & corner to find and plot (e, w) distribution\n",
    "import emcee\n",
    "import corner\n",
    "\n",
    "# And importing `photoeccentric`\n",
    "import photoeccentric as ph\n",
    "\n",
    "import scipy.constants as c\n",
    "import os\n",
    "\n",
    "%load_ext autoreload\n",
    "%autoreload 2\n",
    "\n",
    "%matplotlib inline\n",
    "\n",
    "plt.rcParams['figure.figsize'] = [12, 8]"
   ]
  },
  {
   "cell_type": "code",
   "execution_count": 2,
   "metadata": {},
   "outputs": [],
   "source": [
    "smass_kg = 1.9885e30  # Solar mass (kg)\n",
    "srad_m = 696.34e6 # Solar radius (m)"
   ]
  },
  {
   "cell_type": "markdown",
   "metadata": {},
   "source": [
    "## Reading in Sample Data"
   ]
  },
  {
   "cell_type": "code",
   "execution_count": 3,
   "metadata": {},
   "outputs": [
    {
     "name": "stderr",
     "output_type": "stream",
     "text": [
      "/Users/sheilasagear/opt/anaconda3/lib/python3.7/site-packages/IPython/core/interactiveshell.py:3331: TableReplaceWarning: converted column 'r_result_flag' from integer to float\n",
      "  exec(code_obj, self.user_global_ns, self.user_ns)\n",
      "/Users/sheilasagear/opt/anaconda3/lib/python3.7/site-packages/IPython/core/interactiveshell.py:3331: TableReplaceWarning: converted column 'r_modality_flag' from integer to float\n",
      "  exec(code_obj, self.user_global_ns, self.user_ns)\n",
      "/Users/sheilasagear/opt/anaconda3/lib/python3.7/site-packages/IPython/core/interactiveshell.py:3331: TableReplaceWarning: converted column 'teff_err1' from integer to float\n",
      "  exec(code_obj, self.user_global_ns, self.user_ns)\n",
      "/Users/sheilasagear/opt/anaconda3/lib/python3.7/site-packages/IPython/core/interactiveshell.py:3331: TableReplaceWarning: converted column 'teff_err2' from integer to float\n",
      "  exec(code_obj, self.user_global_ns, self.user_ns)\n"
     ]
    }
   ],
   "source": [
    "muirhead_data = pd.read_csv(\"/Users/sheilasagear/Dropbox (UFL)/Research/MetallicityProject/Data/Muirhead2013_isochrones/muirhead_data_no_missing_data.txt\", sep=\" \")\n",
    "\n",
    "# ALL Kepler planets from exo archive\n",
    "planets = pd.read_csv('/Users/sheilasagear/Dropbox (UFL)/Research/MetallicityProject/Data/exoplanetarchive/cumulative_kois.csv')\n",
    "\n",
    "# Take the Kepler planet archive entries for the planets in Muirhead et al. 2013 sample\n",
    "spectplanets = planets[planets['kepid'].isin(list(muirhead_data['KIC']))]\n",
    "spectplanets = spectplanets.reset_index()\n",
    "\n",
    "# Kepler-Gaia Data\n",
    "kpgaia = Table.read('/Users/sheilasagear/Dropbox (UFL)/Research/MetallicityProject/Data/Kepler-Gaia/kepler_dr2_4arcsec.fits', format='fits').to_pandas();\n",
    "\n",
    "# Kepler-Gaia data for only the objects in our sample\n",
    "muirhead_gaia = kpgaia[kpgaia['kepid'].isin(list(muirhead_data.KIC))]\n",
    "muirhead_gaia = muirhead_gaia.reset_index()\n",
    "muirhead_gaia.rename(columns={\"index\": \"KIC\"})\n",
    "\n",
    "# Combined spectroscopy data + Gaia/Kepler data for our sample\n",
    "muirhead_comb = pd.concat([muirhead_data, muirhead_gaia], axis=1)\n",
    "muirhead_comb_nn = muirhead_comb[muirhead_comb.KOI.notnull()]\n",
    "\n",
    "# Only targets from table above with published luminosities from Gaia\n",
    "muirhead_comb_lums = muirhead_comb_nn[muirhead_comb_nn.lum_val.notnull()]\n",
    "\n",
    "# Read in MESA isochrones\n",
    "isochrones = pd.read_csv('/Users/sheilasagear/Dropbox (UFL)/Research/MetallicityProject/Data/Muirhead2013_isochrones/isochrones_sdss_spitzer_lowmass.dat', sep='\\s\\s+', engine='python')"
   ]
  },
  {
   "cell_type": "markdown",
   "metadata": {},
   "source": [
    "## Outline for Sensitivity Test\n",
    "\n",
    "1. Define \"test planet\" parameters. These parameters will come from a real Kepler planet, but I'll use a fake light curve. These \"test planet\" parameters will stay the same across the entire test.\n",
    "2. Write two functions: one that wraps the entire light curve initialization process, and one that wraps the transit fit and eccentricity estimation.\n",
    "3. For each eccentricity recovered, take the difference between the input e and the peak of the e distribution as the error.\n",
    "4. Plot on a heatmap"
   ]
  },
  {
   "cell_type": "code",
   "execution_count": null,
   "metadata": {},
   "outputs": [],
   "source": []
  },
  {
   "cell_type": "markdown",
   "metadata": {},
   "source": [
    "#### Defining a \"test planet\""
   ]
  },
  {
   "cell_type": "code",
   "execution_count": 4,
   "metadata": {},
   "outputs": [],
   "source": [
    "# Kepler ID for Kepler-1582 b\n",
    "kepid = 5868793\n",
    "kepname = spectplanets.loc[spectplanets['kepid'] == kepid].kepler_name.values[0]\n",
    "\n",
    "kp1582b = muirhead_comb.loc[muirhead_comb['KIC'] == kepid]\n",
    "\n",
    "#iso_lums = ph.fit_isochrone_lum(kp1582b, muirhead_comb, isochrones, gaia_lum=True)\n",
    "\n",
    "# Write to csv, then read back in (keeps python notebook from lagging)\n",
    "#iso_lums.to_csv(\"feb19_21_iso_lums_\" + str(kepid) + \".csv\")"
   ]
  },
  {
   "cell_type": "code",
   "execution_count": 5,
   "metadata": {},
   "outputs": [],
   "source": [
    "isodf = pd.read_csv(r'/Users/sheilasagear/Dropbox (UFL)/Research/MetallicityProject/photoeccentric/notebooks/feb19_21_iso_lums_' + str(kepid) + '.csv')\n",
    "\n",
    "mstar = isodf[\"mstar\"].mean()\n",
    "mstar_err = isodf[\"mstar\"].std()\n",
    "\n",
    "rstar = isodf[\"radius\"].mean()\n",
    "rstar_err = isodf[\"radius\"].std()\n",
    "\n",
    "rho_star, mass, radius = ph.find_density_dist_symmetric(mstar, mstar_err, rstar, rstar_err)"
   ]
  },
  {
   "cell_type": "code",
   "execution_count": 6,
   "metadata": {},
   "outputs": [
    {
     "name": "stdout",
     "output_type": "stream",
     "text": [
      "Stellar mass (Msun):  0.18620280162489727 Stellar radius (Rsun):  0.21038847941706276\n",
      "Period (Days):  4.83809469 Rp/Rs:  0.036066\n",
      "a/Rs:  32.64384979582086\n",
      "i (deg):  89.98\n"
     ]
    }
   ],
   "source": [
    "period, period_uerr, period_lerr, rprs, rprs_uerr, rprs_lerr, a_arc, a_uerr_arc, a_lerr_arc, i, e_arc, w_arc = ph.planet_params_from_archive(spectplanets, kepname)\n",
    "\n",
    "# We calculate a_rs to ensure that it's consistent with the spec/Gaia stellar density.\n",
    "a_rs = ph.calc_a(period*86400.0, mstar*smass_kg, rstar*srad_m)\n",
    "a_rs_err = np.mean((a_uerr_arc, a_lerr_arc))\n",
    "\n",
    "print('Stellar mass (Msun): ', mstar, 'Stellar radius (Rsun): ', rstar)\n",
    "print('Period (Days): ', period, 'Rp/Rs: ', rprs)\n",
    "print('a/Rs: ', a_rs)\n",
    "print('i (deg): ', i)"
   ]
  },
  {
   "cell_type": "markdown",
   "metadata": {},
   "source": [
    "###### Density of this star based on Gaia and spectroscopy:"
   ]
  },
  {
   "cell_type": "code",
   "execution_count": 7,
   "metadata": {},
   "outputs": [],
   "source": [
    "def get_a_rs(rhos, periods):\n",
    "    \n",
    "    \"\"\"Periods: days\n",
    "    Rhos: kg/m^3\"\"\"\n",
    "    \n",
    "    a_rs = np.zeros(len(rhos))\n",
    "    \n",
    "    for i in range(len(rhos)):\n",
    "        per_iter = periods[i]*86400\n",
    "        rho_iter = rhos[i]\n",
    "        \n",
    "        a_rs[i] = ((per_iter**2)*((c.G*rho_iter)/(3*np.pi)))**(1.0/3.0)\n",
    "        \n",
    "    return a_rs"
   ]
  },
  {
   "cell_type": "code",
   "execution_count": 8,
   "metadata": {},
   "outputs": [
    {
     "name": "stdout",
     "output_type": "stream",
     "text": [
      "Mean density:  28680.804526515014\n"
     ]
    }
   ],
   "source": [
    "rhos_gaia = np.genfromtxt(r'/Users/sheilasagear/Dropbox (UFL)/Research/MetallicityProject/photoeccentric/notebooks/datafiles/jan29_21_rhos_5868793.0.csv', delimiter=',')\n",
    "\n",
    "print('Mean density: ', np.mean(rhos_gaia))\n"
   ]
  },
  {
   "cell_type": "markdown",
   "metadata": {},
   "source": [
    "A_rs prior:"
   ]
  },
  {
   "cell_type": "code",
   "execution_count": 9,
   "metadata": {},
   "outputs": [],
   "source": [
    "pdist = np.random.normal(period, np.mean((abs(period_uerr), abs(period_lerr))), len(rhos_gaia))"
   ]
  },
  {
   "cell_type": "code",
   "execution_count": 10,
   "metadata": {},
   "outputs": [],
   "source": [
    "a_rs_gaia = get_a_rs(rhos_gaia, pdist)"
   ]
  },
  {
   "cell_type": "code",
   "execution_count": 11,
   "metadata": {},
   "outputs": [],
   "source": [
    "a_rs_gaia_sigmin, a_rs_gaia_sigpls = ph.get_sigmas(a_rs_gaia)"
   ]
  },
  {
   "cell_type": "code",
   "execution_count": 12,
   "metadata": {},
   "outputs": [],
   "source": [
    "a_rs_guess = np.mean(a_rs_gaia)\n",
    "a_rs_priors = [a_rs_guess-10*np.std(a_rs_gaia), a_rs_guess+10*np.std(a_rs_gaia)]"
   ]
  },
  {
   "cell_type": "code",
   "execution_count": 13,
   "metadata": {},
   "outputs": [
    {
     "data": {
      "text/plain": [
       "[13.889022436260717, 51.618267026746835]"
      ]
     },
     "execution_count": 13,
     "metadata": {},
     "output_type": "execute_result"
    }
   ],
   "source": [
    "a_rs_priors"
   ]
  },
  {
   "cell_type": "code",
   "execution_count": 14,
   "metadata": {},
   "outputs": [
    {
     "data": {
      "text/plain": [
       "32.753644731503776"
      ]
     },
     "execution_count": 14,
     "metadata": {},
     "output_type": "execute_result"
    }
   ],
   "source": [
    "a_rs_guess"
   ]
  },
  {
   "cell_type": "markdown",
   "metadata": {},
   "source": [
    "###### Creating a transit"
   ]
  },
  {
   "cell_type": "code",
   "execution_count": 15,
   "metadata": {},
   "outputs": [],
   "source": [
    "def planetlc(time, per, rp, a, e, inc, w):\n",
    "    params = batman.TransitParams()       #object to store transit parameters\n",
    "    params.t0 = 0.                        #time of inferior conjunction\n",
    "    params.per = per                      #orbital period\n",
    "    params.rp = rp                        #planet radius (in units of stellar radii)\n",
    "    params.a = a                          #semi-major axis (in units of stellar radii)\n",
    "    params.inc = inc                      #orbital inclination (in degrees)\n",
    "    params.ecc = e\n",
    "    params.w = w                          #longitude of periastron (in degrees)\n",
    "    #params.limb_dark = \"linear\"\n",
    "    #params.u = [0.3]\n",
    "    #params.limb_dark = \"quadratic\"\n",
    "    #params.u = [0.1, 0.3]\n",
    "    params.limb_dark = \"uniform\"\n",
    "    params.u = []\n",
    "\n",
    "    #times to calculate light curve\n",
    "    m = batman.TransitModel(params, time)\n",
    "    \n",
    "    flux = m.light_curve(params)\n",
    "    \n",
    "    return flux"
   ]
  },
  {
   "cell_type": "code",
   "execution_count": 16,
   "metadata": {},
   "outputs": [],
   "source": [
    "def photo_init(time, per, rp, a, e, inc, w):\n",
    "    \n",
    "    # Calculate flux from transit model\n",
    "    flux = planetlc(time, period, rprs, a_rs, e, i, w)\n",
    "\n",
    "    # Adding some gaussian noise\n",
    "    noise = np.random.normal(0,0.000005,len(time))\n",
    "    nflux = flux+noise\n",
    "    \n",
    "    flux_err = np.array([0.00005]*len(nflux))\n",
    "    \n",
    "    return nflux, flux_err"
   ]
  },
  {
   "cell_type": "code",
   "execution_count": 17,
   "metadata": {},
   "outputs": [],
   "source": [
    "def chisqfunc(params, time, nflux, flux_err):\n",
    "    per, rp, a, inc, w = params\n",
    "    mod_flux = ph.planetlc_fitter(time, per, rp, a, inc, w)\n",
    "    chisq = np.sum(((nflux - mod_flux)/flux_err)**2)\n",
    "    return chisq"
   ]
  },
  {
   "cell_type": "code",
   "execution_count": 18,
   "metadata": {},
   "outputs": [],
   "source": [
    "def log_likelihood(theta, time, flux, flux_err):\n",
    "    \"\"\"Log of likelihood\n",
    "    model = ph.planetlc_fitter()\n",
    "    gerr = sigma of g distribution\n",
    "    \"\"\"\n",
    "    per, rp, a, inc = theta\n",
    "    model = ph.planetlc_fitter(time, per, rp, a, inc, 0.0)\n",
    "    sigma2 = flux_err ** 2\n",
    "    return -0.5 * np.sum((flux - model) ** 2 / sigma2 + np.log(sigma2))\n",
    "\n",
    "def log_prior(theta):\n",
    "    \"\"\"Log of prior\n",
    "    e between 0 and 1\n",
    "    w between -90 and 300\n",
    "    \"\"\"\n",
    "    per, rp, a, inc = theta\n",
    "    if 0.0 < rp < 1.0 and 0.0 < inc < 90.0:\n",
    "        return 0.0\n",
    "    return -np.inf\n",
    "\n",
    "def log_probability(theta, time, flux, flux_err):\n",
    "    \"\"\"Log of probability\n",
    "    \"\"\"\n",
    "    lp = log_prior(theta)\n",
    "    if not np.isfinite(lp):\n",
    "        return -np.inf\n",
    "    return lp + log_likelihood(theta, time, flux, flux_err)\n"
   ]
  },
  {
   "cell_type": "code",
   "execution_count": 19,
   "metadata": {},
   "outputs": [],
   "source": [
    "def mcmc_fitter(p0, time, nflux, flux_err, nsteps, e, w, directory, plot=True):\n",
    "    \n",
    "    solnx = (p0[0], p0[1], p0[2], p0[3])\n",
    "    pos = solnx + 1e-4 * np.random.randn(64, 4)\n",
    "    nwalkers, ndim = pos.shape\n",
    "    \n",
    "    sampler = emcee.EnsembleSampler(nwalkers, ndim, log_probability, args=(time, nflux, flux_err), threads=4)\n",
    "    sampler.run_mcmc(pos, nsteps, progress=True);\n",
    "    samples = sampler.get_chain()\n",
    "    \n",
    "    if plot==True:\n",
    "        fig, axes = plt.subplots(4, figsize=(10, 7), sharex=True)\n",
    "        labels = [\"period\", \"rprs\", \"a/Rs\", \"i\"]\n",
    "        for i in range(ndim):\n",
    "            ax = axes[i]\n",
    "            ax.plot(samples[:, :, i], \"k\", alpha=0.3)\n",
    "            ax.set_xlim(0, len(samples))\n",
    "            ax.set_ylabel(labels[i])\n",
    "            ax.yaxis.set_label_coords(-0.1, 0.5)\n",
    "\n",
    "        axes[-1].set_xlabel(\"step number\");\n",
    "        print('hi')\n",
    "        fig.savefig(directory + 'lcfit_burnin.png')\n",
    "        plt.close(fig)\n",
    "    \n",
    "    flat_samples = sampler.get_chain(discard=4000, thin=15, flat=True)\n",
    "    \n",
    "    fig = corner.corner(flat_samples, labels=labels);\n",
    "    fig.savefig('transit_corner.png')\n",
    "    plt.close(fig)\n",
    "\n",
    "    results = []\n",
    "    for i in range(ndim):\n",
    "        results.append(np.percentile(flat_samples[:,i], 50))\n",
    "\n",
    "    return results[0], results[1], results[2], results[3]"
   ]
  },
  {
   "cell_type": "code",
   "execution_count": 20,
   "metadata": {},
   "outputs": [],
   "source": [
    "# time = np.linspace(-24, 24, 10000)\n",
    "\n",
    "# flux, flux_err = photo_init(time, period, rprs, a_rs, 0.0, i, 90.0)\n",
    "\n",
    "# p0 = np.array([4.8, 0.036066, 35.0945803495, 89.9, 0.0])\n",
    "\n",
    "# p, r, a, ie, w = mcmc_fitter(p0, time, flux, flux_err, 100)\n",
    "# #fsamp = mcmc_fitter(p0, time, flux, flux_err, 100)"
   ]
  },
  {
   "cell_type": "code",
   "execution_count": 21,
   "metadata": {},
   "outputs": [],
   "source": [
    "def dfdt(time, flux):\n",
    "    \"\"\"Returns T14 and T23 from derivative of transit fit.\"\"\"\n",
    "    \n",
    "    ttime = time[4970:5030]\n",
    "    tflux = flux[4970:5030]\n",
    "    \n",
    "    diffs = np.append(np.diff(tflux)/np.diff(ttime), 0)\n",
    "    \n",
    "    notzeros = np.where(tflux < 0.99985)[0]\n",
    "    \n",
    "    T14 = ttime[notzeros[-1]+1]-ttime[notzeros[0]-1]\n",
    "    T23 = ttime[np.argmax(diffs)]-ttime[np.argmin(diffs)+1]\n",
    "    \n",
    "    return T14, T23"
   ]
  },
  {
   "cell_type": "code",
   "execution_count": 31,
   "metadata": {},
   "outputs": [],
   "source": [
    "# def get_a_from_T14(T14, P, inc, rprs):\n",
    "    \n",
    "#     d2r = np.pi/180.0\n",
    "    \n",
    "#     b = a_rs*np.cos(i*d2r)\n",
    "    \n",
    "#     a_rs = 1.0/(np.sin((np.pi*T14)/P)*(np.sin(inc*d2r)/np.sqrt((1+rprs)**2)-b**2))\n",
    "    \n",
    "#     return a_rs\n",
    "    "
   ]
  },
  {
   "cell_type": "code",
   "execution_count": 32,
   "metadata": {},
   "outputs": [],
   "source": [
    "# get_a_from_T14(t14, period, i, rprs)"
   ]
  },
  {
   "cell_type": "code",
   "execution_count": 23,
   "metadata": {},
   "outputs": [],
   "source": [
    "def photo_fit(time, nflux, flux_err, rho_star, e, w, directory, nsteps=1000, plot_transit=True, plot_burnin=True, fitter=\"MCMC\"):\n",
    "    \n",
    "    mod = BoxLeastSquares(time*u.day, nflux, dy=0.01)\n",
    "    periodogram = mod.autopower(0.2, objective=\"snr\")\n",
    "    per_guess = np.asarray(periodogram.period)[int(np.median(np.argmax(periodogram.power)))]\n",
    "    \n",
    "    # Guess T14 and T23 from derivative\n",
    "    \n",
    "    # Inital guess: period, rprs, a/Rs, i, w\n",
    "    p0 = np.array([per_guess, 0.036066, a_rs_guess, 89.9, 90.0])\n",
    "    #p0 = np.array([per_guess, 0.036066, 45, 89.9, 0.0])\n",
    "\n",
    "    \n",
    "    if fitter==\"MCMC\":\n",
    "        # EMCEE Transit Model Fitting\n",
    "        p_f, rprs_f, a_f, i_f = mcmc_fitter(p0, time, nflux, flux_err, nsteps, e, w, directory, plot=plot_burnin)\n",
    "        \n",
    "        perr_f = 0.001 #days to seconds\n",
    "        rprserr_f = 0.001\n",
    "    \n",
    "    elif fitter!=\"MCMC\":\n",
    "        result =  opt.minimize(chisqfunc, p0, args=(time, nflux, flux_err), method=fitter)\n",
    "    \n",
    "        # Defining variables based on the fit parameters\n",
    "        p_f = result.x[0] #days to seconds\n",
    "        perr_f = 0.001 #days to seconds\n",
    "        rprs_f = result.x[1]\n",
    "        rprserr_f = 0.001\n",
    "        a_f = result.x[2]\n",
    "        i_f = result.x[3] \n",
    "        w_f = result.x[4]\n",
    "        \n",
    "    else:\n",
    "        \"You have to specify a fitting method\"\n",
    "\n",
    "    # Create a light curve with the fit parameters\n",
    "    fit = ph.planetlc_fitter(time, p_f, rprs_f, a_f, i_f, 0.0)\n",
    "    \n",
    "    if plot_transit==True:\n",
    "        plt.cla()\n",
    "        plt.plot(time, nflux, c='blue', alpha=0.5, label='Original LC')\n",
    "        plt.plot(time, fit, c='red', alpha=1.0, label='Fit LC')\n",
    "        plt.xlim(-0.1, 0.1)\n",
    "        plt.legend()\n",
    "        \n",
    "        plt.savefig(directory + 'lightcurve_fitp' + str(p_f) + '_fitrprs' + str(rprs_f) + '_fitars' + str(a_f) + '_fiti' + str(i_f) + '.png')\n",
    "        plt.close()\n",
    "            \n",
    "    print('Fit params:')\n",
    "    print('Period (days): ', p_f, 'Rp/Rs: ', rprs_f)\n",
    "    print('a/Rs: ', a_f)\n",
    "    print('i (deg): ', i_f)\n",
    "        \n",
    "        \n",
    "    T14 = ph.get_T14(p_f*86400, rprs_f, a_f, i_f)\n",
    "    T14err = 0.0001*86400 #I'm assuming a T14 error here\n",
    "\n",
    "    T23 = ph.get_T23(p_f*86400, rprs_f, a_f, i_f)\n",
    "    T23err = 0.0001*86400 #I'm assuming a T23 error here\n",
    "\n",
    "    #gs, rho_c, rho_s_spec, T14s, T23s = ph.get_g_distribution(rho_star, p_f*86400, perr_f*86400, rprs_f, rprserr_f, T14, T14err, T23, T23err)\n",
    "\n",
    "    gs, rho_c, rho_s_spec, T14s, T23s = ph.get_g_distribution(rho_star, p_f*86400, perr_f*86400, rprs_f, rprserr_f, T14, T14err, T23, T23err)\n",
    "\n",
    "\n",
    "    g_mean = np.mean(gs)\n",
    "    g_sigma = np.mean(np.abs(ph.get_sigmas(gs)))\n",
    "    \n",
    "    #Guesses\n",
    "    w_guess = 0.0\n",
    "    e_guess = 0.0\n",
    "\n",
    "    solnx = (w_guess, e_guess)\n",
    "    pos = solnx + 1e-4 * np.random.randn(32, 2)\n",
    "    nwalkers, ndim = pos.shape\n",
    "    \n",
    "    sampler = emcee.EnsembleSampler(nwalkers, ndim, ph.log_probability, args=(g_mean, g_sigma), threads=4)\n",
    "    \n",
    "    print('-------MCMC------')\n",
    "    sampler.run_mcmc(pos, 5000, progress=True);\n",
    "    flat_samples_e = sampler.get_chain(discard=1000, thin=15, flat=True)\n",
    "    \n",
    "    fig, axes = plt.subplots(2, figsize=(10, 7), sharex=True)\n",
    "    samples = sampler.get_chain()\n",
    "    labels = [\"w\", \"e\"]\n",
    "    for i in range(ndim):\n",
    "        ax = axes[i]\n",
    "        ax.plot(samples[:, :, i], \"k\", alpha=0.3)\n",
    "        ax.set_xlim(0, len(samples))\n",
    "        ax.set_ylabel(labels[i])\n",
    "        ax.yaxis.set_label_coords(-0.1, 0.5)\n",
    "\n",
    "    axes[-1].set_xlabel(\"step number\");\n",
    "    \n",
    "    fig.savefig(directory + 'e_g_burnin.png')\n",
    "    plt.close(fig)\n",
    "\n",
    "    fite = np.percentile(flat_samples_e[:,1], 50)\n",
    "    fitw = np.percentile(flat_samples_e[:,0], 50)\n",
    "    \n",
    "    sig_from_true = [0, 0]\n",
    "\n",
    "    mcmc_e = np.percentile(flat_samples_e[:, 1], [16, 50, 84])\n",
    "    q_e = np.diff(mcmc_e)\n",
    "    \n",
    "    mcmc_w = np.percentile(flat_samples_e[:, 0], [16, 50, 84])\n",
    "    q_w = np.diff(mcmc_w)\n",
    "\n",
    "    if mcmc_e[1]+q_e[0] < fite < mcmc_e[1]+q_e[1]:\n",
    "        sig_from_true[0] = 0\n",
    "    else:\n",
    "        sig_from_true[0] = 1\n",
    "        \n",
    "    if mcmc_w[1]+q_w[0] < fitw < mcmc_w[1]+q_w[1]:\n",
    "        sig_from_true[1] = 0\n",
    "    else:\n",
    "        sig_from_true[1] = 1\n",
    "    \n",
    "    \n",
    "    fig = corner.corner(flat_samples_e, labels=labels, show_titles=True, title_kwargs={\"fontsize\": 12}, truths=[w, e], quantiles=[0.16, 0.5, 0.84], plot_contours=True);\n",
    "    fig.savefig(directory + 'corner_fit_e' + str(fite) + '_fit_w' + str(fitw) + '_fit_g' + str(g) + '.png')\n",
    "    plt.close(fig)\n",
    "    \n",
    "    return fite, fitw, g_mean, sig_from_true\n",
    "    \n",
    "    \n",
    "\n"
   ]
  },
  {
   "cell_type": "markdown",
   "metadata": {},
   "source": [
    "# Using photo_init and photo_fit"
   ]
  },
  {
   "cell_type": "code",
   "execution_count": 24,
   "metadata": {},
   "outputs": [],
   "source": [
    "e_rand = np.random.uniform(0.0, 1.0, size=100)\n",
    "w_rand = np.random.uniform(-90.0, 90.0, size=100)"
   ]
  },
  {
   "cell_type": "code",
   "execution_count": 25,
   "metadata": {},
   "outputs": [],
   "source": [
    "# Testing how accurately MCMC fits period/radius/i/ars..."
   ]
  },
  {
   "cell_type": "code",
   "execution_count": 26,
   "metadata": {
    "scrolled": true
   },
   "outputs": [
    {
     "name": "stdout",
     "output_type": "stream",
     "text": [
      "Period (Days):  4.83809469\n",
      "Rp/Rs:  0.036066\n",
      "a/Rs:  32.64384979582086\n",
      "i (deg):  89.98\n",
      "e:  0.03121315018576043 w:  -76.48838774357817\n"
     ]
    },
    {
     "name": "stderr",
     "output_type": "stream",
     "text": [
      "100%|██████████| 6000/6000 [13:30<00:00,  7.41it/s]\n"
     ]
    },
    {
     "name": "stdout",
     "output_type": "stream",
     "text": [
      "hi\n"
     ]
    },
    {
     "name": "stderr",
     "output_type": "stream",
     "text": [
      "100%|██████████| 1000/1000 [00:00<00:00, 86603.70it/s]\n",
      "  0%|          | 0/5000 [00:00<?, ?it/s]/Users/sheilasagear/opt/anaconda3/lib/python3.7/site-packages/emcee/moves/red_blue.py:99: RuntimeWarning: invalid value encountered in double_scalars\n",
      "  lnpdiff = f + nlp - state.log_prob[j]\n",
      "  1%|▏         | 65/5000 [00:00<00:07, 648.25it/s]"
     ]
    },
    {
     "name": "stdout",
     "output_type": "stream",
     "text": [
      "Fit params:\n",
      "Period (days):  4.838094899799039 Rp/Rs:  0.03605835438193073\n",
      "a/Rs:  31.379945826083016\n",
      "i (deg):  89.752791021305\n",
      "-------MCMC------\n"
     ]
    },
    {
     "name": "stderr",
     "output_type": "stream",
     "text": [
      "100%|██████████| 5000/5000 [00:06<00:00, 727.76it/s]\n"
     ]
    },
    {
     "ename": "NameError",
     "evalue": "name 'g' is not defined",
     "output_type": "error",
     "traceback": [
      "\u001b[0;31m---------------------------------------------------------------------------\u001b[0m",
      "\u001b[0;31mNameError\u001b[0m                                 Traceback (most recent call last)",
      "\u001b[0;32m<ipython-input-26-b6fbecd8a674>\u001b[0m in \u001b[0;36m<module>\u001b[0;34m\u001b[0m\n\u001b[1;32m     17\u001b[0m     \u001b[0mtflux\u001b[0m\u001b[0;34m,\u001b[0m \u001b[0mtflux_err\u001b[0m \u001b[0;34m=\u001b[0m \u001b[0mphoto_init\u001b[0m\u001b[0;34m(\u001b[0m\u001b[0mttime\u001b[0m\u001b[0;34m,\u001b[0m \u001b[0mperiod\u001b[0m\u001b[0;34m,\u001b[0m \u001b[0mrprs\u001b[0m\u001b[0;34m,\u001b[0m \u001b[0ma_rs\u001b[0m\u001b[0;34m,\u001b[0m \u001b[0me_rand\u001b[0m\u001b[0;34m[\u001b[0m\u001b[0mj\u001b[0m\u001b[0;34m]\u001b[0m\u001b[0;34m,\u001b[0m \u001b[0mi\u001b[0m\u001b[0;34m,\u001b[0m \u001b[0mw_rand\u001b[0m\u001b[0;34m[\u001b[0m\u001b[0mj\u001b[0m\u001b[0;34m]\u001b[0m\u001b[0;34m)\u001b[0m\u001b[0;34m\u001b[0m\u001b[0;34m\u001b[0m\u001b[0m\n\u001b[1;32m     18\u001b[0m     \u001b[0;32mtry\u001b[0m\u001b[0;34m:\u001b[0m\u001b[0;34m\u001b[0m\u001b[0;34m\u001b[0m\u001b[0m\n\u001b[0;32m---> 19\u001b[0;31m         \u001b[0mes_best_c\u001b[0m\u001b[0;34m,\u001b[0m \u001b[0mbestw\u001b[0m\u001b[0;34m,\u001b[0m \u001b[0mg\u001b[0m \u001b[0;34m=\u001b[0m \u001b[0mphoto_fit\u001b[0m\u001b[0;34m(\u001b[0m\u001b[0mttime\u001b[0m\u001b[0;34m,\u001b[0m \u001b[0mtflux\u001b[0m\u001b[0;34m,\u001b[0m \u001b[0mtflux_err\u001b[0m\u001b[0;34m,\u001b[0m \u001b[0mrho_star\u001b[0m\u001b[0;34m,\u001b[0m \u001b[0me_rand\u001b[0m\u001b[0;34m[\u001b[0m\u001b[0mj\u001b[0m\u001b[0;34m]\u001b[0m\u001b[0;34m,\u001b[0m \u001b[0mw_rand\u001b[0m\u001b[0;34m[\u001b[0m\u001b[0mj\u001b[0m\u001b[0;34m]\u001b[0m\u001b[0;34m,\u001b[0m \u001b[0mdirect\u001b[0m\u001b[0;34m,\u001b[0m \u001b[0mnsteps\u001b[0m\u001b[0;34m=\u001b[0m\u001b[0;36m6000\u001b[0m\u001b[0;34m,\u001b[0m \u001b[0mplot_transit\u001b[0m\u001b[0;34m=\u001b[0m\u001b[0;32mTrue\u001b[0m\u001b[0;34m,\u001b[0m \u001b[0mplot_burnin\u001b[0m\u001b[0;34m=\u001b[0m\u001b[0;32mTrue\u001b[0m\u001b[0;34m,\u001b[0m \u001b[0mfitter\u001b[0m\u001b[0;34m=\u001b[0m\u001b[0;34m\"MCMC\"\u001b[0m\u001b[0;34m)\u001b[0m\u001b[0;34m\u001b[0m\u001b[0;34m\u001b[0m\u001b[0m\n\u001b[0m\u001b[1;32m     20\u001b[0m         \u001b[0mes_best\u001b[0m\u001b[0;34m.\u001b[0m\u001b[0mappend\u001b[0m\u001b[0;34m(\u001b[0m\u001b[0mes_best_c\u001b[0m\u001b[0;34m)\u001b[0m\u001b[0;34m\u001b[0m\u001b[0;34m\u001b[0m\u001b[0m\n\u001b[1;32m     21\u001b[0m         \u001b[0mws_best\u001b[0m\u001b[0;34m.\u001b[0m\u001b[0mappend\u001b[0m\u001b[0;34m(\u001b[0m\u001b[0mbestw\u001b[0m\u001b[0;34m)\u001b[0m\u001b[0;34m\u001b[0m\u001b[0;34m\u001b[0m\u001b[0m\n",
      "\u001b[0;32m<ipython-input-23-69db0b53c423>\u001b[0m in \u001b[0;36mphoto_fit\u001b[0;34m(time, nflux, flux_err, rho_star, e, w, directory, nsteps, plot_transit, plot_burnin, fitter)\u001b[0m\n\u001b[1;32m    119\u001b[0m \u001b[0;34m\u001b[0m\u001b[0m\n\u001b[1;32m    120\u001b[0m     \u001b[0mfig\u001b[0m \u001b[0;34m=\u001b[0m \u001b[0mcorner\u001b[0m\u001b[0;34m.\u001b[0m\u001b[0mcorner\u001b[0m\u001b[0;34m(\u001b[0m\u001b[0mflat_samples_e\u001b[0m\u001b[0;34m,\u001b[0m \u001b[0mlabels\u001b[0m\u001b[0;34m=\u001b[0m\u001b[0mlabels\u001b[0m\u001b[0;34m,\u001b[0m \u001b[0mshow_titles\u001b[0m\u001b[0;34m=\u001b[0m\u001b[0;32mTrue\u001b[0m\u001b[0;34m,\u001b[0m \u001b[0mtitle_kwargs\u001b[0m\u001b[0;34m=\u001b[0m\u001b[0;34m{\u001b[0m\u001b[0;34m\"fontsize\"\u001b[0m\u001b[0;34m:\u001b[0m \u001b[0;36m12\u001b[0m\u001b[0;34m}\u001b[0m\u001b[0;34m,\u001b[0m \u001b[0mtruths\u001b[0m\u001b[0;34m=\u001b[0m\u001b[0;34m[\u001b[0m\u001b[0mw\u001b[0m\u001b[0;34m,\u001b[0m \u001b[0me\u001b[0m\u001b[0;34m]\u001b[0m\u001b[0;34m,\u001b[0m \u001b[0mquantiles\u001b[0m\u001b[0;34m=\u001b[0m\u001b[0;34m[\u001b[0m\u001b[0;36m0.16\u001b[0m\u001b[0;34m,\u001b[0m \u001b[0;36m0.5\u001b[0m\u001b[0;34m,\u001b[0m \u001b[0;36m0.84\u001b[0m\u001b[0;34m]\u001b[0m\u001b[0;34m,\u001b[0m \u001b[0mplot_contours\u001b[0m\u001b[0;34m=\u001b[0m\u001b[0;32mTrue\u001b[0m\u001b[0;34m)\u001b[0m\u001b[0;34m;\u001b[0m\u001b[0;34m\u001b[0m\u001b[0;34m\u001b[0m\u001b[0m\n\u001b[0;32m--> 121\u001b[0;31m     \u001b[0mfig\u001b[0m\u001b[0;34m.\u001b[0m\u001b[0msavefig\u001b[0m\u001b[0;34m(\u001b[0m\u001b[0mdirectory\u001b[0m \u001b[0;34m+\u001b[0m \u001b[0;34m'corner_fit_e'\u001b[0m \u001b[0;34m+\u001b[0m \u001b[0mstr\u001b[0m\u001b[0;34m(\u001b[0m\u001b[0mfite\u001b[0m\u001b[0;34m)\u001b[0m \u001b[0;34m+\u001b[0m \u001b[0;34m'_fit_w'\u001b[0m \u001b[0;34m+\u001b[0m \u001b[0mstr\u001b[0m\u001b[0;34m(\u001b[0m\u001b[0mfitw\u001b[0m\u001b[0;34m)\u001b[0m \u001b[0;34m+\u001b[0m \u001b[0;34m'_fit_g'\u001b[0m \u001b[0;34m+\u001b[0m \u001b[0mstr\u001b[0m\u001b[0;34m(\u001b[0m\u001b[0mg\u001b[0m\u001b[0;34m)\u001b[0m \u001b[0;34m+\u001b[0m \u001b[0;34m'.png'\u001b[0m\u001b[0;34m)\u001b[0m\u001b[0;34m\u001b[0m\u001b[0;34m\u001b[0m\u001b[0m\n\u001b[0m\u001b[1;32m    122\u001b[0m     \u001b[0mplt\u001b[0m\u001b[0;34m.\u001b[0m\u001b[0mclose\u001b[0m\u001b[0;34m(\u001b[0m\u001b[0mfig\u001b[0m\u001b[0;34m)\u001b[0m\u001b[0;34m\u001b[0m\u001b[0;34m\u001b[0m\u001b[0m\n\u001b[1;32m    123\u001b[0m \u001b[0;34m\u001b[0m\u001b[0m\n",
      "\u001b[0;31mNameError\u001b[0m: name 'g' is not defined"
     ]
    },
    {
     "data": {
      "image/png": "[encoded data removed]",
      "text/plain": [
       "<Figure size 396x396 with 4 Axes>"
      ]
     },
     "metadata": {
      "needs_background": "light"
     },
     "output_type": "display_data"
    }
   ],
   "source": [
    "es_best = []\n",
    "ws_best = []\n",
    "\n",
    "print('Period (Days): ', period)\n",
    "print('Rp/Rs: ', rprs)\n",
    "print('a/Rs: ', a_rs)\n",
    "print('i (deg): ', i)\n",
    "\n",
    "for j in range(1):\n",
    "    print('e: ', e_rand[j], 'w: ', w_rand[j])\n",
    "    \n",
    "    dr = 'e_' + str(e_rand[j]) + '_w_' + str(w_rand[j])\n",
    "    os.mkdir('/Users/sheilasagear/Dropbox (UFL)/Research/MetallicityProject/photoeccentric/notebooks/plots/' + dr + '/')\n",
    "    direct = '/Users/sheilasagear/Dropbox (UFL)/Research/MetallicityProject/photoeccentric/notebooks/plots/' + dr + '/'\n",
    "    \n",
    "    ttime = np.linspace(-24, 24, 10000)\n",
    "    tflux, tflux_err = photo_init(ttime, period, rprs, a_rs, e_rand[j], i, w_rand[j])\n",
    "    try:\n",
    "        es_best_c, bestw, g = photo_fit(ttime, tflux, tflux_err, rho_star, e_rand[j], w_rand[j], direct, nsteps=6000, plot_transit=True, plot_burnin=True, fitter=\"MCMC\") \n",
    "        es_best.append(es_best_c)\n",
    "        ws_best.append(bestw)\n",
    "        print(\"Best e: \", es_best_c)\n",
    "        print(\"Best g: \", g)\n",
    "    except ValueError:\n",
    "        es_best.append(np.nan)\n",
    "        print(\"No Fit\")\n"
   ]
  },
  {
   "cell_type": "code",
   "execution_count": 542,
   "metadata": {},
   "outputs": [
    {
     "data": {
      "text/plain": [
       "67"
      ]
     },
     "execution_count": 542,
     "metadata": {},
     "output_type": "execute_result"
    }
   ],
   "source": [
    "len(es_best)"
   ]
  },
  {
   "cell_type": "code",
   "execution_count": 553,
   "metadata": {},
   "outputs": [],
   "source": [
    "np.savetxt('es_best.csv', es_best, delimiter=',')"
   ]
  },
  {
   "cell_type": "code",
   "execution_count": 555,
   "metadata": {},
   "outputs": [],
   "source": [
    "np.savetxt('ws_best.csv', ws_best, delimiter=',')"
   ]
  },
  {
   "cell_type": "code",
   "execution_count": 556,
   "metadata": {},
   "outputs": [],
   "source": [
    "np.savetxt('e_rand.csv', e_rand[0:67], delimiter=',')"
   ]
  },
  {
   "cell_type": "code",
   "execution_count": 557,
   "metadata": {},
   "outputs": [],
   "source": [
    "np.savetxt('w_rand.csv', w_rand[0:67], delimiter=',')"
   ]
  },
  {
   "cell_type": "code",
   "execution_count": 560,
   "metadata": {},
   "outputs": [],
   "source": [
    "erand = np.loadtxt('e_rand.csv')\n",
    "wrand = np.loadtxt('w_rand.csv')\n",
    "efit = np.loadtxt('es_best.csv')\n",
    "wfit = np.loadtxt('ws_best.csv')"
   ]
  },
  {
   "cell_type": "code",
   "execution_count": 564,
   "metadata": {},
   "outputs": [],
   "source": [
    "errs = np.abs((erand-efit)/erand)"
   ]
  },
  {
   "cell_type": "code",
   "execution_count": 588,
   "metadata": {},
   "outputs": [
    {
     "data": {
      "text/plain": [
       "array([1.09612249e-01, 2.77707188e-01, 3.24760967e-02, 1.19246482e-01,\n",
       "       4.10805225e-02, 6.42226043e-01, 3.16838922e-01, 2.43508115e-01,\n",
       "       8.45079589e-01, 5.42086386e-02, 8.18905049e-01, 5.16023868e-03,\n",
       "       4.51909869e-01, 5.25078762e-03, 4.34700252e-01, 2.38801915e-01,\n",
       "       2.17174741e-01, 3.28045531e-02, 2.06283349e-01, 1.15919034e-02,\n",
       "       8.01954973e-02, 1.33675850e-01, 3.14904751e-01, 1.90412000e-01,\n",
       "       1.03855284e-01, 2.00530000e-01, 3.72341291e-01, 3.23728550e-01,\n",
       "       5.60525504e-01, 5.17295280e-01, 1.36040711e+00, 6.87338149e+00,\n",
       "       1.58868334e-01, 2.67233582e-01, 1.01972012e+00, 6.43116204e-01,\n",
       "       3.74165196e-01, 1.30391148e-01, 8.62654730e+00, 8.67338486e-02,\n",
       "       2.56962838e-01, 6.05146320e-01, 4.85456990e-01, 4.05607812e-01,\n",
       "       5.96147313e-01, 2.48175197e-01, 3.42859740e-01, 1.02228314e-01,\n",
       "       7.12646528e-01, 1.21599143e-01, 9.07150031e-03, 2.11721663e-01,\n",
       "       4.49101576e-01, 4.15919705e-03, 3.30036747e-01, 4.21436476e-01,\n",
       "       7.29462852e-03, 2.10986355e-01, 3.26223286e-01, 4.47519581e-02,\n",
       "       2.22402956e-01, 1.13933999e+00, 2.42426218e-01, 7.92769039e-01,\n",
       "       1.71010527e-01, 5.32280356e-01, 4.85132107e-03])"
      ]
     },
     "execution_count": 588,
     "metadata": {},
     "output_type": "execute_result"
    }
   ],
   "source": [
    "errs"
   ]
  },
  {
   "cell_type": "code",
   "execution_count": 589,
   "metadata": {},
   "outputs": [
    {
     "data": {
      "text/plain": [
       "(array([31, 38]),)"
      ]
     },
     "execution_count": 589,
     "metadata": {},
     "output_type": "execute_result"
    }
   ],
   "source": [
    "np.where(errs>5)"
   ]
  },
  {
   "cell_type": "code",
   "execution_count": 581,
   "metadata": {},
   "outputs": [
    {
     "data": {
      "text/plain": [
       "38"
      ]
     },
     "execution_count": 581,
     "metadata": {},
     "output_type": "execute_result"
    }
   ],
   "source": [
    "np.argmax(errs)"
   ]
  },
  {
   "cell_type": "code",
   "execution_count": 582,
   "metadata": {},
   "outputs": [
    {
     "data": {
      "text/plain": [
       "8.626547297894321"
      ]
     },
     "execution_count": 582,
     "metadata": {},
     "output_type": "execute_result"
    }
   ],
   "source": [
    "errs[38]"
   ]
  },
  {
   "cell_type": "code",
   "execution_count": 585,
   "metadata": {},
   "outputs": [
    {
     "data": {
      "text/plain": [
       "0.01230612032641587"
      ]
     },
     "execution_count": 585,
     "metadata": {},
     "output_type": "execute_result"
    }
   ],
   "source": [
    "erand[38]"
   ]
  },
  {
   "cell_type": "code",
   "execution_count": 580,
   "metadata": {},
   "outputs": [
    {
     "data": {
      "text/plain": [
       "Text(0.5, 1.0, 'Color = Percent Error')"
      ]
     },
     "execution_count": 580,
     "metadata": {},
     "output_type": "execute_result"
    },
    {
     "data": {
      "image/png": "[encoded data removed]",
      "text/plain": [
       "<Figure size 864x576 with 2 Axes>"
      ]
     },
     "metadata": {
      "needs_background": "light"
     },
     "output_type": "display_data"
    }
   ],
   "source": [
    "plt.scatter(erand, wrand, c=errs*100)\n",
    "plt.colorbar()\n",
    "plt.xlabel('True e')\n",
    "plt.ylabel('True w')\n",
    "plt.title('Color = Percent Error')"
   ]
  },
  {
   "cell_type": "code",
   "execution_count": 593,
   "metadata": {},
   "outputs": [
    {
     "data": {
      "text/plain": [
       "Text(0.5, 1.0, 'No Outliers ||| Color = Percent Error')"
      ]
     },
     "execution_count": 593,
     "metadata": {},
     "output_type": "execute_result"
    },
    {
     "data": {
      "image/png": "[encoded data removed]",
      "text/plain": [
       "<Figure size 864x576 with 2 Axes>"
      ]
     },
     "metadata": {
      "needs_background": "light"
     },
     "output_type": "display_data"
    }
   ],
   "source": [
    "plt.scatter(np.delete(erand, [31, 38]), np.delete(wrand, [31,38]), c=np.delete(errs, [31,38])*100)\n",
    "plt.colorbar()\n",
    "plt.xlabel('True e')\n",
    "plt.ylabel('True w')\n",
    "plt.title('No Outliers ||| Color = Percent Error')"
   ]
  },
  {
   "cell_type": "code",
   "execution_count": 155,
   "metadata": {},
   "outputs": [],
   "source": [
    "# es_best_2 = []\n",
    "\n",
    "# print('Period (Days): ', period)\n",
    "# print('Rp/Rs: ', rprs)\n",
    "# print('a/Rs: ', a_rs)\n",
    "# print('i (deg): ', i)\n",
    "\n",
    "# for j in range(40):\n",
    "#     print('e: ', e_rand[j], 'w: ', w_rand[j])\n",
    "#     ttime = np.linspace(-24, 24, 10000)\n",
    "#     tflux, tflux_err = photo_init(ttime, period, rprs, a_rs, e_rand[j], i, w_rand[j])\n",
    "#     try:\n",
    "#         es_best_c = photo_fit(ttime, tflux, tflux_err, rho_star, plot=True, fitter='BFGS')\n",
    "#         es_best_2.append(es_best_c)\n",
    "#     except ValueError:\n",
    "#         es_best_2.append(np.nan)"
   ]
  },
  {
   "cell_type": "code",
   "execution_count": 156,
   "metadata": {},
   "outputs": [],
   "source": [
    "# errs_2 = np.abs((e_rand[0:40]-es_best)/e_rand[0:40])"
   ]
  },
  {
   "cell_type": "code",
   "execution_count": 157,
   "metadata": {},
   "outputs": [],
   "source": [
    "# plt.scatter(e_rand[0:40], w_rand[0:40], c=errs_2*100)\n",
    "# plt.colorbar()\n",
    "# plt.xlabel('True e')\n",
    "# plt.ylabel('True w')\n",
    "# plt.title('Color = Percent Error')"
   ]
  },
  {
   "cell_type": "code",
   "execution_count": null,
   "metadata": {},
   "outputs": [],
   "source": []
  }
 ],
 "metadata": {
  "kernelspec": {
   "display_name": "Python 3",
   "language": "python",
   "name": "python3"
  },
  "language_info": {
   "codemirror_mode": {
    "name": "ipython",
    "version": 3
   },
   "file_extension": ".py",
   "mimetype": "text/x-python",
   "name": "python",
   "nbconvert_exporter": "python",
   "pygments_lexer": "ipython3",
   "version": "3.7.6"
  }
 },
 "nbformat": 4,
 "nbformat_minor": 4
}
