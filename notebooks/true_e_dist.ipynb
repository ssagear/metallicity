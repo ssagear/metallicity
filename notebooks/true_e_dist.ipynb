{
 "cells": [
  {
   "cell_type": "markdown",
   "metadata": {},
   "source": [
    "###### The probability of an eccentricity GIVEN that a planet is transiting (P(e|b)) and the probability of a longitude of periastron GIVEN that a planet is transiting (P(w|b)) are different than P(e) and P(w)."
   ]
  },
  {
   "cell_type": "markdown",
   "metadata": {},
   "source": [
    "https://academic.oup.com/mnras/article/444/3/2263/1053015"
   ]
  },
  {
   "cell_type": "code",
   "execution_count": 1,
   "metadata": {},
   "outputs": [],
   "source": [
    "import numpy as np\n",
    "import matplotlib.pyplot as plt\n",
    "import pandas as pd\n",
    "from tqdm import tqdm\n",
    "from astropy.table import Table\n",
    "import astropy.units as u\n",
    "import matplotlib\n",
    "\n",
    "# Using `batman` to create & fit fake transit\n",
    "import batman\n",
    "\n",
    "# Using astropy BLS and scipy curve_fit to fit transit\n",
    "from astropy.timeseries import BoxLeastSquares\n",
    "from scipy.optimize import curve_fit\n",
    "\n",
    "import scipy.optimize as opt\n",
    "\n",
    "# Using emcee & corner to find and plot (e, w) distribution\n",
    "import emcee\n",
    "import corner\n",
    "\n",
    "# And importing `photoeccentric`\n",
    "import photoeccentric as ph\n",
    "\n",
    "# Random stuff\n",
    "import scipy.constants as c\n",
    "from scipy.stats import rayleigh\n",
    "import os\n",
    "\n",
    "from pathlib import Path\n",
    "\n",
    "%load_ext autoreload\n",
    "%autoreload 2\n",
    "\n",
    "%matplotlib inline\n",
    "\n",
    "plt.rcParams['figure.figsize'] = [12, 8]"
   ]
  },
  {
   "cell_type": "code",
   "execution_count": 2,
   "metadata": {},
   "outputs": [],
   "source": [
    "def find_nearest(array, value):\n",
    "    array = np.asarray(array)\n",
    "    idx = (np.abs(array - value)).argmin()\n",
    "    return array[idx]"
   ]
  },
  {
   "cell_type": "code",
   "execution_count": 3,
   "metadata": {},
   "outputs": [],
   "source": [
    "def mode(dist):\n",
    "\n",
    "    \"\"\"Gets mode of a histogram.\n",
    "\n",
    "    Parameters\n",
    "    ----------\n",
    "    dist: array\n",
    "        Distribution\n",
    "\n",
    "    Returns\n",
    "    -------\n",
    "    mode: float\n",
    "        Mode\n",
    "    \"\"\"\n",
    "\n",
    "    #n, bins = np.histogram(dist, bins=np.linspace(np.nanmin(dist), np.nanmax(dist), 100))\n",
    "    n, bins = np.histogram(dist, bins=np.linspace(np.nanmin(dist), np.nanmax(dist), 500))\n",
    "    mode = bins[np.nanargmax(n)]\n",
    "    return mode"
   ]
  },
  {
   "cell_type": "markdown",
   "metadata": {},
   "source": [
    "# UNIFORM DISTRIBUTION"
   ]
  },
  {
   "cell_type": "code",
   "execution_count": 4,
   "metadata": {},
   "outputs": [],
   "source": [
    "distpath_uniform = \"/Users/ssagear/Dropbox (UFL)/Research/MetallicityProject/photoeccentric/notebooks/hpgresults/uniform_dist/results_w_-90to270/\"\n",
    "\n",
    "truee = []\n",
    "truew = []\n",
    "edist_uniform = []\n",
    "\n",
    "for subdir, dirs, files in os.walk(distpath_uniform):\n",
    "    try:\n",
    "        trueparams = subdir.split(\"/Users/ssagear/Dropbox (UFL)/Research/MetallicityProject/photoeccentric/notebooks/hpgresults/uniform_dist/results_w_-90to270/e_\",1)[1]\n",
    "        truee.append(float(trueparams.split('_w_')[0]))\n",
    "        truew.append(float(trueparams.split('_w_')[1]))\n",
    "    except IndexError:\n",
    "        continue\n",
    "    for file in files:\n",
    "        if 'distributions' in file:\n",
    "            distpath = os.path.join(subdir, file)\n",
    "            edist_uniform.append(np.genfromtxt(distpath, delimiter=','))\n",
    "    \n",
    "truee = np.array(truee)\n",
    "truew = np.array(truew)\n",
    "edist_uniform = np.array(edist_uniform)\n",
    "\n"
   ]
  },
  {
   "cell_type": "code",
   "execution_count": 5,
   "metadata": {},
   "outputs": [],
   "source": [
    "fite = []\n",
    "fitw = []\n",
    "fitg = []\n",
    "\n",
    "es_uniform = []\n",
    "ws_uniform = []\n",
    "gs_uniform = []\n",
    "\n",
    "\n",
    "for i in range(len(edist_uniform)):\n",
    "    \n",
    "    es_uniform.append(edist_uniform[i][:,0])\n",
    "    fite.append(ph.mode(edist_uniform[i][:,0]))\n",
    "    \n",
    "    ws_uniform.append(edist_uniform[i][:,1])\n",
    "    fitw.append(ph.mode(edist_uniform[i][:,1]))\n",
    "    \n",
    "    gs_uniform.append(edist_uniform[i][:,2])\n",
    "    fitg.append(ph.mode(edist_uniform[i][:,2]))\n",
    "    \n",
    "fite = np.array(fite)\n",
    "es_uniform = np.array(es_uniform)\n",
    "\n",
    "fitw = np.array(fitw)\n",
    "ws_uniform = np.array(ws_uniform)\n",
    "\n",
    "fitg = np.array(fitg)\n",
    "gs_uniform = np.array(gs_uniform)"
   ]
  },
  {
   "cell_type": "code",
   "execution_count": 6,
   "metadata": {},
   "outputs": [],
   "source": [
    "# for i in range(len(es_uniform)):\n",
    "#     plt.hist(es_uniform[i], alpha=0.3, density=True, stacked=True);\n",
    "\n",
    "# plt.xlabel('Fit E Distributions')\n",
    "# plt.title('All E distributions (sample ~500)')"
   ]
  },
  {
   "cell_type": "code",
   "execution_count": 7,
   "metadata": {},
   "outputs": [],
   "source": [
    "# plt.cla()\n",
    "\n",
    "# for i in range(len(ws_uniform)):\n",
    "#     plt.hist(ws_uniform[i], alpha=0.3, density=True, stacked=True);\n",
    "\n",
    "# plt.xlabel('Fit w Distributions (deg)')\n",
    "# plt.title('All w distributions (sample ~800)')"
   ]
  },
  {
   "cell_type": "code",
   "execution_count": 8,
   "metadata": {},
   "outputs": [
    {
     "name": "stderr",
     "output_type": "stream",
     "text": [
      "/Users/ssagear/anaconda3/lib/python3.8/site-packages/numpy/lib/histograms.py:1123: RuntimeWarning: invalid value encountered in true_divide\n",
      "  hist /= s\n"
     ]
    },
    {
     "data": {
      "image/png": "[encoded data removed]",
      "text/plain": [
       "<Figure size 864x576 with 2 Axes>"
      ]
     },
     "metadata": {
      "needs_background": "light"
     },
     "output_type": "display_data"
    }
   ],
   "source": [
    "plt.cla()\n",
    "\n",
    "fz = 15\n",
    "\n",
    "plt.hist2d(ws_uniform.flatten(), es_uniform.flatten(), bins=[20,20], cmap='Blues', density=True);\n",
    "plt.colorbar(label='Rel. Density')\n",
    "\n",
    "plt.scatter(truew, truee, marker='o', s=15, c='palevioletred', label='True Params')\n",
    "plt.scatter(fitw, fite, marker='X', s=15, c='mediumaquamarine', label='Fit Params (Mode)')\n",
    "\n",
    "plt.legend(fontsize=fz)\n",
    "\n",
    "plt.xlabel('$\\omega$', fontsize=fz)\n",
    "plt.ylabel('$e$', fontsize=fz)\n",
    "plt.title('Fit $(e,w)$ Heatmap From Uniform Distribubtion', fontsize=fz)\n",
    "\n",
    "plt.savefig('Fit_EW_heatmap_uniform_new.png')"
   ]
  },
  {
   "cell_type": "code",
   "execution_count": 9,
   "metadata": {},
   "outputs": [
    {
     "ename": "ValueError",
     "evalue": "low >= high",
     "output_type": "error",
     "traceback": [
      "\u001b[0;31m---------------------------------------------------------------------------\u001b[0m",
      "\u001b[0;31mValueError\u001b[0m                                Traceback (most recent call last)",
      "\u001b[0;32m<ipython-input-9-681514a38aed>\u001b[0m in \u001b[0;36m<module>\u001b[0;34m\u001b[0m\n\u001b[0;32m----> 1\u001b[0;31m \u001b[0mrandint\u001b[0m \u001b[0;34m=\u001b[0m \u001b[0mint\u001b[0m\u001b[0;34m(\u001b[0m\u001b[0mnp\u001b[0m\u001b[0;34m.\u001b[0m\u001b[0mrandom\u001b[0m\u001b[0;34m.\u001b[0m\u001b[0mrandint\u001b[0m\u001b[0;34m(\u001b[0m\u001b[0;36m0\u001b[0m\u001b[0;34m,\u001b[0m \u001b[0mlen\u001b[0m\u001b[0;34m(\u001b[0m\u001b[0mes_uniform\u001b[0m\u001b[0;34m)\u001b[0m\u001b[0;34m,\u001b[0m \u001b[0;36m1\u001b[0m\u001b[0;34m)\u001b[0m\u001b[0;34m)\u001b[0m\u001b[0;34m\u001b[0m\u001b[0;34m\u001b[0m\u001b[0m\n\u001b[0m\u001b[1;32m      2\u001b[0m \u001b[0;34m\u001b[0m\u001b[0m\n\u001b[1;32m      3\u001b[0m \u001b[0;34m\u001b[0m\u001b[0m\n\u001b[1;32m      4\u001b[0m \u001b[0;32mfor\u001b[0m \u001b[0mi\u001b[0m \u001b[0;32min\u001b[0m \u001b[0mrange\u001b[0m\u001b[0;34m(\u001b[0m\u001b[0mlen\u001b[0m\u001b[0;34m(\u001b[0m\u001b[0mes_uniform\u001b[0m\u001b[0;34m)\u001b[0m\u001b[0;34m)\u001b[0m\u001b[0;34m:\u001b[0m\u001b[0;34m\u001b[0m\u001b[0;34m\u001b[0m\u001b[0m\n\u001b[1;32m      5\u001b[0m \u001b[0;34m\u001b[0m\u001b[0m\n",
      "\u001b[0;32mmtrand.pyx\u001b[0m in \u001b[0;36mnumpy.random.mtrand.RandomState.randint\u001b[0;34m()\u001b[0m\n",
      "\u001b[0;32m_bounded_integers.pyx\u001b[0m in \u001b[0;36mnumpy.random._bounded_integers._rand_int64\u001b[0;34m()\u001b[0m\n",
      "\u001b[0;31mValueError\u001b[0m: low >= high"
     ]
    }
   ],
   "source": [
    "randint = int(np.random.randint(0, len(es_uniform), 1))\n",
    "\n",
    "\n",
    "for i in range(len(es_uniform)):\n",
    "    \n",
    "    plt.cla()\n",
    "    \n",
    "    plt.hist2d(ws_uniform[i], es_uniform[i], cmap='Blues', bins=[13,10]);\n",
    "    plt.scatter(truew[i], truee[i], c='r', s=100, label='True')\n",
    "    plt.scatter(fitw[i], fite[i], c='g', marker='X', s=100, label='Fit')\n",
    "    plt.xlim(-90, 270)\n",
    "    plt.ylim(0, 1)\n",
    "\n",
    "    plt.xlabel(r'$\\omega$', fontsize=20)\n",
    "    plt.ylabel('$e$', fontsize=20)\n",
    "    plt.title('$e$ = ' + str(truee[i]) + '; $\\omega$ = ' + str(truew[i]), fontsize=20)\n",
    "    plt.legend()\n",
    "    plt.savefig('all_new_heatmaps/e_' + str(truee[i]) + '_w_' + str(truew[i]) + 'singleheatmap.png')"
   ]
  },
  {
   "cell_type": "code",
   "execution_count": null,
   "metadata": {},
   "outputs": [],
   "source": [
    "wuniform = np.random.uniform(-90, 270, 50)\n",
    "\n",
    "\n",
    "inds = []\n",
    "\n",
    "\n",
    "for i in range(len(wuniform)):\n",
    "    inds.append(int(np.argwhere(fitw == find_nearest(fitw, wuniform[i]))[0]))\n",
    "\n",
    "\n",
    "euni = truee[inds].flatten()\n",
    "wuni = truew[inds].flatten()\n",
    "\n",
    "efuni = fite[inds].flatten()\n",
    "wfuni = fitw[inds].flatten()\n",
    "    \n",
    "edistuni = np.array(es_uniform[inds]).flatten()\n",
    "\n",
    "wdistuni = np.array(ws_uniform[inds]).flatten()"
   ]
  },
  {
   "cell_type": "code",
   "execution_count": null,
   "metadata": {},
   "outputs": [],
   "source": [
    "def deltallike(g, gerr, truee, truew, fite, fitw):\n",
    "    \n",
    "    model_fit = (1+e*np.sin(w*(np.pi/180.)))/np.sqrt(1-e**2)\n",
    "    sigma2_fit = gerr ** 2\n",
    "    loglike_fit = -0.5 * np.sum((g - model_fit) ** 2 / sigma2_fit + np.log(sigma2_fit))\n",
    "    \n",
    "    \n",
    "    model_true = (1+truee*np.sin(truew*(np.pi/180.)))/np.sqrt(1-truee**2)\n",
    "    sigma2_true = gerr ** 2\n",
    "    loglike_true = -0.5 * np.sum((g - model_true) ** 2 / sigma2_true + np.log(sigma2_true))\n",
    "    \n",
    "    llike = loglike_fit-loglike_true\n",
    "    return llike"
   ]
  },
  {
   "cell_type": "code",
   "execution_count": null,
   "metadata": {},
   "outputs": [],
   "source": [
    "llike = []\n",
    "\n",
    "for i in range(len(truee)):\n",
    "\n",
    "    g = ph.mode(gs_uniform[i])\n",
    "    e = ph.mode(es_uniform[i])\n",
    "    w = ph.mode(ws_uniform[i])\n",
    "    \n",
    "    gerr = np.nanstd(gs_uniform[i])\n",
    "    \n",
    "    llike.append(deltallike(g, gerr, truee[i], truew[i], e, w))\n",
    "    \n",
    "    \n",
    "llike = np.array(llike)\n",
    "\n",
    "llikeuni = llike[inds]"
   ]
  },
  {
   "cell_type": "code",
   "execution_count": null,
   "metadata": {},
   "outputs": [],
   "source": [
    "plt.cla()\n",
    "\n",
    "fz = 15\n",
    "\n",
    "plt.hist2d(wdistuni, edistuni, bins=[20,20], cmap='Blues')#, norm=matplotlib.colors.LogNorm());\n",
    "#plt.clim(vmax=4000.0)\n",
    "plt.colorbar(label='Rel. Density')\n",
    "plt.scatter(wuni, euni, marker='o', s=80, c='palevioletred', label='True Params')\n",
    "plt.scatter(wfuni, efuni, marker='X', s=80, c='mediumaquamarine', label='Fit Params')\n",
    "\n",
    "plt.legend(fontsize=fz)\n",
    "\n",
    "plt.xlabel('$w$', fontsize=fz)\n",
    "plt.ylabel('$e$', fontsize=fz)\n",
    "plt.title('50 Fit $w$s Pulled Uniformly', fontsize=fz)\n",
    "\n",
    "plt.savefig('heatmap_truee_uniformwfit_50_611.png')"
   ]
  },
  {
   "cell_type": "code",
   "execution_count": null,
   "metadata": {},
   "outputs": [],
   "source": [
    "#euni,wuni"
   ]
  },
  {
   "cell_type": "code",
   "execution_count": null,
   "metadata": {},
   "outputs": [],
   "source": [
    "plt.cla()\n",
    "\n",
    "fz = 15\n",
    "\n",
    "plt.hist2d(wdistuni, edistuni, bins=[20,10], cmap='Blues')#, norm=matplotlib.colors.LogNorm());\n",
    "#plt.clim(vmax=4000.0)\n",
    "plt.colorbar(label='Rel. Density')\n",
    "\n",
    "\n",
    "plt.scatter(wuni, euni, marker='o', s=80, c=llikeuni, label='True Params', cmap='Reds')#, norm=matplotlib.colors.LogNorm())\n",
    "plt.colorbar(label='\"log Likelihood\"')\n",
    "\n",
    "#plt.scatter(wfuni, efuni, marker='X', s=80, c='mediumaquamarine', label='Fit Params')\n",
    "\n",
    "plt.legend(fontsize=fz)\n",
    "\n",
    "plt.xlabel('$w$', fontsize=fz)\n",
    "plt.ylabel('$e$', fontsize=fz)\n",
    "plt.title('50 Fit $w$s Pulled Uniformly', fontsize=fz)\n",
    "\n",
    "plt.savefig('heatmap_truee_uniformwfit50_llike_new_611.png')"
   ]
  },
  {
   "cell_type": "code",
   "execution_count": null,
   "metadata": {},
   "outputs": [],
   "source": [
    "plt.cla()\n",
    "\n",
    "fz = 15\n",
    "\n",
    "plt.hist2d(wdistuni, edistuni, bins=[20,10], cmap='Blues')#, norm=matplotlib.colors.LogNorm());\n",
    "#plt.clim(vmax=4000.0)\n",
    "plt.colorbar(label='Rel. Density')\n",
    "\n",
    "\n",
    "plt.scatter(wfuni, efuni, marker='X', s=80, c=llikeuni, label='Fit Params', cmap='Greens')#, norm=matplotlib.colors.LogNorm())\n",
    "plt.colorbar(label='DELTA Log Like')\n",
    "\n",
    "plt.legend(fontsize=fz)\n",
    "\n",
    "plt.xlabel('$w$', fontsize=fz)\n",
    "plt.ylabel('$e$', fontsize=fz)\n",
    "plt.title('50 Fit $w$s Pulled Uniformly', fontsize=fz)\n",
    "\n",
    "plt.savefig('heatmap_truee_uniformwfit50_lfitslike_new_611.png')"
   ]
  },
  {
   "cell_type": "code",
   "execution_count": null,
   "metadata": {},
   "outputs": [],
   "source": [
    "plt.cla()\n",
    "\n",
    "fz = 15\n",
    "\n",
    "cmap = plt.cm.Reds\n",
    "\n",
    "plt.hist2d(ws_uniform.flatten(), es_uniform.flatten(), bins=[20,20], cmap='Blues', density=True)#norm=matplotlib.colors.LogNorm());\n",
    "plt.colorbar(label='Rel. Density')\n",
    "\n",
    "plt.scatter(truew, truee, marker='o', s=15, c=llike, label='True Params', cmap=cmap)\n",
    "plt.colorbar(label='$\\Delta$ Ln Likelihood')\n",
    "#plt.clim(vmin=0, vmax=700)\n",
    "#plt.scatter(fitw, fite, marker='x', s=15, c='mediumaquamarine', label='Fit Params')\n",
    "\n",
    "plt.legend(fontsize=fz)\n",
    "\n",
    "\n",
    "plt.xlabel('$\\omega$', fontsize=fz)\n",
    "plt.ylabel('$e$', fontsize=fz)\n",
    "plt.title('Fit $(e,w)$ Heatmap From Uniform Distribubtion', fontsize=fz)\n",
    "\n",
    "#plt.savefig('heatmap_llike_colorbar_new.png')"
   ]
  },
  {
   "cell_type": "code",
   "execution_count": null,
   "metadata": {},
   "outputs": [],
   "source": [
    "plt.cla()\n",
    "\n",
    "fz = 15\n",
    "\n",
    "cmap = plt.cm.Greens\n",
    "\n",
    "plt.hist2d(ws_uniform.flatten(), es_uniform.flatten(), bins=[20,20], cmap='Blues', density=True)#, norm=matplotlib.colors.LogNorm());\n",
    "plt.colorbar(label='Rel. Density')\n",
    "\n",
    "plt.scatter(fitw, fite, marker='X', s=15, c=llike, label='Fit Params', cmap=cmap)\n",
    "plt.colorbar(label='$\\Delta$ Ln Likelihood')\n",
    "plt.clim(vmin=0, vmax=700)\n",
    "\n",
    "plt.legend(fontsize=fz)\n",
    "\n",
    "\n",
    "plt.xlabel('$\\omega$', fontsize=fz)\n",
    "plt.ylabel('$e$', fontsize=fz)\n",
    "plt.title('Fit $(e,w)$ Heatmap From Uniform Distribubtion', fontsize=fz)\n",
    "\n",
    "plt.savefig('heatmap_llike_colorbar_fit_new.png')"
   ]
  },
  {
   "cell_type": "code",
   "execution_count": null,
   "metadata": {},
   "outputs": [],
   "source": [
    "plt.hist(edistuni, color='cornflowerblue', bins=np.arange(0, 1, 0.1), density=True, stacked=True)\n",
    "plt.xlabel('$e$', fontsize=fz)\n",
    "plt.ylabel('Rel. Density')\n",
    "plt.title('e distribution')"
   ]
  },
  {
   "cell_type": "markdown",
   "metadata": {},
   "source": [
    "# GAUSSIAN DISTRIBUTION"
   ]
  },
  {
   "cell_type": "code",
   "execution_count": null,
   "metadata": {},
   "outputs": [],
   "source": [
    "# e_rand = np.random.normal(0.4, 0.1, size=n)\n",
    "# w_rand = np.random.normal(0.0, 45.0, size=n)"
   ]
  },
  {
   "cell_type": "code",
   "execution_count": null,
   "metadata": {},
   "outputs": [],
   "source": [
    "trueew_gaussian = pd.read_csv('/Users/ssagear/Dropbox (UFL)/Research/MetallicityProject/photoeccentric/notebooks/plots_hpg/gaussian/fitew.txt', index_col=False)\n",
    "\n",
    "distpath_gaussian = \"/Users/ssagear/Dropbox (UFL)/Research/MetallicityProject/photoeccentric/notebooks/plots_hpg/gaussian/edists/\"\n",
    "\n",
    "paths = sorted(Path(distpath_gaussian).iterdir(), key=os.path.getmtime)\n",
    "paths.reverse()\n",
    "\n",
    "edist_gaussian = []\n",
    "\n",
    "for file in paths:\n",
    "    fname = os.path.join(distpath_gaussian, file)\n",
    "    try:\n",
    "        edist_gaussian.append(np.genfromtxt(fname, delimiter=','))\n",
    "    except UnicodeDecodeError:\n",
    "        pass\n",
    "\n",
    "es_gaussian = []\n",
    "ws_gaussian = []\n",
    "gs_gaussian = []\n",
    "\n",
    "for i in range(len(edist_gaussian)):\n",
    "\n",
    "    es_gaussian.append(edist_gaussian[i][:,0])\n",
    "    ws_gaussian.append(edist_gaussian[i][:,1])\n",
    "    gs_gaussian.append(edist_gaussian[i][:,2])\n",
    "\n",
    "es_gaussian = np.array(es_gaussian)"
   ]
  },
  {
   "cell_type": "code",
   "execution_count": null,
   "metadata": {},
   "outputs": [],
   "source": [
    "fite = []\n",
    "\n",
    "plt.cla()\n",
    "\n",
    "for i in range(len(es_gaussian)):\n",
    "    fite.append(mode(es_gaussian[i]))\n",
    "    plt.hist(es_gaussian[i], alpha=0.3, density=True, stacked=True);\n",
    "    \n",
    "fite = np.array(fite)\n",
    "plt.xlabel('Fit E Distributions')\n",
    "plt.title('All E distributions (sample ~800)')\n",
    "\n",
    "ws_gaussian = np.array(ws_gaussian)"
   ]
  },
  {
   "cell_type": "code",
   "execution_count": null,
   "metadata": {},
   "outputs": [],
   "source": [
    "fitw = []\n",
    "\n",
    "plt.cla()\n",
    "\n",
    "for i in range(len(ws_gaussian)):\n",
    "    fitw.append(mode(ws_gaussian[i]))\n",
    "    plt.hist(ws_gaussian[i], alpha=0.3, density=True, stacked=True);\n",
    "    \n",
    "\n",
    "fitw = np.array(fitw)\n",
    "plt.xlabel('Fit w Distributions (deg)')\n",
    "plt.title('All w distributions (sample ~800)')"
   ]
  },
  {
   "cell_type": "code",
   "execution_count": null,
   "metadata": {},
   "outputs": [],
   "source": [
    "truew = np.array(trueew_gaussian['truew'])\n",
    "truee = np.array(trueew_gaussian['truee'])\n",
    "\n",
    "len(truee)"
   ]
  },
  {
   "cell_type": "code",
   "execution_count": null,
   "metadata": {},
   "outputs": [],
   "source": [
    "for i in range(len(fitw)):\n",
    "    if fitw[i] > 90:\n",
    "        fitw[i] = fitw[i]-180"
   ]
  },
  {
   "cell_type": "code",
   "execution_count": null,
   "metadata": {},
   "outputs": [],
   "source": [
    "plt.cla()\n",
    "\n",
    "fz = 15\n",
    "\n",
    "cmap = plt.cm.Blues\n",
    "cmap.set_bad(color='white')\n",
    "\n",
    "plt.hist2d(ws_gaussian.flatten(), es_gaussian.flatten(), bins=[22,10], cmap=cmap, norm=matplotlib.colors.LogNorm());\n",
    "plt.colorbar(label='Rel. Density')\n",
    "\n",
    "plt.scatter(truew, truee, marker='o', s=15, c='palevioletred', label='True Params')\n",
    "plt.scatter(fitw, fite, marker='x', s=15, c='mediumaquamarine', label='Fit Params (Mode)')\n",
    "\n",
    "plt.legend(fontsize=fz)\n",
    "\n",
    "plt.xlim(-90, 90)\n",
    "plt.xlabel('$\\omega$', fontsize=fz)\n",
    "plt.ylabel('$e$', fontsize=fz)\n",
    "plt.title('Fit $(e,w)$ Heatmap From gaussian Distribubtion', fontsize=fz)\n",
    "\n",
    "plt.savefig('Fit_EW_heatmap_gaussian.png')"
   ]
  },
  {
   "cell_type": "code",
   "execution_count": null,
   "metadata": {},
   "outputs": [],
   "source": [
    "wgaussian = np.random.uniform(-90, 90, 2)\n",
    "\n",
    "\n",
    "inds = []\n",
    "\n",
    "for i in range(len(wgaussian)):\n",
    "    inds.append(int(np.argwhere(fitw == find_nearest(fitw, wgaussian[i]))[0]))\n",
    "\n",
    "\n",
    "euni = truee[inds].flatten()\n",
    "wuni = truew[inds].flatten()\n",
    "\n",
    "efuni = fite[inds].flatten()\n",
    "wfuni = fitw[inds].flatten()\n",
    "    \n",
    "edistuni = np.array(es_gaussian[inds]).flatten()\n",
    "\n",
    "wdistuni = np.array(ws_gaussian[inds]).flatten()\n",
    "\n",
    "llike = []\n",
    "\n",
    "for i in range(len(fite)):\n",
    "\n",
    "    counts, wbins, ebins = np.histogram2d(ws_gaussian[i], es_gaussian[i], bins=15);\n",
    "    \n",
    "    llike.append(counts[np.digitize(truew[i], wbins)-1, np.digitize(truee[i], ebins)-1])\n",
    "    \n",
    "llike = np.array(llike)\n",
    "\n",
    "llikeuni = llike[inds]\n",
    "\n",
    "plt.cla()\n",
    "\n",
    "fz = 15\n",
    "\n",
    "plt.hist2d(wdistuni, edistuni, bins=[25,10], cmap='Blues', norm=matplotlib.colors.LogNorm());\n",
    "plt.xlim(-90, 90)\n",
    "#plt.clim(vmax=4000.0)\n",
    "plt.colorbar(label='Rel. Density')\n",
    "plt.scatter(wuni, euni, marker='o', s=80, c='palevioletred', label='True Params')\n",
    "plt.scatter(wfuni, efuni, marker='X', s=80, c='mediumaquamarine', label='Fit Params')\n",
    "\n",
    "plt.legend(fontsize=fz)\n",
    "\n",
    "plt.xlabel('$w$', fontsize=fz)\n",
    "plt.ylabel('$e$', fontsize=fz)\n",
    "plt.title('50 Fit $w$s Pulled gaussianly', fontsize=fz)\n",
    "\n",
    "plt.savefig('heatmap_truee_gaussianwfit_50.png')"
   ]
  },
  {
   "cell_type": "code",
   "execution_count": null,
   "metadata": {},
   "outputs": [],
   "source": []
  },
  {
   "cell_type": "code",
   "execution_count": null,
   "metadata": {},
   "outputs": [],
   "source": []
  },
  {
   "cell_type": "code",
   "execution_count": null,
   "metadata": {},
   "outputs": [],
   "source": []
  },
  {
   "cell_type": "code",
   "execution_count": null,
   "metadata": {},
   "outputs": [],
   "source": []
  }
 ],
 "metadata": {
  "kernelspec": {
   "display_name": "Python 3",
   "language": "python",
   "name": "python3"
  },
  "language_info": {
   "codemirror_mode": {
    "name": "ipython",
    "version": 3
   },
   "file_extension": ".py",
   "mimetype": "text/x-python",
   "name": "python",
   "nbconvert_exporter": "python",
   "pygments_lexer": "ipython3",
   "version": "3.8.5"
  }
 },
 "nbformat": 4,
 "nbformat_minor": 4
}
