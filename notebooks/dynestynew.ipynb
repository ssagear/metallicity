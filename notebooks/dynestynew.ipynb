{
 "cells": [
  {
   "cell_type": "code",
   "execution_count": 123,
   "metadata": {},
   "outputs": [],
   "source": [
    "import dynesty\n",
    "from dynesty import plotting as dyplot"
   ]
  },
  {
   "cell_type": "code",
   "execution_count": 124,
   "metadata": {},
   "outputs": [
    {
     "name": "stdout",
     "output_type": "stream",
     "text": [
      "The autoreload extension is already loaded. To reload it, use:\n",
      "  %reload_ext autoreload\n"
     ]
    }
   ],
   "source": [
    "import numpy as np\n",
    "import matplotlib.pyplot as plt\n",
    "import pandas as pd\n",
    "from tqdm import tqdm\n",
    "from astropy.table import Table\n",
    "import astropy.units as u\n",
    "import os\n",
    "\n",
    "# Using `batman` to create & fit fake transit\n",
    "import batman\n",
    "\n",
    "# Using astropy BLS and scipy curve_fit to fit transit\n",
    "from astropy.timeseries import BoxLeastSquares\n",
    "from scipy.optimize import curve_fit\n",
    "\n",
    "import scipy.optimize as opt\n",
    "\n",
    "# Using emcee & corner to find and plot (e, w) distribution\n",
    "import emcee\n",
    "import corner\n",
    "\n",
    "# And importing `photoeccentric`\n",
    "import photoeccentric as ph\n",
    "\n",
    "import random\n",
    "\n",
    "%load_ext autoreload\n",
    "%autoreload 2\n",
    "\n",
    "pd.set_option('display.float_format', lambda x: '%.5f' % x)"
   ]
  },
  {
   "cell_type": "code",
   "execution_count": 125,
   "metadata": {},
   "outputs": [],
   "source": [
    "nwalk = 64\n",
    "nsteps = 1000\n",
    "ndiscard = 500\n",
    "arrlen = (nsteps-ndiscard)*nwalk"
   ]
  },
  {
   "cell_type": "code",
   "execution_count": 126,
   "metadata": {},
   "outputs": [],
   "source": [
    "smass_kg = 1.9885e30  # Solar mass (kg)\n",
    "srad_m = 696.34e6 # Solar radius (m)"
   ]
  },
  {
   "cell_type": "markdown",
   "metadata": {},
   "source": [
    "## The Sample"
   ]
  },
  {
   "cell_type": "code",
   "execution_count": 127,
   "metadata": {},
   "outputs": [
    {
     "name": "stderr",
     "output_type": "stream",
     "text": [
      "/Users/ssagear/anaconda3/lib/python3.8/site-packages/IPython/core/interactiveshell.py:3418: TableReplaceWarning: converted column 'r_result_flag' from integer to float\n",
      "  exec(code_obj, self.user_global_ns, self.user_ns)\n",
      "/Users/ssagear/anaconda3/lib/python3.8/site-packages/IPython/core/interactiveshell.py:3418: TableReplaceWarning: converted column 'r_modality_flag' from integer to float\n",
      "  exec(code_obj, self.user_global_ns, self.user_ns)\n",
      "/Users/ssagear/anaconda3/lib/python3.8/site-packages/IPython/core/interactiveshell.py:3418: TableReplaceWarning: converted column 'teff_err1' from integer to float\n",
      "  exec(code_obj, self.user_global_ns, self.user_ns)\n",
      "/Users/ssagear/anaconda3/lib/python3.8/site-packages/IPython/core/interactiveshell.py:3418: TableReplaceWarning: converted column 'teff_err2' from integer to float\n",
      "  exec(code_obj, self.user_global_ns, self.user_ns)\n"
     ]
    }
   ],
   "source": [
    "muirhead_data = pd.read_csv(\"datafiles/Muirhead2013_isochrones/muirhead_data_incmissing.txt\", sep=\" \")\n",
    "\n",
    "# ALL Kepler planets from exo archive\n",
    "planets = pd.read_csv('datafiles/exoplanetarchive/cumulative_kois.csv')\n",
    "\n",
    "# Take the Kepler planet archive entries for the planets in Muirhead et al. 2013 sample\n",
    "spectplanets = pd.read_csv('spectplanets.csv')\n",
    "\n",
    "# Kepler-Gaia Data\n",
    "kpgaia = Table.read('datafiles/Kepler-Gaia/kepler_dr2_4arcsec.fits', format='fits').to_pandas();\n",
    "\n",
    "# Kepler-Gaia data for only the objects in our sample\n",
    "muirhead_gaia = muirhead_gaia.rename(columns={\"source_id\": \"m_source_id\"})\n",
    "\n",
    "# Combined spectroscopy data + Gaia/Kepler data for our sample\n",
    "muirhead_comb = pd.read_csv('muirhead_comb.csv')\n",
    "\n",
    "# Only targets from table above with published luminosities from Gaia\n",
    "muirhead_comb_lums = pd.read_csv('muirhead_comb_lums.csv')"
   ]
  },
  {
   "cell_type": "markdown",
   "metadata": {},
   "source": [
    "# Defining a \"test planet\""
   ]
  },
  {
   "cell_type": "code",
   "execution_count": 128,
   "metadata": {},
   "outputs": [],
   "source": [
    "# Kepler ID for Kepler-1582 b\n",
    "kepid = 5868793\n",
    "kepname = spectplanets.loc[spectplanets['kepid'] == kepid].kepler_name.values[0]\n",
    "\n",
    "kp1582b = muirhead_comb.loc[muirhead_comb['KIC'] == kepid]"
   ]
  },
  {
   "cell_type": "code",
   "execution_count": 129,
   "metadata": {},
   "outputs": [],
   "source": [
    "isodf = pd.read_csv(\"datafiles/isochrones/iso_lums_\" + str(kepid) + \".csv\")"
   ]
  },
  {
   "cell_type": "code",
   "execution_count": 130,
   "metadata": {},
   "outputs": [],
   "source": [
    "mstar = isodf[\"mstar\"].mean()\n",
    "mstar_err = isodf[\"mstar\"].std()\n",
    "\n",
    "rstar = isodf[\"radius\"].mean()\n",
    "rstar_err = isodf[\"radius\"].std()"
   ]
  },
  {
   "cell_type": "code",
   "execution_count": 131,
   "metadata": {
    "scrolled": true
   },
   "outputs": [],
   "source": [
    "rho_star, mass, radius = ph.find_density_dist_symmetric(mstar, mstar_err, rstar, rstar_err, arrlen)"
   ]
  },
  {
   "cell_type": "markdown",
   "metadata": {},
   "source": [
    "# Creating a fake light curve based on a real planet"
   ]
  },
  {
   "cell_type": "code",
   "execution_count": 132,
   "metadata": {},
   "outputs": [
    {
     "name": "stdout",
     "output_type": "stream",
     "text": [
      "Stellar mass (Msun):  0.17438311970562165 Stellar radius (Rsun):  0.19884797856314\n",
      "Period (Days):  4.83809469 Rp/Rs:  0.036066\n",
      "a/Rs:  33.79155851141583\n",
      "i (deg):  89.98\n"
     ]
    }
   ],
   "source": [
    "period, period_uerr, period_lerr, rprs, rprs_uerr, rprs_lerr, a_arc, a_uerr_arc, a_lerr_arc, inc, e_arc, w_arc = ph.planet_params_from_archive(spectplanets, kepname)\n",
    "\n",
    "# We calculate a_rs to ensure that it's consistent with the spec/Gaia stellar density.\n",
    "a_rs = ph.calc_a(period*86400.0, mstar*smass_kg, rstar*srad_m)\n",
    "a_rs_err = np.mean((a_uerr_arc, a_lerr_arc))\n",
    "\n",
    "print('Stellar mass (Msun): ', mstar, 'Stellar radius (Rsun): ', rstar)\n",
    "print('Period (Days): ', period, 'Rp/Rs: ', rprs)\n",
    "print('a/Rs: ', a_rs)\n",
    "print('i (deg): ', inc)"
   ]
  },
  {
   "cell_type": "markdown",
   "metadata": {},
   "source": [
    "# --------------------------------------------------------------------------------------"
   ]
  },
  {
   "cell_type": "markdown",
   "metadata": {},
   "source": [
    "# $e = 0.0$, $\\omega = 90.0$"
   ]
  },
  {
   "cell_type": "markdown",
   "metadata": {},
   "source": [
    "# --------------------------------------------------------------------------------------"
   ]
  },
  {
   "cell_type": "code",
   "execution_count": 133,
   "metadata": {},
   "outputs": [],
   "source": [
    "# 30 minute cadence\n",
    "cadence = 0.02142857142857143\n",
    "\n",
    "time = np.arange(-25, 25, cadence)"
   ]
  },
  {
   "cell_type": "code",
   "execution_count": 134,
   "metadata": {},
   "outputs": [],
   "source": [
    "# Calculate flux from transit model\n",
    "e = 0.0\n",
    "w = 90.0\n",
    "flux = ph.integratedlc(time, period, rprs, a_rs, e, i, w)\n",
    "\n",
    "# Adding some gaussian noise\n",
    "noise = np.random.normal(0,0.00006,len(time))\n",
    "nflux = flux+noise\n",
    "\n",
    "flux_err = np.array([0.00006]*len(nflux))"
   ]
  },
  {
   "cell_type": "markdown",
   "metadata": {},
   "source": [
    "# Fitting the transit"
   ]
  },
  {
   "cell_type": "code",
   "execution_count": 135,
   "metadata": {},
   "outputs": [],
   "source": [
    "periodPDF = ph.get_period_dist(time, nflux, 4, 6, arrlen)"
   ]
  },
  {
   "cell_type": "code",
   "execution_count": 136,
   "metadata": {},
   "outputs": [
    {
     "name": "stdout",
     "output_type": "stream",
     "text": [
      "Period fit:  4.849699398797595\n"
     ]
    }
   ],
   "source": [
    "print('Period fit: ', ph.mode(periodPDF))\n",
    "pdist = periodPDF\n",
    "per_guess = ph.mode(pdist)"
   ]
  },
  {
   "cell_type": "code",
   "execution_count": 137,
   "metadata": {},
   "outputs": [],
   "source": [
    "ttimes = np.concatenate((-np.arange(0, time[-1], period)[1:], np.arange(0, time[-1], period)))\n",
    "ttimes = np.sort(ttimes)\n",
    "\n",
    "time, flux, flux_err = ph.get_transit_cutout_full(ttimes, 4, time, nflux, flux_err)\n",
    "\n",
    "t0 = 0.0"
   ]
  },
  {
   "cell_type": "markdown",
   "metadata": {},
   "source": [
    "# Dynesty Transit Fit Likelihood Functions"
   ]
  },
  {
   "cell_type": "code",
   "execution_count": 138,
   "metadata": {},
   "outputs": [],
   "source": [
    "ndim = 5\n",
    "\n",
    "def tfit_loglike(theta):\n",
    "    \"\"\"\n",
    "    Transit fit dynesty function\n",
    "\n",
    "    model = ph.integratedlc_fitter()\n",
    "    gerr = sigma of g distribution\n",
    "\n",
    "    \"\"\"\n",
    "\n",
    "    per, rprs, a_rs, inc, t0 = theta\n",
    "\n",
    "    model = ph.integratedlc_fitter(time, per, rprs, a_rs, inc, t0)\n",
    "    sigma2 = flux_err ** 2\n",
    "\n",
    "    return -0.5 * np.sum((flux - model) ** 2 / sigma2 + np.log(sigma2))\n",
    "\n",
    "\n",
    "def tfit_prior_transform(utheta):\n",
    "    \"\"\"Transforms samples `u` drawn from the unit cube to samples to those\n",
    "    from our uniform prior within [-10., 10.) for each variable.\"\"\"\n",
    "\n",
    "    uper, urp, ua, uinc, ut0 = utheta\n",
    "\n",
    "    per = 3.*uper+3.\n",
    "    rprs = urp\n",
    "    a_rs = ua*15.+20.\n",
    "    inc = uinc*3.+87.\n",
    "    t0 = 2.*ut0-1.\n",
    "\n",
    "    return per, rprs, a_rs, inc, t0"
   ]
  },
  {
   "cell_type": "markdown",
   "metadata": {},
   "source": [
    "## Run dynesty transit fit"
   ]
  },
  {
   "cell_type": "code",
   "execution_count": 141,
   "metadata": {},
   "outputs": [],
   "source": [
    "dsampler = dynesty.DynamicNestedSampler(tfit_loglike, tfit_prior_transform, ndim=ndim, nlive=1500,\n",
    "                                        bound='balls', sample='rwalk')"
   ]
  },
  {
   "cell_type": "code",
   "execution_count": 142,
   "metadata": {},
   "outputs": [
    {
     "name": "stderr",
     "output_type": "stream",
     "text": [
      "5197it [07:29,  7.19it/s, batch: 0 | bound: 62 | nc: 162 | ncall: 143876 | eff(%):  3.600 | loglstar:   -inf < -3616.777 <    inf | logz: -3632.662 +/-  0.246 | dlogz: 3901.591 >  0.010]/Users/ssagear/anaconda3/lib/python3.8/site-packages/dynesty/sampling.py:221: UserWarning: Random number generation appears to be extremely inefficient. Adjusting the scale-factor accordingly.\n",
      "  warnings.warn(\"Random number generation appears to be \"\n",
      "7788it [10:52, 13.63it/s, batch: 0 | bound: 98 | nc: 25 | ncall: 210923 | eff(%):  3.684 | loglstar:   -inf < -231.780 <    inf | logz: -252.928 +/-  0.286 | dlogz: 1005.770 >  0.010]   /Users/ssagear/anaconda3/lib/python3.8/site-packages/dynesty/sampling.py:243: UserWarning: Random walk proposals appear to be extremely inefficient. Adjusting the scale-factor accordingly.\n",
      "  warnings.warn(\"Random walk proposals appear to be \"\n",
      "29373it [42:07, 11.62it/s, batch: 8 | bound: 337 | nc: 25 | ncall: 742874 | eff(%):  3.954 | loglstar: 806.329 < 812.871 < 811.463 | logz: 784.047 +/-  0.321 | stop:  0.982]            \n"
     ]
    }
   ],
   "source": [
    "dsampler.run_nested()"
   ]
  },
  {
   "cell_type": "code",
   "execution_count": 143,
   "metadata": {},
   "outputs": [],
   "source": [
    "dres = dsampler.results"
   ]
  },
  {
   "cell_type": "code",
   "execution_count": 144,
   "metadata": {},
   "outputs": [
    {
     "data": {
      "image/png": "[encoded data removed]",
      "text/plain": [
       "<Figure size 849.6x849.6 with 25 Axes>"
      ]
     },
     "metadata": {
      "needs_background": "light"
     },
     "output_type": "display_data"
    }
   ],
   "source": [
    "# Corner Plot of Transit Fit\n",
    "fig, axes = dyplot.cornerplot(dres, labels=[\"period\", \"Rp/Rs\", \"a/Rs\", \"i\", \"t0\"])"
   ]
  },
  {
   "cell_type": "code",
   "execution_count": 145,
   "metadata": {},
   "outputs": [],
   "source": [
    "# Thinning distributions to size arrlen\n",
    "\n",
    "pdist = random.choices(dres.samples[:,0], k=arrlen)\n",
    "rdist = random.choices(dres.samples[:,1], k=arrlen)\n",
    "adist = random.choices(dres.samples[:,2], k=arrlen)\n",
    "idist = random.choices(dres.samples[:,3], k=arrlen)\n",
    "t0dist = random.choices(dres.samples[:,4], k=arrlen)\n",
    "\n",
    "per_f = ph.mode(pdist)\n",
    "rprs_f = ph.mode(rdist)\n",
    "a_f = ph.mode(adist)\n",
    "i_f = ph.mode(idist)\n",
    "t0_f = ph.mode(t0dist)"
   ]
  },
  {
   "cell_type": "code",
   "execution_count": 146,
   "metadata": {},
   "outputs": [],
   "source": [
    "# Create a light curve with the fit parameters\n",
    "fit1 = ph.integratedlc_fitter(time1, per_f, rprs_f, a_f, i_f, t0_f)"
   ]
  },
  {
   "cell_type": "code",
   "execution_count": 147,
   "metadata": {},
   "outputs": [
    {
     "name": "stdout",
     "output_type": "stream",
     "text": [
      "Stellar mass (Msun):  0.17438311970562165 Stellar radius (Rsun):  0.19884797856314\n",
      "\n",
      "\n",
      "Input params:\n",
      "Rp/Rs:  0.036066\n",
      "a/Rs:  33.79155851141583\n",
      "i (deg):  89.98\n",
      "\n",
      "\n",
      "Fit params:\n",
      "Rp/Rs:  0.03611389217940642\n",
      "a/Rs:  32.943125204754864\n",
      "i (deg):  89.50078494390452\n"
     ]
    },
    {
     "data": {
      "image/png": "[encoded data removed]",
      "text/plain": [
       "<Figure size 432x288 with 1 Axes>"
      ]
     },
     "metadata": {
      "needs_background": "light"
     },
     "output_type": "display_data"
    }
   ],
   "source": [
    "plt.errorbar(time1, nflux1, yerr=fluxerr1, c='blue', alpha=0.5, label='Original LC')\n",
    "plt.plot(time1, fit1, c='red', alpha=1.0, label='Fit LC')\n",
    "plt.xlim(-0.1, 0.1)\n",
    "plt.legend()\n",
    "\n",
    "print('Stellar mass (Msun): ', mstar, 'Stellar radius (Rsun): ', rstar)\n",
    "\n",
    "print('\\n')\n",
    "\n",
    "print('Input params:')\n",
    "print('Rp/Rs: ', rprs)\n",
    "print('a/Rs: ', a_rs)\n",
    "print('i (deg): ', i)\n",
    "\n",
    "print('\\n')\n",
    "\n",
    "print('Fit params:')\n",
    "print('Rp/Rs: ', rprs_f)\n",
    "print('a/Rs: ', a_f)\n",
    "print('i (deg): ', i_f)"
   ]
  },
  {
   "cell_type": "markdown",
   "metadata": {},
   "source": [
    "### Determining T14 and T23"
   ]
  },
  {
   "cell_type": "code",
   "execution_count": 148,
   "metadata": {},
   "outputs": [
    {
     "name": "stderr",
     "output_type": "stream",
     "text": [
      "/Users/ssagear/Dropbox (UFL)/Research/MetallicityProject/photoeccentric/photoeccentric/photoeccentric.py:61: RuntimeWarning: invalid value encountered in sqrt\n",
      "  T14[j] = (p[j]/np.pi)*np.arcsin(rs_a[j]*(np.sqrt(((1+rprs[j])**2)-b[j]**2))/np.sin(i[j]*(np.pi/180.0))) #Equation 14 in exoplanet textbook\n",
      "/Users/ssagear/Dropbox (UFL)/Research/MetallicityProject/photoeccentric/photoeccentric/photoeccentric.py:113: RuntimeWarning: invalid value encountered in sqrt\n",
      "  T23[j] = (p[j]/np.pi)*np.arcsin(rs_a[j]*(np.sqrt(((1-rprs[j])**2)-b[j]**2))/np.sin(i[j]*(np.pi/180.0))) #Equation 14 in exoplanet textbook\n"
     ]
    }
   ],
   "source": [
    "T14dist = ph.get_T14(pdist, rdist, adist, idist)\n",
    "T14errs = ph.get_sigmas(T14dist)\n",
    "\n",
    "T23dist = ph.get_T23(pdist, rdist, adist, idist)\n",
    "T23errs = ph.get_sigmas(T23dist)"
   ]
  },
  {
   "cell_type": "markdown",
   "metadata": {},
   "source": [
    "# Get $g$"
   ]
  },
  {
   "cell_type": "code",
   "execution_count": 149,
   "metadata": {},
   "outputs": [],
   "source": [
    "gs, rho_c = ph.get_g_distribution(rho_star, pdist, rdist, T14dist, T23dist)\n",
    "\n",
    "g_mean = ph.mode(gs)\n",
    "g_sigma = np.mean(np.abs(ph.get_sigmas(gs)))"
   ]
  },
  {
   "cell_type": "code",
   "execution_count": 150,
   "metadata": {},
   "outputs": [
    {
     "data": {
      "text/plain": [
       "0.8323833968761061"
      ]
     },
     "execution_count": 150,
     "metadata": {},
     "output_type": "execute_result"
    }
   ],
   "source": [
    "g_mean"
   ]
  },
  {
   "cell_type": "code",
   "execution_count": 151,
   "metadata": {},
   "outputs": [
    {
     "data": {
      "text/plain": [
       "0.1669271464088602"
      ]
     },
     "execution_count": 151,
     "metadata": {},
     "output_type": "execute_result"
    }
   ],
   "source": [
    "g_sigma"
   ]
  },
  {
   "cell_type": "code",
   "execution_count": 152,
   "metadata": {},
   "outputs": [],
   "source": [
    "g = g_mean\n",
    "gerr = g_sigma"
   ]
  },
  {
   "cell_type": "markdown",
   "metadata": {},
   "source": [
    "# Dynesty (e,w) Fitting LIkelihood Functions"
   ]
  },
  {
   "cell_type": "code",
   "execution_count": 153,
   "metadata": {},
   "outputs": [],
   "source": [
    "ndim = 2\n",
    "\n",
    "def loglike(theta):\n",
    "    \"\"\"The log-likelihood function.\"\"\"\n",
    "\n",
    "    w, e = theta\n",
    "    \n",
    "    model = (1+e*np.sin(w*(np.pi/180.)))/np.sqrt(1-e**2)\n",
    "    sigma2 = gerr ** 2\n",
    "    \n",
    "    return -0.5 * np.sum((g - model) ** 2 / sigma2 + np.log(sigma2))\n",
    "\n",
    "def unife_prior_transform(utheta):\n",
    "    \"\"\"Uniform eccentricity prior\"\"\"\n",
    "    \n",
    "    uw, ue = utheta\n",
    "    w = 360.*uw-90.\n",
    "    e = 1. * ue\n",
    "    \n",
    "    return w, e\n",
    "\n",
    "\n",
    "def betae_prior_transform(utheta):\n",
    "    \"\"\"Uniform eccentricity prior\"\"\"\n",
    "    \n",
    "    uw, ue = utheta\n",
    "    w = 360.*uw-90.\n",
    "    \n",
    "    a, b = 0.867, 3.03\n",
    "    e = scipy.stats.beta.ppf(ue, a, b)\n",
    "    \n",
    "    return w, e"
   ]
  },
  {
   "cell_type": "markdown",
   "metadata": {},
   "source": [
    "## Uniform Prior"
   ]
  },
  {
   "cell_type": "code",
   "execution_count": 154,
   "metadata": {},
   "outputs": [],
   "source": [
    "dsampler = dynesty.DynamicNestedSampler(loglike, unife_prior_transform, ndim=2, bound='multi', sample='rstagger')"
   ]
  },
  {
   "cell_type": "code",
   "execution_count": null,
   "metadata": {},
   "outputs": [
    {
     "name": "stderr",
     "output_type": "stream",
     "text": [
      "16045it [01:20, 129.23it/s, batch: 13 | bound: 0 | nc: 7 | ncall: 85243 | eff(%): 18.654 | loglstar: -3.485 <  1.528 <  1.639 | logz:  0.643 +/-  0.049 | stop:  1.058]          "
     ]
    }
   ],
   "source": [
    "dsampler.run_nested()"
   ]
  },
  {
   "cell_type": "code",
   "execution_count": null,
   "metadata": {},
   "outputs": [],
   "source": [
    "dres = dsampler.results"
   ]
  },
  {
   "cell_type": "code",
   "execution_count": null,
   "metadata": {},
   "outputs": [],
   "source": [
    "truths = [w, e]\n",
    "\n",
    "fig, axes = dyplot.cornerplot(dres, truths=truths, show_titles=True, title_kwargs={'y': 1.04}, labels=[\"w\", \"e\"],\n",
    "                              fig=plt.subplots(2, 2, figsize=(8, 8)))"
   ]
  },
  {
   "cell_type": "markdown",
   "metadata": {},
   "source": [
    "## Beta-distribution Prior"
   ]
  },
  {
   "cell_type": "code",
   "execution_count": null,
   "metadata": {},
   "outputs": [],
   "source": [
    "dsampler = dynesty.DynamicNestedSampler(loglike, betae_prior_transform, ndim=2, bound='multi', sample='rstagger')"
   ]
  },
  {
   "cell_type": "code",
   "execution_count": null,
   "metadata": {},
   "outputs": [],
   "source": [
    "dsampler.run_nested()"
   ]
  },
  {
   "cell_type": "code",
   "execution_count": null,
   "metadata": {},
   "outputs": [],
   "source": [
    "dres = dsampler.results"
   ]
  },
  {
   "cell_type": "code",
   "execution_count": null,
   "metadata": {},
   "outputs": [],
   "source": [
    "truths = [w, e]"
   ]
  },
  {
   "cell_type": "code",
   "execution_count": null,
   "metadata": {},
   "outputs": [],
   "source": [
    "fig, axes = dyplot.cornerplot(dres, truths=truths, show_titles=True, title_kwargs={'y': 1.04}, labels=[\"w\", \"e\"],\n",
    "                              fig=plt.subplots(2, 2, figsize=(8, 8)))"
   ]
  },
  {
   "cell_type": "markdown",
   "metadata": {},
   "source": [
    "# --------------------------------------------------------------------------------------"
   ]
  },
  {
   "cell_type": "markdown",
   "metadata": {},
   "source": [
    "# $e = 0.9$, $\\omega = -85.0$"
   ]
  },
  {
   "cell_type": "markdown",
   "metadata": {},
   "source": [
    "# --------------------------------------------------------------------------------------"
   ]
  },
  {
   "cell_type": "code",
   "execution_count": null,
   "metadata": {},
   "outputs": [],
   "source": [
    "# 30 minute cadence\n",
    "cadence = 0.02142857142857143\n",
    "\n",
    "time = np.arange(-25, 25, cadence)"
   ]
  },
  {
   "cell_type": "code",
   "execution_count": null,
   "metadata": {},
   "outputs": [],
   "source": [
    "# Calculate flux from transit model\n",
    "e = 0.9\n",
    "w = -85.0\n",
    "flux = ph.integratedlc(time, period, rprs, a_rs, e, i, w)\n",
    "\n",
    "# Adding some gaussian noise\n",
    "noise = np.random.normal(0,0.00006,len(time))\n",
    "nflux = flux+noise\n",
    "\n",
    "flux_err = np.array([0.00006]*len(nflux))"
   ]
  },
  {
   "cell_type": "markdown",
   "metadata": {},
   "source": [
    "# Fitting the transit"
   ]
  },
  {
   "cell_type": "code",
   "execution_count": null,
   "metadata": {},
   "outputs": [],
   "source": [
    "periodPDF = ph.get_period_dist(time, nflux, 4, 6, arrlen)"
   ]
  },
  {
   "cell_type": "code",
   "execution_count": null,
   "metadata": {},
   "outputs": [],
   "source": [
    "print('Period fit: ', ph.mode(periodPDF))\n",
    "pdist = periodPDF\n",
    "per_guess = ph.mode(pdist)"
   ]
  },
  {
   "cell_type": "code",
   "execution_count": null,
   "metadata": {},
   "outputs": [],
   "source": [
    "ttimes = np.concatenate((-np.arange(0, time[-1], period)[1:], np.arange(0, time[-1], period)))\n",
    "ttimes = np.sort(ttimes)\n",
    "\n",
    "time, flux, flux_err = ph.get_transit_cutout_full(ttimes, 4, time, nflux, flux_err)\n",
    "\n",
    "t0 = 0.0"
   ]
  },
  {
   "cell_type": "markdown",
   "metadata": {},
   "source": [
    "# Dynesty Transit Fit Likelihood Functions"
   ]
  },
  {
   "cell_type": "code",
   "execution_count": null,
   "metadata": {},
   "outputs": [],
   "source": [
    "ndim = 5\n",
    "\n",
    "def tfit_loglike(theta):\n",
    "    \"\"\"\n",
    "    Transit fit dynesty function\n",
    "\n",
    "    model = ph.integratedlc_fitter()\n",
    "    gerr = sigma of g distribution\n",
    "\n",
    "    \"\"\"\n",
    "\n",
    "    per, rprs, a_rs, inc, t0 = theta\n",
    "\n",
    "    model = ph.integratedlc_fitter(time, per, rprs, a_rs, inc, t0)\n",
    "    sigma2 = flux_err ** 2\n",
    "\n",
    "    return -0.5 * np.sum((flux - model) ** 2 / sigma2 + np.log(sigma2))\n",
    "\n",
    "\n",
    "def tfit_prior_transform(utheta):\n",
    "    \"\"\"Transforms samples `u` drawn from the unit cube to samples to those\n",
    "    from our uniform prior within [-10., 10.) for each variable.\"\"\"\n",
    "\n",
    "    uper, urp, ua, uinc, ut0 = utheta\n",
    "\n",
    "    per = 3.*uper+3.\n",
    "    rprs = urp\n",
    "    a_rs = ua*15.+5.\n",
    "    inc = uinc*3.+87.\n",
    "    t0 = 2.*ut0-1.\n",
    "\n",
    "    return per, rprs, a_rs, inc, t0"
   ]
  },
  {
   "cell_type": "markdown",
   "metadata": {},
   "source": [
    "## Run dynesty transit fit"
   ]
  },
  {
   "cell_type": "code",
   "execution_count": null,
   "metadata": {},
   "outputs": [],
   "source": [
    "dsampler = dynesty.DynamicNestedSampler(tfit_loglike, tfit_prior_transform, ndim=ndim, nlive=1500,\n",
    "                                        bound='multi', sample='rwalk')"
   ]
  },
  {
   "cell_type": "code",
   "execution_count": null,
   "metadata": {},
   "outputs": [],
   "source": [
    "# Capped at 10,000 iterations\n",
    "dsampler.run_nested(maxiter=10000)"
   ]
  },
  {
   "cell_type": "code",
   "execution_count": null,
   "metadata": {},
   "outputs": [],
   "source": [
    "dres = dsampler.results"
   ]
  },
  {
   "cell_type": "code",
   "execution_count": null,
   "metadata": {},
   "outputs": [],
   "source": [
    "# Corner Plot of Transit Fit\n",
    "fig, axes = dyplot.cornerplot(dres, labels=[\"period\", \"Rp/Rs\", \"a/Rs\", \"i\", \"t0\"])"
   ]
  },
  {
   "cell_type": "code",
   "execution_count": null,
   "metadata": {},
   "outputs": [],
   "source": [
    "# Thinning distributions to size arrlen\n",
    "\n",
    "pdist = random.choices(dres.samples[:,0], k=arrlen)\n",
    "rdist = random.choices(dres.samples[:,1], k=arrlen)\n",
    "adist = random.choices(dres.samples[:,2], k=arrlen)\n",
    "idist = random.choices(dres.samples[:,3], k=arrlen)\n",
    "t0dist = random.choices(dres.samples[:,4], k=arrlen)\n",
    "\n",
    "per_f = ph.mode(pdist)\n",
    "rprs_f = ph.mode(rdist)\n",
    "a_f = ph.mode(adist)\n",
    "i_f = ph.mode(idist)\n",
    "t0_f = ph.mode(t0dist)"
   ]
  },
  {
   "cell_type": "code",
   "execution_count": null,
   "metadata": {},
   "outputs": [],
   "source": [
    "# Create a light curve with the fit parameters\n",
    "fit1 = ph.integratedlc_fitter(time1, per_f, rprs_f, a_f, i_f, t0_f)"
   ]
  },
  {
   "cell_type": "code",
   "execution_count": null,
   "metadata": {},
   "outputs": [],
   "source": [
    "plt.errorbar(time1, nflux1, yerr=fluxerr1, c='blue', alpha=0.5, label='Original LC')\n",
    "plt.plot(time1, fit1, c='red', alpha=1.0, label='Fit LC')\n",
    "plt.xlim(-0.1, 0.1)\n",
    "plt.legend()\n",
    "\n",
    "print('Stellar mass (Msun): ', mstar, 'Stellar radius (Rsun): ', rstar)\n",
    "\n",
    "print('\\n')\n",
    "\n",
    "print('Input params:')\n",
    "print('Rp/Rs: ', rprs)\n",
    "print('a/Rs: ', a_rs)\n",
    "print('i (deg): ', i)\n",
    "\n",
    "print('\\n')\n",
    "\n",
    "print('Fit params:')\n",
    "print('Rp/Rs: ', rprs_f)\n",
    "print('a/Rs: ', a_f)\n",
    "print('i (deg): ', i_f)"
   ]
  },
  {
   "cell_type": "markdown",
   "metadata": {},
   "source": [
    "### Determining T14 and T23"
   ]
  },
  {
   "cell_type": "code",
   "execution_count": null,
   "metadata": {},
   "outputs": [],
   "source": [
    "T14dist = ph.get_T14(pdist, rdist, adist, idist)\n",
    "T14errs = ph.get_sigmas(T14dist)\n",
    "\n",
    "T23dist = ph.get_T23(pdist, rdist, adist, idist)\n",
    "T23errs = ph.get_sigmas(T23dist)"
   ]
  },
  {
   "cell_type": "markdown",
   "metadata": {},
   "source": [
    "# Get $g$"
   ]
  },
  {
   "cell_type": "code",
   "execution_count": null,
   "metadata": {},
   "outputs": [],
   "source": [
    "gs, rho_c = ph.get_g_distribution(rho_star, pdist, rdist, T14dist, T23dist)\n",
    "\n",
    "g_mean = ph.mode(gs)\n",
    "g_sigma = np.mean(np.abs(ph.get_sigmas(gs)))"
   ]
  },
  {
   "cell_type": "code",
   "execution_count": null,
   "metadata": {},
   "outputs": [],
   "source": [
    "g_mean"
   ]
  },
  {
   "cell_type": "code",
   "execution_count": null,
   "metadata": {},
   "outputs": [],
   "source": [
    "g_sigma"
   ]
  },
  {
   "cell_type": "code",
   "execution_count": null,
   "metadata": {},
   "outputs": [],
   "source": [
    "g = g_mean\n",
    "gerr = g_sigma"
   ]
  },
  {
   "cell_type": "markdown",
   "metadata": {},
   "source": [
    "# Dynesty (e,w) Fitting LIkelihood Functions"
   ]
  },
  {
   "cell_type": "code",
   "execution_count": null,
   "metadata": {},
   "outputs": [],
   "source": [
    "ndim = 2\n",
    "\n",
    "def loglike(theta):\n",
    "    \"\"\"The log-likelihood function.\"\"\"\n",
    "\n",
    "    w, e = theta\n",
    "    \n",
    "    model = (1+e*np.sin(w*(np.pi/180.)))/np.sqrt(1-e**2)\n",
    "    sigma2 = gerr ** 2\n",
    "    \n",
    "    return -0.5 * np.sum((g - model) ** 2 / sigma2 + np.log(sigma2))\n",
    "\n",
    "def unife_prior_transform(utheta):\n",
    "    \"\"\"Uniform eccentricity prior\"\"\"\n",
    "    \n",
    "    uw, ue = utheta\n",
    "    w = 360.*uw-90.\n",
    "    e = 1. * ue\n",
    "    \n",
    "    return w, e\n",
    "\n",
    "\n",
    "def betae_prior_transform(utheta):\n",
    "    \"\"\"Uniform eccentricity prior\"\"\"\n",
    "    \n",
    "    uw, ue = utheta\n",
    "    w = 360.*uw-90.\n",
    "    \n",
    "    a, b = 0.867, 3.03\n",
    "    e = scipy.stats.beta.ppf(ue, a, b)\n",
    "    \n",
    "    return w, e"
   ]
  },
  {
   "cell_type": "markdown",
   "metadata": {},
   "source": [
    "## Uniform Prior"
   ]
  },
  {
   "cell_type": "code",
   "execution_count": null,
   "metadata": {},
   "outputs": [],
   "source": [
    "dsampler = dynesty.DynamicNestedSampler(loglike, unife_prior_transform, ndim=2, bound='multi', sample='rstagger')"
   ]
  },
  {
   "cell_type": "code",
   "execution_count": null,
   "metadata": {},
   "outputs": [],
   "source": [
    "dsampler.run_nested()"
   ]
  },
  {
   "cell_type": "code",
   "execution_count": null,
   "metadata": {},
   "outputs": [],
   "source": [
    "dres = dsampler.results"
   ]
  },
  {
   "cell_type": "code",
   "execution_count": null,
   "metadata": {},
   "outputs": [],
   "source": [
    "truths = [w, e]\n",
    "\n",
    "fig, axes = dyplot.cornerplot(dres, truths=truths, show_titles=True, title_kwargs={'y': 1.04}, labels=[\"w\", \"e\"],\n",
    "                              fig=plt.subplots(2, 2, figsize=(8, 8)))"
   ]
  },
  {
   "cell_type": "markdown",
   "metadata": {},
   "source": [
    "## Beta-distribution Prior"
   ]
  },
  {
   "cell_type": "code",
   "execution_count": null,
   "metadata": {},
   "outputs": [],
   "source": [
    "dsampler = dynesty.DynamicNestedSampler(loglike, betae_prior_transform, ndim=2, bound='multi', sample='rstagger')"
   ]
  },
  {
   "cell_type": "code",
   "execution_count": null,
   "metadata": {},
   "outputs": [],
   "source": [
    "dsampler.run_nested()"
   ]
  },
  {
   "cell_type": "code",
   "execution_count": null,
   "metadata": {},
   "outputs": [],
   "source": [
    "dres = dsampler.results"
   ]
  },
  {
   "cell_type": "code",
   "execution_count": null,
   "metadata": {},
   "outputs": [],
   "source": [
    "truths = [w, e]"
   ]
  },
  {
   "cell_type": "code",
   "execution_count": null,
   "metadata": {},
   "outputs": [],
   "source": [
    "fig, axes = dyplot.cornerplot(dres, truths=truths, show_titles=True, title_kwargs={'y': 1.04}, labels=[\"w\", \"e\"],\n",
    "                              fig=plt.subplots(2, 2, figsize=(8, 8)))"
   ]
  },
  {
   "cell_type": "code",
   "execution_count": null,
   "metadata": {},
   "outputs": [],
   "source": []
  },
  {
   "cell_type": "code",
   "execution_count": null,
   "metadata": {},
   "outputs": [],
   "source": []
  },
  {
   "cell_type": "code",
   "execution_count": null,
   "metadata": {},
   "outputs": [],
   "source": []
  },
  {
   "cell_type": "code",
   "execution_count": null,
   "metadata": {},
   "outputs": [],
   "source": []
  }
 ],
 "metadata": {
  "kernelspec": {
   "display_name": "Python 3",
   "language": "python",
   "name": "python3"
  },
  "language_info": {
   "codemirror_mode": {
    "name": "ipython",
    "version": 3
   },
   "file_extension": ".py",
   "mimetype": "text/x-python",
   "name": "python",
   "nbconvert_exporter": "python",
   "pygments_lexer": "ipython3",
   "version": "3.8.5"
  }
 },
 "nbformat": 4,
 "nbformat_minor": 4
}
