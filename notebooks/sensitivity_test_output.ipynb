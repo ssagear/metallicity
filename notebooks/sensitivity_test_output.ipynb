{
 "cells": [
  {
   "cell_type": "markdown",
   "metadata": {},
   "source": [
    "# Sensitivity Tests Output"
   ]
  },
  {
   "cell_type": "markdown",
   "metadata": {},
   "source": [
    "Working with the output from HiPerGator/main.py"
   ]
  },
  {
   "cell_type": "code",
   "execution_count": 206,
   "metadata": {},
   "outputs": [],
   "source": [
    "import numpy as np\n",
    "import matplotlib.pyplot as plt\n",
    "import pandas as pd\n",
    "import os\n",
    "\n",
    "import photoeccentric as ph"
   ]
  },
  {
   "cell_type": "code",
   "execution_count": 207,
   "metadata": {},
   "outputs": [],
   "source": [
    "trueew = pd.read_csv('/Users/ssagear/Dropbox (UFL)/Research/MetallicityProject/photoeccentric/notebooks/plots_hpg/results/fnames.txt', index_col=False)"
   ]
  },
  {
   "cell_type": "code",
   "execution_count": 208,
   "metadata": {},
   "outputs": [],
   "source": [
    "truee = np.array(trueew['true_e'])\n",
    "truew = np.array(trueew['true_w'])"
   ]
  },
  {
   "cell_type": "code",
   "execution_count": 209,
   "metadata": {},
   "outputs": [
    {
     "name": "stderr",
     "output_type": "stream",
     "text": [
      "<ipython-input-209-fbe0739ad145>:10: UserWarning: genfromtxt: Empty input file: \"/Users/ssagear/Dropbox (UFL)/Research/MetallicityProject/photoeccentric/notebooks/plots_hpg/results/edists/e_0.7016680685355956_w_-59.26857908763873_distributions.csv\"\n",
      "  edist.append(np.genfromtxt(fname, delimiter=','))\n"
     ]
    }
   ],
   "source": [
    "distpath = \"/Users/ssagear/Dropbox (UFL)/Research/MetallicityProject/photoeccentric/notebooks/plots_hpg/results/edists/\"\n",
    "zscpath = \"/Users/ssagear/Dropbox (UFL)/Research/MetallicityProject/photoeccentric/notebooks/plots_hpg/results/zscores/\"\n",
    "\n",
    "edist = []\n",
    "zsc = []\n",
    "\n",
    "for file in os.listdir(distpath):\n",
    "    fname = os.path.join(distpath, file)\n",
    "    try:\n",
    "        edist.append(np.genfromtxt(fname, delimiter=','))\n",
    "    except UnicodeDecodeError:\n",
    "        pass\n",
    "    \n",
    "\n",
    "for file in os.listdir(zscpath):\n",
    "    fname = os.path.join(zscpath, file)\n",
    "    try:\n",
    "        zsc.append(np.genfromtxt(fname, delimiter=','))\n",
    "    except UnicodeDecodeError:\n",
    "        pass"
   ]
  },
  {
   "cell_type": "code",
   "execution_count": 210,
   "metadata": {},
   "outputs": [],
   "source": [
    "es = []\n",
    "ws = []\n",
    "gs = []\n",
    "\n",
    "zsc_e = []\n",
    "zsc_w = []\n",
    "\n",
    "for i in range(len(edist)):\n",
    "    try:\n",
    "        es.append(edist[i][:,0])\n",
    "        ws.append(edist[i][:,1])\n",
    "        gs.append(edist[i][:,2])\n",
    "    except IndexError:\n",
    "        truee = np.delete(truee, i)\n",
    "        truew = np.delete(truew, i)\n",
    "    \n",
    "    \n",
    "for i in range(len(edist)):\n",
    "    try:\n",
    "        zsc_e.append(zsc[i][0])\n",
    "        zsc_w.append(zsc[i][1])\n",
    "    except IndexError:\n",
    "        pass"
   ]
  },
  {
   "cell_type": "code",
   "execution_count": 212,
   "metadata": {},
   "outputs": [],
   "source": [
    "es_mode = []\n",
    "ws_mode = []\n",
    "gs_mode = []\n",
    "\n",
    "for i in range(len(es)):\n",
    "    es_mode.append(ph.mode(es[i]))\n",
    "    ws_mode.append(ph.mode(ws[i]))\n",
    "    gs_mode.append(ph.mode(gs[i]))\n",
    "    "
   ]
  },
  {
   "cell_type": "code",
   "execution_count": 213,
   "metadata": {},
   "outputs": [],
   "source": [
    "zsc_means = []\n",
    "\n",
    "for i in range(len(zsc_e)):\n",
    "    zsc_means.append(np.mean((zsc_e[i], zsc_w[i])))"
   ]
  },
  {
   "cell_type": "code",
   "execution_count": 219,
   "metadata": {},
   "outputs": [
    {
     "data": {
      "text/plain": [
       "<matplotlib.colorbar.Colorbar at 0x7fd0c030e250>"
      ]
     },
     "execution_count": 219,
     "metadata": {},
     "output_type": "execute_result"
    },
    {
     "data": {
      "image/png": "[encoded data removed]",
      "text/plain": [
       "<Figure size 432x288 with 2 Axes>"
      ]
     },
     "metadata": {
      "needs_background": "light"
     },
     "output_type": "display_data"
    }
   ],
   "source": [
    "plt.scatter(truee, truew, c=zsc_means, cmap='seismic')\n",
    "plt.colorbar()"
   ]
  },
  {
   "cell_type": "code",
   "execution_count": null,
   "metadata": {},
   "outputs": [],
   "source": []
  }
 ],
 "metadata": {
  "kernelspec": {
   "display_name": "Python 3",
   "language": "python",
   "name": "python3"
  },
  "language_info": {
   "codemirror_mode": {
    "name": "ipython",
    "version": 3
   },
   "file_extension": ".py",
   "mimetype": "text/x-python",
   "name": "python",
   "nbconvert_exporter": "python",
   "pygments_lexer": "ipython3",
   "version": "3.8.5"
  }
 },
 "nbformat": 4,
 "nbformat_minor": 4
}
