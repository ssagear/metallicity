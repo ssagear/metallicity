{
 "cells": [
  {
   "cell_type": "code",
   "execution_count": 672,
   "metadata": {},
   "outputs": [],
   "source": [
    "import numpy as np\n",
    "import matplotlib.pyplot as plt\n",
    "import pandas as pd\n",
    "import batman\n",
    "\n",
    "import astropy.units as u\n",
    "from astropy.timeseries import BoxLeastSquares\n",
    "from scipy.optimize import curve_fit\n",
    "\n",
    "import emcee\n",
    "import corner"
   ]
  },
  {
   "cell_type": "code",
   "execution_count": 673,
   "metadata": {},
   "outputs": [
    {
     "name": "stdout",
     "output_type": "stream",
     "text": [
      "The autoreload extension is already loaded. To reload it, use:\n",
      "  %reload_ext autoreload\n"
     ]
    }
   ],
   "source": [
    "import photoeccentric as ph\n",
    "\n",
    "%load_ext autoreload\n",
    "%autoreload 2"
   ]
  },
  {
   "cell_type": "code",
   "execution_count": 709,
   "metadata": {},
   "outputs": [],
   "source": [
    "#Kepler planets with spectroscopy\n",
    "rho_lum = pd.read_csv('/Users/sheilasagear/Dropbox (UFL)/Research/MetallicityProject/Data/rhos/rho_lum.csv')\n",
    "\n",
    "# ALL Kepler planets from exo archive\n",
    "planets = pd.read_csv('/Users/sheilasagear/Dropbox (UFL)/Research/MetallicityProject/Data/exoplanetarchive/cumulative_kois.csv')\n",
    "\n",
    "# Take the Kepler planet archive entries for the planets we have spectroscopy for\n",
    "spectplanets = planets[planets['kepid'].isin(list(rho_lum.columns))]\n",
    "spectplanets = spectplanets.reset_index()"
   ]
  },
  {
   "cell_type": "code",
   "execution_count": 710,
   "metadata": {},
   "outputs": [],
   "source": [
    "#spectplanets"
   ]
  },
  {
   "cell_type": "code",
   "execution_count": 711,
   "metadata": {},
   "outputs": [
    {
     "data": {
      "text/html": [
       "<div>\n",
       "<style scoped>\n",
       "    .dataframe tbody tr th:only-of-type {\n",
       "        vertical-align: middle;\n",
       "    }\n",
       "\n",
       "    .dataframe tbody tr th {\n",
       "        vertical-align: top;\n",
       "    }\n",
       "\n",
       "    .dataframe thead th {\n",
       "        text-align: right;\n",
       "    }\n",
       "</style>\n",
       "<table border=\"1\" class=\"dataframe\">\n",
       "  <thead>\n",
       "    <tr style=\"text-align: right;\">\n",
       "      <th></th>\n",
       "      <th>index</th>\n",
       "      <th>kepid</th>\n",
       "      <th>kepoi_name</th>\n",
       "      <th>kepler_name</th>\n",
       "      <th>koi_disposition</th>\n",
       "      <th>koi_vet_stat</th>\n",
       "      <th>koi_vet_date</th>\n",
       "      <th>koi_pdisposition</th>\n",
       "      <th>koi_score</th>\n",
       "      <th>koi_fpflag_nt</th>\n",
       "      <th>koi_fpflag_ss</th>\n",
       "      <th>koi_fpflag_co</th>\n",
       "      <th>koi_fpflag_ec</th>\n",
       "      <th>koi_disp_prov</th>\n",
       "      <th>koi_comment</th>\n",
       "      <th>koi_period</th>\n",
       "      <th>koi_period_err1</th>\n",
       "      <th>koi_period_err2</th>\n",
       "      <th>koi_time0bk</th>\n",
       "      <th>koi_time0bk_err1</th>\n",
       "      <th>koi_time0bk_err2</th>\n",
       "      <th>koi_time0</th>\n",
       "      <th>koi_time0_err1</th>\n",
       "      <th>koi_time0_err2</th>\n",
       "      <th>koi_eccen</th>\n",
       "      <th>koi_eccen_err1</th>\n",
       "      <th>koi_eccen_err2</th>\n",
       "      <th>koi_longp</th>\n",
       "      <th>koi_longp_err1</th>\n",
       "      <th>koi_longp_err2</th>\n",
       "      <th>koi_impact</th>\n",
       "      <th>koi_impact_err1</th>\n",
       "      <th>koi_impact_err2</th>\n",
       "      <th>koi_duration</th>\n",
       "      <th>koi_duration_err1</th>\n",
       "      <th>koi_duration_err2</th>\n",
       "      <th>koi_ingress</th>\n",
       "      <th>koi_ingress_err1</th>\n",
       "      <th>koi_ingress_err2</th>\n",
       "      <th>koi_depth</th>\n",
       "      <th>koi_depth_err1</th>\n",
       "      <th>koi_depth_err2</th>\n",
       "      <th>koi_ror</th>\n",
       "      <th>koi_ror_err1</th>\n",
       "      <th>koi_ror_err2</th>\n",
       "      <th>koi_srho</th>\n",
       "      <th>koi_srho_err1</th>\n",
       "      <th>koi_srho_err2</th>\n",
       "      <th>koi_fittype</th>\n",
       "      <th>koi_prad</th>\n",
       "      <th>koi_prad_err1</th>\n",
       "      <th>koi_prad_err2</th>\n",
       "      <th>koi_sma</th>\n",
       "      <th>koi_sma_err1</th>\n",
       "      <th>koi_sma_err2</th>\n",
       "      <th>koi_incl</th>\n",
       "      <th>koi_incl_err1</th>\n",
       "      <th>koi_incl_err2</th>\n",
       "      <th>koi_teq</th>\n",
       "      <th>koi_teq_err1</th>\n",
       "      <th>koi_teq_err2</th>\n",
       "      <th>koi_insol</th>\n",
       "      <th>koi_insol_err1</th>\n",
       "      <th>koi_insol_err2</th>\n",
       "      <th>koi_dor</th>\n",
       "      <th>koi_dor_err1</th>\n",
       "      <th>koi_dor_err2</th>\n",
       "      <th>koi_limbdark_mod</th>\n",
       "      <th>koi_ldm_coeff4</th>\n",
       "      <th>koi_ldm_coeff3</th>\n",
       "      <th>koi_ldm_coeff2</th>\n",
       "      <th>koi_ldm_coeff1</th>\n",
       "      <th>koi_parm_prov</th>\n",
       "      <th>koi_max_sngle_ev</th>\n",
       "      <th>koi_max_mult_ev</th>\n",
       "      <th>koi_model_snr</th>\n",
       "      <th>koi_count</th>\n",
       "      <th>koi_num_transits</th>\n",
       "      <th>koi_tce_plnt_num</th>\n",
       "      <th>koi_tce_delivname</th>\n",
       "      <th>koi_quarters</th>\n",
       "      <th>koi_bin_oedp_sig</th>\n",
       "      <th>koi_trans_mod</th>\n",
       "      <th>koi_model_dof</th>\n",
       "      <th>koi_model_chisq</th>\n",
       "      <th>koi_datalink_dvr</th>\n",
       "      <th>koi_datalink_dvs</th>\n",
       "      <th>koi_steff</th>\n",
       "      <th>koi_steff_err1</th>\n",
       "      <th>koi_steff_err2</th>\n",
       "      <th>koi_slogg</th>\n",
       "      <th>koi_slogg_err1</th>\n",
       "      <th>koi_slogg_err2</th>\n",
       "      <th>koi_smet</th>\n",
       "      <th>koi_smet_err1</th>\n",
       "      <th>koi_smet_err2</th>\n",
       "      <th>koi_srad</th>\n",
       "      <th>koi_srad_err1</th>\n",
       "      <th>koi_srad_err2</th>\n",
       "      <th>koi_smass</th>\n",
       "      <th>koi_smass_err1</th>\n",
       "      <th>koi_smass_err2</th>\n",
       "      <th>koi_sage</th>\n",
       "      <th>koi_sage_err1</th>\n",
       "      <th>koi_sage_err2</th>\n",
       "      <th>koi_sparprov</th>\n",
       "      <th>ra</th>\n",
       "      <th>dec</th>\n",
       "      <th>koi_kepmag</th>\n",
       "      <th>koi_gmag</th>\n",
       "      <th>koi_rmag</th>\n",
       "      <th>koi_imag</th>\n",
       "      <th>koi_zmag</th>\n",
       "      <th>koi_jmag</th>\n",
       "      <th>koi_hmag</th>\n",
       "      <th>koi_kmag</th>\n",
       "      <th>koi_fwm_stat_sig</th>\n",
       "      <th>koi_fwm_sra</th>\n",
       "      <th>koi_fwm_sra_err</th>\n",
       "      <th>koi_fwm_sdec</th>\n",
       "      <th>koi_fwm_sdec_err</th>\n",
       "      <th>koi_fwm_srao</th>\n",
       "      <th>koi_fwm_srao_err</th>\n",
       "      <th>koi_fwm_sdeco</th>\n",
       "      <th>koi_fwm_sdeco_err</th>\n",
       "      <th>koi_fwm_prao</th>\n",
       "      <th>koi_fwm_prao_err</th>\n",
       "      <th>koi_fwm_pdeco</th>\n",
       "      <th>koi_fwm_pdeco_err</th>\n",
       "      <th>koi_dicco_mra</th>\n",
       "      <th>koi_dicco_mra_err</th>\n",
       "      <th>koi_dicco_mdec</th>\n",
       "      <th>koi_dicco_mdec_err</th>\n",
       "      <th>koi_dicco_msky</th>\n",
       "      <th>koi_dicco_msky_err</th>\n",
       "      <th>koi_dikco_mra</th>\n",
       "      <th>koi_dikco_mra_err</th>\n",
       "      <th>koi_dikco_mdec</th>\n",
       "      <th>koi_dikco_mdec_err</th>\n",
       "      <th>koi_dikco_msky</th>\n",
       "      <th>koi_dikco_msky_err</th>\n",
       "    </tr>\n",
       "  </thead>\n",
       "  <tbody>\n",
       "    <tr>\n",
       "      <th>67</th>\n",
       "      <td>2321</td>\n",
       "      <td>8733898</td>\n",
       "      <td>K02842.01</td>\n",
       "      <td>Kepler-446 b</td>\n",
       "      <td>CONFIRMED</td>\n",
       "      <td>Done</td>\n",
       "      <td>8/16/18</td>\n",
       "      <td>CANDIDATE</td>\n",
       "      <td>1.000</td>\n",
       "      <td>0</td>\n",
       "      <td>0</td>\n",
       "      <td>0</td>\n",
       "      <td>0</td>\n",
       "      <td>q1_q17_dr25_sup_koi</td>\n",
       "      <td>NO_COMMENT</td>\n",
       "      <td>1.565413</td>\n",
       "      <td>0.000002</td>\n",
       "      <td>-0.000002</td>\n",
       "      <td>132.91281</td>\n",
       "      <td>0.00115</td>\n",
       "      <td>-0.00115</td>\n",
       "      <td>2454965.913</td>\n",
       "      <td>0.00115</td>\n",
       "      <td>-0.00115</td>\n",
       "      <td>0.0</td>\n",
       "      <td>NaN</td>\n",
       "      <td>NaN</td>\n",
       "      <td>NaN</td>\n",
       "      <td>NaN</td>\n",
       "      <td>NaN</td>\n",
       "      <td>0.003</td>\n",
       "      <td>0.431</td>\n",
       "      <td>-0.003</td>\n",
       "      <td>0.7572</td>\n",
       "      <td>0.0299</td>\n",
       "      <td>-0.0299</td>\n",
       "      <td>NaN</td>\n",
       "      <td>NaN</td>\n",
       "      <td>NaN</td>\n",
       "      <td>2750.0</td>\n",
       "      <td>83.1</td>\n",
       "      <td>-83.1</td>\n",
       "      <td>0.048437</td>\n",
       "      <td>0.00214</td>\n",
       "      <td>-0.000505</td>\n",
       "      <td>35.12423</td>\n",
       "      <td>4.46061</td>\n",
       "      <td>-12.55432</td>\n",
       "      <td>LS+MCMC</td>\n",
       "      <td>1.73</td>\n",
       "      <td>0.22</td>\n",
       "      <td>-0.19</td>\n",
       "      <td>0.0182</td>\n",
       "      <td>NaN</td>\n",
       "      <td>NaN</td>\n",
       "      <td>89.99</td>\n",
       "      <td>NaN</td>\n",
       "      <td>NaN</td>\n",
       "      <td>648.0</td>\n",
       "      <td>NaN</td>\n",
       "      <td>NaN</td>\n",
       "      <td>41.85</td>\n",
       "      <td>15.16</td>\n",
       "      <td>-10.74</td>\n",
       "      <td>16.57</td>\n",
       "      <td>2.1</td>\n",
       "      <td>-2.1</td>\n",
       "      <td>Claret (2011 A&amp;A 529 75) ATLAS LS</td>\n",
       "      <td>0.0</td>\n",
       "      <td>0.0</td>\n",
       "      <td>0.3775</td>\n",
       "      <td>0.3402</td>\n",
       "      <td>q1_q17_dr25_koi</td>\n",
       "      <td>4.962750</td>\n",
       "      <td>33.523926</td>\n",
       "      <td>48.6</td>\n",
       "      <td>3</td>\n",
       "      <td>336.0</td>\n",
       "      <td>1.0</td>\n",
       "      <td>q1_q17_dr25_tce</td>\n",
       "      <td>1.000010e+25</td>\n",
       "      <td>0.7319</td>\n",
       "      <td>Mandel and Agol (2002 ApJ 580 171)</td>\n",
       "      <td>NaN</td>\n",
       "      <td>NaN</td>\n",
       "      <td>008/008733/008733898/dv/kplr008733898-20160209...</td>\n",
       "      <td>008/008733/008733898/dv/kplr008733898-001-2016...</td>\n",
       "      <td>3464.0</td>\n",
       "      <td>69.0</td>\n",
       "      <td>-55.0</td>\n",
       "      <td>4.923</td>\n",
       "      <td>0.044</td>\n",
       "      <td>-0.044</td>\n",
       "      <td>-0.14</td>\n",
       "      <td>0.15</td>\n",
       "      <td>-0.15</td>\n",
       "      <td>0.328</td>\n",
       "      <td>0.04</td>\n",
       "      <td>-0.036</td>\n",
       "      <td>0.328</td>\n",
       "      <td>0.053</td>\n",
       "      <td>-0.043</td>\n",
       "      <td>NaN</td>\n",
       "      <td>NaN</td>\n",
       "      <td>NaN</td>\n",
       "      <td>q1_q17_dr25_stellar</td>\n",
       "      <td>282.25021</td>\n",
       "      <td>44.921108</td>\n",
       "      <td>16.257</td>\n",
       "      <td>17.943</td>\n",
       "      <td>16.794</td>\n",
       "      <td>15.534</td>\n",
       "      <td>14.929</td>\n",
       "      <td>13.591</td>\n",
       "      <td>13.075</td>\n",
       "      <td>12.827</td>\n",
       "      <td>0.000</td>\n",
       "      <td>18.816667</td>\n",
       "      <td>0.000010</td>\n",
       "      <td>44.92091</td>\n",
       "      <td>0.0001</td>\n",
       "      <td>-0.51</td>\n",
       "      <td>0.38</td>\n",
       "      <td>-0.74</td>\n",
       "      <td>0.37</td>\n",
       "      <td>0.0002</td>\n",
       "      <td>0.0012</td>\n",
       "      <td>0.0021</td>\n",
       "      <td>0.0014</td>\n",
       "      <td>0.03</td>\n",
       "      <td>0.13</td>\n",
       "      <td>0.12</td>\n",
       "      <td>0.14</td>\n",
       "      <td>0.12</td>\n",
       "      <td>0.14</td>\n",
       "      <td>-0.28</td>\n",
       "      <td>0.13</td>\n",
       "      <td>0.04</td>\n",
       "      <td>0.14</td>\n",
       "      <td>0.28</td>\n",
       "      <td>0.13</td>\n",
       "    </tr>\n",
       "    <tr>\n",
       "      <th>68</th>\n",
       "      <td>2322</td>\n",
       "      <td>8733898</td>\n",
       "      <td>K02842.02</td>\n",
       "      <td>Kepler-446 d</td>\n",
       "      <td>CONFIRMED</td>\n",
       "      <td>Done</td>\n",
       "      <td>8/16/18</td>\n",
       "      <td>CANDIDATE</td>\n",
       "      <td>0.992</td>\n",
       "      <td>0</td>\n",
       "      <td>0</td>\n",
       "      <td>0</td>\n",
       "      <td>0</td>\n",
       "      <td>q1_q17_dr25_sup_koi</td>\n",
       "      <td>NO_COMMENT</td>\n",
       "      <td>5.148923</td>\n",
       "      <td>0.000013</td>\n",
       "      <td>-0.000013</td>\n",
       "      <td>133.31971</td>\n",
       "      <td>0.00278</td>\n",
       "      <td>-0.00278</td>\n",
       "      <td>2454966.320</td>\n",
       "      <td>0.00278</td>\n",
       "      <td>-0.00278</td>\n",
       "      <td>0.0</td>\n",
       "      <td>NaN</td>\n",
       "      <td>NaN</td>\n",
       "      <td>NaN</td>\n",
       "      <td>NaN</td>\n",
       "      <td>NaN</td>\n",
       "      <td>0.719</td>\n",
       "      <td>0.186</td>\n",
       "      <td>-0.506</td>\n",
       "      <td>0.9613</td>\n",
       "      <td>0.0538</td>\n",
       "      <td>-0.0538</td>\n",
       "      <td>NaN</td>\n",
       "      <td>NaN</td>\n",
       "      <td>NaN</td>\n",
       "      <td>2360.0</td>\n",
       "      <td>120.0</td>\n",
       "      <td>-120.0</td>\n",
       "      <td>0.048149</td>\n",
       "      <td>0.00953</td>\n",
       "      <td>-0.003500</td>\n",
       "      <td>21.74240</td>\n",
       "      <td>41.71447</td>\n",
       "      <td>-16.49153</td>\n",
       "      <td>LS+MCMC</td>\n",
       "      <td>1.72</td>\n",
       "      <td>0.21</td>\n",
       "      <td>-0.18</td>\n",
       "      <td>0.0403</td>\n",
       "      <td>NaN</td>\n",
       "      <td>NaN</td>\n",
       "      <td>88.68</td>\n",
       "      <td>NaN</td>\n",
       "      <td>NaN</td>\n",
       "      <td>436.0</td>\n",
       "      <td>NaN</td>\n",
       "      <td>NaN</td>\n",
       "      <td>8.54</td>\n",
       "      <td>3.09</td>\n",
       "      <td>-2.19</td>\n",
       "      <td>31.20</td>\n",
       "      <td>15.0</td>\n",
       "      <td>-15.0</td>\n",
       "      <td>Claret (2011 A&amp;A 529 75) ATLAS LS</td>\n",
       "      <td>0.0</td>\n",
       "      <td>0.0</td>\n",
       "      <td>0.3775</td>\n",
       "      <td>0.3402</td>\n",
       "      <td>q1_q17_dr25_koi</td>\n",
       "      <td>4.478808</td>\n",
       "      <td>17.186102</td>\n",
       "      <td>25.4</td>\n",
       "      <td>3</td>\n",
       "      <td>88.0</td>\n",
       "      <td>3.0</td>\n",
       "      <td>q1_q17_dr25_tce</td>\n",
       "      <td>1.000010e+25</td>\n",
       "      <td>0.0242</td>\n",
       "      <td>Mandel and Agol (2002 ApJ 580 171)</td>\n",
       "      <td>NaN</td>\n",
       "      <td>NaN</td>\n",
       "      <td>008/008733/008733898/dv/kplr008733898-20160209...</td>\n",
       "      <td>008/008733/008733898/dv/kplr008733898-003-2016...</td>\n",
       "      <td>3464.0</td>\n",
       "      <td>69.0</td>\n",
       "      <td>-55.0</td>\n",
       "      <td>4.923</td>\n",
       "      <td>0.044</td>\n",
       "      <td>-0.044</td>\n",
       "      <td>-0.14</td>\n",
       "      <td>0.15</td>\n",
       "      <td>-0.15</td>\n",
       "      <td>0.328</td>\n",
       "      <td>0.04</td>\n",
       "      <td>-0.036</td>\n",
       "      <td>0.328</td>\n",
       "      <td>0.053</td>\n",
       "      <td>-0.043</td>\n",
       "      <td>NaN</td>\n",
       "      <td>NaN</td>\n",
       "      <td>NaN</td>\n",
       "      <td>q1_q17_dr25_stellar</td>\n",
       "      <td>282.25021</td>\n",
       "      <td>44.921108</td>\n",
       "      <td>16.257</td>\n",
       "      <td>17.943</td>\n",
       "      <td>16.794</td>\n",
       "      <td>15.534</td>\n",
       "      <td>14.929</td>\n",
       "      <td>13.591</td>\n",
       "      <td>13.075</td>\n",
       "      <td>12.827</td>\n",
       "      <td>0.759</td>\n",
       "      <td>18.816674</td>\n",
       "      <td>0.000019</td>\n",
       "      <td>44.92119</td>\n",
       "      <td>0.0002</td>\n",
       "      <td>-0.26</td>\n",
       "      <td>0.74</td>\n",
       "      <td>0.27</td>\n",
       "      <td>0.73</td>\n",
       "      <td>-0.0004</td>\n",
       "      <td>0.0020</td>\n",
       "      <td>-0.0005</td>\n",
       "      <td>0.0022</td>\n",
       "      <td>-0.07</td>\n",
       "      <td>0.28</td>\n",
       "      <td>0.32</td>\n",
       "      <td>0.30</td>\n",
       "      <td>0.32</td>\n",
       "      <td>0.27</td>\n",
       "      <td>-0.31</td>\n",
       "      <td>0.28</td>\n",
       "      <td>0.26</td>\n",
       "      <td>0.20</td>\n",
       "      <td>0.41</td>\n",
       "      <td>0.25</td>\n",
       "    </tr>\n",
       "    <tr>\n",
       "      <th>84</th>\n",
       "      <td>4122</td>\n",
       "      <td>8733898</td>\n",
       "      <td>K02842.03</td>\n",
       "      <td>Kepler-446 c</td>\n",
       "      <td>CONFIRMED</td>\n",
       "      <td>Done</td>\n",
       "      <td>8/16/18</td>\n",
       "      <td>CANDIDATE</td>\n",
       "      <td>0.947</td>\n",
       "      <td>0</td>\n",
       "      <td>0</td>\n",
       "      <td>0</td>\n",
       "      <td>0</td>\n",
       "      <td>q1_q17_dr25_sup_koi</td>\n",
       "      <td>NO_COMMENT</td>\n",
       "      <td>3.036209</td>\n",
       "      <td>0.000007</td>\n",
       "      <td>-0.000007</td>\n",
       "      <td>134.06146</td>\n",
       "      <td>0.00265</td>\n",
       "      <td>-0.00265</td>\n",
       "      <td>2454967.061</td>\n",
       "      <td>0.00265</td>\n",
       "      <td>-0.00265</td>\n",
       "      <td>0.0</td>\n",
       "      <td>NaN</td>\n",
       "      <td>NaN</td>\n",
       "      <td>NaN</td>\n",
       "      <td>NaN</td>\n",
       "      <td>NaN</td>\n",
       "      <td>0.111</td>\n",
       "      <td>0.328</td>\n",
       "      <td>-0.111</td>\n",
       "      <td>0.9324</td>\n",
       "      <td>0.0522</td>\n",
       "      <td>-0.0522</td>\n",
       "      <td>NaN</td>\n",
       "      <td>NaN</td>\n",
       "      <td>NaN</td>\n",
       "      <td>1820.0</td>\n",
       "      <td>87.7</td>\n",
       "      <td>-87.7</td>\n",
       "      <td>0.039143</td>\n",
       "      <td>0.00167</td>\n",
       "      <td>-0.001130</td>\n",
       "      <td>34.87047</td>\n",
       "      <td>4.50186</td>\n",
       "      <td>-14.04306</td>\n",
       "      <td>LS+MCMC</td>\n",
       "      <td>1.40</td>\n",
       "      <td>0.17</td>\n",
       "      <td>-0.15</td>\n",
       "      <td>0.0283</td>\n",
       "      <td>NaN</td>\n",
       "      <td>NaN</td>\n",
       "      <td>89.75</td>\n",
       "      <td>NaN</td>\n",
       "      <td>NaN</td>\n",
       "      <td>520.0</td>\n",
       "      <td>NaN</td>\n",
       "      <td>NaN</td>\n",
       "      <td>17.31</td>\n",
       "      <td>6.27</td>\n",
       "      <td>-4.44</td>\n",
       "      <td>25.71</td>\n",
       "      <td>3.3</td>\n",
       "      <td>-3.3</td>\n",
       "      <td>Claret (2011 A&amp;A 529 75) ATLAS LS</td>\n",
       "      <td>0.0</td>\n",
       "      <td>0.0</td>\n",
       "      <td>0.3775</td>\n",
       "      <td>0.3402</td>\n",
       "      <td>q1_q17_dr25_koi</td>\n",
       "      <td>4.254685</td>\n",
       "      <td>18.237106</td>\n",
       "      <td>26.0</td>\n",
       "      <td>3</td>\n",
       "      <td>154.0</td>\n",
       "      <td>2.0</td>\n",
       "      <td>q1_q17_dr25_tce</td>\n",
       "      <td>1.000010e+25</td>\n",
       "      <td>0.6128</td>\n",
       "      <td>Mandel and Agol (2002 ApJ 580 171)</td>\n",
       "      <td>NaN</td>\n",
       "      <td>NaN</td>\n",
       "      <td>008/008733/008733898/dv/kplr008733898-20160209...</td>\n",
       "      <td>008/008733/008733898/dv/kplr008733898-002-2016...</td>\n",
       "      <td>3464.0</td>\n",
       "      <td>69.0</td>\n",
       "      <td>-55.0</td>\n",
       "      <td>4.923</td>\n",
       "      <td>0.044</td>\n",
       "      <td>-0.044</td>\n",
       "      <td>-0.14</td>\n",
       "      <td>0.15</td>\n",
       "      <td>-0.15</td>\n",
       "      <td>0.328</td>\n",
       "      <td>0.04</td>\n",
       "      <td>-0.036</td>\n",
       "      <td>0.328</td>\n",
       "      <td>0.053</td>\n",
       "      <td>-0.043</td>\n",
       "      <td>NaN</td>\n",
       "      <td>NaN</td>\n",
       "      <td>NaN</td>\n",
       "      <td>q1_q17_dr25_stellar</td>\n",
       "      <td>282.25021</td>\n",
       "      <td>44.921108</td>\n",
       "      <td>16.257</td>\n",
       "      <td>17.943</td>\n",
       "      <td>16.794</td>\n",
       "      <td>15.534</td>\n",
       "      <td>14.929</td>\n",
       "      <td>13.591</td>\n",
       "      <td>13.075</td>\n",
       "      <td>12.827</td>\n",
       "      <td>0.005</td>\n",
       "      <td>18.816669</td>\n",
       "      <td>0.000019</td>\n",
       "      <td>44.92145</td>\n",
       "      <td>0.0002</td>\n",
       "      <td>-0.45</td>\n",
       "      <td>0.72</td>\n",
       "      <td>1.21</td>\n",
       "      <td>0.71</td>\n",
       "      <td>0.0000</td>\n",
       "      <td>0.0013</td>\n",
       "      <td>-0.0019</td>\n",
       "      <td>0.0013</td>\n",
       "      <td>-0.54</td>\n",
       "      <td>0.30</td>\n",
       "      <td>0.00</td>\n",
       "      <td>0.26</td>\n",
       "      <td>0.54</td>\n",
       "      <td>0.30</td>\n",
       "      <td>-0.77</td>\n",
       "      <td>0.34</td>\n",
       "      <td>-0.08</td>\n",
       "      <td>0.31</td>\n",
       "      <td>0.78</td>\n",
       "      <td>0.34</td>\n",
       "    </tr>\n",
       "  </tbody>\n",
       "</table>\n",
       "</div>"
      ],
      "text/plain": [
       "    index    kepid kepoi_name   kepler_name koi_disposition koi_vet_stat  \\\n",
       "67   2321  8733898  K02842.01  Kepler-446 b       CONFIRMED         Done   \n",
       "68   2322  8733898  K02842.02  Kepler-446 d       CONFIRMED         Done   \n",
       "84   4122  8733898  K02842.03  Kepler-446 c       CONFIRMED         Done   \n",
       "\n",
       "   koi_vet_date koi_pdisposition  koi_score  koi_fpflag_nt  koi_fpflag_ss  \\\n",
       "67      8/16/18        CANDIDATE      1.000              0              0   \n",
       "68      8/16/18        CANDIDATE      0.992              0              0   \n",
       "84      8/16/18        CANDIDATE      0.947              0              0   \n",
       "\n",
       "    koi_fpflag_co  koi_fpflag_ec        koi_disp_prov koi_comment  koi_period  \\\n",
       "67              0              0  q1_q17_dr25_sup_koi  NO_COMMENT    1.565413   \n",
       "68              0              0  q1_q17_dr25_sup_koi  NO_COMMENT    5.148923   \n",
       "84              0              0  q1_q17_dr25_sup_koi  NO_COMMENT    3.036209   \n",
       "\n",
       "    koi_period_err1  koi_period_err2  koi_time0bk  koi_time0bk_err1  \\\n",
       "67         0.000002        -0.000002    132.91281           0.00115   \n",
       "68         0.000013        -0.000013    133.31971           0.00278   \n",
       "84         0.000007        -0.000007    134.06146           0.00265   \n",
       "\n",
       "    koi_time0bk_err2    koi_time0  koi_time0_err1  koi_time0_err2  koi_eccen  \\\n",
       "67          -0.00115  2454965.913         0.00115        -0.00115        0.0   \n",
       "68          -0.00278  2454966.320         0.00278        -0.00278        0.0   \n",
       "84          -0.00265  2454967.061         0.00265        -0.00265        0.0   \n",
       "\n",
       "    koi_eccen_err1  koi_eccen_err2  koi_longp  koi_longp_err1  koi_longp_err2  \\\n",
       "67             NaN             NaN        NaN             NaN             NaN   \n",
       "68             NaN             NaN        NaN             NaN             NaN   \n",
       "84             NaN             NaN        NaN             NaN             NaN   \n",
       "\n",
       "    koi_impact  koi_impact_err1  koi_impact_err2  koi_duration  \\\n",
       "67       0.003            0.431           -0.003        0.7572   \n",
       "68       0.719            0.186           -0.506        0.9613   \n",
       "84       0.111            0.328           -0.111        0.9324   \n",
       "\n",
       "    koi_duration_err1  koi_duration_err2  koi_ingress  koi_ingress_err1  \\\n",
       "67             0.0299            -0.0299          NaN               NaN   \n",
       "68             0.0538            -0.0538          NaN               NaN   \n",
       "84             0.0522            -0.0522          NaN               NaN   \n",
       "\n",
       "    koi_ingress_err2  koi_depth  koi_depth_err1  koi_depth_err2   koi_ror  \\\n",
       "67               NaN     2750.0            83.1           -83.1  0.048437   \n",
       "68               NaN     2360.0           120.0          -120.0  0.048149   \n",
       "84               NaN     1820.0            87.7           -87.7  0.039143   \n",
       "\n",
       "    koi_ror_err1  koi_ror_err2  koi_srho  koi_srho_err1  koi_srho_err2  \\\n",
       "67       0.00214     -0.000505  35.12423        4.46061      -12.55432   \n",
       "68       0.00953     -0.003500  21.74240       41.71447      -16.49153   \n",
       "84       0.00167     -0.001130  34.87047        4.50186      -14.04306   \n",
       "\n",
       "   koi_fittype  koi_prad  koi_prad_err1  koi_prad_err2  koi_sma  koi_sma_err1  \\\n",
       "67     LS+MCMC      1.73           0.22          -0.19   0.0182           NaN   \n",
       "68     LS+MCMC      1.72           0.21          -0.18   0.0403           NaN   \n",
       "84     LS+MCMC      1.40           0.17          -0.15   0.0283           NaN   \n",
       "\n",
       "    koi_sma_err2  koi_incl  koi_incl_err1  koi_incl_err2  koi_teq  \\\n",
       "67           NaN     89.99            NaN            NaN    648.0   \n",
       "68           NaN     88.68            NaN            NaN    436.0   \n",
       "84           NaN     89.75            NaN            NaN    520.0   \n",
       "\n",
       "    koi_teq_err1  koi_teq_err2  koi_insol  koi_insol_err1  koi_insol_err2  \\\n",
       "67           NaN           NaN      41.85           15.16          -10.74   \n",
       "68           NaN           NaN       8.54            3.09           -2.19   \n",
       "84           NaN           NaN      17.31            6.27           -4.44   \n",
       "\n",
       "    koi_dor  koi_dor_err1  koi_dor_err2                   koi_limbdark_mod  \\\n",
       "67    16.57           2.1          -2.1  Claret (2011 A&A 529 75) ATLAS LS   \n",
       "68    31.20          15.0         -15.0  Claret (2011 A&A 529 75) ATLAS LS   \n",
       "84    25.71           3.3          -3.3  Claret (2011 A&A 529 75) ATLAS LS   \n",
       "\n",
       "    koi_ldm_coeff4  koi_ldm_coeff3  koi_ldm_coeff2  koi_ldm_coeff1  \\\n",
       "67             0.0             0.0          0.3775          0.3402   \n",
       "68             0.0             0.0          0.3775          0.3402   \n",
       "84             0.0             0.0          0.3775          0.3402   \n",
       "\n",
       "      koi_parm_prov  koi_max_sngle_ev  koi_max_mult_ev  koi_model_snr  \\\n",
       "67  q1_q17_dr25_koi          4.962750        33.523926           48.6   \n",
       "68  q1_q17_dr25_koi          4.478808        17.186102           25.4   \n",
       "84  q1_q17_dr25_koi          4.254685        18.237106           26.0   \n",
       "\n",
       "    koi_count  koi_num_transits  koi_tce_plnt_num koi_tce_delivname  \\\n",
       "67          3             336.0               1.0   q1_q17_dr25_tce   \n",
       "68          3              88.0               3.0   q1_q17_dr25_tce   \n",
       "84          3             154.0               2.0   q1_q17_dr25_tce   \n",
       "\n",
       "    koi_quarters  koi_bin_oedp_sig                       koi_trans_mod  \\\n",
       "67  1.000010e+25            0.7319  Mandel and Agol (2002 ApJ 580 171)   \n",
       "68  1.000010e+25            0.0242  Mandel and Agol (2002 ApJ 580 171)   \n",
       "84  1.000010e+25            0.6128  Mandel and Agol (2002 ApJ 580 171)   \n",
       "\n",
       "    koi_model_dof  koi_model_chisq  \\\n",
       "67            NaN              NaN   \n",
       "68            NaN              NaN   \n",
       "84            NaN              NaN   \n",
       "\n",
       "                                     koi_datalink_dvr  \\\n",
       "67  008/008733/008733898/dv/kplr008733898-20160209...   \n",
       "68  008/008733/008733898/dv/kplr008733898-20160209...   \n",
       "84  008/008733/008733898/dv/kplr008733898-20160209...   \n",
       "\n",
       "                                     koi_datalink_dvs  koi_steff  \\\n",
       "67  008/008733/008733898/dv/kplr008733898-001-2016...     3464.0   \n",
       "68  008/008733/008733898/dv/kplr008733898-003-2016...     3464.0   \n",
       "84  008/008733/008733898/dv/kplr008733898-002-2016...     3464.0   \n",
       "\n",
       "    koi_steff_err1  koi_steff_err2  koi_slogg  koi_slogg_err1  koi_slogg_err2  \\\n",
       "67            69.0           -55.0      4.923           0.044          -0.044   \n",
       "68            69.0           -55.0      4.923           0.044          -0.044   \n",
       "84            69.0           -55.0      4.923           0.044          -0.044   \n",
       "\n",
       "    koi_smet  koi_smet_err1  koi_smet_err2  koi_srad  koi_srad_err1  \\\n",
       "67     -0.14           0.15          -0.15     0.328           0.04   \n",
       "68     -0.14           0.15          -0.15     0.328           0.04   \n",
       "84     -0.14           0.15          -0.15     0.328           0.04   \n",
       "\n",
       "    koi_srad_err2  koi_smass  koi_smass_err1  koi_smass_err2  koi_sage  \\\n",
       "67         -0.036      0.328           0.053          -0.043       NaN   \n",
       "68         -0.036      0.328           0.053          -0.043       NaN   \n",
       "84         -0.036      0.328           0.053          -0.043       NaN   \n",
       "\n",
       "    koi_sage_err1  koi_sage_err2         koi_sparprov         ra        dec  \\\n",
       "67            NaN            NaN  q1_q17_dr25_stellar  282.25021  44.921108   \n",
       "68            NaN            NaN  q1_q17_dr25_stellar  282.25021  44.921108   \n",
       "84            NaN            NaN  q1_q17_dr25_stellar  282.25021  44.921108   \n",
       "\n",
       "    koi_kepmag  koi_gmag  koi_rmag  koi_imag  koi_zmag  koi_jmag  koi_hmag  \\\n",
       "67      16.257    17.943    16.794    15.534    14.929    13.591    13.075   \n",
       "68      16.257    17.943    16.794    15.534    14.929    13.591    13.075   \n",
       "84      16.257    17.943    16.794    15.534    14.929    13.591    13.075   \n",
       "\n",
       "    koi_kmag  koi_fwm_stat_sig  koi_fwm_sra  koi_fwm_sra_err  koi_fwm_sdec  \\\n",
       "67    12.827             0.000    18.816667         0.000010      44.92091   \n",
       "68    12.827             0.759    18.816674         0.000019      44.92119   \n",
       "84    12.827             0.005    18.816669         0.000019      44.92145   \n",
       "\n",
       "    koi_fwm_sdec_err  koi_fwm_srao  koi_fwm_srao_err  koi_fwm_sdeco  \\\n",
       "67            0.0001         -0.51              0.38          -0.74   \n",
       "68            0.0002         -0.26              0.74           0.27   \n",
       "84            0.0002         -0.45              0.72           1.21   \n",
       "\n",
       "    koi_fwm_sdeco_err  koi_fwm_prao  koi_fwm_prao_err  koi_fwm_pdeco  \\\n",
       "67               0.37        0.0002            0.0012         0.0021   \n",
       "68               0.73       -0.0004            0.0020        -0.0005   \n",
       "84               0.71        0.0000            0.0013        -0.0019   \n",
       "\n",
       "    koi_fwm_pdeco_err  koi_dicco_mra  koi_dicco_mra_err  koi_dicco_mdec  \\\n",
       "67             0.0014           0.03               0.13            0.12   \n",
       "68             0.0022          -0.07               0.28            0.32   \n",
       "84             0.0013          -0.54               0.30            0.00   \n",
       "\n",
       "    koi_dicco_mdec_err  koi_dicco_msky  koi_dicco_msky_err  koi_dikco_mra  \\\n",
       "67                0.14            0.12                0.14          -0.28   \n",
       "68                0.30            0.32                0.27          -0.31   \n",
       "84                0.26            0.54                0.30          -0.77   \n",
       "\n",
       "    koi_dikco_mra_err  koi_dikco_mdec  koi_dikco_mdec_err  koi_dikco_msky  \\\n",
       "67               0.13            0.04                0.14            0.28   \n",
       "68               0.28            0.26                0.20            0.41   \n",
       "84               0.34           -0.08                0.31            0.78   \n",
       "\n",
       "    koi_dikco_msky_err  \n",
       "67                0.13  \n",
       "68                0.25  \n",
       "84                0.34  "
      ]
     },
     "execution_count": 711,
     "metadata": {},
     "output_type": "execute_result"
    }
   ],
   "source": [
    "spectplanets.loc[spectplanets['kepid'] == 8733898]\n",
    "#spectplanets.loc[spectplanets['kepler_name'] == \"Kepler-446 b\"]"
   ]
  },
  {
   "cell_type": "code",
   "execution_count": 712,
   "metadata": {},
   "outputs": [],
   "source": [
    "kepname = \"Kepler-446 b\""
   ]
  },
  {
   "cell_type": "code",
   "execution_count": 713,
   "metadata": {},
   "outputs": [
    {
     "name": "stdout",
     "output_type": "stream",
     "text": [
      "Stellar mass:  0.32799999999999996 Stellar radius:  0.32799999999999996\n",
      "Period:  1.5654126130000001 Rp/Rs:  0.048437\n",
      "a:  16.57\n",
      "i:  89.99\n"
     ]
    }
   ],
   "source": [
    "smass, smass_uerr, smass_lerr, srad, srad_uerr, srad_lerr, ldmod, ldm_c1, ldm_c2 = ph.stellar_params_from_archive(spectplanets, kepname)\n",
    "period, period_uerr, period_lerr, rprs, rprs_uerr, rprs_lerr, a, a_uerr, a_lerr, i, e, w = ph.planet_params_from_archive(spectplanets, kepname)\n",
    "\n",
    "smass_err = np.mean((smass_uerr, np.abs(smass_lerr)))\n",
    "srad_err = np.mean((srad_uerr, np.abs(srad_lerr)))\n",
    "period_err = np.mean((period_uerr, np.abs(period_lerr)))\n",
    "rprs_err = np.mean((rprs_uerr, np.abs(rprs_lerr)))\n",
    "a_err = np.mean((a_uerr, np.abs(a_lerr)))\n",
    "\n",
    "print('Stellar mass: ', smass, 'Stellar radius: ', srad)\n",
    "print('Period: ', period, 'Rp/Rs: ', rprs)\n",
    "print('a: ', a)\n",
    "print('i: ', i)"
   ]
  },
  {
   "cell_type": "code",
   "execution_count": 714,
   "metadata": {},
   "outputs": [],
   "source": [
    "\"\"\" Create mass and radius arrays \"\"\"\n",
    "\n",
    "masses_dist = [np.random.normal(smass, np.mean((smass_uerr, np.abs(smass_lerr))), size=100)]\n",
    "radii_dist = [np.random.normal(srad, np.mean((srad_uerr, np.abs(srad_lerr))), size=100)]\n",
    "period_dist = [np.random.normal(period, np.mean((period_uerr, np.abs(period_lerr))), size=100)]\n",
    "rprs_dist = [np.random.normal(rprs, np.mean((rprs_uerr, np.abs(rprs_lerr))), size=100)]\n",
    "a_dist = [np.random.normal(a, np.mean((a_uerr, np.abs(a_lerr))), size=100)]"
   ]
  },
  {
   "cell_type": "markdown",
   "metadata": {},
   "source": [
    "###### Find the density of this \"star\" based on available information (mass and radius)\n"
   ]
  },
  {
   "cell_type": "code",
   "execution_count": 715,
   "metadata": {},
   "outputs": [
    {
     "name": "stderr",
     "output_type": "stream",
     "text": [
      "100%|██████████| 1/1 [00:00<00:00, 149.79it/s]"
     ]
    },
    {
     "name": "stdout",
     "output_type": "stream",
     "text": [
      "Mean density:  14595.138789382145\n"
     ]
    },
    {
     "name": "stderr",
     "output_type": "stream",
     "text": [
      "\n"
     ]
    }
   ],
   "source": [
    "rho, ms, rs = ph.find_density_dist_symmetric(1, [smass], [smass_err], [srad], [srad_err])\n",
    "rho[0].flatten();\n",
    "rhos = rho[0]\n",
    "rho_minuserr, rho_pluserr = ph.get_sigmas(rhos)\n",
    "\n",
    "print('Mean density: ', np.mean(rhos))"
   ]
  },
  {
   "cell_type": "markdown",
   "metadata": {},
   "source": [
    "###### Density of this star based on Gaia and spectroscopy:"
   ]
  },
  {
   "cell_type": "code",
   "execution_count": 716,
   "metadata": {},
   "outputs": [
    {
     "name": "stdout",
     "output_type": "stream",
     "text": [
      "Mean density:  38949.79810546425\n"
     ]
    }
   ],
   "source": [
    "rhos_gaia = np.genfromtxt(r'/Users/sheilasagear/Dropbox (UFL)/Research/MetallicityProject/photoeccentric/notebooks/jan29_21_rhos_8733898.csv', delimiter=',')\n",
    "\n",
    "print('Mean density: ', np.mean(rhos_gaia))\n"
   ]
  },
  {
   "cell_type": "markdown",
   "metadata": {},
   "source": [
    "##### Create a transit model with planet params above."
   ]
  },
  {
   "cell_type": "code",
   "execution_count": 717,
   "metadata": {},
   "outputs": [],
   "source": [
    "time = np.linspace(-24, 24, 10000)"
   ]
  },
  {
   "cell_type": "code",
   "execution_count": 718,
   "metadata": {},
   "outputs": [],
   "source": [
    "def planetlc(time, per, rp, a, inc):\n",
    "    params = batman.TransitParams()       #object to store transit parameters\n",
    "    params.t0 = 0.                        #time of inferior conjunction\n",
    "    params.per = per                      #orbital period\n",
    "    params.rp = rp                        #planet radius (in units of stellar radii)\n",
    "    params.a = a                          #semi-major axis (in units of stellar radii)\n",
    "    params.inc = inc                      #orbital inclination (in degrees)\n",
    "    params.ecc = 0.0\n",
    "    params.w = 0.0                        #longitude of periastron (in degrees)\n",
    "    #params.limb_dark = \"linear\"\n",
    "    #params.u = [0.3]\n",
    "    params.limb_dark = \"quadratic\"\n",
    "    params.u = [0.1, 0.3]\n",
    "    #params.limb_dark = \"uniform\"\n",
    "    #params.u = []\n",
    "\n",
    "    #times to calculate light curve\n",
    "    m = batman.TransitModel(params, time)\n",
    "    \n",
    "    flux = m.light_curve(params)\n",
    "    \n",
    "    return flux"
   ]
  },
  {
   "cell_type": "code",
   "execution_count": 719,
   "metadata": {},
   "outputs": [],
   "source": [
    "flux = planetlc(time, period, rprs, a, i)\n",
    "#nflux = flux\n",
    "\n",
    "# Adding gaussian noisehga\n",
    "noise = np.random.normal(0,0.000005,len(time))\n",
    "nflux = flux+noise"
   ]
  },
  {
   "cell_type": "markdown",
   "metadata": {},
   "source": [
    "## Fit transit"
   ]
  },
  {
   "cell_type": "markdown",
   "metadata": {},
   "source": [
    "#### Astropy BLS"
   ]
  },
  {
   "cell_type": "code",
   "execution_count": 720,
   "metadata": {},
   "outputs": [],
   "source": [
    "mod = BoxLeastSquares(time*u.day, nflux, dy=0.01)\n",
    "periodogram = mod.autopower(0.2, objective=\"snr\")"
   ]
  },
  {
   "cell_type": "code",
   "execution_count": 721,
   "metadata": {},
   "outputs": [],
   "source": [
    "periodogram.period = np.asarray(periodogram.period)\n",
    "per_guess = periodogram.period[int(np.median(np.argmax(periodogram.power)))]"
   ]
  },
  {
   "cell_type": "markdown",
   "metadata": {},
   "source": [
    "#### Least-squares using BLS period guess"
   ]
  },
  {
   "cell_type": "code",
   "execution_count": null,
   "metadata": {},
   "outputs": [],
   "source": []
  },
  {
   "cell_type": "code",
   "execution_count": 722,
   "metadata": {},
   "outputs": [],
   "source": [
    "# Normally I would use the BLS depth, ingress+egress, etc. to guess the other planet params \n",
    "# but I'm not going to do that right now because I'm just testing my get_g function\n",
    "\n",
    "p0 = [per_guess, rprs, a, i]\n",
    "popt, pcov = curve_fit(ph.planetlc_fitter, xdata=time, ydata=nflux, p0=p0)\n",
    "fit = planetlc(time, *popt)"
   ]
  },
  {
   "cell_type": "code",
   "execution_count": 723,
   "metadata": {},
   "outputs": [],
   "source": [
    "ttime = time[2470:2530]\n",
    "tfit = fit[2470:2530]"
   ]
  },
  {
   "cell_type": "code",
   "execution_count": 724,
   "metadata": {},
   "outputs": [],
   "source": [
    "p = popt[0]*86400 #4.99 days\n",
    "perr = 0.001*86400\n",
    "\n",
    "rprs = popt[1] #0.0704 stellar radii\n",
    "rprserr = 0.001\n",
    "\n",
    "a = popt[2] #stellar radii\n",
    "\n",
    "i = popt[3] #degrees \n",
    "\n",
    "\n",
    "T14n = ph.get_T14(p, rprs, a, i)\n",
    "T14err = 0.0001*86400\n",
    "\n",
    "T23n = ph.get_T23(p, rprs, a, i)\n",
    "T23err = 0.0001*86400"
   ]
  },
  {
   "cell_type": "code",
   "execution_count": 725,
   "metadata": {},
   "outputs": [
    {
     "data": {
      "text/plain": [
       "1.5654126301295592"
      ]
     },
     "execution_count": 725,
     "metadata": {},
     "output_type": "execute_result"
    }
   ],
   "source": [
    "p/86400."
   ]
  },
  {
   "cell_type": "code",
   "execution_count": 726,
   "metadata": {},
   "outputs": [
    {
     "data": {
      "text/plain": [
       "0.048446474746684856"
      ]
     },
     "execution_count": 726,
     "metadata": {},
     "output_type": "execute_result"
    }
   ],
   "source": [
    "rprs"
   ]
  },
  {
   "cell_type": "code",
   "execution_count": 727,
   "metadata": {},
   "outputs": [
    {
     "data": {
      "text/plain": [
       "89.7815467860891"
      ]
     },
     "execution_count": 727,
     "metadata": {},
     "output_type": "execute_result"
    }
   ],
   "source": [
    "i"
   ]
  },
  {
   "cell_type": "code",
   "execution_count": 728,
   "metadata": {},
   "outputs": [
    {
     "data": {
      "text/plain": [
       "16.538197471109786"
      ]
     },
     "execution_count": 728,
     "metadata": {},
     "output_type": "execute_result"
    }
   ],
   "source": [
    "a"
   ]
  },
  {
   "cell_type": "code",
   "execution_count": 729,
   "metadata": {},
   "outputs": [
    {
     "data": {
      "text/plain": [
       "(-0.1, 0.1)"
      ]
     },
     "execution_count": 729,
     "metadata": {},
     "output_type": "execute_result"
    },
    {
     "data": {
      "image/png": "[encoded data removed]",
      "text/plain": [
       "<Figure size 432x288 with 1 Axes>"
      ]
     },
     "metadata": {
      "needs_background": "light"
     },
     "output_type": "display_data"
    }
   ],
   "source": [
    "plt.plot(time, nflux, alpha=0.3)\n",
    "plt.plot(time, fit, c='orange')\n",
    "plt.xlim(-0.1, 0.1)"
   ]
  },
  {
   "cell_type": "markdown",
   "metadata": {},
   "source": [
    "# Kepler Catalog Rhos"
   ]
  },
  {
   "cell_type": "code",
   "execution_count": 730,
   "metadata": {},
   "outputs": [
    {
     "name": "stderr",
     "output_type": "stream",
     "text": [
      "100%|██████████| 1000/1000 [00:00<00:00, 36657.09it/s]\n"
     ]
    }
   ],
   "source": [
    "gs_t, rhoc, rhoe, T14s, T23s = ph.get_g_distribution(rhos, p, perr, rprs, rprserr, a, i, T14n, T14err, T23n, T23err)\n",
    "gs = gs_t\n",
    "\n",
    "g_mean = np.mean(gs)\n",
    "g_sigma = np.mean(np.abs(ph.get_sigmas(gs)))"
   ]
  },
  {
   "cell_type": "code",
   "execution_count": 731,
   "metadata": {},
   "outputs": [
    {
     "data": {
      "text/plain": [
       "1.3838527825921183"
      ]
     },
     "execution_count": 731,
     "metadata": {},
     "output_type": "execute_result"
    }
   ],
   "source": [
    "g_mean"
   ]
  },
  {
   "cell_type": "code",
   "execution_count": 732,
   "metadata": {},
   "outputs": [
    {
     "data": {
      "text/plain": [
       "0.1746183136027173"
      ]
     },
     "execution_count": 732,
     "metadata": {},
     "output_type": "execute_result"
    }
   ],
   "source": [
    "g_sigma"
   ]
  },
  {
   "cell_type": "code",
   "execution_count": 733,
   "metadata": {},
   "outputs": [
    {
     "data": {
      "text/plain": [
       "14595.138789382145"
      ]
     },
     "execution_count": 733,
     "metadata": {},
     "output_type": "execute_result"
    }
   ],
   "source": [
    "np.mean(rhoe)"
   ]
  },
  {
   "cell_type": "code",
   "execution_count": 734,
   "metadata": {},
   "outputs": [
    {
     "data": {
      "text/plain": [
       "34906.674878909274"
      ]
     },
     "execution_count": 734,
     "metadata": {},
     "output_type": "execute_result"
    }
   ],
   "source": [
    "np.mean(rhoc)"
   ]
  },
  {
   "cell_type": "markdown",
   "metadata": {},
   "source": [
    "# Gaia Rhos"
   ]
  },
  {
   "cell_type": "code",
   "execution_count": 735,
   "metadata": {},
   "outputs": [
    {
     "name": "stderr",
     "output_type": "stream",
     "text": [
      "100%|██████████| 1000/1000 [00:00<00:00, 21408.69it/s]\n"
     ]
    }
   ],
   "source": [
    "gs_t, rhoc, rhoe, T14s, T23s = ph.get_g_distribution(rhos_gaia, p, perr, rprs, rprserr, a, i, T14n, T14err, T23n, T23err)\n",
    "gs = gs_t\n",
    "\n",
    "g_mean = np.mean(gs)\n",
    "g_sigma = np.mean(np.abs(ph.get_sigmas(gs)))"
   ]
  },
  {
   "cell_type": "code",
   "execution_count": 736,
   "metadata": {},
   "outputs": [
    {
     "data": {
      "text/plain": [
       "0.9740846189194294"
      ]
     },
     "execution_count": 736,
     "metadata": {},
     "output_type": "execute_result"
    }
   ],
   "source": [
    "g_mean"
   ]
  },
  {
   "cell_type": "code",
   "execution_count": 737,
   "metadata": {},
   "outputs": [
    {
     "data": {
      "text/plain": [
       "0.07129626690468016"
      ]
     },
     "execution_count": 737,
     "metadata": {},
     "output_type": "execute_result"
    }
   ],
   "source": [
    "g_sigma"
   ]
  },
  {
   "cell_type": "code",
   "execution_count": 738,
   "metadata": {},
   "outputs": [
    {
     "data": {
      "text/plain": [
       "38949.79810546425"
      ]
     },
     "execution_count": 738,
     "metadata": {},
     "output_type": "execute_result"
    }
   ],
   "source": [
    "np.mean(rhoe)"
   ]
  },
  {
   "cell_type": "code",
   "execution_count": 739,
   "metadata": {},
   "outputs": [
    {
     "data": {
      "text/plain": [
       "35013.37613761981"
      ]
     },
     "execution_count": 739,
     "metadata": {},
     "output_type": "execute_result"
    }
   ],
   "source": [
    "np.mean(rhoc)"
   ]
  },
  {
   "cell_type": "code",
   "execution_count": 740,
   "metadata": {},
   "outputs": [],
   "source": [
    "#Guesses\n",
    "w_guess = 0.0\n",
    "e_guess = 0.0\n",
    "\n",
    "solnx = (w_guess, e_guess)"
   ]
  },
  {
   "cell_type": "code",
   "execution_count": 666,
   "metadata": {},
   "outputs": [],
   "source": [
    "pos = solnx + 1e-4 * np.random.randn(32, 2)\n",
    "nwalkers, ndim = pos.shape"
   ]
  },
  {
   "cell_type": "code",
   "execution_count": 667,
   "metadata": {
    "scrolled": true
   },
   "outputs": [
    {
     "name": "stderr",
     "output_type": "stream",
     "text": [
      "  0%|          | 0/5000 [00:00<?, ?it/s]/Users/sheilasagear/opt/anaconda3/lib/python3.7/site-packages/emcee/moves/red_blue.py:99: RuntimeWarning: invalid value encountered in double_scalars\n",
      "  lnpdiff = f + nlp - state.log_prob[j]\n",
      "100%|██████████| 5000/5000 [00:07<00:00, 635.42it/s]\n"
     ]
    }
   ],
   "source": [
    "sampler = emcee.EnsembleSampler(nwalkers, ndim, ph.log_probability, args=(g_mean, g_sigma), threads=4)\n",
    "sampler.run_mcmc(pos, 5000, progress=True);"
   ]
  },
  {
   "cell_type": "code",
   "execution_count": 668,
   "metadata": {},
   "outputs": [
    {
     "data": {
      "image/png": "[encoded data removed]",
      "text/plain": [
       "<Figure size 720x504 with 2 Axes>"
      ]
     },
     "metadata": {
      "needs_background": "light"
     },
     "output_type": "display_data"
    }
   ],
   "source": [
    "fig, axes = plt.subplots(2, figsize=(10, 7), sharex=True)\n",
    "samples = sampler.get_chain()\n",
    "labels = [\"w\", \"e\"]\n",
    "for i in range(ndim):\n",
    "    ax = axes[i]\n",
    "    ax.plot(samples[:, :, i], \"k\", alpha=0.3)\n",
    "    ax.set_xlim(0, len(samples))\n",
    "    ax.set_ylabel(labels[i])\n",
    "    ax.yaxis.set_label_coords(-0.1, 0.5)\n",
    "    ax.set_xlim(0, 500)\n",
    "\n",
    "axes[-1].set_xlabel(\"step number\");"
   ]
  },
  {
   "cell_type": "code",
   "execution_count": 669,
   "metadata": {},
   "outputs": [],
   "source": [
    "import corner"
   ]
  },
  {
   "cell_type": "code",
   "execution_count": 670,
   "metadata": {},
   "outputs": [
    {
     "data": {
      "image/png": "[encoded data removed]",
      "text/plain": [
       "<Figure size 396x396 with 4 Axes>"
      ]
     },
     "metadata": {
      "needs_background": "light"
     },
     "output_type": "display_data"
    }
   ],
   "source": [
    "flat_samples = sampler.get_chain(discard=100, thin=15, flat=True)\n",
    "fig = corner.corner(flat_samples, labels=labels)"
   ]
  },
  {
   "cell_type": "code",
   "execution_count": null,
   "metadata": {},
   "outputs": [],
   "source": []
  },
  {
   "cell_type": "markdown",
   "metadata": {},
   "source": [
    "# Test in sequence"
   ]
  },
  {
   "cell_type": "code",
   "execution_count": null,
   "metadata": {},
   "outputs": [],
   "source": []
  },
  {
   "cell_type": "code",
   "execution_count": null,
   "metadata": {},
   "outputs": [],
   "source": []
  },
  {
   "cell_type": "code",
   "execution_count": 808,
   "metadata": {},
   "outputs": [
    {
     "name": "stdout",
     "output_type": "stream",
     "text": [
      "Stellar mass:  0.32799999999999996 Stellar radius:  0.32799999999999996\n",
      "Period:  1.5654126130000001 Rp/Rs:  0.048437\n",
      "a:  16.57\n",
      "i:  89.99\n"
     ]
    }
   ],
   "source": [
    "kepname = \"Kepler-446 b\"\n",
    "\n",
    "smass, smass_uerr, smass_lerr, srad, srad_uerr, srad_lerr, ldmod, ldm_c1, ldm_c2 = ph.stellar_params_from_archive(spectplanets, kepname)\n",
    "period, period_uerr, period_lerr, rprs, rprs_uerr, rprs_lerr, a, a_uerr, a_lerr, i, e, w = ph.planet_params_from_archive(spectplanets, kepname)\n",
    "\n",
    "smass_err = np.mean((smass_uerr, np.abs(smass_lerr)))\n",
    "srad_err = np.mean((srad_uerr, np.abs(srad_lerr)))\n",
    "period_err = np.mean((period_uerr, np.abs(period_lerr)))\n",
    "rprs_err = np.mean((rprs_uerr, np.abs(rprs_lerr)))\n",
    "a_err = np.mean((a_uerr, np.abs(a_lerr)))\n",
    "\n",
    "\n",
    "print('Stellar mass: ', smass, 'Stellar radius: ', srad)\n",
    "print('Period: ', period, 'Rp/Rs: ', rprs)\n",
    "print('a: ', a)\n",
    "print('i: ', i)"
   ]
  },
  {
   "cell_type": "code",
   "execution_count": 809,
   "metadata": {},
   "outputs": [
    {
     "name": "stdout",
     "output_type": "stream",
     "text": [
      "89.99\n"
     ]
    }
   ],
   "source": [
    "print(i)"
   ]
  },
  {
   "cell_type": "code",
   "execution_count": 810,
   "metadata": {},
   "outputs": [
    {
     "name": "stderr",
     "output_type": "stream",
     "text": [
      "100%|██████████| 1/1 [00:00<00:00, 244.85it/s]"
     ]
    },
    {
     "name": "stdout",
     "output_type": "stream",
     "text": [
      "Mean density:  14406.30692873776\n"
     ]
    },
    {
     "name": "stderr",
     "output_type": "stream",
     "text": [
      "\n"
     ]
    }
   ],
   "source": [
    "rho, ms, rs = ph.find_density_dist_symmetric(1, [smass], [smass_err], [srad], [srad_err])\n",
    "rho[0].flatten();\n",
    "rhos = rho[0]\n",
    "rho_minuserr, rho_pluserr = ph.get_sigmas(rhos)\n",
    "\n",
    "print('Mean density: ', np.mean(rhos))"
   ]
  },
  {
   "cell_type": "code",
   "execution_count": 811,
   "metadata": {},
   "outputs": [
    {
     "name": "stdout",
     "output_type": "stream",
     "text": [
      "89.99\n"
     ]
    }
   ],
   "source": [
    "print(i)"
   ]
  },
  {
   "cell_type": "code",
   "execution_count": 815,
   "metadata": {},
   "outputs": [],
   "source": [
    "def get_g_fake_transit(rhos, period, period_err, rprs, rprs_err, a, a_err, i):\n",
    "    \n",
    "    flux = planetlc(time, period, rprs, a, i)\n",
    "\n",
    "    # Adding gaussian noise\n",
    "    noise = np.random.normal(0,0.00005,len(time))\n",
    "    nflux = flux+noise\n",
    "    \n",
    "    mod = BoxLeastSquares(time*u.day, nflux, dy=0.01)\n",
    "    periodogram = mod.autopower(0.2, objective=\"snr\")\n",
    "\n",
    "    periodogram.period = np.asarray(periodogram.period)\n",
    "    per_guess = periodogram.period[int(np.median(np.argmax(periodogram.power)))]\n",
    "\n",
    "    p0 = [per_guess, rprs, a, i]\n",
    "    popt, pcov = curve_fit(ph.planetlc_fitter, xdata=time, ydata=nflux, p0=p0)\n",
    "    fit = planetlc(time, *popt)\n",
    "\n",
    "    p = popt[0]*86400 #4.99 days\n",
    "    perr = 0.001*86400\n",
    "\n",
    "    rprs = popt[1] #0.0704 stellar radii\n",
    "    rprserr = 0.001\n",
    "\n",
    "    a = popt[2] #stellar radii\n",
    "\n",
    "    i = popt[3] #degrees \n",
    "\n",
    "    T14n = ph.get_T14(p, rprs, a, i)\n",
    "    T14err = 0.0001*86400\n",
    "\n",
    "    T23n = ph.get_T23(p, rprs, a, i)\n",
    "    T23err = 0.0001*86400\n",
    "\n",
    "    gs_t, rhoc, rhoe, T14s, T23s = ph.get_g_distribution(rhos, p, perr, rprs, rprserr, a, i, T14n, T14err, T23n, T23err)\n",
    "    gs = gs_t\n",
    "\n",
    "    g_mean = np.mean(gs)\n",
    "    g_sigma = np.mean(np.abs(ph.get_sigmas(gs)))\n",
    "    \n",
    "    return g_mean, g_sigma"
   ]
  },
  {
   "cell_type": "code",
   "execution_count": 816,
   "metadata": {},
   "outputs": [
    {
     "name": "stderr",
     "output_type": "stream",
     "text": [
      "100%|██████████| 1000/1000 [00:00<00:00, 113854.99it/s]\n",
      "100%|██████████| 1000/1000 [00:00<00:00, 111210.50it/s]\n",
      "100%|██████████| 1000/1000 [00:00<00:00, 115098.49it/s]\n",
      "100%|██████████| 1000/1000 [00:00<00:00, 112066.26it/s]\n",
      "100%|██████████| 1000/1000 [00:00<00:00, 114180.43it/s]\n",
      "100%|██████████| 1000/1000 [00:00<00:00, 110338.67it/s]\n",
      "100%|██████████| 1000/1000 [00:00<00:00, 72776.08it/s]\n",
      "100%|██████████| 1000/1000 [00:00<00:00, 112348.43it/s]\n",
      "100%|██████████| 1000/1000 [00:00<00:00, 64766.89it/s]\n",
      "100%|██████████| 1000/1000 [00:00<00:00, 83188.96it/s]\n",
      "100%|██████████| 1000/1000 [00:00<00:00, 70861.70it/s]\n",
      "100%|██████████| 1000/1000 [00:00<00:00, 113620.59it/s]\n",
      "100%|██████████| 1000/1000 [00:00<00:00, 83648.52it/s]\n",
      "100%|██████████| 1000/1000 [00:00<00:00, 108120.12it/s]\n",
      "100%|██████████| 1000/1000 [00:00<00:00, 116362.99it/s]\n",
      "100%|██████████| 1000/1000 [00:00<00:00, 92532.30it/s]\n",
      "100%|██████████| 1000/1000 [00:00<00:00, 70113.07it/s]\n",
      "100%|██████████| 1000/1000 [00:00<00:00, 111172.18it/s]\n",
      "100%|██████████| 1000/1000 [00:00<00:00, 109634.94it/s]\n",
      "100%|██████████| 1000/1000 [00:00<00:00, 115237.63it/s]\n",
      "100%|██████████| 1000/1000 [00:00<00:00, 67458.57it/s]\n",
      "100%|██████████| 1000/1000 [00:00<00:00, 73195.19it/s]\n",
      "100%|██████████| 1000/1000 [00:00<00:00, 115497.84it/s]\n",
      "100%|██████████| 1000/1000 [00:00<00:00, 71433.75it/s]\n",
      "100%|██████████| 1000/1000 [00:00<00:00, 83576.85it/s]\n",
      "100%|██████████| 1000/1000 [00:00<00:00, 59347.20it/s]\n",
      "100%|██████████| 1000/1000 [00:00<00:00, 70511.47it/s]\n",
      "100%|██████████| 1000/1000 [00:00<00:00, 60328.00it/s]\n",
      "100%|██████████| 1000/1000 [00:00<00:00, 76429.61it/s]\n",
      "100%|██████████| 1000/1000 [00:00<00:00, 116904.62it/s]\n",
      "100%|██████████| 1000/1000 [00:00<00:00, 65287.09it/s]\n",
      "100%|██████████| 1000/1000 [00:00<00:00, 109850.30it/s]\n",
      "100%|██████████| 1000/1000 [00:00<00:00, 79226.01it/s]\n",
      "100%|██████████| 1000/1000 [00:00<00:00, 115155.37it/s]\n",
      "100%|██████████| 1000/1000 [00:00<00:00, 115010.12it/s]\n",
      "100%|██████████| 1000/1000 [00:00<00:00, 111791.47it/s]\n",
      "100%|██████████| 1000/1000 [00:00<00:00, 111797.43it/s]\n",
      "100%|██████████| 1000/1000 [00:00<00:00, 114323.59it/s]\n",
      "100%|██████████| 1000/1000 [00:00<00:00, 111319.71it/s]\n",
      "100%|██████████| 1000/1000 [00:00<00:00, 113947.78it/s]\n",
      "100%|██████████| 1000/1000 [00:00<00:00, 114786.64it/s]\n",
      "100%|██████████| 1000/1000 [00:00<00:00, 63383.92it/s]\n",
      "100%|██████████| 1000/1000 [00:00<00:00, 117051.43it/s]\n",
      "100%|██████████| 1000/1000 [00:00<00:00, 111592.19it/s]\n",
      "100%|██████████| 1000/1000 [00:00<00:00, 114994.35it/s]\n",
      "100%|██████████| 1000/1000 [00:00<00:00, 112207.17it/s]\n",
      "100%|██████████| 1000/1000 [00:00<00:00, 104988.84it/s]\n",
      "100%|██████████| 1000/1000 [00:00<00:00, 90130.31it/s]\n",
      "100%|██████████| 1000/1000 [00:00<00:00, 52937.66it/s]\n",
      "100%|██████████| 1000/1000 [00:00<00:00, 93109.51it/s]\n",
      "100%|██████████| 1000/1000 [00:00<00:00, 111272.46it/s]\n",
      "100%|██████████| 1000/1000 [00:00<00:00, 112246.21it/s]\n",
      "100%|██████████| 1000/1000 [00:00<00:00, 113420.88it/s]\n",
      "100%|██████████| 1000/1000 [00:00<00:00, 112171.16it/s]\n",
      "100%|██████████| 1000/1000 [00:00<00:00, 53894.04it/s]\n",
      "100%|██████████| 1000/1000 [00:00<00:00, 56081.83it/s]\n",
      "100%|██████████| 1000/1000 [00:00<00:00, 50674.21it/s]\n",
      "100%|██████████| 1000/1000 [00:00<00:00, 52851.61it/s]\n",
      "100%|██████████| 1000/1000 [00:00<00:00, 60671.83it/s]\n",
      "100%|██████████| 1000/1000 [00:00<00:00, 31557.95it/s]\n",
      "100%|██████████| 1000/1000 [00:00<00:00, 121433.24it/s]\n",
      "100%|██████████| 1000/1000 [00:00<00:00, 63443.36it/s]\n",
      "100%|██████████| 1000/1000 [00:00<00:00, 67558.53it/s]\n",
      "100%|██████████| 1000/1000 [00:00<00:00, 95199.60it/s]\n",
      "100%|██████████| 1000/1000 [00:00<00:00, 105141.48it/s]\n",
      "100%|██████████| 1000/1000 [00:00<00:00, 73034.60it/s]\n",
      "100%|██████████| 1000/1000 [00:00<00:00, 116999.19it/s]\n",
      "100%|██████████| 1000/1000 [00:00<00:00, 100109.89it/s]\n",
      "100%|██████████| 1000/1000 [00:00<00:00, 54227.11it/s]\n",
      "100%|██████████| 1000/1000 [00:00<00:00, 113237.15it/s]\n",
      "100%|██████████| 1000/1000 [00:00<00:00, 48864.16it/s]\n",
      "100%|██████████| 1000/1000 [00:00<00:00, 58724.01it/s]\n",
      "100%|██████████| 1000/1000 [00:00<00:00, 115698.55it/s]\n",
      "100%|██████████| 1000/1000 [00:00<00:00, 113249.38it/s]\n",
      "100%|██████████| 1000/1000 [00:00<00:00, 61660.09it/s]\n",
      "100%|██████████| 1000/1000 [00:00<00:00, 34798.26it/s]\n",
      "100%|██████████| 1000/1000 [00:00<00:00, 54966.90it/s]\n",
      "100%|██████████| 1000/1000 [00:00<00:00, 39310.05it/s]\n",
      "100%|██████████| 1000/1000 [00:00<00:00, 94837.97it/s]\n",
      "100%|██████████| 1000/1000 [00:00<00:00, 83590.17it/s]\n",
      "100%|██████████| 1000/1000 [00:00<00:00, 46574.40it/s]\n",
      "100%|██████████| 1000/1000 [00:00<00:00, 59168.04it/s]\n",
      "100%|██████████| 1000/1000 [00:00<00:00, 42753.65it/s]\n",
      "100%|██████████| 1000/1000 [00:00<00:00, 70866.49it/s]\n",
      "100%|██████████| 1000/1000 [00:00<00:00, 101421.93it/s]\n",
      "100%|██████████| 1000/1000 [00:00<00:00, 92979.47it/s]\n",
      "100%|██████████| 1000/1000 [00:00<00:00, 117175.69it/s]\n",
      "100%|██████████| 1000/1000 [00:00<00:00, 117546.77it/s]\n",
      "100%|██████████| 1000/1000 [00:00<00:00, 116605.62it/s]\n",
      "100%|██████████| 1000/1000 [00:00<00:00, 106904.83it/s]\n",
      "100%|██████████| 1000/1000 [00:00<00:00, 98471.71it/s]\n",
      "100%|██████████| 1000/1000 [00:00<00:00, 114676.80it/s]\n",
      "100%|██████████| 1000/1000 [00:00<00:00, 121240.18it/s]\n",
      "100%|██████████| 1000/1000 [00:00<00:00, 119604.88it/s]\n",
      "100%|██████████| 1000/1000 [00:00<00:00, 70452.25it/s]\n",
      "100%|██████████| 1000/1000 [00:00<00:00, 116732.18it/s]\n",
      "100%|██████████| 1000/1000 [00:00<00:00, 114589.08it/s]\n",
      "100%|██████████| 1000/1000 [00:00<00:00, 116414.67it/s]\n",
      "100%|██████████| 1000/1000 [00:00<00:00, 105352.76it/s]\n",
      "100%|██████████| 1000/1000 [00:00<00:00, 81598.07it/s]\n"
     ]
    }
   ],
   "source": [
    "iters = 100\n",
    "gs = []\n",
    "g_sigmas = []\n",
    "\n",
    "for j in range(iters):\n",
    "    g, gsig = get_g_fake_transit(rhos, period, period_err, rprs, rprs_err, a, a_err, i)\n",
    "    gs.append(g)\n",
    "    g_sigmas.append(gsig)\n",
    "    "
   ]
  },
  {
   "cell_type": "code",
   "execution_count": 817,
   "metadata": {},
   "outputs": [
    {
     "data": {
      "text/plain": [
       "[1.3928563369546603,\n",
       " 1.3916744602788174,\n",
       " 1.3903950474436761,\n",
       " 1.393084567363877,\n",
       " 1.3914005738738489,\n",
       " 1.3932206741150195,\n",
       " 1.391050380633587,\n",
       " 1.3925318982902513,\n",
       " 1.3993370553783098,\n",
       " 1.3918462060483119,\n",
       " 1.3905653772218234,\n",
       " 1.392240393634019,\n",
       " 1.3907662292950025,\n",
       " 1.391397215594729,\n",
       " 1.3975493768973233,\n",
       " 1.3920542202664279,\n",
       " 1.3917479681777227,\n",
       " 1.3934655782982694,\n",
       " 1.3938829132473625,\n",
       " 1.3916838047713154,\n",
       " 1.3952008362017863,\n",
       " 1.4047379921709986,\n",
       " 1.3957622678928174,\n",
       " 1.3897356030880015,\n",
       " 1.3917878565489423,\n",
       " 1.3903817424568883,\n",
       " 1.3931365354127976,\n",
       " 1.3993241987158576,\n",
       " 1.3883730713969142,\n",
       " 1.3977130632122812,\n",
       " 1.398304543758464,\n",
       " 1.389186591386457,\n",
       " 1.3898582793047858,\n",
       " 1.3898348023189637,\n",
       " 1.3920347940500926,\n",
       " 1.3913918970277401,\n",
       " 1.3918087858011174,\n",
       " 1.3918596142559716,\n",
       " 1.3898523228804798,\n",
       " 1.3935650698909434,\n",
       " 1.3912223069742509,\n",
       " 1.3968235267100613,\n",
       " 1.3992853366622384,\n",
       " 1.3984352355436196,\n",
       " 1.3923358310309557,\n",
       " 1.3912691079655948,\n",
       " 1.3912091641210134,\n",
       " 1.3978817945519075,\n",
       " 1.3908169922173175,\n",
       " 1.3903464694430994,\n",
       " 1.39269688796978,\n",
       " 1.4041709716543855,\n",
       " 1.3908316924912827,\n",
       " 1.3925396990733026,\n",
       " 1.393727929953131,\n",
       " 1.3933650902553762,\n",
       " 1.3916496411356998,\n",
       " 1.393642797214863,\n",
       " 1.4000678814479461,\n",
       " 1.396711419551221,\n",
       " 1.3991101009270082,\n",
       " 1.3913825462928844,\n",
       " 1.3910117304859464,\n",
       " 1.3920021758568069,\n",
       " 1.389197205277939,\n",
       " 1.3937617725813827,\n",
       " 1.3972632671023806,\n",
       " 1.3911509749729658,\n",
       " 1.3916427574376766,\n",
       " 1.3916640618795961,\n",
       " 1.392157704830062,\n",
       " 1.3876553136622225,\n",
       " 1.3923196879080644,\n",
       " 1.3909441089777692,\n",
       " 1.3922334029652137,\n",
       " 1.3923467861605754,\n",
       " 1.3906874972476666,\n",
       " 1.3922772311325324,\n",
       " 1.3929000652123837,\n",
       " 1.391093159302053,\n",
       " 1.3911635584042013,\n",
       " 1.4011511120884557,\n",
       " 1.3906069810641835,\n",
       " 1.3919711213687946,\n",
       " 1.3926084993429326,\n",
       " 1.392075234839665,\n",
       " 1.3926629723538257,\n",
       " 1.3907095950575747,\n",
       " 1.3986933700562638,\n",
       " 1.3913195930651336,\n",
       " 1.3904406296484255,\n",
       " 1.3931692435861618,\n",
       " 1.3927318787657257,\n",
       " 1.3909479228266428,\n",
       " 1.3915456294410733,\n",
       " 1.3900095806251975,\n",
       " 1.392354686156001,\n",
       " 1.3915839951696243,\n",
       " 1.3929051243255486,\n",
       " 1.3924271468445568]"
      ]
     },
     "execution_count": 817,
     "metadata": {},
     "output_type": "execute_result"
    }
   ],
   "source": [
    "gs"
   ]
  },
  {
   "cell_type": "code",
   "execution_count": null,
   "metadata": {},
   "outputs": [],
   "source": []
  }
 ],
 "metadata": {
  "kernelspec": {
   "display_name": "Python 3",
   "language": "python",
   "name": "python3"
  },
  "language_info": {
   "codemirror_mode": {
    "name": "ipython",
    "version": 3
   },
   "file_extension": ".py",
   "mimetype": "text/x-python",
   "name": "python",
   "nbconvert_exporter": "python",
   "pygments_lexer": "ipython3",
   "version": "3.7.6"
  }
 },
 "nbformat": 4,
 "nbformat_minor": 4
}
