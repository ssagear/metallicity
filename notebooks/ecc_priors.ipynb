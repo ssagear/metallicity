{
 "cells": [
  {
   "cell_type": "code",
   "execution_count": 96,
   "metadata": {},
   "outputs": [],
   "source": [
    "import scipy.special as sc\n",
    "import matplotlib.pyplot as plt"
   ]
  },
  {
   "cell_type": "markdown",
   "metadata": {},
   "source": [
    "## ECCSAMPLES"
   ]
  },
  {
   "cell_type": "code",
   "execution_count": 93,
   "metadata": {},
   "outputs": [],
   "source": [
    "# import mpmath as mp\n",
    "# import numpy as np\n",
    "# import math\n",
    "# import scipy.special\n",
    "\n",
    "# # === AUTHOR ===\n",
    "# # David M. Kipping, Columbia University\n",
    "# # d.kipping@columbia.edu\n",
    "\n",
    "# # === DESCRIPTION ===\n",
    "# # ECCSAMPLES transforms a sample drawn from a bivariate uniform distribution\n",
    "# # into a sample drawn from P(e,w|transit), where P(e,w|transit) is the a-priori\n",
    "# # joint probability distribution a planet's orbital eccentricity, e, and\n",
    "# # argument of periastron, w, given that the planet is known to transit its\n",
    "# # host star. A fundamental assumption of this code is that the intinsic\n",
    "# # prior distribution of eccentricity, P(e), is described by a Beta distribution\n",
    "# # with shape parameters a & b. One may also draw directly from the intrinsic\n",
    "# # priors instead, by setting the logical \"transit\" to 0.\n",
    "\n",
    "# # === INPUTS ===\n",
    "# # transit = Logical, where 1 => planet is known to transit its host star;\n",
    "# #           0 => it is unknown whether the planets transits.\n",
    "# # a = First shape parameter of the Beta distribution describing P(e).\n",
    "# #     Must be real and satisfy a>0.\n",
    "# # b = Second shape parameter of the Beta distribution describing P(e).\n",
    "# #     Must be real and satisfy b>1.\n",
    "# # xe = Proxy parameter for eccentricity, e. Must be real and satisfy 0<xe<1.\n",
    "# #      xe is assumed to be uniformly distributed.\n",
    "# # xw = Proxy parameter for argument of periastron, w. Must be real and satisfy\n",
    "# #      0<xw<1. xw is assumed to be uniformly distributed.\n",
    "# # verbose = Logical determining whether to provide verbose output (1=yes, 0=no)\n",
    "\n",
    "# # === OUTPUTS ===\n",
    "# # Returns [efinal,wfinal] list, where...\n",
    "# # efinal = Transformed value of xe, an eccentricity variate drawn from the\n",
    "# #          target distribution. Real and falls in the range 0<efinal<1.\n",
    "# # wfinal = Transformed value of xw, an argument of periastron variate drawn\n",
    "# #          from the target distribution. Real and falls in the range\n",
    "# #          0<wfinal<2pi.\n",
    "# #\n",
    "# # === REFERENCE ===\n",
    "# # Use of this code should cite:\n",
    "# # Kipping, D. M., 2014, MNRAS, 444, 2263-2269\n",
    "# # Kipping, D. M., 2013, MNRAS, 434, L51-55\n",
    "# #\n",
    "# # === DEPENDENCIES ===\n",
    "# # There several dependecies needed to correctly compile ECCSAMPLES:\n",
    "# # * numpy\n",
    "# #   [at http://www.numpy.org]\n",
    "# # * scipy.special\n",
    "# #   [at http://scipy.org]\n",
    "# # * mpmath\n",
    "# #   [http://mpmath.org]\n",
    "# #\n",
    "# # === COMPUTATION TIME ===\n",
    "# # Computation time is ~50ms per sample using an Intel Core i7-3720QM\n",
    "# # processor with hyperthreading activated. Note that the Fortran version\n",
    "# # is ~100 faster.\n",
    "\n",
    "# # ==============================================================================\n",
    "# def ecc_sample(transit,verbose,alpha,beta,xe,xw):\n",
    "#   # Useful constains\n",
    "#   etol = 1.0e-3 \t\t          # Tolerance in precision of e\n",
    "#   wtol = 6.283185307179586e-3 # Tolerance in precision of w\n",
    "#   twopi = 2.0*(np.pi)\n",
    "#   # Initialize with assumption of no errors\n",
    "#   process = 1\n",
    "#   # Check uniform variates are valid\n",
    "#   if xe>1 or xe<0 or xw>1 or xw<0:\n",
    "#     if verbose == 1:\n",
    "#       print('ERROR: xe and xw must be in the interval [0,1]')\n",
    "#     process = 0\n",
    "#   # Check shape parameters are valid\n",
    "#   if alpha<=0 or beta<=1:\n",
    "#     if verbose == 1:\n",
    "#       print('ERROR: ECCSAMPLES requires a>0 and b>1')\n",
    "#     process = 0\n",
    "#   # Now proceed, provided process == 1\n",
    "#   if process == 1:\n",
    "#     # State uniform random variates, if verbose\n",
    "#     if verbose == 1:\n",
    "#       print('xe = ',xe)\n",
    "#       print('xw = ',xw)\n",
    "#     # Check whether object is known to be transiting\n",
    "#     if transit == 1: # Draw samples from P(e,w|transit)\n",
    "#       if verbose == 1:\n",
    "#         print('Planet is assumed to be transiting')\n",
    "#       etrial = xe*0.5   # Start Newton's method from e_1 = xe/2\n",
    "#       eprec = 1.0       # Precision of first trial set to unity\n",
    "#       i = 1\n",
    "#       if verbose == 1:\n",
    "#         print('i delta(e_i) e_i')\n",
    "#         print(1,eprec,etrial)\n",
    "#       # Perform Newton's method on e\n",
    "#       while eprec > etol:\n",
    "#         i = i + 1\n",
    "#         REval = e_ratio(alpha,beta,etrial,xe)\n",
    "#         eprec = abs(REval)\n",
    "#         etrial = etrial - REval\n",
    "#         if verbose == 1:\n",
    "#           print(i,eprec,etrial)\n",
    "#       # Define final e value\n",
    "#       efinal = etrial\n",
    "#       if verbose == 1:\n",
    "#         print('e(final) = ',efinal)\n",
    "#       # Define an initial starting point for the w iteration\n",
    "#       wtrial = xw*twopi\n",
    "#       wprec = 1.0\n",
    "#       i = 1\n",
    "#       if verbose == 1:\n",
    "#         print('i delta(w_i) w_i')\n",
    "#         print(1,wprec,wtrial)\n",
    "#       # Perform Newton's method on w\n",
    "#       while wprec > wtol:\n",
    "#         i = i + 1\n",
    "#         RWval = w_ratio(efinal,wtrial,xw)\n",
    "#         wprec = abs(RWval)\n",
    "#         wtrial = wtrial - RWval\n",
    "#         if verbose == 1:\n",
    "#           print(i,wprec,wtrial)\n",
    "#         wfinal = wtrial\n",
    "#       if verbose == 1:\n",
    "#         print('w(final) = ',wfinal)\n",
    "#     else: # Draw samples from P(e,w)\n",
    "#       if verbose == 1:\n",
    "#         print('It is assumed that it is unknown whether the planet transits')\n",
    "#       # e drawn from Beta distribution\n",
    "#       efinal = beta_sample(alpha,beta,xe)\n",
    "#       if verbose == 1:\n",
    "#         print('e(final) = ',efinal)\n",
    "#       # w is drawn from uniform distribution\n",
    "#       wfinal = xw*twopi\n",
    "#       if verbose == 1:\n",
    "#         print('w(final) = ',wfinal)\n",
    "#   else: # process = 0\n",
    "#     # Invalid inputs, forcing improper outputs\n",
    "#     efinal = -1.0\n",
    "#     wfinal = -1.0\n",
    "#   # Return result\n",
    "#   ewfinal=[]\n",
    "#   ewfinal.append(efinal)\n",
    "#   ewfinal.append(wfinal)\n",
    "#   return ewfinal\n",
    "# # ==============================================================================\n",
    "\n",
    "# # ==============================================================================\n",
    "# def e_ratio(a,b,e,x):\n",
    "#   # Get S\n",
    "#   bt2 = mp.beta(a,b-1.0)             # Beta function\n",
    "#   bix = mp.betainc(a,b+1.0,0.0,e)    # Incomplete Beta function\n",
    "#   hf = mp.hyp2f1(1.0,a,a+b-1.0,-1.0) # 2F1, Gauss' hypergeometric function\n",
    "#   hfre = mp.re(hf)\n",
    "#   Sval = bix - x*bt2*hfre\n",
    "#   # Get U\n",
    "#   c1 = mp.mpc(1.0 + a)\n",
    "#   c2 = mp.mpc(-b)\n",
    "#   c3 = mp.mpc(1.0)\n",
    "#   c4 = mp.mpc(2.0 + a)\n",
    "#   Uval = mp.appellf1(c1,c2,c3,c4,e,-e)\n",
    "#   Ure = mp.re(Uval)\n",
    "#   # Get P & Q\n",
    "#   Pval = mp.hyp2f1(a+1.0,1.0-b,a+2.0,e) # 2F1, Gauss' hypergeometric function\n",
    "#   Pre = mp.re(Pval)\n",
    "#   Qval = mp.hyp2f1(a+1.0,2.0-b,a+2.0,e) # 2F1, Gauss' hypergeometric function\n",
    "#   Qre = mp.re(Qval)\n",
    "#   # Get T\n",
    "#   Tval = ( (e**(1.0+a)) / (1.0+a) )*( 3.0*Pre + 2.0*Qre - Ure )\n",
    "#   Tval = Tval + 4.0*Sval\n",
    "#   # Get Rval (ratio)\n",
    "#   Rval = 0.25*(1.0-e*e)*( (1.0-e)**(1.0-b) )*( e**(1.0-a) )*Tval\n",
    "#   return Rval\n",
    "# # ==============================================================================\n",
    "\n",
    "# # ==============================================================================\n",
    "# def w_ratio(e,w,x):\n",
    "#   # Get Rval (ratio)\n",
    "#   Rval = w - 2.0*(np.pi)*x + e*(1.0-math.cos(w))\n",
    "#   Rval = Rval/( 1.0 + e*(math.sin(w)) )\n",
    "#   return Rval\n",
    "# # ==============================================================================\n",
    "\n",
    "# # ==============================================================================\n",
    "# def beta_sample(alpha,beta,x):\n",
    "#   y=scipy.special.betaincinv(alpha, beta, x)\n",
    "#   return y\n",
    "# # ==============================================================================\n",
    "\n"
   ]
  },
  {
   "cell_type": "code",
   "execution_count": 5,
   "metadata": {},
   "outputs": [],
   "source": [
    "# import random\n",
    "\n",
    "# # Number of samples to draw\n",
    "# n = int(1e2)\n",
    "# transit = 1\n",
    "# verbose = 0\n",
    "\n",
    "# # Define alpha and beta\n",
    "# alpha = 0.867\n",
    "# beta = 3.030\n",
    "\n",
    "# # Generate samples\n",
    "# samples=[[0 for j in range(2)] for i in range(n)]\n",
    "# for i in range(n):\n",
    "#   xe = random.uniform(0, 1)\n",
    "#   xw = random.uniform(0, 1)\n",
    "#   ew = ecc_sample(transit,verbose,alpha,beta,xe,xw)\n",
    "#   samples[i][0] = ew[0]\n",
    "#   samples[i][1] = ew[1]\n",
    "  \n",
    "# # Export samples\n",
    "# with open(\"ECCSAMPLES.dat\", 'w') as f:\n",
    "#     f.writelines(' '.join(str(j) for j in i) + '\\n' for i in samples)"
   ]
  },
  {
   "cell_type": "code",
   "execution_count": 11,
   "metadata": {},
   "outputs": [],
   "source": [
    "eccs = np.genfromtxt(\"ECCSAMPLES.dat\")"
   ]
  },
  {
   "cell_type": "code",
   "execution_count": 12,
   "metadata": {},
   "outputs": [],
   "source": [
    "eccs[:,1] = eccs[:,1]*(180/np.pi)"
   ]
  },
  {
   "cell_type": "markdown",
   "metadata": {},
   "source": [
    "## Functions included in photoeccentric"
   ]
  },
  {
   "cell_type": "code",
   "execution_count": 97,
   "metadata": {},
   "outputs": [],
   "source": [
    "def ebprior(alpha, beta, e):\n",
    "    gamma1 = sc.hyp2f1(1, alpha, alpha+beta-1, -1)\n",
    "    t1 = ((beta-1)/(gamma1*sc.gamma(alpha+beta)))\n",
    "    t2 = 1/(1-e**2)\n",
    "    t3 = ((1-e)**(beta-1)*e**(alpha-1))/sc.beta(alpha, beta)\n",
    "    \n",
    "    return t1*t2*t3\n",
    "\n",
    "def wbprior(alpha, beta, w):\n",
    "    gamma1 = sc.hyp2f1(1, alpha, alpha+beta-1, -1)\n",
    "    gamma2 = sc.hyp2f1(1, alpha+1, alpha+beta, -1)\n",
    "    t1 = (gamma2*alpha*np.sin(w*(np.pi/180)))/gamma1\n",
    "    return (1/(2*np.pi))*(1+t1)\n",
    "\n",
    "def ewbprior(alpha, beta, e, w):\n",
    "    gamma1 = sc.hyp2f1(1, alpha, alpha+beta-1, -1)\n",
    "    t1 = ((beta-1)/(2*np.pi*gamma1*sc.gamma(alpha+beta)))\n",
    "    t2 = (1+(e*np.sin(w*(np.pi/180))))/(1-e**2)\n",
    "    t3 = ((1-e)**(beta-1)*e**(alpha-1))/sc.beta(alpha, beta)\n",
    "\n",
    "    return t1*t2*t3"
   ]
  },
  {
   "cell_type": "code",
   "execution_count": 100,
   "metadata": {},
   "outputs": [],
   "source": [
    "e = np.random.uniform(0.001,0.999,10000)\n",
    "w = np.random.uniform(-90,270,10000)"
   ]
  },
  {
   "cell_type": "code",
   "execution_count": 101,
   "metadata": {},
   "outputs": [
    {
     "data": {
      "text/plain": [
       "<matplotlib.collections.PathCollection at 0x7ff930852340>"
      ]
     },
     "execution_count": 101,
     "metadata": {},
     "output_type": "execute_result"
    },
    {
     "data": {
      "image/png": "[encoded data removed]",
      "text/plain": [
       "<Figure size 432x288 with 1 Axes>"
      ]
     },
     "metadata": {
      "needs_background": "light"
     },
     "output_type": "display_data"
    }
   ],
   "source": [
    "plt.scatter(e, ebprior(0.867, 3.03, e))"
   ]
  },
  {
   "cell_type": "code",
   "execution_count": 102,
   "metadata": {},
   "outputs": [
    {
     "data": {
      "text/plain": [
       "<matplotlib.collections.PathCollection at 0x7ff93063fa00>"
      ]
     },
     "execution_count": 102,
     "metadata": {},
     "output_type": "execute_result"
    },
    {
     "data": {
      "image/png": "[encoded data removed]",
      "text/plain": [
       "<Figure size 432x288 with 1 Axes>"
      ]
     },
     "metadata": {
      "needs_background": "light"
     },
     "output_type": "display_data"
    }
   ],
   "source": [
    "plt.scatter(w, wbprior(0.867, 3.03, w))"
   ]
  },
  {
   "cell_type": "code",
   "execution_count": 104,
   "metadata": {},
   "outputs": [],
   "source": [
    "prior_vals = []\n",
    "\n",
    "for i in range(len(e)):\n",
    "\n",
    "    prior_vals.append(ewbprior(0.867, 3.03, e[i], w[i]))"
   ]
  },
  {
   "cell_type": "code",
   "execution_count": 105,
   "metadata": {},
   "outputs": [
    {
     "data": {
      "image/png": "[encoded data removed]",
      "text/plain": [
       "<Figure size 432x288 with 1 Axes>"
      ]
     },
     "metadata": {
      "needs_background": "light"
     },
     "output_type": "display_data"
    }
   ],
   "source": [
    "plt.hist(prior_vals);"
   ]
  },
  {
   "cell_type": "code",
   "execution_count": 108,
   "metadata": {},
   "outputs": [
    {
     "data": {
      "text/plain": [
       "<matplotlib.colorbar.Colorbar at 0x7ff9300a1970>"
      ]
     },
     "execution_count": 108,
     "metadata": {},
     "output_type": "execute_result"
    },
    {
     "data": {
      "image/png": "[encoded data removed]",
      "text/plain": [
       "<Figure size 432x288 with 2 Axes>"
      ]
     },
     "metadata": {
      "needs_background": "light"
     },
     "output_type": "display_data"
    }
   ],
   "source": [
    "plt.scatter(w,e,c=prior_vals, cmap='Blues');\n",
    "plt.xlabel('w')\n",
    "plt.ylabel('e')\n",
    "plt.colorbar()"
   ]
  },
  {
   "cell_type": "code",
   "execution_count": 91,
   "metadata": {},
   "outputs": [],
   "source": [
    "def bprior_log_likelihood(theta, g, gerr):\n",
    "    \"\"\"Log of likelihood\n",
    "    model = g(e,w)\n",
    "    gerr = sigma of g distribution\n",
    "    \"\"\"\n",
    "    w, e = theta\n",
    "    model = (1+e*np.sin(w*(np.pi/180.)))/np.sqrt(1-e**2)\n",
    "    sigma2 = gerr ** 2\n",
    "    return -0.5 * np.sum((g - model) ** 2 / sigma2 + np.log(sigma2))\n",
    "\n",
    "def bprior_log_prior(theta):\n",
    "    \"\"\"Log of prior\n",
    "    e between 0 and 1\n",
    "    w between -90 and 300\n",
    "    \"\"\"\n",
    "    w, e = theta\n",
    "    if 0.0 < e < 1.0 and -90.0 < w < 300.0:\n",
    "        return ewbprior(0.867, 3.03, e, w)\n",
    "    return -np.inf\n",
    "\n",
    "def bprior_log_probability(theta, g, gerr):\n",
    "    \"\"\"Log of probability\n",
    "    \"\"\"\n",
    "    lp = bprior_log_prior(theta)\n",
    "    if not np.isfinite(lp):\n",
    "        return -np.inf\n",
    "    return lp + log_likelihood(theta, g, gerr)\n"
   ]
  }
 ],
 "metadata": {
  "kernelspec": {
   "display_name": "Python 3",
   "language": "python",
   "name": "python3"
  },
  "language_info": {
   "codemirror_mode": {
    "name": "ipython",
    "version": 3
   },
   "file_extension": ".py",
   "mimetype": "text/x-python",
   "name": "python",
   "nbconvert_exporter": "python",
   "pygments_lexer": "ipython3",
   "version": "3.8.5"
  }
 },
 "nbformat": 4,
 "nbformat_minor": 4
}
