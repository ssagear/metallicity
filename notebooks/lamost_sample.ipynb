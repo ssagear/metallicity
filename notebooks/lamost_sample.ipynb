{
 "cells": [
  {
   "cell_type": "markdown",
   "metadata": {},
   "source": [
    "# `photoeccentric` Tutorial with LAMOST planet"
   ]
  },
  {
   "cell_type": "markdown",
   "metadata": {},
   "source": [
    "In this tutorial, I will create a simulated transit based on a Kepler planet and demonstrate how to use `photoeccentric` to recover the planet's eccentricity using the photoeccentric effect [(Dawson & Johnson 2012)](https://arxiv.org/pdf/1203.5537.pdf)."
   ]
  },
  {
   "cell_type": "markdown",
   "metadata": {},
   "source": [
    "The code I'm using to implement the photoeccentric effect is compiled into a package called `photoeccentric`, and can be viewed/downloaded here: https://github.com/ssagear/photoeccentric"
   ]
  },
  {
   "cell_type": "code",
   "execution_count": 1,
   "metadata": {},
   "outputs": [],
   "source": [
    "import numpy as np\n",
    "import matplotlib.pyplot as plt\n",
    "import pandas as pd\n",
    "from tqdm import tqdm\n",
    "from astropy.table import Table\n",
    "from astropy.io import fits\n",
    "\n",
    "\n",
    "import astropy.units as u\n",
    "import os\n",
    "\n",
    "# Using `batman` to create & fit fake transit\n",
    "import batman\n",
    "\n",
    "# Using astropy BLS and scipy curve_fit to fit transit\n",
    "from astropy.timeseries import BoxLeastSquares\n",
    "from scipy.optimize import curve_fit\n",
    "\n",
    "import scipy.optimize as opt\n",
    "\n",
    "# Using emcee & corner to find and plot (e, w) distribution\n",
    "import emcee\n",
    "import corner\n",
    "\n",
    "# And importing `photoeccentric`\n",
    "import photoeccentric as ph\n",
    "\n",
    "%load_ext autoreload\n",
    "%autoreload 2\n"
   ]
  },
  {
   "cell_type": "code",
   "execution_count": 2,
   "metadata": {},
   "outputs": [],
   "source": [
    "nwalk = 64\n",
    "nsteps = 1000\n",
    "ndiscard = 500\n",
    "arrlen = (nsteps-ndiscard)*nwalk"
   ]
  },
  {
   "cell_type": "markdown",
   "metadata": {},
   "source": [
    "I'll define the conversions between solar mass -> kg and solar radius -> meters for convenience."
   ]
  },
  {
   "cell_type": "code",
   "execution_count": 3,
   "metadata": {},
   "outputs": [],
   "source": [
    "smass_kg = 1.9885e30  # Solar mass (kg)\n",
    "srad_m = 696.34e6 # Solar radius (m)"
   ]
  },
  {
   "cell_type": "markdown",
   "metadata": {},
   "source": [
    "## The Sample"
   ]
  },
  {
   "cell_type": "markdown",
   "metadata": {},
   "source": [
    "I'm using the sample of \"cool KOIs\" from [Muirhead et al. 2013](https://iopscience.iop.org/article/10.1088/0067-0049/213/1/5), and their properites from spectroscopy published here."
   ]
  },
  {
   "cell_type": "code",
   "execution_count": 4,
   "metadata": {},
   "outputs": [],
   "source": [
    "# lamost = Table.read('/Users/ssagear/Downloads/jdli21.fits', format='fits').to_pandas()\n",
    "# muirhead_data = pd.read_csv(\"datafiles/Muirhead2013_isochrones/muirhead_data_incmissing.txt\", sep=\" \")"
   ]
  },
  {
   "cell_type": "markdown",
   "metadata": {},
   "source": [
    "I'm reading in a file containing data for all Kepler planets from the Exoplanet Archive (`planets`), then only taking these data for planets in the Muirhead et al. 2013 sample (`spectplanets`)."
   ]
  },
  {
   "cell_type": "code",
   "execution_count": 5,
   "metadata": {},
   "outputs": [],
   "source": [
    "# # # ALL Kepler planets from exo archive\n",
    "# planets = pd.read_csv('datafiles/exoplanetarchive/cumulative_kois.csv')\n",
    "\n",
    "# # # Take the Kepler planet archive entries for the planets in Muirhead et al. 2013 sample\n",
    "# # TODO: Vet based on KOI not KIC\n",
    "# spectplanets = planets[planets['kepid'].isin(list(muirhead_data['KIC']))]\n",
    "\n",
    "# spectplanets.to_csv('spectplanets.csv')"
   ]
  },
  {
   "cell_type": "markdown",
   "metadata": {},
   "source": [
    "Now, I'm reading in the entire Kepler/Gaia dataset from [gaia-kepler.fun]. I'm again matching these data with the objects in our sample (`muirhead_gaia`). I'm using the DR2 data with a 4 arcsecond search radius.\n",
    "\n",
    "Then I'll combine the spectroscopy data with Kepler/Gaia data for our sample."
   ]
  },
  {
   "cell_type": "code",
   "execution_count": 72,
   "metadata": {},
   "outputs": [],
   "source": [
    "# # Kepler-Gaia Data\n",
    "# kpgaia = Table.read('datafiles/Kepler-Gaia/kepler_dr2_4arcsec.fits', format='fits').to_pandas();\n",
    "\n",
    "# # Kepler-Gaia data for only the objects in our sample\n",
    "# muirhead_gaia = kpgaia[kpgaia['kepid'].isin(list(muirhead_data.KIC))]\n",
    "# muirhead_gaia = muirhead_gaia.rename(columns={\"source_id\": \"m_source_id\"})\n",
    "\n",
    "# # Combined spectroscopy data + Gaia/Kepler data for our sample\n",
    "# muirhead_comb = pd.merge(muirhead_data, muirhead_gaia, how='inner', left_on='KIC', right_on='kepid')\n",
    "# muirhead_comb.to_csv('muirhead_comb.csv')\n",
    "\n",
    "# # Only targets from table above with published luminosities from Gaia\n",
    "# muirhead_comb_lums = muirhead_comb[muirhead_comb.lum_val.notnull()]\n",
    "# muirhead_comb_lums.to_csv('muirhead_comb_lums.csv')"
   ]
  },
  {
   "cell_type": "code",
   "execution_count": 73,
   "metadata": {},
   "outputs": [],
   "source": [
    "# muirhead_lamost = pd.merge(lamost, muirhead_comb, how='inner', left_on='source_id', right_on='m_source_id')\n",
    "# muirhead_lamost.to_csv('muirhead_lamost.csv')"
   ]
  },
  {
   "cell_type": "code",
   "execution_count": 74,
   "metadata": {},
   "outputs": [],
   "source": [
    "# teffs = muirhead_lamost_t[['source_id', 'KIC', 'TEFF_BT', 'TEFF_BT_ERR', 'TEFF_AP', 'TEFF_AP_ERR', 'Teff', 'eTeff', 'ETeff']]\n",
    "# teffs.to_csv('muirhead_lamost_temps.csv')"
   ]
  },
  {
   "cell_type": "code",
   "execution_count": 75,
   "metadata": {},
   "outputs": [],
   "source": [
    "spectplanets = pd.read_csv('spectplanets.csv')\n",
    "muirhead_comb = pd.read_csv('muirhead_comb.csv')\n",
    "muirhead_comb_lums = pd.read_csv('muirhead_comb_lums.csv')\n",
    "muirhead_lamost = pd.read_csv('muirhead_lamost.csv')"
   ]
  },
  {
   "cell_type": "markdown",
   "metadata": {},
   "source": [
    "# Defining a \"test planet\""
   ]
  },
  {
   "cell_type": "markdown",
   "metadata": {},
   "source": [
    "I'm going to pick a random planet from our sample to test how well `photoeccentric` works. Here, I'm picking Kepler-1582 b, a super-Earth orbiting an M dwarf [Exoplanet Catalog Entry](https://exoplanets.nasa.gov/exoplanet-catalog/2457/kepler-1582-b/). It has an orbital period of about 5 days.\n",
    "\n",
    "I'll use the LAMOST temperature constraints for this."
   ]
  },
  {
   "cell_type": "code",
   "execution_count": 76,
   "metadata": {},
   "outputs": [],
   "source": [
    "# Kepler ID for Kepler-1049 b\n",
    "kepid = 10525027\n",
    "kepname = spectplanets.loc[spectplanets['kepid'] == kepid].kepler_name.values[0]\n",
    "\n",
    "kp1049b = muirhead_lamost.loc[muirhead_lamost['KIC'] == kepid]\n"
   ]
  },
  {
   "cell_type": "code",
   "execution_count": 77,
   "metadata": {},
   "outputs": [],
   "source": [
    "# # Read in MESA isochrones\n",
    "#isochrones = pd.read_csv('datafiles/Muirhead2013_isochrones/isochrones_sdss_spitzer_lowmass.dat', sep='\\s\\s+', engine='python')\n"
   ]
  },
  {
   "cell_type": "markdown",
   "metadata": {},
   "source": [
    "##### Using `ph.fit_isochrone_lum()` to match isochrones to stellar data"
   ]
  },
  {
   "cell_type": "code",
   "execution_count": 78,
   "metadata": {},
   "outputs": [],
   "source": [
    "#iso_lums = ph.fit_isochrone_lum(kp1049b, muirhead_lamost, isochrones, gaia_lum=True, source='LAMOST')"
   ]
  },
  {
   "cell_type": "code",
   "execution_count": 79,
   "metadata": {},
   "outputs": [],
   "source": [
    "# # Write to csv, then read back in (prevents python notebook from lagging)\n",
    "#iso_lums.to_csv(\"datafiles/isochrones/iso_lums_\" + str(kepid) + \"LAMOST.csv\")"
   ]
  },
  {
   "cell_type": "code",
   "execution_count": 80,
   "metadata": {},
   "outputs": [],
   "source": [
    "isodf = pd.read_csv(\"datafiles/isochrones/iso_lums_\" + str(kepid) + \"LAMOST.csv\")"
   ]
  },
  {
   "cell_type": "markdown",
   "metadata": {},
   "source": [
    "I'm determining the mass and radius constraints of this star based on the isochrones that were consistent with the observational data."
   ]
  },
  {
   "cell_type": "code",
   "execution_count": 81,
   "metadata": {},
   "outputs": [],
   "source": [
    "mstar = isodf[\"mstar\"].mean()\n",
    "mstar_err = isodf[\"mstar\"].std()\n",
    "\n",
    "rstar = isodf[\"radius\"].mean()\n",
    "rstar_err = isodf[\"radius\"].std()"
   ]
  },
  {
   "cell_type": "markdown",
   "metadata": {},
   "source": [
    "##### Using `ph.find_density_dist_symmetric()` to create a stellar density distribution from symmetric (Gaussian) distributions based on mstar and rstar (from isochrones). \n",
    "Note: this does not necessarily mean the resulting density distribution will appear symmetric."
   ]
  },
  {
   "cell_type": "code",
   "execution_count": 82,
   "metadata": {
    "scrolled": true
   },
   "outputs": [],
   "source": [
    "rho_star, mass, radius = ph.find_density_dist_symmetric(mstar, mstar_err, rstar, rstar_err, arrlen)"
   ]
  },
  {
   "cell_type": "code",
   "execution_count": 83,
   "metadata": {},
   "outputs": [
    {
     "data": {
      "text/plain": [
       "Text(0.5, 0, 'Stellar Density Histogram (kg m^-3)')"
      ]
     },
     "execution_count": 83,
     "metadata": {},
     "output_type": "execute_result"
    },
    {
     "data": {
      "image/png": "[encoded data removed]",
      "text/plain": [
       "<Figure size 432x288 with 1 Axes>"
      ]
     },
     "metadata": {
      "needs_background": "light"
     },
     "output_type": "display_data"
    }
   ],
   "source": [
    "plt.hist(rho_star, bins=20)\n",
    "plt.xlabel('Stellar Density Histogram (kg m^-3)', fontsize=20)"
   ]
  },
  {
   "cell_type": "markdown",
   "metadata": {},
   "source": [
    "# Creating a fake light curve based on a real planet"
   ]
  },
  {
   "cell_type": "markdown",
   "metadata": {},
   "source": [
    "I'm pulling the planet parameters of Kepler-1582 b from the exoplanet archive using `ph.planet_params_from_archive()`. This will give me the published period, Rp/Rs, and inclination constraints of this planet. (It will also return some other parameters, but we don't need those right now).\n",
    "\n",
    "I'm calculating a/Rs using `ph.calc_a()`, instead of using the a/Rs constraint from the Exoplanet Archive. The reason is because a/Rs must be consistent with the density calculated above from spectroscopy/Gaia for the photoeccentric effect to work correctly, and the published a/Rs is often inconsistent. a/Rs depends on the orbital period, Mstar, and Rstar."
   ]
  },
  {
   "cell_type": "code",
   "execution_count": 84,
   "metadata": {},
   "outputs": [
    {
     "name": "stdout",
     "output_type": "stream",
     "text": [
      "Stellar mass (Msun):  0.5295200429491799 Stellar radius (Rsun):  0.518067430207587\n",
      "Period (Days):  3.27344784 Rp/Rs:  0.014934\n",
      "a/Rs:  14.475152254226384\n",
      "i (deg):  88.1\n"
     ]
    }
   ],
   "source": [
    "period, period_uerr, period_lerr, rprs, rprs_uerr, rprs_lerr, a_arc, a_uerr_arc, a_lerr_arc, i, e_arc, w_arc = ph.planet_params_from_archive(spectplanets, kepname)\n",
    "\n",
    "# We calculate a_rs to ensure that it's consistent with the spec/Gaia stellar density.\n",
    "a_rs = ph.calc_a(period*86400.0, mstar*smass_kg, rstar*srad_m)\n",
    "a_rs_err = np.mean((a_uerr_arc, a_lerr_arc))\n",
    "\n",
    "print('Stellar mass (Msun): ', mstar, 'Stellar radius (Rsun): ', rstar)\n",
    "print('Period (Days): ', period, 'Rp/Rs: ', rprs)\n",
    "print('a/Rs: ', a_rs)\n",
    "print('i (deg): ', i)"
   ]
  },
  {
   "cell_type": "markdown",
   "metadata": {},
   "source": [
    "Now, I'll create a fake transit using `batman`.\n",
    "I'm creating a model with the period, Rp/Rs, a/Rs, and inclination specified by the Kepler catalog entry and the density constraints.\n",
    "\n",
    "I'll create the transit model with an $e$ and $w$ of my choice. This will allow me to test whether `photoeccentric` accurately recovers the $(e,w)$ combination I have input. I'll start with $e = 0.0$ and $w = 90.0$ degrees."
   ]
  },
  {
   "cell_type": "markdown",
   "metadata": {},
   "source": [
    "## $e = 0.0$, $\\omega = 90.0$"
   ]
  },
  {
   "cell_type": "code",
   "execution_count": 85,
   "metadata": {},
   "outputs": [],
   "source": [
    "# 30 minute cadence\n",
    "cadence = 0.02142857142857143\n",
    "\n",
    "time = np.arange(-25, 25, cadence)"
   ]
  },
  {
   "cell_type": "markdown",
   "metadata": {},
   "source": [
    "The function `ph.integrate_lcfitter()` evaluates flux at every minute, than sums over every 30 minutes to simultae the Kepler integration time."
   ]
  },
  {
   "cell_type": "code",
   "execution_count": 86,
   "metadata": {},
   "outputs": [],
   "source": [
    "# Calculate flux from transit model\n",
    "e = 0.0\n",
    "w = 90.0\n",
    "flux = ph.integratedlc(time, period, rprs, a_rs, 0.0, i, 90.0)\n",
    "\n",
    "# Adding some gaussian noise\n",
    "noise = np.random.normal(0,0.000006,len(time))\n",
    "nflux = flux+noise\n",
    "\n",
    "flux_err = np.array([0.000006]*len(nflux))"
   ]
  },
  {
   "cell_type": "code",
   "execution_count": 87,
   "metadata": {},
   "outputs": [
    {
     "data": {
      "text/plain": [
       "Text(0, 0.5, 'Flux')"
      ]
     },
     "execution_count": 87,
     "metadata": {},
     "output_type": "execute_result"
    },
    {
     "data": {
      "image/png": "[encoded data removed]",
      "text/plain": [
       "<Figure size 432x288 with 1 Axes>"
      ]
     },
     "metadata": {
      "needs_background": "light"
     },
     "output_type": "display_data"
    }
   ],
   "source": [
    "plt.plot(time, nflux)\n",
    "plt.xlabel('Time')\n",
    "plt.ylabel('Flux')\n",
    "#plt.xlim(-1, 1)"
   ]
  },
  {
   "cell_type": "markdown",
   "metadata": {},
   "source": [
    "## Fitting the transit"
   ]
  },
  {
   "cell_type": "markdown",
   "metadata": {},
   "source": [
    "I'm using the Astropy BLS method to determine the period of the fake light curve. I'll use the power spectrum to create a PDF of the possible periods for this planet. I'm fitting the period and the other planet parameters separately."
   ]
  },
  {
   "cell_type": "code",
   "execution_count": 88,
   "metadata": {},
   "outputs": [],
   "source": [
    "periodPDF = ph.get_period_dist(time, nflux, 2, 4, arrlen)"
   ]
  },
  {
   "cell_type": "code",
   "execution_count": 89,
   "metadata": {},
   "outputs": [
    {
     "name": "stdout",
     "output_type": "stream",
     "text": [
      "Period fit:  3.272727272727273\n"
     ]
    }
   ],
   "source": [
    "print('Period fit: ', ph.mode(periodPDF))\n",
    "pdist = periodPDF\n",
    "per_guess = ph.mode(pdist)"
   ]
  },
  {
   "cell_type": "markdown",
   "metadata": {},
   "source": [
    "Now, I'm fitting the transit shape with `emcee`. $Rp/Rs$, $a/Rs$, $i$, and $w$ are allowed to vary as free parameters. \n",
    "\n",
    "The transit fitter, `ph.planetlc_fitter`, fixes $e = 0.0$, even if the input eccentricity is not zero! This means that if e != 0, the transit fitter will fit the wrong values for $a/Rs$ and $i$ -- but they will be wrong in such a way that reveals the eccentricity of the orbit. More on that in the next section.\n",
    "\n",
    "I enter an initial guess based on what I estimate the fit parameters will be. For this one, I'll enter values pretty close to what I input."
   ]
  },
  {
   "cell_type": "code",
   "execution_count": 90,
   "metadata": {},
   "outputs": [],
   "source": [
    "ttimes = np.concatenate((-np.arange(0, time[-1], period)[1:], np.arange(0, time[-1], period)))\n",
    "ttimes = np.sort(ttimes)\n",
    "\n",
    "time1, nflux1, fluxerr1 = ph.get_transit_cutout_full(ttimes, 4, time, nflux, flux_err)"
   ]
  },
  {
   "cell_type": "code",
   "execution_count": 91,
   "metadata": {},
   "outputs": [],
   "source": [
    "mid = ph.get_mid(time1)\n",
    "ptime1 = ph.get_ptime(time1, mid, 29)"
   ]
  },
  {
   "cell_type": "code",
   "execution_count": 92,
   "metadata": {},
   "outputs": [
    {
     "name": "stderr",
     "output_type": "stream",
     "text": [
      "100%|██████████| 1000/1000 [04:26<00:00,  3.76it/s]\n"
     ]
    }
   ],
   "source": [
    "# Inital guess: period, rprs, a/Rs, i, w\n",
    "p0 = [per_guess, rprs, 15, 88]\n",
    "\n",
    "dr = 'e_' + str(0) + '_w_' + str(w)\n",
    "direct = 'plots_tutorial/' + dr + '/'\n",
    "\n",
    "if not os.path.exists(direct):\n",
    "    os.mkdir(direct)\n",
    "\n",
    "# EMCEE Transit Model Fitting\n",
    "_, _, pdist, rdist, adist, idist = ph.mcmc_fitter(p0, time1, ptime1, nflux1, fluxerr1, nwalk, nsteps, ndiscard, e, w, direct)\n"
   ]
  },
  {
   "cell_type": "code",
   "execution_count": 93,
   "metadata": {},
   "outputs": [],
   "source": [
    "per_f = ph.mode(pdist)\n",
    "rprs_f = ph.mode(rdist)\n",
    "a_f = ph.mode(adist)\n",
    "i_f = ph.mode(idist)"
   ]
  },
  {
   "cell_type": "markdown",
   "metadata": {},
   "source": [
    "\n",
    "Below, I print the original parameters and fit parameters, and overlay the fit light curve on the input light curve. \n",
    "\n",
    "Because I input $e = 0.0$, the transit fitter should return the exact same parameters I input (because the transit fitter always requires $e = 0.0$)."
   ]
  },
  {
   "cell_type": "code",
   "execution_count": 94,
   "metadata": {},
   "outputs": [],
   "source": [
    "# Create a light curve with the fit parameters\n",
    "fit1 = ph.integratedlc_fitter(time1, per_f, rprs_f, a_f, i_f)"
   ]
  },
  {
   "cell_type": "code",
   "execution_count": 95,
   "metadata": {},
   "outputs": [
    {
     "name": "stdout",
     "output_type": "stream",
     "text": [
      "Stellar mass (Msun):  0.5295200429491799 Stellar radius (Rsun):  0.518067430207587\n",
      "\n",
      "\n",
      "Input params:\n",
      "Rp/Rs:  0.014934\n",
      "a/Rs:  14.475152254226384\n",
      "i (deg):  88.1\n",
      "\n",
      "\n",
      "Fit params:\n",
      "Rp/Rs:  0.014435015737389803\n",
      "a/Rs:  16.339211852541478\n",
      "i (deg):  89.00714324751239\n"
     ]
    },
    {
     "data": {
      "image/png": "[encoded data removed]",
      "text/plain": [
       "<Figure size 432x288 with 1 Axes>"
      ]
     },
     "metadata": {
      "needs_background": "light"
     },
     "output_type": "display_data"
    }
   ],
   "source": [
    "plt.errorbar(time1, nflux1, yerr=fluxerr1, c='blue', alpha=0.5, label='Original LC')\n",
    "plt.plot(time1, fit1, c='red', alpha=1.0, label='Fit LC')\n",
    "#plt.xlim(-0.1, 0.1)\n",
    "plt.legend()\n",
    "\n",
    "print('Stellar mass (Msun): ', mstar, 'Stellar radius (Rsun): ', rstar)\n",
    "\n",
    "print('\\n')\n",
    "\n",
    "print('Input params:')\n",
    "print('Rp/Rs: ', rprs)\n",
    "print('a/Rs: ', a_rs)\n",
    "print('i (deg): ', i)\n",
    "\n",
    "print('\\n')\n",
    "\n",
    "print('Fit params:')\n",
    "print('Rp/Rs: ', rprs_f)\n",
    "print('a/Rs: ', a_f)\n",
    "print('i (deg): ', i_f)"
   ]
  },
  {
   "cell_type": "markdown",
   "metadata": {},
   "source": [
    "### Determining T14 and T23"
   ]
  },
  {
   "cell_type": "markdown",
   "metadata": {},
   "source": [
    "A crucial step to determining the $(e, w)$ distribution from the transit is calculating the total and full transit durations. T14 is the total transit duration (the time between first and fourth contact). T23 is the full transit duration (i.e. the time during which the entire planet disk is in front of the star, the time between second and third contact.)\n",
    "\n",
    "\n",
    "Here, I'm using equations 14 and 15 from [this textbook](https://sites.astro.caltech.edu/~lah/review/transits_occultations.winn.pdf). We calculate T14 and T23 assuming the orbit must be circular, and using the fit parameters assuming the orbit is circular. (If the orbit is not circular, T14 and T23 will not be correct -- but this is what we want, because they will differ from the true T14 and T23 in a way that reveals the eccentricity of the orbit.)"
   ]
  },
  {
   "cell_type": "code",
   "execution_count": 96,
   "metadata": {},
   "outputs": [],
   "source": [
    "T14dist = ph.get_T14(pdist, rdist, adist, idist)\n",
    "T14errs = ph.get_sigmas(T14dist)\n",
    "\n",
    "T23dist = ph.get_T23(pdist, rdist, adist, idist)\n",
    "T23errs = ph.get_sigmas(T23dist)"
   ]
  },
  {
   "cell_type": "markdown",
   "metadata": {},
   "source": [
    "# Get $g$"
   ]
  },
  {
   "attachments": {
    "image.png": {
     "image/png": "[encoded data removed]"
    }
   },
   "cell_type": "markdown",
   "metadata": {},
   "source": [
    "Finally, we can use all the values above to determine $\\rho_{circ}$. $\\rho_{circ}$ is what we would calculate the stellar density to be if we knew that the orbit was definitely perfectly circular. We  will compare $\\rho_{circ}$ to $\\rho_{star}$ (the true, observed stellar density we calculated from spectroscopy/Gaia), and get $g(e, w)$:\n",
    "![image.png](attachment:image.png)"
   ]
  },
  {
   "attachments": {
    "image.png": {
     "image/png": "[encoded data removed]"
    }
   },
   "cell_type": "markdown",
   "metadata": {},
   "source": [
    "which is also defined as ![image.png](attachment:image.png)"
   ]
  },
  {
   "cell_type": "markdown",
   "metadata": {},
   "source": [
    "Thus, if the orbit is circular $(e = 0)$, then $g$ should equal 1. If the orbit is not circular $(e != 0)$, then $\\rho_{circ}$ should differ from $\\rho_{star}$, and $g$ should be something other than 1. We can draw a $(e, w)$ distribution based on the value we calcaulte for $g(e,w)$!"
   ]
  },
  {
   "cell_type": "markdown",
   "metadata": {},
   "source": [
    "`ph.get_g_distribution()` will help us determine the value of g. This function takes the observed $\\rho_{star}$ as well as the fit (circular) transit parameters and calculated transit durations, and calculates $\\rho_{circ}$ and $g(e,w)$ based on equations 6 and 7 in [Dawson & Johnson 2012](https://arxiv.org/pdf/1203.5537.pdf)."
   ]
  },
  {
   "cell_type": "code",
   "execution_count": 97,
   "metadata": {},
   "outputs": [],
   "source": [
    "gs, rho_c = ph.get_g_distribution(rho_star, pdist, rdist, T14dist, T23dist)\n",
    "\n",
    "g_mean = ph.mode(gs)\n",
    "g_sigma = np.mean(np.abs(ph.get_sigmas(gs)))"
   ]
  },
  {
   "cell_type": "markdown",
   "metadata": {},
   "source": [
    "Print $g$ and $\\sigma_{g}$:"
   ]
  },
  {
   "cell_type": "code",
   "execution_count": 98,
   "metadata": {},
   "outputs": [
    {
     "data": {
      "text/plain": [
       "1.1084540476289202"
      ]
     },
     "execution_count": 98,
     "metadata": {},
     "output_type": "execute_result"
    }
   ],
   "source": [
    "g_mean"
   ]
  },
  {
   "cell_type": "code",
   "execution_count": 99,
   "metadata": {},
   "outputs": [
    {
     "data": {
      "text/plain": [
       "0.14034089393914434"
      ]
     },
     "execution_count": 99,
     "metadata": {},
     "output_type": "execute_result"
    }
   ],
   "source": [
    "g_sigma"
   ]
  },
  {
   "cell_type": "markdown",
   "metadata": {},
   "source": [
    "The mean of $g$ is about 1.0, which means that $\\rho_{circ}$ agrees with $\\rho_{star}$ and the eccentricity of this transit must be zero, which is exactly what we input! We can take $g$ and $\\sigma_{g}$ and use MCMC (`emcee`) to determine the surface of most likely $(e,w)$.\n",
    "\n",
    "`photoeccentric` has the probability function for $(e,w)$ from $g$ built in to `ph.log_probability()`."
   ]
  },
  {
   "cell_type": "code",
   "execution_count": 100,
   "metadata": {},
   "outputs": [],
   "source": [
    "#Guesses\n",
    "w_guess = 0.0\n",
    "e_guess = 0.0\n",
    "\n",
    "solnx = (w_guess, e_guess)\n",
    "pos = solnx + 1e-4 * np.random.randn(32, 2)\n",
    "nwalkers, ndim = pos.shape"
   ]
  },
  {
   "cell_type": "code",
   "execution_count": 101,
   "metadata": {
    "scrolled": true
   },
   "outputs": [
    {
     "name": "stderr",
     "output_type": "stream",
     "text": [
      "  0%|          | 0/5000 [00:00<?, ?it/s]/Users/ssagear/anaconda3/lib/python3.8/site-packages/emcee/moves/red_blue.py:99: RuntimeWarning: invalid value encountered in double_scalars\n",
      "  lnpdiff = f + nlp - state.log_prob[j]\n",
      "100%|██████████| 5000/5000 [00:04<00:00, 1036.46it/s]\n"
     ]
    }
   ],
   "source": [
    "sampler = emcee.EnsembleSampler(nwalkers, ndim, ph.log_probability, args=(g_mean, g_sigma), threads=4)\n",
    "sampler.run_mcmc(pos, 5000, progress=True);"
   ]
  },
  {
   "cell_type": "code",
   "execution_count": 102,
   "metadata": {},
   "outputs": [
    {
     "data": {
      "image/png": "[encoded data removed]",
      "text/plain": [
       "<Figure size 396x396 with 4 Axes>"
      ]
     },
     "metadata": {
      "needs_background": "light"
     },
     "output_type": "display_data"
    }
   ],
   "source": [
    "labels = [\"w\", \"e\"]\n",
    "\n",
    "flat_samples = sampler.get_chain(discard=100, thin=15, flat=True)\n",
    "fig = corner.corner(flat_samples, labels=labels, title_kwargs={\"fontsize\": 12}, truths=[w, e], plot_contours=True)"
   ]
  },
  {
   "cell_type": "markdown",
   "metadata": {},
   "source": [
    "And here is the corner plot for the most likely values of $(e, w)$ that correspond to $g = 1$. The $e$ distribution peaks at 0!"
   ]
  },
  {
   "cell_type": "markdown",
   "metadata": {},
   "source": [
    "# $e=0.3$, $w=90.0$"
   ]
  },
  {
   "cell_type": "markdown",
   "metadata": {},
   "source": [
    "Let's do that again, but this time I'll do an eccentric orbit: e = 0.3 and w = 90."
   ]
  },
  {
   "cell_type": "code",
   "execution_count": 103,
   "metadata": {},
   "outputs": [],
   "source": [
    "time = np.arange(-25, 25, cadence)"
   ]
  },
  {
   "cell_type": "code",
   "execution_count": 104,
   "metadata": {},
   "outputs": [],
   "source": [
    "# Calculate flux from transit model\n",
    "e = 0.3\n",
    "w = 90.0\n",
    "flux = ph.integratedlc(time, period, rprs, a_rs, 0.3, i, 90.0)\n",
    "\n",
    "# Adding some gaussian noise\n",
    "noise = np.random.normal(0,0.000006,len(time))\n",
    "nflux = flux+noise\n",
    "\n",
    "flux_err = np.array([0.000006]*len(nflux))"
   ]
  },
  {
   "cell_type": "markdown",
   "metadata": {},
   "source": [
    "## Fitting the transit"
   ]
  },
  {
   "cell_type": "markdown",
   "metadata": {},
   "source": [
    "Using astropy BLS:"
   ]
  },
  {
   "cell_type": "code",
   "execution_count": 105,
   "metadata": {},
   "outputs": [],
   "source": [
    "periodPDF = ph.get_period_dist(time, nflux, 3, 5, arrlen)"
   ]
  },
  {
   "cell_type": "code",
   "execution_count": 106,
   "metadata": {},
   "outputs": [
    {
     "name": "stdout",
     "output_type": "stream",
     "text": [
      "Period fit:  3.2626262626262625\n"
     ]
    }
   ],
   "source": [
    "print('Period fit: ', ph.mode(periodPDF))\n",
    "pdist = periodPDF"
   ]
  },
  {
   "cell_type": "markdown",
   "metadata": {},
   "source": [
    "Now, I'm fitting the transit shape with `emcee`. $Rp/Rs$, $a/Rs$, $i$, and $w$ are allowed to vary as free parameters. \n",
    "\n",
    "The transit fitter, `ph.planetlc_fitter`, fixes $e = 0.0$, even if the input eccentricity is not zero! This means that if e != 0, the transit fitter will fit the wrong values for $a/Rs$ and $i$ -- but they will be wrong in such a way that reveals the eccentricity of the orbit. More on that in the next section.\n",
    "\n",
    "I enter an initial guess based on what I estimate the fit parameters will be. For this one, I'll enter values pretty close to what I input."
   ]
  },
  {
   "cell_type": "code",
   "execution_count": 107,
   "metadata": {},
   "outputs": [],
   "source": [
    "ttimes = np.concatenate((-np.arange(0, time[-1], period)[1:], np.arange(0, time[-1], period)))\n",
    "ttimes = np.sort(ttimes)\n",
    "\n",
    "time1, nflux1, fluxerr1 = ph.get_transit_cutout_full(ttimes, 4, time, nflux, flux_err)"
   ]
  },
  {
   "cell_type": "code",
   "execution_count": 108,
   "metadata": {},
   "outputs": [],
   "source": [
    "mid = ph.get_mid(time1)\n",
    "ptime1 = ph.get_ptime(time1, mid, 29)"
   ]
  },
  {
   "cell_type": "markdown",
   "metadata": {},
   "source": [
    "And fitting the transit using `ph.planetlc_fitter()`.\n",
    "\n",
    "As explained above, because here the true eccentricity of the orbit is not zero, the transit fitter should fit the wrong values for $a/Rs$ and $i$ in a way that reveals the eccentricity of the orbit.\n",
    "\n",
    "I enter an initial guess based on what I estimate the fit parameters will be: here, I'll try guesses for $a/Rs$ and $i$ that are slightly larger and smaller than the true values, respectively."
   ]
  },
  {
   "cell_type": "code",
   "execution_count": 109,
   "metadata": {},
   "outputs": [
    {
     "name": "stderr",
     "output_type": "stream",
     "text": [
      "100%|██████████| 1000/1000 [04:26<00:00,  3.75it/s]\n"
     ]
    }
   ],
   "source": [
    "# Inital guess: period, rprs, a/Rs, i, w\n",
    "p0 = [per_guess, rprs, 20, 88]\n",
    "\n",
    "dr = 'e_' + str(0) + '_w_' + str(w)\n",
    "direct = 'plots_tutorial/' + dr + '/'\n",
    "\n",
    "if not os.path.exists(direct):\n",
    "    os.mkdir(direct)\n",
    "\n",
    "# EMCEE Transit Model Fitting\n",
    "_, _, pdist, rdist, adist, idist = ph.mcmc_fitter(p0, time1, ptime1, nflux1, fluxerr1, nwalk, nsteps, ndiscard, e, w, direct)\n"
   ]
  },
  {
   "cell_type": "code",
   "execution_count": 110,
   "metadata": {},
   "outputs": [],
   "source": [
    "per_f = ph.mode(pdist)\n",
    "rprs_f = ph.mode(rdist)\n",
    "a_f = ph.mode(adist)\n",
    "i_f = ph.mode(idist)"
   ]
  },
  {
   "cell_type": "markdown",
   "metadata": {},
   "source": [
    "\n",
    "Below, I print the original parameters and fit parameters, and overlay the fit light curve on the input light curve. \n",
    "\n",
    "Because I input $e = 0.0$, the transit fitter should return the exact same parameters I input (because the transit fitter always requires $e = 0.0$)."
   ]
  },
  {
   "cell_type": "code",
   "execution_count": 111,
   "metadata": {},
   "outputs": [],
   "source": [
    "# Create a light curve with the fit parameters\n",
    "fit1 = ph.integratedlc_fitter(time1, per_f, rprs_f, a_f, i_f)"
   ]
  },
  {
   "cell_type": "code",
   "execution_count": 112,
   "metadata": {},
   "outputs": [
    {
     "name": "stdout",
     "output_type": "stream",
     "text": [
      "Stellar mass (Msun):  0.5295200429491799 Stellar radius (Rsun):  0.518067430207587\n",
      "\n",
      "\n",
      "Input params:\n",
      "Rp/Rs:  0.014934\n",
      "a/Rs:  14.475152254226384\n",
      "i (deg):  88.1\n",
      "\n",
      "\n",
      "Fit params:\n",
      "Rp/Rs:  0.014726260635240277\n",
      "a/Rs:  20.567174512102\n",
      "i (deg):  89.36052262661333\n"
     ]
    },
    {
     "data": {
      "image/png": "[encoded data removed]",
      "text/plain": [
       "<Figure size 432x288 with 1 Axes>"
      ]
     },
     "metadata": {
      "needs_background": "light"
     },
     "output_type": "display_data"
    }
   ],
   "source": [
    "plt.errorbar(time1, nflux1, yerr=fluxerr1, c='blue', alpha=0.5, label='Original LC')\n",
    "plt.plot(time1, fit1, c='red', alpha=1.0, label='Fit LC')\n",
    "#plt.xlim(-0.1, 0.1)\n",
    "plt.legend()\n",
    "\n",
    "print('Stellar mass (Msun): ', mstar, 'Stellar radius (Rsun): ', rstar)\n",
    "\n",
    "print('\\n')\n",
    "\n",
    "print('Input params:')\n",
    "print('Rp/Rs: ', rprs)\n",
    "print('a/Rs: ', a_rs)\n",
    "print('i (deg): ', i)\n",
    "\n",
    "print('\\n')\n",
    "\n",
    "print('Fit params:')\n",
    "print('Rp/Rs: ', rprs_f)\n",
    "print('a/Rs: ', a_f)\n",
    "print('i (deg): ', i_f)"
   ]
  },
  {
   "cell_type": "markdown",
   "metadata": {},
   "source": [
    "We need to calculate T14 and T23 again, and this time they should differ from the true transit durations because the equations we're using require $e = 0$, and we've input $e = 0.3$."
   ]
  },
  {
   "cell_type": "code",
   "execution_count": 113,
   "metadata": {},
   "outputs": [],
   "source": [
    "T14dist = ph.get_T14(pdist, rdist, adist, idist)\n",
    "T14errs = ph.get_sigmas(T14dist)\n",
    "\n",
    "T23dist = ph.get_T23(pdist, rdist, adist, idist)\n",
    "T23errs = ph.get_sigmas(T23dist)"
   ]
  },
  {
   "cell_type": "markdown",
   "metadata": {},
   "source": [
    "And now, we're getting $g$ in the same way as above, using `ph.get_g_distribution()`. "
   ]
  },
  {
   "cell_type": "code",
   "execution_count": 114,
   "metadata": {},
   "outputs": [],
   "source": [
    "gs, rho_c = ph.get_g_distribution(rho_star, pdist, rdist, T14dist, T23dist)\n",
    "\n",
    "g_mean = ph.mode(gs)\n",
    "g_sigma = np.mean(np.abs(ph.get_sigmas(gs)))"
   ]
  },
  {
   "cell_type": "markdown",
   "metadata": {},
   "source": [
    "Print $g$ and $\\sigma_{g}$:"
   ]
  },
  {
   "cell_type": "code",
   "execution_count": 115,
   "metadata": {},
   "outputs": [
    {
     "data": {
      "text/plain": [
       "1.3918526168309695"
      ]
     },
     "execution_count": 115,
     "metadata": {},
     "output_type": "execute_result"
    }
   ],
   "source": [
    "g_mean"
   ]
  },
  {
   "cell_type": "code",
   "execution_count": 116,
   "metadata": {},
   "outputs": [
    {
     "data": {
      "text/plain": [
       "0.19418813225584652"
      ]
     },
     "execution_count": 116,
     "metadata": {},
     "output_type": "execute_result"
    }
   ],
   "source": [
    "g_sigma"
   ]
  },
  {
   "cell_type": "markdown",
   "metadata": {},
   "source": [
    "The mean of $g$ is not 1 this time. It's about 1.3, which means that $\\rho_{circ}$ differs from $\\rho_{star}$ and the eccentricity of this transit must NOT be zero! This is good. Let's take $g$ and $\\sigma_{g}$ and use MCMC again to see if the most likely $e$ is 0.3, as we input."
   ]
  },
  {
   "cell_type": "code",
   "execution_count": 117,
   "metadata": {},
   "outputs": [],
   "source": [
    "#Guesses\n",
    "w_guess = 0.0\n",
    "e_guess = 0.0\n",
    "\n",
    "solnx = (w_guess, e_guess)\n",
    "pos = solnx + 1e-4 * np.random.randn(32, 2)\n",
    "nwalkers, ndim = pos.shape"
   ]
  },
  {
   "cell_type": "code",
   "execution_count": 118,
   "metadata": {
    "scrolled": true
   },
   "outputs": [
    {
     "name": "stderr",
     "output_type": "stream",
     "text": [
      "  0%|          | 0/5000 [00:00<?, ?it/s]/Users/ssagear/anaconda3/lib/python3.8/site-packages/emcee/moves/red_blue.py:99: RuntimeWarning: invalid value encountered in double_scalars\n",
      "  lnpdiff = f + nlp - state.log_prob[j]\n",
      "100%|██████████| 5000/5000 [00:04<00:00, 1133.22it/s]\n"
     ]
    }
   ],
   "source": [
    "sampler = emcee.EnsembleSampler(nwalkers, ndim, ph.log_probability, args=(g_mean, g_sigma), threads=4)\n",
    "sampler.run_mcmc(pos, 5000, progress=True);"
   ]
  },
  {
   "cell_type": "code",
   "execution_count": 119,
   "metadata": {},
   "outputs": [
    {
     "data": {
      "image/png": "[encoded data removed]",
      "text/plain": [
       "<Figure size 396x396 with 4 Axes>"
      ]
     },
     "metadata": {
      "needs_background": "light"
     },
     "output_type": "display_data"
    }
   ],
   "source": [
    "labels = [\"w\", \"e\"]\n",
    "\n",
    "flat_samples = sampler.get_chain(discard=100, thin=15, flat=True)\n",
    "fig = corner.corner(flat_samples, labels=labels, show_titles=True, title_kwargs={\"fontsize\": 12}, truths=[90.0, 0.3], quantiles=[0.16, 0.5, 0.84], plot_contours=True)"
   ]
  },
  {
   "cell_type": "markdown",
   "metadata": {},
   "source": [
    "Here is the corner plot for the most likely values of $(e, w)$ that correspond to $g = 1.3$. This $e$ distribution peaks at about 0.3, which is exactly what we expect based on the transit we created!"
   ]
  },
  {
   "cell_type": "code",
   "execution_count": null,
   "metadata": {},
   "outputs": [],
   "source": []
  },
  {
   "cell_type": "markdown",
   "metadata": {},
   "source": [
    "# $e=0.3$, $w=-90.0$"
   ]
  },
  {
   "cell_type": "markdown",
   "metadata": {},
   "source": [
    "Let's do one more, this time a planet with the same eccentricity $e = 0.3$, but where the longitude of periastron $\\omega$ is -90 deg (insteadl of 90 deg). This means that this planet would be passing in front of the star (from our perspective) at the \"long\" side of its orbital ellipse, instead of the \"short\" side. A planet with $\\omega = -90$ will produce the longest transit possible, while a planet with $\\omega = +90$ will produce the shortest transit possible, assuming that all other parameters are the same. \n",
    "\n",
    "`photoeccentric` should catch onto this, and produce an $(e, w)$ surface that corresponds to the most likely $w$."
   ]
  },
  {
   "cell_type": "code",
   "execution_count": 196,
   "metadata": {},
   "outputs": [],
   "source": [
    "time = np.arange(-25, 25, cadence)"
   ]
  },
  {
   "cell_type": "code",
   "execution_count": 197,
   "metadata": {},
   "outputs": [],
   "source": [
    "# Calculate flux from transit model\n",
    "e = 0.3\n",
    "w = -90.0\n",
    "flux = ph.integratedlc(time, period, rprs, a_rs, 0.3, i, -90.0)\n",
    "\n",
    "# Adding some gaussian noise\n",
    "noise = np.random.normal(0,0.000006,len(time))\n",
    "nflux = flux+noise\n",
    "\n",
    "flux_err = np.array([0.000006]*len(nflux))"
   ]
  },
  {
   "cell_type": "code",
   "execution_count": 198,
   "metadata": {},
   "outputs": [
    {
     "data": {
      "text/plain": [
       "Text(0, 0.5, 'Flux')"
      ]
     },
     "execution_count": 198,
     "metadata": {},
     "output_type": "execute_result"
    },
    {
     "data": {
      "image/png": "[encoded data removed]",
      "text/plain": [
       "<Figure size 432x288 with 1 Axes>"
      ]
     },
     "metadata": {
      "needs_background": "light"
     },
     "output_type": "display_data"
    }
   ],
   "source": [
    "plt.errorbar(time, nflux, yerr=flux_err)\n",
    "plt.xlabel('Time')\n",
    "plt.ylabel('Flux')\n",
    "#plt.xlim(-1, 1)"
   ]
  },
  {
   "cell_type": "markdown",
   "metadata": {},
   "source": [
    "## Fitting the transit"
   ]
  },
  {
   "cell_type": "markdown",
   "metadata": {},
   "source": [
    "Using astropy BLS:"
   ]
  },
  {
   "cell_type": "code",
   "execution_count": 199,
   "metadata": {},
   "outputs": [],
   "source": [
    "periodPDF = ph.get_period_dist(time, nflux, 3, 5, arrlen)"
   ]
  },
  {
   "cell_type": "code",
   "execution_count": 200,
   "metadata": {},
   "outputs": [
    {
     "name": "stdout",
     "output_type": "stream",
     "text": [
      "Period fit:  3.2626262626262625\n"
     ]
    }
   ],
   "source": [
    "print('Period fit: ', ph.mode(periodPDF))\n",
    "pdist = periodPDF"
   ]
  },
  {
   "cell_type": "markdown",
   "metadata": {},
   "source": [
    "And fitting the transit using `ph.planetlc_fitter()`.\n",
    "\n",
    "The true eccentricity of this orbit is again not zero, so the transit fitter should fit the wrong values for $a/Rs$ and $i$ in a way that reveals the eccentricity of the orbit.\n",
    "\n",
    "I enter an initial guess based on what I estimate the fit parameters will be: here, I'll try guesses for $a/Rs$ and $i$ that are slightly smaller than both of these true values."
   ]
  },
  {
   "cell_type": "code",
   "execution_count": 201,
   "metadata": {},
   "outputs": [],
   "source": [
    "ttimes = np.concatenate((-np.arange(0, time[-1], period)[1:], np.arange(0, time[-1], period)))\n",
    "ttimes = np.sort(ttimes)\n",
    "\n",
    "time1, nflux1, fluxerr1 = ph.get_transit_cutout_full(ttimes, 4, time, nflux, flux_err)"
   ]
  },
  {
   "cell_type": "code",
   "execution_count": 202,
   "metadata": {},
   "outputs": [],
   "source": [
    "mid = ph.get_mid(time1)\n",
    "ptime1 = ph.get_ptime(time1, mid, 29)"
   ]
  },
  {
   "cell_type": "code",
   "execution_count": 204,
   "metadata": {},
   "outputs": [
    {
     "name": "stderr",
     "output_type": "stream",
     "text": [
      "100%|██████████| 1000/1000 [04:07<00:00,  4.04it/s]\n"
     ]
    }
   ],
   "source": [
    "# Inital guess: period, rprs, a/Rs, i, w\n",
    "p0 = [per_guess, rprs, 8, 87]\n",
    "\n",
    "dr = 'e_' + str(e) + '_w_' + str(w)\n",
    "direct = 'plots_tutorial/' + dr + '/'\n",
    "\n",
    "if not os.path.exists(direct):\n",
    "    os.mkdir(direct)\n",
    "\n",
    "# EMCEE Transit Model Fitting\n",
    "_, _, pdist, rdist, adist, idist = ph.mcmc_fitter(p0, time1, ptime1, nflux1, fluxerr1, nwalk, nsteps, ndiscard, e, w, direct)\n",
    "\n"
   ]
  },
  {
   "cell_type": "code",
   "execution_count": 205,
   "metadata": {},
   "outputs": [],
   "source": [
    "per_f = ph.mode(pdist)\n",
    "rprs_f = ph.mode(rdist)\n",
    "a_f = ph.mode(adist)\n",
    "i_f = ph.mode(idist)"
   ]
  },
  {
   "cell_type": "code",
   "execution_count": 206,
   "metadata": {},
   "outputs": [],
   "source": [
    "# Create a light curve with the fit parameters\n",
    "fit1 = ph.integratedlc_fitter(time1, per_f, rprs_f, a_f, i_f)"
   ]
  },
  {
   "cell_type": "markdown",
   "metadata": {},
   "source": [
    "Printing the original and fit parameters, and plotting the original and fit light curves:"
   ]
  },
  {
   "cell_type": "code",
   "execution_count": 207,
   "metadata": {},
   "outputs": [
    {
     "name": "stdout",
     "output_type": "stream",
     "text": [
      "Stellar mass (Msun):  0.5295200429491799 Stellar radius (Rsun):  0.518067430207587\n",
      "\n",
      "\n",
      "Input params:\n",
      "Rp/Rs:  0.014934\n",
      "a/Rs:  14.475152254226384\n",
      "i (deg):  88.1\n",
      "\n",
      "\n",
      "Fit params:\n",
      "Rp/Rs:  0.014000355417754977\n",
      "a/Rs:  13.402819598371924\n",
      "i (deg):  88.68061377731348\n"
     ]
    },
    {
     "data": {
      "image/png": "[encoded data removed]",
      "text/plain": [
       "<Figure size 432x288 with 1 Axes>"
      ]
     },
     "metadata": {
      "needs_background": "light"
     },
     "output_type": "display_data"
    }
   ],
   "source": [
    "plt.errorbar(time1, nflux1, yerr=fluxerr1, c='blue', alpha=0.5, label='Original LC')\n",
    "plt.plot(time1, fit1, c='red', alpha=1.0, label='Fit LC')\n",
    "#plt.xlim(-0.1, 0.1)\n",
    "plt.legend()\n",
    "\n",
    "print('Stellar mass (Msun): ', mstar, 'Stellar radius (Rsun): ', rstar)\n",
    "\n",
    "print('\\n')\n",
    "\n",
    "print('Input params:')\n",
    "print('Rp/Rs: ', rprs)\n",
    "print('a/Rs: ', a_rs)\n",
    "print('i (deg): ', i)\n",
    "\n",
    "print('\\n')\n",
    "\n",
    "print('Fit params:')\n",
    "print('Rp/Rs: ', rprs_f)\n",
    "print('a/Rs: ', a_f)\n",
    "print('i (deg): ', i_f)"
   ]
  },
  {
   "cell_type": "markdown",
   "metadata": {},
   "source": [
    "We need to calculate T14 and T23 again, and this time they should differ from the true transit durations because the equations we're using require $e = 0$, and we've input $e = 0.3$. \n",
    "\n",
    "How will `ph.get_T14()` and `ph.get_T23()` know that the planet is transiting at apoapse ($\\omega = -90$) instead of periapse ($\\omega = 90$)? Because the fit values for $a/Rs$ and $i$ compensate for the change in transit duration! All the information we need is encoded into the fit $a/Rs$ and $i$."
   ]
  },
  {
   "cell_type": "code",
   "execution_count": 208,
   "metadata": {},
   "outputs": [],
   "source": [
    "T14dist = ph.get_T14(pdist, rdist, adist, idist)\n",
    "T14errs = ph.get_sigmas(T14dist)\n",
    "\n",
    "T23dist = ph.get_T23(pdist, rdist, adist, idist)\n",
    "T23errs = ph.get_sigmas(T23dist)"
   ]
  },
  {
   "cell_type": "code",
   "execution_count": 209,
   "metadata": {},
   "outputs": [],
   "source": [
    "gs, rho_c = ph.get_g_distribution(rho_star, pdist, rdist, T14dist, T23dist)\n",
    "\n",
    "g_mean = ph.mode(gs)\n",
    "g_sigma = np.mean(np.abs(ph.get_sigmas(gs)))"
   ]
  },
  {
   "cell_type": "markdown",
   "metadata": {},
   "source": [
    "Print $g$ and $\\sigma_{g}$:"
   ]
  },
  {
   "cell_type": "code",
   "execution_count": 210,
   "metadata": {},
   "outputs": [
    {
     "data": {
      "text/plain": [
       "0.9173095661563628"
      ]
     },
     "execution_count": 210,
     "metadata": {},
     "output_type": "execute_result"
    }
   ],
   "source": [
    "g_mean"
   ]
  },
  {
   "cell_type": "code",
   "execution_count": 211,
   "metadata": {},
   "outputs": [
    {
     "data": {
      "text/plain": [
       "0.10313800334354684"
      ]
     },
     "execution_count": 211,
     "metadata": {},
     "output_type": "execute_result"
    }
   ],
   "source": [
    "g_sigma"
   ]
  },
  {
   "cell_type": "markdown",
   "metadata": {},
   "source": [
    "The mean of $g$ this time is about 0.7. Again, this means that $\\rho_{circ}$ differs from $\\rho_{star}$ and the eccentricity must not be zero. \n",
    "\n",
    "But why is g less than 1, when in the previous example (with the same eccentricity) g was greater than 1?\n",
    "\n",
    "Let's take $g$ and $\\sigma_{g}$ and use MCMC again to see what the most likely $(e, w)$ surface looks like."
   ]
  },
  {
   "cell_type": "code",
   "execution_count": 212,
   "metadata": {},
   "outputs": [],
   "source": [
    "#Guesses\n",
    "w_guess = 0.0\n",
    "e_guess = 0.0\n",
    "\n",
    "solnx = (w_guess, e_guess)\n",
    "pos = solnx + 1e-4 * np.random.randn(32, 2)\n",
    "nwalkers, ndim = pos.shape"
   ]
  },
  {
   "cell_type": "code",
   "execution_count": 213,
   "metadata": {
    "scrolled": true
   },
   "outputs": [
    {
     "name": "stderr",
     "output_type": "stream",
     "text": [
      "  0%|          | 0/5000 [00:00<?, ?it/s]/Users/ssagear/anaconda3/lib/python3.8/site-packages/emcee/moves/red_blue.py:99: RuntimeWarning: invalid value encountered in double_scalars\n",
      "  lnpdiff = f + nlp - state.log_prob[j]\n",
      "100%|██████████| 5000/5000 [00:03<00:00, 1260.02it/s]\n"
     ]
    }
   ],
   "source": [
    "sampler = emcee.EnsembleSampler(nwalkers, ndim, ph.log_probability, args=(g_mean, g_sigma), threads=4)\n",
    "sampler.run_mcmc(pos, 5000, progress=True);"
   ]
  },
  {
   "cell_type": "code",
   "execution_count": 214,
   "metadata": {},
   "outputs": [
    {
     "data": {
      "image/png": "[encoded data removed]",
      "text/plain": [
       "<Figure size 396x396 with 4 Axes>"
      ]
     },
     "metadata": {
      "needs_background": "light"
     },
     "output_type": "display_data"
    }
   ],
   "source": [
    "labels = [\"w\", \"e\"]\n",
    "\n",
    "flat_samples = sampler.get_chain(discard=100, thin=15, flat=True)\n",
    "fig = corner.corner(flat_samples, labels=labels, show_titles=True, title_kwargs={\"fontsize\": 12}, truths=[-90.0, 0.3], quantiles=[0.16, 0.5, 0.84], plot_contours=True)"
   ]
  },
  {
   "cell_type": "markdown",
   "metadata": {},
   "source": [
    "In this corner plot, $e$ peaks at about 0.3 again! The $\\omega$ distribution differs though -- this time, where $e = 0.3$ on this distribution, $\\omega$ can equal -90. (If you look back at the previous example, $e = 0.3$ and $\\omega = -90$ was inconsistent with the probability distribution in the corner plot.) So `photoeccentric` was able to accurately determine $(e, w)$ for at least these three cases!"
   ]
  },
  {
   "cell_type": "code",
   "execution_count": null,
   "metadata": {},
   "outputs": [],
   "source": []
  },
  {
   "cell_type": "code",
   "execution_count": null,
   "metadata": {},
   "outputs": [],
   "source": []
  }
 ],
 "metadata": {
  "kernelspec": {
   "display_name": "Python 3",
   "language": "python",
   "name": "python3"
  },
  "language_info": {
   "codemirror_mode": {
    "name": "ipython",
    "version": 3
   },
   "file_extension": ".py",
   "mimetype": "text/x-python",
   "name": "python",
   "nbconvert_exporter": "python",
   "pygments_lexer": "ipython3",
   "version": "3.8.5"
  }
 },
 "nbformat": 4,
 "nbformat_minor": 4
}
