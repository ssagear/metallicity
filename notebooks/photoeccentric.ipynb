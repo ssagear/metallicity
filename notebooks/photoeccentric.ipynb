{
 "cells": [
  {
   "cell_type": "markdown",
   "metadata": {},
   "source": [
    "# Fitting for $e$ and $w$"
   ]
  },
  {
   "cell_type": "code",
   "execution_count": 10,
   "metadata": {},
   "outputs": [],
   "source": [
    "import numpy as np\n",
    "import matplotlib.pyplot as plt\n",
    "import pandas as pd\n",
    "import sys\n",
    "import scipy.constants as c\n",
    "from tqdm import tqdm\n",
    "import PyAstronomy.pyasl as pya\n",
    "\n",
    "import photoeccentric as ph\n",
    "import emcee\n",
    "import corner\n",
    "\n",
    "np.set_printoptions(threshold=sys.maxsize)\n",
    "plt.rcParams['figure.figsize'] = [10, 5]"
   ]
  },
  {
   "cell_type": "code",
   "execution_count": 2,
   "metadata": {},
   "outputs": [],
   "source": [
    "def get_T23(p, rp_earth, rs, T14, a, i):\n",
    "    \n",
    "    ing_eg = 2*pya.ingressDuration(a, rp_earth*11.2, rs, i, p)#rp needs to in jovian radii\n",
    "    T23 = T14-ing_eg\n",
    "    \n",
    "    return T23\n",
    "\n",
    "def get_T23_errs(T23_dist):\n",
    "    \n",
    "    x, cdf = mt.get_cdf(T23_dist)\n",
    "    T23_sigma_minus = mt.find_sigma(x, cdf, \"-\")\n",
    "    T23_sigma_plus = mt.find_sigma(x, cdf, \"+\")\n",
    "    \n",
    "    return T23_sigma_minus, T23_sigma_plus\n",
    "\n",
    "\n",
    "def get_planet_params(p, T14, T23):\n",
    "    \"\"\"Returns planet parameters in correct units.\n",
    "\n",
    "    Parameters\n",
    "    ----------\n",
    "    p: float\n",
    "        Planet orbital period (days)\n",
    "    rp_earth: float\n",
    "        Planet radius (earth radii)\n",
    "    rs: float\n",
    "        Stellar radius (solar radii)\n",
    "    T14: float\n",
    "        Total transit time - first to fourth contact (hours)\n",
    "    a: float\n",
    "        Planet semi-major axis (AU)\n",
    "    i: float\n",
    "        Orbital inclination (degrees)\n",
    "\n",
    "    Returns\n",
    "    -------\n",
    "    p_seconds: float\n",
    "        Orbital period (seconds)\n",
    "    rprs: float\n",
    "        Planet radius (stellar host radii)\n",
    "    T14_seconds: float\n",
    "        Total transit time - first to fourth contact (seconds)\n",
    "    T23_seconds: float\n",
    "        Full transit time - second to third contact (seconds)\n",
    "    \"\"\"\n",
    "\n",
    "    p_seconds = p*86400\n",
    "    T14_seconds = T14*3600\n",
    "    T23_seconds = T23*3600\n",
    "\n",
    "    return p_seconds, T14_seconds, T23_seconds\n",
    "\n",
    "\n",
    "def get_rho_circ(rprs, T14, T23, p):\n",
    "    \"\"\"Returns stellar density, assuming a perfectly circular planetary orbit.\n",
    "\n",
    "    Parameters\n",
    "    ----------\n",
    "    rprs: float\n",
    "        Planet radius (stellar host radii)\n",
    "    T14: float\n",
    "        Total transit time - first to fourth contact (seconds)\n",
    "    T23: float\n",
    "        Full transit time - second to third contact (seconds)\n",
    "    p: float\n",
    "        Orbital period (seconds)\n",
    "\n",
    "    Returns\n",
    "    -------\n",
    "    rho_circ: float\n",
    "        Stellar density, assuming a circular orbit (kg/m^3)\n",
    "    \"\"\"\n",
    "    \n",
    "    delta = rprs**2\n",
    "    num1 = 2*(delta**(0.25))\n",
    "    den1 = np.sqrt((T14**2)-(T23**2))\n",
    "    term1 = (num1/den1)**3\n",
    "\n",
    "    num2 = 3*p\n",
    "    den2 = c.G*(c.pi**2)\n",
    "    term2 = num2/den2\n",
    "\n",
    "    rho_circ = term1*term2\n",
    "    \n",
    "    return rho_circ\n",
    "\n",
    "\n",
    "def get_g(rho_circ, rho_star):\n",
    "    \"\"\"Gets g\n",
    "\n",
    "    Parameters\n",
    "    ----------\n",
    "    rho_circ: float\n",
    "        Stellar density, assuming a circular orbit (kg/m^3)\n",
    "    rho_star: float\n",
    "        Stellar density, calculated from Kepler/Gaia/spectroscopy (kg/m^3)\n",
    "\n",
    "    Returns\n",
    "    -------\n",
    "    g: float\n",
    "        Cube root of ratio between rho_circ and rho_star\n",
    "    \"\"\"\n",
    "    g = np.cbrt(rho_circ/rho_star)\n",
    "    return g\n",
    "\n",
    "def get_g_from_def(e, w):\n",
    "    \"\"\"Gets g from e and omega\n",
    "\n",
    "    Parameters\n",
    "    ----------\n",
    "    e: float\n",
    "        Eccentricity\n",
    "    w: float\n",
    "        Angle of periapse or something\n",
    "\n",
    "    Returns\n",
    "    -------\n",
    "    g: float\n",
    "        Cube root of ratio between rho_circ and rho_star\n",
    "    \"\"\" \n",
    "    g = (1+e*np.sin(w*(np.pi/180.)))/np.sqrt(1-e**2)\n",
    "    return g\n",
    "\n",
    "\n",
    "def get_e(g, w):\n",
    "    \"\"\"Gets eccentricity (from photoeccentric effect)\n",
    "\n",
    "    Parameters\n",
    "    ----------\n",
    "    g: float\n",
    "        Cube root of ratio between rho_circ and rho_star\n",
    "    w: float\n",
    "        Angle of apoapse or periapse (?) (degrees, -90 < w < 90)\n",
    "\n",
    "    Returns\n",
    "    -------\n",
    "    e: float\n",
    "        Eccentricity of planet orbit\n",
    "    \"\"\"\n",
    "    e = (np.sqrt(2)*(np.sqrt(2*g**4 - g**2*np.cos(2*w) - g**2 - 2*np.sin(w*(np.pi/180.)))))/(2*(g**2 + np.sin(w*(np.pi/180.)**2)))\n",
    "    return e"
   ]
  },
  {
   "cell_type": "markdown",
   "metadata": {},
   "source": [
    "1. Read in rhos for all Kepler stars with planets (with spectroscopy)\n",
    "2. Read in all Kepler stars with planets (from exoplanet archive)\n",
    "3. Take data from (2) for stars in (1)"
   ]
  },
  {
   "cell_type": "code",
   "execution_count": 3,
   "metadata": {},
   "outputs": [],
   "source": [
    "#Kepler planets with spectroscopy\n",
    "rho_lum = pd.read_csv('/Users/sheilasagear/Dropbox (UFL)/Research/MetallicityProject/Data/rhos/rho_lum.csv')\n",
    "\n",
    "# ALL Kepler planets from exo archive\n",
    "planets = pd.read_csv('/Users/sheilasagear/Dropbox (UFL)/Research/MetallicityProject/Data/exoplanetarchive/cumulative_kois.csv')\n",
    "\n",
    "spectplanets = planets[planets['kepid'].isin(list(rho_lum.columns))]\n",
    "spectplanets = spectplanets.reset_index()"
   ]
  },
  {
   "cell_type": "code",
   "execution_count": 4,
   "metadata": {},
   "outputs": [],
   "source": [
    "spectplanets = spectplanets.reset_index()"
   ]
  },
  {
   "cell_type": "raw",
   "metadata": {},
   "source": [
    "for targ in spectplanets.itertuples():\n",
    "    \n",
    "    print(targ.koi_sma)\n",
    "    print(targ.koi_srad*0.00465047)\n",
    "    \n",
    "#a/r_star\n",
    "0.0798/0.0021996723100000002\n",
    "36.27813090032487"
   ]
  },
  {
   "cell_type": "code",
   "execution_count": 5,
   "metadata": {},
   "outputs": [],
   "source": [
    "def row_to_top(df, index):\n",
    "    \"\"\"Bring row to top\n",
    "    \n",
    "    Parameters\n",
    "    ----------\n",
    "    df: pandas.dataframe\n",
    "        Dataframe to copy\n",
    "    index: int\n",
    "        Index of row to bring to top\n",
    "        \n",
    "    Returns\n",
    "    -------\n",
    "    df_cp: pandas.dataframe\n",
    "        Copy of dataframe with specified row at top\n",
    "    \n",
    "    \"\"\"\n",
    "    df_cp = pd.concat([df.iloc[[index],:], df.drop(index, axis=0)], axis=0)\n",
    "    return df_cp"
   ]
  },
  {
   "cell_type": "code",
   "execution_count": 6,
   "metadata": {},
   "outputs": [],
   "source": [
    "\n",
    "def get_g_distribution(row, n_rhos):\n",
    "    \"\"\"Gets g distribution for a KOI.\n",
    "    \n",
    "    Parameters\n",
    "    ----------\n",
    "    row: int\n",
    "        Row in pandas.dataframe of info from Exoplanet Archive. (change this to take KIC/KOI)\n",
    "    n_rhos: int\n",
    "        Number of values in distribution\n",
    "        \n",
    "    Returns\n",
    "    -------\n",
    "    gs: np.array\n",
    "        g distribution for star/planet.\n",
    "    \"\"\"\n",
    "\n",
    "    targ = spectplanets.iloc[row]\n",
    "    print('KIC: ', targ.kepid)\n",
    "\n",
    "    rhos = rho_lum[str(targ.kepid)].dropna()\n",
    "    rhos = np.array(rhos)\n",
    "\n",
    "    while len(rhos) > n_rhos:\n",
    "        rhos = np.delete(rhos, [np.random.randint(0, len(rhos))])\n",
    "\n",
    "    #ws = np.arange(-90., 300., 1.)\n",
    "\n",
    "    gs = np.zeros((len(rhos)))\n",
    "    #es = np.zeros(len(rhos))\n",
    "    #es = np.zeros((len(ws), len(rhos)))\n",
    "\n",
    "    rho_circ = np.zeros(len(rhos))\n",
    "    rho_ratios = np.zeros(len(rhos))\n",
    "    T23_dist = np.zeros((len(rhos)))\n",
    "\n",
    "    per_dist = mt.asymmetric_gaussian(targ.koi_period, targ.koi_period_err1, targ.koi_period_err2, len(rhos))\n",
    "    \n",
    "    rs_dist = mt.asymmetric_gaussian(targ.koi_srad, targ.koi_srad_err1, targ.koi_srad_err2, len(rhos))\n",
    "    rp_earth_dist = mt.asymmetric_gaussian(targ.koi_prad, targ.koi_prad_err1, targ.koi_prad_err2, len(rhos))\n",
    "    rprs_dist = mt.asymmetric_gaussian(targ.koi_ror, targ.koi_ror_err1, targ.koi_ror_err2, len(rhos))\n",
    "\n",
    "    T14_dist = mt.asymmetric_gaussian(targ.koi_duration, targ.koi_duration_err1, targ.koi_duration_err2, len(rhos))\n",
    "\n",
    "    a = targ.koi_sma\n",
    "    i = targ.koi_incl\n",
    "\n",
    "    for j in tqdm(range(len(rhos))): #for element in histogram for star:\n",
    "        T23_dist[j] = get_T23(per_dist[j], rp_earth_dist[j], rs_dist[j], T14_dist[j], a, i)\n",
    "        \n",
    "        p_seconds, T14_seconds, T23_seconds = get_planet_params(per_dist[j], T14_dist[j], T23_dist[j])\n",
    "        rho_circ[j] = get_rho_circ(rprs_dist[j], T14_seconds, T23_seconds, p_seconds)\n",
    "\n",
    "        rho_ratios[j] = rho_circ[j]/rhos[j]\n",
    "        g = get_g(rho_circ[j], rhos[j])\n",
    "        gs[j] = g\n",
    "\n",
    "    return gs\n",
    "    "
   ]
  },
  {
   "cell_type": "code",
   "execution_count": 7,
   "metadata": {},
   "outputs": [
    {
     "data": {
      "text/html": [
       "<div>\n",
       "<style scoped>\n",
       "    .dataframe tbody tr th:only-of-type {\n",
       "        vertical-align: middle;\n",
       "    }\n",
       "\n",
       "    .dataframe tbody tr th {\n",
       "        vertical-align: top;\n",
       "    }\n",
       "\n",
       "    .dataframe thead th {\n",
       "        text-align: right;\n",
       "    }\n",
       "</style>\n",
       "<table border=\"1\" class=\"dataframe\">\n",
       "  <thead>\n",
       "    <tr style=\"text-align: right;\">\n",
       "      <th></th>\n",
       "      <th>level_0</th>\n",
       "      <th>index</th>\n",
       "      <th>kepid</th>\n",
       "      <th>kepoi_name</th>\n",
       "      <th>kepler_name</th>\n",
       "      <th>koi_disposition</th>\n",
       "      <th>koi_vet_stat</th>\n",
       "      <th>koi_vet_date</th>\n",
       "      <th>koi_pdisposition</th>\n",
       "      <th>koi_score</th>\n",
       "      <th>...</th>\n",
       "      <th>koi_dicco_mdec</th>\n",
       "      <th>koi_dicco_mdec_err</th>\n",
       "      <th>koi_dicco_msky</th>\n",
       "      <th>koi_dicco_msky_err</th>\n",
       "      <th>koi_dikco_mra</th>\n",
       "      <th>koi_dikco_mra_err</th>\n",
       "      <th>koi_dikco_mdec</th>\n",
       "      <th>koi_dikco_mdec_err</th>\n",
       "      <th>koi_dikco_msky</th>\n",
       "      <th>koi_dikco_msky_err</th>\n",
       "    </tr>\n",
       "  </thead>\n",
       "  <tbody>\n",
       "    <tr>\n",
       "      <th>0</th>\n",
       "      <td>0</td>\n",
       "      <td>64</td>\n",
       "      <td>11923270</td>\n",
       "      <td>K00781.01</td>\n",
       "      <td>Kepler-676 b</td>\n",
       "      <td>CONFIRMED</td>\n",
       "      <td>Done</td>\n",
       "      <td>8/16/18</td>\n",
       "      <td>CANDIDATE</td>\n",
       "      <td>1.000</td>\n",
       "      <td>...</td>\n",
       "      <td>-0.03</td>\n",
       "      <td>0.082</td>\n",
       "      <td>0.066</td>\n",
       "      <td>0.095</td>\n",
       "      <td>0.29</td>\n",
       "      <td>0.110</td>\n",
       "      <td>0.628</td>\n",
       "      <td>0.080</td>\n",
       "      <td>0.690</td>\n",
       "      <td>0.086</td>\n",
       "    </tr>\n",
       "    <tr>\n",
       "      <th>1</th>\n",
       "      <td>1</td>\n",
       "      <td>85</td>\n",
       "      <td>4139816</td>\n",
       "      <td>K00812.02</td>\n",
       "      <td>Kepler-235 d</td>\n",
       "      <td>CONFIRMED</td>\n",
       "      <td>Done</td>\n",
       "      <td>8/16/18</td>\n",
       "      <td>CANDIDATE</td>\n",
       "      <td>1.000</td>\n",
       "      <td>...</td>\n",
       "      <td>-0.03</td>\n",
       "      <td>0.140</td>\n",
       "      <td>0.030</td>\n",
       "      <td>0.140</td>\n",
       "      <td>-0.18</td>\n",
       "      <td>0.140</td>\n",
       "      <td>-0.150</td>\n",
       "      <td>0.140</td>\n",
       "      <td>0.230</td>\n",
       "      <td>0.140</td>\n",
       "    </tr>\n",
       "    <tr>\n",
       "      <th>2</th>\n",
       "      <td>2</td>\n",
       "      <td>86</td>\n",
       "      <td>4139816</td>\n",
       "      <td>K00812.03</td>\n",
       "      <td>Kepler-235 e</td>\n",
       "      <td>CONFIRMED</td>\n",
       "      <td>Done</td>\n",
       "      <td>8/16/18</td>\n",
       "      <td>CANDIDATE</td>\n",
       "      <td>1.000</td>\n",
       "      <td>...</td>\n",
       "      <td>0.04</td>\n",
       "      <td>0.220</td>\n",
       "      <td>0.080</td>\n",
       "      <td>0.210</td>\n",
       "      <td>-0.25</td>\n",
       "      <td>0.170</td>\n",
       "      <td>-0.060</td>\n",
       "      <td>0.160</td>\n",
       "      <td>0.260</td>\n",
       "      <td>0.170</td>\n",
       "    </tr>\n",
       "    <tr>\n",
       "      <th>3</th>\n",
       "      <td>3</td>\n",
       "      <td>88</td>\n",
       "      <td>4139816</td>\n",
       "      <td>K00812.04</td>\n",
       "      <td>Kepler-235 c</td>\n",
       "      <td>CONFIRMED</td>\n",
       "      <td>Done</td>\n",
       "      <td>8/16/18</td>\n",
       "      <td>CANDIDATE</td>\n",
       "      <td>0.994</td>\n",
       "      <td>...</td>\n",
       "      <td>-0.45</td>\n",
       "      <td>0.390</td>\n",
       "      <td>0.550</td>\n",
       "      <td>0.350</td>\n",
       "      <td>0.11</td>\n",
       "      <td>0.300</td>\n",
       "      <td>-0.580</td>\n",
       "      <td>0.430</td>\n",
       "      <td>0.590</td>\n",
       "      <td>0.400</td>\n",
       "    </tr>\n",
       "    <tr>\n",
       "      <th>4</th>\n",
       "      <td>4</td>\n",
       "      <td>105</td>\n",
       "      <td>4139816</td>\n",
       "      <td>K00812.01</td>\n",
       "      <td>Kepler-235 b</td>\n",
       "      <td>CONFIRMED</td>\n",
       "      <td>Done</td>\n",
       "      <td>8/16/18</td>\n",
       "      <td>CANDIDATE</td>\n",
       "      <td>1.000</td>\n",
       "      <td>...</td>\n",
       "      <td>0.05</td>\n",
       "      <td>0.097</td>\n",
       "      <td>0.060</td>\n",
       "      <td>0.110</td>\n",
       "      <td>-0.15</td>\n",
       "      <td>0.092</td>\n",
       "      <td>-0.039</td>\n",
       "      <td>0.092</td>\n",
       "      <td>0.154</td>\n",
       "      <td>0.092</td>\n",
       "    </tr>\n",
       "    <tr>\n",
       "      <th>...</th>\n",
       "      <td>...</td>\n",
       "      <td>...</td>\n",
       "      <td>...</td>\n",
       "      <td>...</td>\n",
       "      <td>...</td>\n",
       "      <td>...</td>\n",
       "      <td>...</td>\n",
       "      <td>...</td>\n",
       "      <td>...</td>\n",
       "      <td>...</td>\n",
       "      <td>...</td>\n",
       "      <td>...</td>\n",
       "      <td>...</td>\n",
       "      <td>...</td>\n",
       "      <td>...</td>\n",
       "      <td>...</td>\n",
       "      <td>...</td>\n",
       "      <td>...</td>\n",
       "      <td>...</td>\n",
       "      <td>...</td>\n",
       "      <td>...</td>\n",
       "    </tr>\n",
       "    <tr>\n",
       "      <th>92</th>\n",
       "      <td>92</td>\n",
       "      <td>7186</td>\n",
       "      <td>5384713</td>\n",
       "      <td>K03444.04</td>\n",
       "      <td>NaN</td>\n",
       "      <td>CANDIDATE</td>\n",
       "      <td>Done</td>\n",
       "      <td>8/16/18</td>\n",
       "      <td>CANDIDATE</td>\n",
       "      <td>0.000</td>\n",
       "      <td>...</td>\n",
       "      <td>1.20</td>\n",
       "      <td>0.720</td>\n",
       "      <td>1.210</td>\n",
       "      <td>0.730</td>\n",
       "      <td>0.21</td>\n",
       "      <td>0.930</td>\n",
       "      <td>1.570</td>\n",
       "      <td>0.890</td>\n",
       "      <td>1.580</td>\n",
       "      <td>0.910</td>\n",
       "    </tr>\n",
       "    <tr>\n",
       "      <th>93</th>\n",
       "      <td>93</td>\n",
       "      <td>7588</td>\n",
       "      <td>10122538</td>\n",
       "      <td>K02926.03</td>\n",
       "      <td>Kepler-1388 d</td>\n",
       "      <td>CONFIRMED</td>\n",
       "      <td>Done</td>\n",
       "      <td>8/16/18</td>\n",
       "      <td>CANDIDATE</td>\n",
       "      <td>1.000</td>\n",
       "      <td>...</td>\n",
       "      <td>-0.06</td>\n",
       "      <td>0.190</td>\n",
       "      <td>0.140</td>\n",
       "      <td>0.210</td>\n",
       "      <td>-0.10</td>\n",
       "      <td>0.100</td>\n",
       "      <td>-0.180</td>\n",
       "      <td>0.230</td>\n",
       "      <td>0.210</td>\n",
       "      <td>0.210</td>\n",
       "    </tr>\n",
       "    <tr>\n",
       "      <th>94</th>\n",
       "      <td>94</td>\n",
       "      <td>7606</td>\n",
       "      <td>10122538</td>\n",
       "      <td>K02926.04</td>\n",
       "      <td>Kepler-1388 e</td>\n",
       "      <td>CONFIRMED</td>\n",
       "      <td>Done</td>\n",
       "      <td>8/16/18</td>\n",
       "      <td>CANDIDATE</td>\n",
       "      <td>1.000</td>\n",
       "      <td>...</td>\n",
       "      <td>0.15</td>\n",
       "      <td>0.220</td>\n",
       "      <td>0.250</td>\n",
       "      <td>0.220</td>\n",
       "      <td>-0.02</td>\n",
       "      <td>0.220</td>\n",
       "      <td>0.000</td>\n",
       "      <td>0.200</td>\n",
       "      <td>0.020</td>\n",
       "      <td>0.220</td>\n",
       "    </tr>\n",
       "    <tr>\n",
       "      <th>95</th>\n",
       "      <td>95</td>\n",
       "      <td>8590</td>\n",
       "      <td>11129738</td>\n",
       "      <td>K01427.02</td>\n",
       "      <td>NaN</td>\n",
       "      <td>CANDIDATE</td>\n",
       "      <td>Done</td>\n",
       "      <td>8/16/18</td>\n",
       "      <td>CANDIDATE</td>\n",
       "      <td>0.891</td>\n",
       "      <td>...</td>\n",
       "      <td>1.05</td>\n",
       "      <td>0.460</td>\n",
       "      <td>1.140</td>\n",
       "      <td>0.460</td>\n",
       "      <td>-0.35</td>\n",
       "      <td>0.460</td>\n",
       "      <td>0.810</td>\n",
       "      <td>0.460</td>\n",
       "      <td>0.880</td>\n",
       "      <td>0.460</td>\n",
       "    </tr>\n",
       "    <tr>\n",
       "      <th>96</th>\n",
       "      <td>96</td>\n",
       "      <td>8593</td>\n",
       "      <td>5531953</td>\n",
       "      <td>K01681.04</td>\n",
       "      <td>NaN</td>\n",
       "      <td>CANDIDATE</td>\n",
       "      <td>Done</td>\n",
       "      <td>8/16/18</td>\n",
       "      <td>CANDIDATE</td>\n",
       "      <td>0.999</td>\n",
       "      <td>...</td>\n",
       "      <td>-0.03</td>\n",
       "      <td>0.550</td>\n",
       "      <td>0.160</td>\n",
       "      <td>0.940</td>\n",
       "      <td>0.00</td>\n",
       "      <td>1.200</td>\n",
       "      <td>-0.280</td>\n",
       "      <td>0.540</td>\n",
       "      <td>0.280</td>\n",
       "      <td>0.580</td>\n",
       "    </tr>\n",
       "  </tbody>\n",
       "</table>\n",
       "<p>97 rows × 142 columns</p>\n",
       "</div>"
      ],
      "text/plain": [
       "    level_0  index     kepid kepoi_name    kepler_name koi_disposition  \\\n",
       "0         0     64  11923270  K00781.01   Kepler-676 b       CONFIRMED   \n",
       "1         1     85   4139816  K00812.02   Kepler-235 d       CONFIRMED   \n",
       "2         2     86   4139816  K00812.03   Kepler-235 e       CONFIRMED   \n",
       "3         3     88   4139816  K00812.04   Kepler-235 c       CONFIRMED   \n",
       "4         4    105   4139816  K00812.01   Kepler-235 b       CONFIRMED   \n",
       "..      ...    ...       ...        ...            ...             ...   \n",
       "92       92   7186   5384713  K03444.04            NaN       CANDIDATE   \n",
       "93       93   7588  10122538  K02926.03  Kepler-1388 d       CONFIRMED   \n",
       "94       94   7606  10122538  K02926.04  Kepler-1388 e       CONFIRMED   \n",
       "95       95   8590  11129738  K01427.02            NaN       CANDIDATE   \n",
       "96       96   8593   5531953  K01681.04            NaN       CANDIDATE   \n",
       "\n",
       "   koi_vet_stat koi_vet_date koi_pdisposition  koi_score  ...  koi_dicco_mdec  \\\n",
       "0          Done      8/16/18        CANDIDATE      1.000  ...           -0.03   \n",
       "1          Done      8/16/18        CANDIDATE      1.000  ...           -0.03   \n",
       "2          Done      8/16/18        CANDIDATE      1.000  ...            0.04   \n",
       "3          Done      8/16/18        CANDIDATE      0.994  ...           -0.45   \n",
       "4          Done      8/16/18        CANDIDATE      1.000  ...            0.05   \n",
       "..          ...          ...              ...        ...  ...             ...   \n",
       "92         Done      8/16/18        CANDIDATE      0.000  ...            1.20   \n",
       "93         Done      8/16/18        CANDIDATE      1.000  ...           -0.06   \n",
       "94         Done      8/16/18        CANDIDATE      1.000  ...            0.15   \n",
       "95         Done      8/16/18        CANDIDATE      0.891  ...            1.05   \n",
       "96         Done      8/16/18        CANDIDATE      0.999  ...           -0.03   \n",
       "\n",
       "    koi_dicco_mdec_err  koi_dicco_msky  koi_dicco_msky_err koi_dikco_mra  \\\n",
       "0                0.082           0.066               0.095          0.29   \n",
       "1                0.140           0.030               0.140         -0.18   \n",
       "2                0.220           0.080               0.210         -0.25   \n",
       "3                0.390           0.550               0.350          0.11   \n",
       "4                0.097           0.060               0.110         -0.15   \n",
       "..                 ...             ...                 ...           ...   \n",
       "92               0.720           1.210               0.730          0.21   \n",
       "93               0.190           0.140               0.210         -0.10   \n",
       "94               0.220           0.250               0.220         -0.02   \n",
       "95               0.460           1.140               0.460         -0.35   \n",
       "96               0.550           0.160               0.940          0.00   \n",
       "\n",
       "   koi_dikco_mra_err  koi_dikco_mdec  koi_dikco_mdec_err  koi_dikco_msky  \\\n",
       "0              0.110           0.628               0.080           0.690   \n",
       "1              0.140          -0.150               0.140           0.230   \n",
       "2              0.170          -0.060               0.160           0.260   \n",
       "3              0.300          -0.580               0.430           0.590   \n",
       "4              0.092          -0.039               0.092           0.154   \n",
       "..               ...             ...                 ...             ...   \n",
       "92             0.930           1.570               0.890           1.580   \n",
       "93             0.100          -0.180               0.230           0.210   \n",
       "94             0.220           0.000               0.200           0.020   \n",
       "95             0.460           0.810               0.460           0.880   \n",
       "96             1.200          -0.280               0.540           0.280   \n",
       "\n",
       "    koi_dikco_msky_err  \n",
       "0                0.086  \n",
       "1                0.140  \n",
       "2                0.170  \n",
       "3                0.400  \n",
       "4                0.092  \n",
       "..                 ...  \n",
       "92               0.910  \n",
       "93               0.210  \n",
       "94               0.220  \n",
       "95               0.460  \n",
       "96               0.580  \n",
       "\n",
       "[97 rows x 142 columns]"
      ]
     },
     "execution_count": 7,
     "metadata": {},
     "output_type": "execute_result"
    }
   ],
   "source": [
    "spectplanets"
   ]
  },
  {
   "cell_type": "code",
   "execution_count": 8,
   "metadata": {},
   "outputs": [
    {
     "name": "stdout",
     "output_type": "stream",
     "text": [
      "KIC:  11923270\n"
     ]
    },
    {
     "name": "stderr",
     "output_type": "stream",
     "text": [
      "100%|██████████| 500/500 [01:23<00:00,  6.00it/s]\n"
     ]
    },
    {
     "name": "stdout",
     "output_type": "stream",
     "text": [
      "KIC:  4139816\n"
     ]
    },
    {
     "name": "stderr",
     "output_type": "stream",
     "text": [
      "100%|██████████| 500/500 [01:20<00:00,  6.22it/s]\n"
     ]
    },
    {
     "name": "stdout",
     "output_type": "stream",
     "text": [
      "KIC:  6435936\n"
     ]
    },
    {
     "name": "stderr",
     "output_type": "stream",
     "text": [
      "100%|██████████| 500/500 [01:08<00:00,  7.32it/s]\n"
     ]
    }
   ],
   "source": [
    "gs_11923270 = get_g_distribution(0, 500)\n",
    "gs_4139816d = get_g_distribution(1, 500)\n",
    "gs_6435936 = get_g_distribution(5, 500)"
   ]
  },
  {
   "cell_type": "code",
   "execution_count": 9,
   "metadata": {},
   "outputs": [
    {
     "name": "stdout",
     "output_type": "stream",
     "text": [
      "KIC:  7907423\n"
     ]
    },
    {
     "name": "stderr",
     "output_type": "stream",
     "text": [
      " 75%|███████▌  | 375/500 [00:50<00:16,  7.41it/s]\n"
     ]
    },
    {
     "ename": "KeyboardInterrupt",
     "evalue": "",
     "output_type": "error",
     "traceback": [
      "\u001b[0;31m---------------------------------------------------------------------------\u001b[0m",
      "\u001b[0;31mKeyboardInterrupt\u001b[0m                         Traceback (most recent call last)",
      "\u001b[0;32m<ipython-input-9-18510c16a1dd>\u001b[0m in \u001b[0;36m<module>\u001b[0;34m\u001b[0m\n\u001b[0;32m----> 1\u001b[0;31m \u001b[0mgs_7907423\u001b[0m \u001b[0;34m=\u001b[0m \u001b[0mget_g_distribution\u001b[0m\u001b[0;34m(\u001b[0m\u001b[0;36m6\u001b[0m\u001b[0;34m,\u001b[0m \u001b[0;36m500\u001b[0m\u001b[0;34m)\u001b[0m\u001b[0;34m\u001b[0m\u001b[0;34m\u001b[0m\u001b[0m\n\u001b[0m",
      "\u001b[0;32m<ipython-input-6-522e5f6e93a1>\u001b[0m in \u001b[0;36mget_g_distribution\u001b[0;34m(row, n_rhos)\u001b[0m\n\u001b[1;32m     46\u001b[0m \u001b[0;34m\u001b[0m\u001b[0m\n\u001b[1;32m     47\u001b[0m     \u001b[0;32mfor\u001b[0m \u001b[0mj\u001b[0m \u001b[0;32min\u001b[0m \u001b[0mtqdm\u001b[0m\u001b[0;34m(\u001b[0m\u001b[0mrange\u001b[0m\u001b[0;34m(\u001b[0m\u001b[0mlen\u001b[0m\u001b[0;34m(\u001b[0m\u001b[0mrhos\u001b[0m\u001b[0;34m)\u001b[0m\u001b[0;34m)\u001b[0m\u001b[0;34m)\u001b[0m\u001b[0;34m:\u001b[0m \u001b[0;31m#for element in histogram for star:\u001b[0m\u001b[0;34m\u001b[0m\u001b[0;34m\u001b[0m\u001b[0m\n\u001b[0;32m---> 48\u001b[0;31m         \u001b[0mT23_dist\u001b[0m\u001b[0;34m[\u001b[0m\u001b[0mj\u001b[0m\u001b[0;34m]\u001b[0m \u001b[0;34m=\u001b[0m \u001b[0mget_T23\u001b[0m\u001b[0;34m(\u001b[0m\u001b[0mper_dist\u001b[0m\u001b[0;34m[\u001b[0m\u001b[0mj\u001b[0m\u001b[0;34m]\u001b[0m\u001b[0;34m,\u001b[0m \u001b[0mrp_earth_dist\u001b[0m\u001b[0;34m[\u001b[0m\u001b[0mj\u001b[0m\u001b[0;34m]\u001b[0m\u001b[0;34m,\u001b[0m \u001b[0mrs_dist\u001b[0m\u001b[0;34m[\u001b[0m\u001b[0mj\u001b[0m\u001b[0;34m]\u001b[0m\u001b[0;34m,\u001b[0m \u001b[0mT14_dist\u001b[0m\u001b[0;34m[\u001b[0m\u001b[0mj\u001b[0m\u001b[0;34m]\u001b[0m\u001b[0;34m,\u001b[0m \u001b[0ma\u001b[0m\u001b[0;34m,\u001b[0m \u001b[0mi\u001b[0m\u001b[0;34m)\u001b[0m\u001b[0;34m\u001b[0m\u001b[0;34m\u001b[0m\u001b[0m\n\u001b[0m\u001b[1;32m     49\u001b[0m \u001b[0;34m\u001b[0m\u001b[0m\n\u001b[1;32m     50\u001b[0m         \u001b[0mp_seconds\u001b[0m\u001b[0;34m,\u001b[0m \u001b[0mT14_seconds\u001b[0m\u001b[0;34m,\u001b[0m \u001b[0mT23_seconds\u001b[0m \u001b[0;34m=\u001b[0m \u001b[0mget_planet_params\u001b[0m\u001b[0;34m(\u001b[0m\u001b[0mper_dist\u001b[0m\u001b[0;34m[\u001b[0m\u001b[0mj\u001b[0m\u001b[0;34m]\u001b[0m\u001b[0;34m,\u001b[0m \u001b[0mT14_dist\u001b[0m\u001b[0;34m[\u001b[0m\u001b[0mj\u001b[0m\u001b[0;34m]\u001b[0m\u001b[0;34m,\u001b[0m \u001b[0mT23_dist\u001b[0m\u001b[0;34m[\u001b[0m\u001b[0mj\u001b[0m\u001b[0;34m]\u001b[0m\u001b[0;34m)\u001b[0m\u001b[0;34m\u001b[0m\u001b[0;34m\u001b[0m\u001b[0m\n",
      "\u001b[0;32m<ipython-input-2-579848be6de9>\u001b[0m in \u001b[0;36mget_T23\u001b[0;34m(p, rp_earth, rs, T14, a, i)\u001b[0m\n\u001b[1;32m      1\u001b[0m \u001b[0;32mdef\u001b[0m \u001b[0mget_T23\u001b[0m\u001b[0;34m(\u001b[0m\u001b[0mp\u001b[0m\u001b[0;34m,\u001b[0m \u001b[0mrp_earth\u001b[0m\u001b[0;34m,\u001b[0m \u001b[0mrs\u001b[0m\u001b[0;34m,\u001b[0m \u001b[0mT14\u001b[0m\u001b[0;34m,\u001b[0m \u001b[0ma\u001b[0m\u001b[0;34m,\u001b[0m \u001b[0mi\u001b[0m\u001b[0;34m)\u001b[0m\u001b[0;34m:\u001b[0m\u001b[0;34m\u001b[0m\u001b[0;34m\u001b[0m\u001b[0m\n\u001b[1;32m      2\u001b[0m \u001b[0;34m\u001b[0m\u001b[0m\n\u001b[0;32m----> 3\u001b[0;31m     \u001b[0ming_eg\u001b[0m \u001b[0;34m=\u001b[0m \u001b[0;36m2\u001b[0m\u001b[0;34m*\u001b[0m\u001b[0mpya\u001b[0m\u001b[0;34m.\u001b[0m\u001b[0mingressDuration\u001b[0m\u001b[0;34m(\u001b[0m\u001b[0ma\u001b[0m\u001b[0;34m,\u001b[0m \u001b[0mrp_earth\u001b[0m\u001b[0;34m*\u001b[0m\u001b[0;36m11.2\u001b[0m\u001b[0;34m,\u001b[0m \u001b[0mrs\u001b[0m\u001b[0;34m,\u001b[0m \u001b[0mi\u001b[0m\u001b[0;34m,\u001b[0m \u001b[0mp\u001b[0m\u001b[0;34m)\u001b[0m\u001b[0;31m#rp needs to in jovian radii\u001b[0m\u001b[0;34m\u001b[0m\u001b[0;34m\u001b[0m\u001b[0m\n\u001b[0m\u001b[1;32m      4\u001b[0m     \u001b[0mT23\u001b[0m \u001b[0;34m=\u001b[0m \u001b[0mT14\u001b[0m\u001b[0;34m-\u001b[0m\u001b[0ming_eg\u001b[0m\u001b[0;34m\u001b[0m\u001b[0;34m\u001b[0m\u001b[0m\n\u001b[1;32m      5\u001b[0m \u001b[0;34m\u001b[0m\u001b[0m\n",
      "\u001b[0;32m~/opt/anaconda3/lib/python3.7/site-packages/PyAstronomy/pyasl/asl/inTransit.py\u001b[0m in \u001b[0;36mingressDuration\u001b[0;34m(sma, rp, rs, inc, period)\u001b[0m\n\u001b[1;32m    121\u001b[0m     \u001b[0;32mfrom\u001b[0m \u001b[0mPyAstronomy\u001b[0m \u001b[0;32mimport\u001b[0m \u001b[0mconstants\u001b[0m \u001b[0;32mas\u001b[0m \u001b[0mPC\u001b[0m\u001b[0;34m\u001b[0m\u001b[0;34m\u001b[0m\u001b[0m\n\u001b[1;32m    122\u001b[0m \u001b[0;34m\u001b[0m\u001b[0m\n\u001b[0;32m--> 123\u001b[0;31m     \u001b[0mc\u001b[0m \u001b[0;34m=\u001b[0m \u001b[0mPC\u001b[0m\u001b[0;34m.\u001b[0m\u001b[0mPyAConstants\u001b[0m\u001b[0;34m(\u001b[0m\u001b[0;34m)\u001b[0m\u001b[0;34m\u001b[0m\u001b[0;34m\u001b[0m\u001b[0m\n\u001b[0m\u001b[1;32m    124\u001b[0m     \u001b[0;31m# Calculate the impact parameter\u001b[0m\u001b[0;34m\u001b[0m\u001b[0;34m\u001b[0m\u001b[0;34m\u001b[0m\u001b[0m\n\u001b[1;32m    125\u001b[0m     \u001b[0mimpact\u001b[0m \u001b[0;34m=\u001b[0m \u001b[0;34m(\u001b[0m\u001b[0msma\u001b[0m \u001b[0;34m*\u001b[0m \u001b[0mc\u001b[0m\u001b[0;34m.\u001b[0m\u001b[0mAU\u001b[0m\u001b[0;34m)\u001b[0m \u001b[0;34m*\u001b[0m \u001b[0mnp\u001b[0m\u001b[0;34m.\u001b[0m\u001b[0mcos\u001b[0m\u001b[0;34m(\u001b[0m\u001b[0minc\u001b[0m \u001b[0;34m/\u001b[0m \u001b[0;36m180.\u001b[0m \u001b[0;34m*\u001b[0m \u001b[0mnp\u001b[0m\u001b[0;34m.\u001b[0m\u001b[0mpi\u001b[0m\u001b[0;34m)\u001b[0m\u001b[0;34m\u001b[0m\u001b[0;34m\u001b[0m\u001b[0m\n",
      "\u001b[0;32m~/opt/anaconda3/lib/python3.7/site-packages/PyAstronomy/constants/itc.py\u001b[0m in \u001b[0;36m__init__\u001b[0;34m(self, fn, unitSystem)\u001b[0m\n\u001b[1;32m    213\u001b[0m     \u001b[0mself\u001b[0m\u001b[0;34m.\u001b[0m\u001b[0minventory\u001b[0m \u001b[0;34m=\u001b[0m \u001b[0;34m{\u001b[0m\u001b[0;34m}\u001b[0m\u001b[0;34m\u001b[0m\u001b[0;34m\u001b[0m\u001b[0m\n\u001b[1;32m    214\u001b[0m     \u001b[0mself\u001b[0m\u001b[0;34m.\u001b[0m\u001b[0m_unitSystem\u001b[0m \u001b[0;34m=\u001b[0m \u001b[0munitSystem\u001b[0m\u001b[0;34m\u001b[0m\u001b[0;34m\u001b[0m\u001b[0m\n\u001b[0;32m--> 215\u001b[0;31m     \u001b[0mself\u001b[0m\u001b[0;34m.\u001b[0m\u001b[0mload\u001b[0m\u001b[0;34m(\u001b[0m\u001b[0mfn\u001b[0m\u001b[0;34m)\u001b[0m\u001b[0;34m\u001b[0m\u001b[0;34m\u001b[0m\u001b[0m\n\u001b[0m\u001b[1;32m    216\u001b[0m \u001b[0;34m\u001b[0m\u001b[0m\n",
      "\u001b[0;32m~/opt/anaconda3/lib/python3.7/site-packages/PyAstronomy/constants/itc.py\u001b[0m in \u001b[0;36mload\u001b[0;34m(self, fn, constClobber)\u001b[0m\n\u001b[1;32m    181\u001b[0m     \"\"\"\n\u001b[1;32m    182\u001b[0m     \u001b[0mconfig\u001b[0m \u001b[0;34m=\u001b[0m \u001b[0m_ConfigParser\u001b[0m\u001b[0;34m.\u001b[0m\u001b[0mRawConfigParser\u001b[0m\u001b[0;34m(\u001b[0m\u001b[0;34m)\u001b[0m\u001b[0;34m\u001b[0m\u001b[0;34m\u001b[0m\u001b[0m\n\u001b[0;32m--> 183\u001b[0;31m     \u001b[0mconfig\u001b[0m\u001b[0;34m.\u001b[0m\u001b[0mread\u001b[0m\u001b[0;34m(\u001b[0m\u001b[0mfn\u001b[0m\u001b[0;34m)\u001b[0m\u001b[0;34m\u001b[0m\u001b[0;34m\u001b[0m\u001b[0m\n\u001b[0m\u001b[1;32m    184\u001b[0m     \u001b[0;32mfor\u001b[0m \u001b[0ms\u001b[0m \u001b[0;32min\u001b[0m \u001b[0mconfig\u001b[0m\u001b[0;34m.\u001b[0m\u001b[0msections\u001b[0m\u001b[0;34m(\u001b[0m\u001b[0;34m)\u001b[0m\u001b[0;34m:\u001b[0m\u001b[0;34m\u001b[0m\u001b[0;34m\u001b[0m\u001b[0m\n\u001b[1;32m    185\u001b[0m       \u001b[0mnc\u001b[0m \u001b[0;34m=\u001b[0m \u001b[0;32mNone\u001b[0m\u001b[0;34m\u001b[0m\u001b[0;34m\u001b[0m\u001b[0m\n",
      "\u001b[0;32m~/opt/anaconda3/lib/python3.7/configparser.py\u001b[0m in \u001b[0;36mread\u001b[0;34m(self, filenames, encoding)\u001b[0m\n\u001b[1;32m    694\u001b[0m             \u001b[0;32mtry\u001b[0m\u001b[0;34m:\u001b[0m\u001b[0;34m\u001b[0m\u001b[0;34m\u001b[0m\u001b[0m\n\u001b[1;32m    695\u001b[0m                 \u001b[0;32mwith\u001b[0m \u001b[0mopen\u001b[0m\u001b[0;34m(\u001b[0m\u001b[0mfilename\u001b[0m\u001b[0;34m,\u001b[0m \u001b[0mencoding\u001b[0m\u001b[0;34m=\u001b[0m\u001b[0mencoding\u001b[0m\u001b[0;34m)\u001b[0m \u001b[0;32mas\u001b[0m \u001b[0mfp\u001b[0m\u001b[0;34m:\u001b[0m\u001b[0;34m\u001b[0m\u001b[0;34m\u001b[0m\u001b[0m\n\u001b[0;32m--> 696\u001b[0;31m                     \u001b[0mself\u001b[0m\u001b[0;34m.\u001b[0m\u001b[0m_read\u001b[0m\u001b[0;34m(\u001b[0m\u001b[0mfp\u001b[0m\u001b[0;34m,\u001b[0m \u001b[0mfilename\u001b[0m\u001b[0;34m)\u001b[0m\u001b[0;34m\u001b[0m\u001b[0;34m\u001b[0m\u001b[0m\n\u001b[0m\u001b[1;32m    697\u001b[0m             \u001b[0;32mexcept\u001b[0m \u001b[0mOSError\u001b[0m\u001b[0;34m:\u001b[0m\u001b[0;34m\u001b[0m\u001b[0;34m\u001b[0m\u001b[0m\n\u001b[1;32m    698\u001b[0m                 \u001b[0;32mcontinue\u001b[0m\u001b[0;34m\u001b[0m\u001b[0;34m\u001b[0m\u001b[0m\n",
      "\u001b[0;32m~/opt/anaconda3/lib/python3.7/configparser.py\u001b[0m in \u001b[0;36m_read\u001b[0;34m(self, fp, fpname)\u001b[0m\n\u001b[1;32m   1082\u001b[0m                     \u001b[0mmo\u001b[0m \u001b[0;34m=\u001b[0m \u001b[0mself\u001b[0m\u001b[0;34m.\u001b[0m\u001b[0m_optcre\u001b[0m\u001b[0;34m.\u001b[0m\u001b[0mmatch\u001b[0m\u001b[0;34m(\u001b[0m\u001b[0mvalue\u001b[0m\u001b[0;34m)\u001b[0m\u001b[0;34m\u001b[0m\u001b[0;34m\u001b[0m\u001b[0m\n\u001b[1;32m   1083\u001b[0m                     \u001b[0;32mif\u001b[0m \u001b[0mmo\u001b[0m\u001b[0;34m:\u001b[0m\u001b[0;34m\u001b[0m\u001b[0;34m\u001b[0m\u001b[0m\n\u001b[0;32m-> 1084\u001b[0;31m                         \u001b[0moptname\u001b[0m\u001b[0;34m,\u001b[0m \u001b[0mvi\u001b[0m\u001b[0;34m,\u001b[0m \u001b[0moptval\u001b[0m \u001b[0;34m=\u001b[0m \u001b[0mmo\u001b[0m\u001b[0;34m.\u001b[0m\u001b[0mgroup\u001b[0m\u001b[0;34m(\u001b[0m\u001b[0;34m'option'\u001b[0m\u001b[0;34m,\u001b[0m \u001b[0;34m'vi'\u001b[0m\u001b[0;34m,\u001b[0m \u001b[0;34m'value'\u001b[0m\u001b[0;34m)\u001b[0m\u001b[0;34m\u001b[0m\u001b[0;34m\u001b[0m\u001b[0m\n\u001b[0m\u001b[1;32m   1085\u001b[0m                         \u001b[0;32mif\u001b[0m \u001b[0;32mnot\u001b[0m \u001b[0moptname\u001b[0m\u001b[0;34m:\u001b[0m\u001b[0;34m\u001b[0m\u001b[0;34m\u001b[0m\u001b[0m\n\u001b[1;32m   1086\u001b[0m                             \u001b[0me\u001b[0m \u001b[0;34m=\u001b[0m \u001b[0mself\u001b[0m\u001b[0;34m.\u001b[0m\u001b[0m_handle_error\u001b[0m\u001b[0;34m(\u001b[0m\u001b[0me\u001b[0m\u001b[0;34m,\u001b[0m \u001b[0mfpname\u001b[0m\u001b[0;34m,\u001b[0m \u001b[0mlineno\u001b[0m\u001b[0;34m,\u001b[0m \u001b[0mline\u001b[0m\u001b[0;34m)\u001b[0m\u001b[0;34m\u001b[0m\u001b[0;34m\u001b[0m\u001b[0m\n",
      "\u001b[0;31mKeyboardInterrupt\u001b[0m: "
     ]
    }
   ],
   "source": [
    "gs_7907423 = get_g_distribution(6, 500)"
   ]
  },
  {
   "cell_type": "code",
   "execution_count": null,
   "metadata": {},
   "outputs": [],
   "source": [
    "gs_4139816e = get_g_distribution(2, 200)\n",
    "gs_4139816c = get_g_distribution(3, 200)\n",
    "gs_4139816v = get_g_distribution(4, 200)"
   ]
  },
  {
   "cell_type": "code",
   "execution_count": null,
   "metadata": {},
   "outputs": [],
   "source": [
    "def get_sigmas(dist):\n",
    "    \"\"\"Gets + and - sigmas from a distribution (gaussian or not) through a cdf\n",
    "    \n",
    "    Parameters\n",
    "    ----------\n",
    "    dist: np.array\n",
    "        Distribution from which sigmas are needed\n",
    "        \n",
    "    Returns\n",
    "    -------\n",
    "    sigma_minus: float\n",
    "        - sigma\n",
    "    sigma_plus: float\n",
    "        + sigma\n",
    "    \"\"\"\n",
    "    x, cdf = mt.get_cdf(dist)\n",
    "    sigma_minus = mt.find_sigma(x, cdf, \"-\")\n",
    "    sigma_plus = mt.find_sigma(x, cdf, \"+\")\n",
    "    \n",
    "    return sigma_minus, sigma_plus"
   ]
  },
  {
   "cell_type": "code",
   "execution_count": null,
   "metadata": {},
   "outputs": [],
   "source": [
    "sigma_m, sigma_p = get_sigmas(gs_11923270)\n",
    "\n",
    "sigma_m2, sigma_p2 = get_sigmas(rho_lum['11923270'].dropna())"
   ]
  },
  {
   "cell_type": "code",
   "execution_count": null,
   "metadata": {},
   "outputs": [],
   "source": [
    "plt.hist(rho_lum['11923270'].dropna());\n",
    "plt.xlabel('rho (kg m^-3)');\n",
    "plt.title('KIC 11923270');\n",
    "plt.axvline(np.mean(rho_lum['11923270'].dropna())+sigma_m2, c='r')"
   ]
  },
  {
   "cell_type": "code",
   "execution_count": null,
   "metadata": {},
   "outputs": [],
   "source": [
    "plt.hist(gs_11923270, bins='auto');\n",
    "plt.xlabel('g', fontsize=20)\n",
    "plt.title('Distribution of $g$s for KIC 11923270', fontsize=20)\n",
    "plt.axvline(np.mean(gs_11923270)+sigma_m, c='r')\n",
    "plt.axvline(np.mean(gs_11923270)+sigma_p, c='r')"
   ]
  },
  {
   "cell_type": "code",
   "execution_count": null,
   "metadata": {},
   "outputs": [],
   "source": [
    "def get_e_from_def(g, w):\n",
    "    \"\"\"Gets eccentricity from definition (eqn 4, not really the definition tho)\n",
    "    \n",
    "    Parameters\n",
    "    ----------\n",
    "    g: float\n",
    "        g value\n",
    "    w: float\n",
    "        Omega (angle periapse/apoapse)\n",
    "    \n",
    "    Returns\n",
    "    -------\n",
    "    e: float\n",
    "        Eccentricity calculated solely on g and w\n",
    "    \n",
    "    \"\"\"\n",
    "    num = np.sqrt(2)*np.sqrt(2*g**4-g**2*np.cos(2*w)-g**2-2*np.sin(w*(np.pi/180.)))\n",
    "    den = 2*(g**2+np.sin(w*(np.pi/180.)**2))\n",
    "    e = num/den\n",
    "    return e"
   ]
  },
  {
   "cell_type": "markdown",
   "metadata": {},
   "source": [
    "## Finding the allowable (e, w) space for one planet with MCMC"
   ]
  },
  {
   "cell_type": "code",
   "execution_count": null,
   "metadata": {},
   "outputs": [],
   "source": [
    "def log_likelihood(theta, g, gerr):\n",
    "    \"\"\"Log of likelihood\n",
    "    model = g(e,w)\n",
    "    gerr = sigma of g distribution\n",
    "    \"\"\"\n",
    "    w, e = theta\n",
    "    model = (1+e*np.sin(w*(np.pi/180.)))/np.sqrt(1-e**2)\n",
    "    sigma2 = gerr ** 2\n",
    "    return -0.5 * np.sum((g - model) ** 2 / sigma2 + np.log(sigma2))"
   ]
  },
  {
   "cell_type": "code",
   "execution_count": null,
   "metadata": {},
   "outputs": [],
   "source": [
    "def log_prior(theta):\n",
    "    \"\"\"Log of prior\n",
    "    e between 0 and 1\n",
    "    w between -90 and 300\n",
    "    \"\"\"\n",
    "    w, e = theta\n",
    "    if 0.0 < e < 1.0 and -90.0 < w < 300.0:\n",
    "        return 0.0\n",
    "    return -np.inf"
   ]
  },
  {
   "cell_type": "code",
   "execution_count": null,
   "metadata": {},
   "outputs": [],
   "source": [
    "def log_probability(theta, g, gerr):\n",
    "    \"\"\"Log of probability\n",
    "    \"\"\"\n",
    "    lp = log_prior(theta)\n",
    "    if not np.isfinite(lp):\n",
    "        return -np.inf\n",
    "    return lp + log_likelihood(theta, g, gerr)"
   ]
  },
  {
   "cell_type": "markdown",
   "metadata": {},
   "source": [
    "## For planet with g = 1.1"
   ]
  },
  {
   "cell_type": "code",
   "execution_count": null,
   "metadata": {},
   "outputs": [],
   "source": [
    "#Guesses\n",
    "w_guess = 100.0\n",
    "e_guess = 0.95\n",
    "\n",
    "solnx = (w_guess, e_guess)"
   ]
  },
  {
   "cell_type": "code",
   "execution_count": null,
   "metadata": {},
   "outputs": [],
   "source": [
    "pos = solnx + 1e-4 * np.random.randn(32, 2)\n",
    "nwalkers, ndim = pos.shape"
   ]
  },
  {
   "cell_type": "code",
   "execution_count": null,
   "metadata": {},
   "outputs": [],
   "source": [
    "g_mean = np.mean(gs_11923270)\n",
    "g_sigma = np.mean(np.abs(get_sigmas(gs_11923270)))\n",
    "\n",
    "#g_mean = 0.4\n",
    "#g_sigma = 0.05"
   ]
  },
  {
   "cell_type": "code",
   "execution_count": null,
   "metadata": {},
   "outputs": [],
   "source": [
    "sampler = emcee.EnsembleSampler(nwalkers, ndim, log_probability, args=(g_mean, g_sigma), threads=4)\n",
    "sampler.run_mcmc(pos, 7000, progress=True);"
   ]
  },
  {
   "cell_type": "code",
   "execution_count": null,
   "metadata": {},
   "outputs": [],
   "source": [
    "fig, axes = plt.subplots(2, figsize=(10, 7), sharex=True)\n",
    "samples = sampler.get_chain()\n",
    "labels = [\"w\", \"e\"]\n",
    "for i in range(ndim):\n",
    "    ax = axes[i]\n",
    "    ax.plot(samples[:, :, i], \"k\", alpha=0.3)\n",
    "    ax.set_xlim(0, len(samples))\n",
    "    ax.set_ylabel(labels[i])\n",
    "    ax.yaxis.set_label_coords(-0.1, 0.5)\n",
    "    ax.set_xlim(0, 500)\n",
    "\n",
    "axes[-1].set_xlabel(\"step number\");"
   ]
  },
  {
   "cell_type": "code",
   "execution_count": null,
   "metadata": {},
   "outputs": [],
   "source": [
    "flat_samples = sampler.get_chain(discard=100, thin=15, flat=True)\n",
    "fig = corner.corner(flat_samples, labels=labels)"
   ]
  },
  {
   "cell_type": "markdown",
   "metadata": {},
   "source": [
    "## For planet with g = 0.85"
   ]
  },
  {
   "cell_type": "code",
   "execution_count": null,
   "metadata": {},
   "outputs": [],
   "source": [
    "#Guesses\n",
    "w_guess = 0.0\n",
    "e_guess = 0.40\n",
    "\n",
    "solnx = (w_guess, e_guess)"
   ]
  },
  {
   "cell_type": "code",
   "execution_count": null,
   "metadata": {},
   "outputs": [],
   "source": [
    "pos = solnx + 1e-4 * np.random.randn(64, 2)\n",
    "nwalkers, ndim = pos.shape"
   ]
  },
  {
   "cell_type": "code",
   "execution_count": null,
   "metadata": {},
   "outputs": [],
   "source": [
    "g_mean = np.mean(gs_6435936)\n",
    "g_sigma = np.mean(np.abs(get_sigmas(gs_6435936)))"
   ]
  },
  {
   "cell_type": "code",
   "execution_count": null,
   "metadata": {},
   "outputs": [],
   "source": [
    "g_mean"
   ]
  },
  {
   "cell_type": "code",
   "execution_count": null,
   "metadata": {},
   "outputs": [],
   "source": [
    "sampler = emcee.EnsembleSampler(nwalkers, ndim, log_probability, args=(g_mean, g_sigma), threads=4)\n",
    "sampler.run_mcmc(pos, 10000, progress=True);"
   ]
  },
  {
   "cell_type": "code",
   "execution_count": null,
   "metadata": {},
   "outputs": [],
   "source": [
    "fig, axes = plt.subplots(2, figsize=(10, 7), sharex=True)\n",
    "samples = sampler.get_chain()\n",
    "labels = [\"w\", \"e\"]\n",
    "for i in range(ndim):\n",
    "    ax = axes[i]\n",
    "    ax.plot(samples[:, :, i], \"k\", alpha=0.3)\n",
    "    ax.set_xlim(0, len(samples))\n",
    "    ax.set_ylabel(labels[i])\n",
    "    ax.yaxis.set_label_coords(-0.1, 0.5)\n",
    "    ax.set_xlim(0, 500)\n",
    "\n",
    "axes[-1].set_xlabel(\"step number\");"
   ]
  },
  {
   "cell_type": "code",
   "execution_count": null,
   "metadata": {},
   "outputs": [],
   "source": [
    "flat_samples = sampler.get_chain(discard=100, thin=15, flat=True)\n",
    "fig = corner.corner(flat_samples, labels=labels)"
   ]
  },
  {
   "cell_type": "markdown",
   "metadata": {},
   "source": [
    "## For planet with g = 0.75"
   ]
  },
  {
   "cell_type": "code",
   "execution_count": null,
   "metadata": {},
   "outputs": [],
   "source": [
    "#Guesses\n",
    "w_guess = 100.0\n",
    "e_guess = 0.55\n",
    "\n",
    "solnx = (w_guess, e_guess)"
   ]
  },
  {
   "cell_type": "code",
   "execution_count": null,
   "metadata": {},
   "outputs": [],
   "source": [
    "pos = solnx + 1e-4 * np.random.randn(32, 2)\n",
    "nwalkers, ndim = pos.shape"
   ]
  },
  {
   "cell_type": "code",
   "execution_count": null,
   "metadata": {},
   "outputs": [],
   "source": [
    "g_mean = np.mean(gs_7907423)\n",
    "g_sigma = np.mean(np.abs(get_sigmas(gs_7907423)))"
   ]
  },
  {
   "cell_type": "code",
   "execution_count": null,
   "metadata": {},
   "outputs": [],
   "source": [
    "g_mean"
   ]
  },
  {
   "cell_type": "code",
   "execution_count": null,
   "metadata": {},
   "outputs": [],
   "source": [
    "sampler = emcee.EnsembleSampler(nwalkers, ndim, log_probability, args=(g_mean, g_sigma), threads=4)\n",
    "sampler.run_mcmc(pos, 10000, progress=True);"
   ]
  },
  {
   "cell_type": "code",
   "execution_count": null,
   "metadata": {},
   "outputs": [],
   "source": [
    "fig, axes = plt.subplots(2, figsize=(10, 7), sharex=True)\n",
    "samples = sampler.get_chain()\n",
    "labels = [\"w\", \"e\"]\n",
    "for i in range(ndim):\n",
    "    ax = axes[i]\n",
    "    ax.plot(samples[:, :, i], \"k\", alpha=0.3)\n",
    "    ax.set_xlim(0, len(samples))\n",
    "    ax.set_ylabel(labels[i])\n",
    "    ax.yaxis.set_label_coords(-0.1, 0.5)\n",
    "    ax.set_xlim(0, 500)\n",
    "\n",
    "axes[-1].set_xlabel(\"step number\");"
   ]
  },
  {
   "cell_type": "code",
   "execution_count": null,
   "metadata": {},
   "outputs": [],
   "source": [
    "flat_samples = sampler.get_chain(discard=100, thin=15, flat=True)\n",
    "fig = corner.corner(flat_samples, labels=labels)"
   ]
  },
  {
   "cell_type": "markdown",
   "metadata": {},
   "source": [
    "# A 4-planet system: 4139816"
   ]
  },
  {
   "cell_type": "markdown",
   "metadata": {},
   "source": [
    "## 4139816b\n",
    "\n",
    "g=0.9"
   ]
  },
  {
   "cell_type": "code",
   "execution_count": null,
   "metadata": {},
   "outputs": [],
   "source": [
    "gs_4139816b = gs_4139816v"
   ]
  },
  {
   "cell_type": "code",
   "execution_count": null,
   "metadata": {},
   "outputs": [],
   "source": [
    "#Guesses\n",
    "w_guess = 100.0\n",
    "e_guess = 0.55\n",
    "\n",
    "solnx = (w_guess, e_guess)"
   ]
  },
  {
   "cell_type": "code",
   "execution_count": null,
   "metadata": {},
   "outputs": [],
   "source": [
    "pos = solnx + 1e-4 * np.random.randn(32, 2)\n",
    "nwalkers, ndim = pos.shape"
   ]
  },
  {
   "cell_type": "code",
   "execution_count": null,
   "metadata": {},
   "outputs": [],
   "source": [
    "g_mean = np.mean(gs_4139816b)\n",
    "g_sigma = np.mean(np.abs(get_sigmas(gs_4139816b)))"
   ]
  },
  {
   "cell_type": "code",
   "execution_count": null,
   "metadata": {},
   "outputs": [],
   "source": [
    "g_mean"
   ]
  },
  {
   "cell_type": "code",
   "execution_count": null,
   "metadata": {},
   "outputs": [],
   "source": [
    "sampler = emcee.EnsembleSampler(nwalkers, ndim, log_probability, args=(g_mean, g_sigma), threads=4)\n",
    "sampler.run_mcmc(pos, 8000, progress=True);"
   ]
  },
  {
   "cell_type": "code",
   "execution_count": null,
   "metadata": {},
   "outputs": [],
   "source": [
    "fig, axes = plt.subplots(2, figsize=(10, 7), sharex=True)\n",
    "samples = sampler.get_chain()\n",
    "labels = [\"w\", \"e\"]\n",
    "for i in range(ndim):\n",
    "    ax = axes[i]\n",
    "    ax.plot(samples[:, :, i], \"k\", alpha=0.3)\n",
    "    ax.set_xlim(0, len(samples))\n",
    "    ax.set_ylabel(labels[i])\n",
    "    ax.yaxis.set_label_coords(-0.1, 0.5)\n",
    "    ax.set_xlim(0, 500)\n",
    "\n",
    "axes[-1].set_xlabel(\"step number\");"
   ]
  },
  {
   "cell_type": "code",
   "execution_count": null,
   "metadata": {},
   "outputs": [],
   "source": [
    "flat_samples = sampler.get_chain(discard=100, thin=15, flat=True)\n",
    "fig = corner.corner(flat_samples, labels=labels)"
   ]
  },
  {
   "cell_type": "markdown",
   "metadata": {},
   "source": [
    "## 4139816c\n",
    "\n",
    "g=0.73"
   ]
  },
  {
   "cell_type": "code",
   "execution_count": null,
   "metadata": {},
   "outputs": [],
   "source": [
    "#Guesses\n",
    "w_guess = 100.0\n",
    "e_guess = 0.55\n",
    "\n",
    "solnx = (w_guess, e_guess)"
   ]
  },
  {
   "cell_type": "code",
   "execution_count": null,
   "metadata": {},
   "outputs": [],
   "source": [
    "pos = solnx + 1e-4 * np.random.randn(32, 2)\n",
    "nwalkers, ndim = pos.shape"
   ]
  },
  {
   "cell_type": "code",
   "execution_count": null,
   "metadata": {},
   "outputs": [],
   "source": [
    "g_mean = np.mean(gs_4139816c)\n",
    "g_sigma = np.mean(np.abs(get_sigmas(gs_4139816c)))"
   ]
  },
  {
   "cell_type": "code",
   "execution_count": null,
   "metadata": {},
   "outputs": [],
   "source": [
    "g_mean"
   ]
  },
  {
   "cell_type": "code",
   "execution_count": null,
   "metadata": {},
   "outputs": [],
   "source": [
    "sampler = emcee.EnsembleSampler(nwalkers, ndim, log_probability, args=(g_mean, g_sigma), threads=4)\n",
    "sampler.run_mcmc(pos, 8000, progress=True);"
   ]
  },
  {
   "cell_type": "code",
   "execution_count": null,
   "metadata": {},
   "outputs": [],
   "source": [
    "fig, axes = plt.subplots(2, figsize=(10, 7), sharex=True)\n",
    "samples = sampler.get_chain()\n",
    "labels = [\"w\", \"e\"]\n",
    "for i in range(ndim):\n",
    "    ax = axes[i]\n",
    "    ax.plot(samples[:, :, i], \"k\", alpha=0.3)\n",
    "    ax.set_xlim(0, len(samples))\n",
    "    ax.set_ylabel(labels[i])\n",
    "    ax.yaxis.set_label_coords(-0.1, 0.5)\n",
    "    ax.set_xlim(0, 500)\n",
    "\n",
    "axes[-1].set_xlabel(\"step number\");"
   ]
  },
  {
   "cell_type": "code",
   "execution_count": null,
   "metadata": {},
   "outputs": [],
   "source": [
    "flat_samples = sampler.get_chain(discard=100, thin=15, flat=True)\n",
    "fig = corner.corner(flat_samples, labels=labels)"
   ]
  },
  {
   "cell_type": "code",
   "execution_count": null,
   "metadata": {},
   "outputs": [],
   "source": []
  },
  {
   "cell_type": "markdown",
   "metadata": {},
   "source": [
    "## 4139816d\n",
    "g = 0.9"
   ]
  },
  {
   "cell_type": "code",
   "execution_count": null,
   "metadata": {},
   "outputs": [],
   "source": [
    "#Guesses\n",
    "w_guess = 100.0\n",
    "e_guess = 0.55\n",
    "\n",
    "solnx = (w_guess, e_guess)"
   ]
  },
  {
   "cell_type": "code",
   "execution_count": null,
   "metadata": {},
   "outputs": [],
   "source": [
    "pos = solnx + 1e-4 * np.random.randn(32, 2)\n",
    "nwalkers, ndim = pos.shape"
   ]
  },
  {
   "cell_type": "code",
   "execution_count": null,
   "metadata": {},
   "outputs": [],
   "source": [
    "g_mean = np.mean(gs_4139816d)\n",
    "g_sigma = np.mean(np.abs(get_sigmas(gs_4139816d)))"
   ]
  },
  {
   "cell_type": "code",
   "execution_count": null,
   "metadata": {},
   "outputs": [],
   "source": [
    "g_mean"
   ]
  },
  {
   "cell_type": "code",
   "execution_count": null,
   "metadata": {},
   "outputs": [],
   "source": [
    "sampler = emcee.EnsembleSampler(nwalkers, ndim, log_probability, args=(g_mean, g_sigma), threads=4)\n",
    "sampler.run_mcmc(pos, 8000, progress=True);"
   ]
  },
  {
   "cell_type": "code",
   "execution_count": null,
   "metadata": {},
   "outputs": [],
   "source": [
    "fig, axes = plt.subplots(2, figsize=(10, 7), sharex=True)\n",
    "samples = sampler.get_chain()\n",
    "labels = [\"w\", \"e\"]\n",
    "for i in range(ndim):\n",
    "    ax = axes[i]\n",
    "    ax.plot(samples[:, :, i], \"k\", alpha=0.3)\n",
    "    ax.set_xlim(0, len(samples))\n",
    "    ax.set_ylabel(labels[i])\n",
    "    ax.yaxis.set_label_coords(-0.1, 0.5)\n",
    "    ax.set_xlim(0, 500)\n",
    "\n",
    "axes[-1].set_xlabel(\"step number\");"
   ]
  },
  {
   "cell_type": "code",
   "execution_count": null,
   "metadata": {},
   "outputs": [],
   "source": [
    "flat_samples = sampler.get_chain(discard=100, thin=15, flat=True)\n",
    "fig = corner.corner(flat_samples, labels=labels)"
   ]
  },
  {
   "cell_type": "markdown",
   "metadata": {},
   "source": [
    "## 4139816e\n",
    "g=0.86"
   ]
  },
  {
   "cell_type": "code",
   "execution_count": null,
   "metadata": {},
   "outputs": [],
   "source": [
    "#Guesses\n",
    "w_guess = 50.0\n",
    "e_guess = 0.3\n",
    "\n",
    "solnx = (w_guess, e_guess)"
   ]
  },
  {
   "cell_type": "code",
   "execution_count": null,
   "metadata": {},
   "outputs": [],
   "source": [
    "pos = solnx + 1e-4 * np.random.randn(32, 2)\n",
    "nwalkers, ndim = pos.shape"
   ]
  },
  {
   "cell_type": "code",
   "execution_count": null,
   "metadata": {},
   "outputs": [],
   "source": [
    "g_mean = np.mean(gs_4139816e)\n",
    "g_sigma = np.mean(np.abs(get_sigmas(gs_4139816e)))"
   ]
  },
  {
   "cell_type": "code",
   "execution_count": null,
   "metadata": {},
   "outputs": [],
   "source": [
    "g_mean"
   ]
  },
  {
   "cell_type": "code",
   "execution_count": null,
   "metadata": {},
   "outputs": [],
   "source": [
    "sampler = emcee.EnsembleSampler(nwalkers, ndim, log_probability, args=(g_mean, g_sigma), threads=4)\n",
    "sampler.run_mcmc(pos, 10000, progress=True);"
   ]
  },
  {
   "cell_type": "code",
   "execution_count": null,
   "metadata": {},
   "outputs": [],
   "source": [
    "fig, axes = plt.subplots(2, figsize=(10, 7), sharex=True)\n",
    "samples = sampler.get_chain()\n",
    "labels = [\"w\", \"e\"]\n",
    "for i in range(ndim):\n",
    "    ax = axes[i]\n",
    "    ax.plot(samples[:, :, i], \"k\", alpha=0.3)\n",
    "    ax.set_xlim(0, len(samples))\n",
    "    ax.set_ylabel(labels[i])\n",
    "    ax.yaxis.set_label_coords(-0.1, 0.5)\n",
    "    ax.set_xlim(0, 500)\n",
    "\n",
    "axes[-1].set_xlabel(\"step number\");"
   ]
  },
  {
   "cell_type": "code",
   "execution_count": null,
   "metadata": {},
   "outputs": [],
   "source": [
    "flat_samples = sampler.get_chain(discard=100, thin=15, flat=True)\n",
    "fig = corner.corner(flat_samples, labels=labels)"
   ]
  },
  {
   "cell_type": "code",
   "execution_count": null,
   "metadata": {},
   "outputs": [],
   "source": []
  },
  {
   "cell_type": "markdown",
   "metadata": {},
   "source": [
    "#### Graph of g from (e, w) meshgrid"
   ]
  },
  {
   "cell_type": "code",
   "execution_count": null,
   "metadata": {},
   "outputs": [],
   "source": [
    "e = np.linspace(0.0, 1.0, num=500)\n",
    "w = np.linspace(-90.0, 300.0, num=500)\n",
    "W, E = np.meshgrid(w, e)"
   ]
  },
  {
   "cell_type": "code",
   "execution_count": null,
   "metadata": {
    "scrolled": true
   },
   "outputs": [],
   "source": [
    "G = get_g_from_def(E, W)"
   ]
  },
  {
   "cell_type": "code",
   "execution_count": null,
   "metadata": {},
   "outputs": [],
   "source": [
    "from matplotlib import ticker, cm"
   ]
  },
  {
   "cell_type": "code",
   "execution_count": null,
   "metadata": {},
   "outputs": [],
   "source": [
    "plt.contourf(W, E, G, levels=200, locator=ticker.LogLocator(), cmap='Blues')\n",
    "plt.colorbar()"
   ]
  },
  {
   "cell_type": "code",
   "execution_count": null,
   "metadata": {},
   "outputs": [],
   "source": [
    "fig, ax = plt.subplots()\n",
    "CS = ax.contourf(W, E, G, levels=100)\n",
    "ax.set_ylabel('e');\n",
    "ax.set_xlabel('w (degrees)')"
   ]
  },
  {
   "cell_type": "code",
   "execution_count": null,
   "metadata": {},
   "outputs": [],
   "source": [
    "for i in range(len(G)):\n",
    "    for j in range(len(G[0])):\n",
    "        if 0.7 < G[i][j] < 1.3:\n",
    "            G[i][j] = 1.\n",
    "        else:\n",
    "            G[i][j] = 0."
   ]
  },
  {
   "cell_type": "code",
   "execution_count": null,
   "metadata": {},
   "outputs": [],
   "source": [
    "fig, ax = plt.subplots()\n",
    "CS = ax.contourf(W, E, G)\n",
    "#ax.clabel(CS, inline=True, fontsize=10)\n",
    "ax.set_ylabel('e');\n",
    "ax.set_xlabel('w (degrees)')\n",
    "ax.set_title('g = 1.0 +/- 0.2');"
   ]
  },
  {
   "cell_type": "markdown",
   "metadata": {},
   "source": [
    "😈"
   ]
  },
  {
   "cell_type": "markdown",
   "metadata": {},
   "source": [
    "Create a transit with e, see if you can get it back out with above code ^"
   ]
  },
  {
   "cell_type": "markdown",
   "metadata": {},
   "source": [
    "https://www.cfa.harvard.edu/~lkreidberg/batman/tutorial.html"
   ]
  },
  {
   "cell_type": "markdown",
   "metadata": {},
   "source": [
    "I'll assume an M5 with mass 0.14 +/- 0.02 Msol and radius 0.2 +/- 0.01 Rsol"
   ]
  },
  {
   "cell_type": "code",
   "execution_count": 20,
   "metadata": {},
   "outputs": [],
   "source": [
    "masses = np.random.normal(0.14, 0.02, size=1000)\n",
    "masserr = np.random.normal(0.0, 0.02, size=1000)\n",
    "radii = np.random.normal(0.2, 0.01, size=1000)\n",
    "raderr = np.random.normal(0.0, 0.01, size=1000)"
   ]
  },
  {
   "cell_type": "code",
   "execution_count": 23,
   "metadata": {},
   "outputs": [
    {
     "name": "stderr",
     "output_type": "stream",
     "text": [
      "  0%|          | 0/1 [00:00<?, ?it/s]\n"
     ]
    },
    {
     "ename": "NameError",
     "evalue": "name 'masserr2' is not defined",
     "output_type": "error",
     "traceback": [
      "\u001b[0;31m---------------------------------------------------------------------------\u001b[0m",
      "\u001b[0;31mNameError\u001b[0m                                 Traceback (most recent call last)",
      "\u001b[0;32m<ipython-input-23-8fe95419bc7a>\u001b[0m in \u001b[0;36m<module>\u001b[0;34m\u001b[0m\n\u001b[0;32m----> 1\u001b[0;31m \u001b[0mph\u001b[0m\u001b[0;34m.\u001b[0m\u001b[0mfind_density_dist_symmetric\u001b[0m\u001b[0;34m(\u001b[0m\u001b[0;36m1\u001b[0m\u001b[0;34m,\u001b[0m \u001b[0mmasses\u001b[0m\u001b[0;34m,\u001b[0m \u001b[0mmasserr\u001b[0m\u001b[0;34m,\u001b[0m \u001b[0mradii\u001b[0m\u001b[0;34m,\u001b[0m \u001b[0mraderr\u001b[0m\u001b[0;34m)\u001b[0m\u001b[0;34m\u001b[0m\u001b[0;34m\u001b[0m\u001b[0m\n\u001b[0m",
      "\u001b[0;32m~/opt/anaconda3/lib/python3.7/site-packages/photoeccentric-0.0.0-py3.7.egg/photoeccentric/stellardensity.py\u001b[0m in \u001b[0;36mfind_density_dist_symmetric\u001b[0;34m(ntargs, masses, masserr, radii, raderr)\u001b[0m\n\u001b[1;32m    420\u001b[0m \u001b[0;34m\u001b[0m\u001b[0m\n\u001b[1;32m    421\u001b[0m         \u001b[0;31m#####\u001b[0m\u001b[0;34m\u001b[0m\u001b[0;34m\u001b[0m\u001b[0;34m\u001b[0m\u001b[0m\n\u001b[0;32m--> 422\u001b[0;31m         \u001b[0mmass_temp\u001b[0m \u001b[0;34m=\u001b[0m \u001b[0mnp\u001b[0m\u001b[0;34m.\u001b[0m\u001b[0mrandom\u001b[0m\u001b[0;34m.\u001b[0m\u001b[0mnormal\u001b[0m\u001b[0;34m(\u001b[0m\u001b[0mmasses\u001b[0m\u001b[0;34m[\u001b[0m\u001b[0mstar\u001b[0m\u001b[0;34m]\u001b[0m\u001b[0;34m,\u001b[0m \u001b[0mmasserr\u001b[0m\u001b[0;34m[\u001b[0m\u001b[0mstar\u001b[0m\u001b[0;34m]\u001b[0m\u001b[0;34m,\u001b[0m \u001b[0;36m1200\u001b[0m\u001b[0;34m)\u001b[0m\u001b[0;34m\u001b[0m\u001b[0;34m\u001b[0m\u001b[0m\n\u001b[0m\u001b[1;32m    423\u001b[0m         \u001b[0;31m#len 1200\u001b[0m\u001b[0;34m\u001b[0m\u001b[0;34m\u001b[0m\u001b[0;34m\u001b[0m\u001b[0m\n\u001b[1;32m    424\u001b[0m         \u001b[0mrad_temp\u001b[0m \u001b[0;34m=\u001b[0m \u001b[0mnp\u001b[0m\u001b[0;34m.\u001b[0m\u001b[0mrandom\u001b[0m\u001b[0;34m.\u001b[0m\u001b[0mnormal\u001b[0m\u001b[0;34m(\u001b[0m\u001b[0mradii\u001b[0m\u001b[0;34m[\u001b[0m\u001b[0mstar\u001b[0m\u001b[0;34m]\u001b[0m\u001b[0;34m,\u001b[0m \u001b[0mraderr\u001b[0m\u001b[0;34m[\u001b[0m\u001b[0mstar\u001b[0m\u001b[0;34m]\u001b[0m\u001b[0;34m,\u001b[0m \u001b[0;36m1200\u001b[0m\u001b[0;34m)\u001b[0m\u001b[0;34m\u001b[0m\u001b[0;34m\u001b[0m\u001b[0m\n",
      "\u001b[0;31mNameError\u001b[0m: name 'masserr2' is not defined"
     ]
    }
   ],
   "source": [
    "ph.find_density_dist_symmetric(1, masses, masserr, radii, raderr)"
   ]
  },
  {
   "cell_type": "code",
   "execution_count": null,
   "metadata": {},
   "outputs": [],
   "source": [
    "import batman"
   ]
  },
  {
   "cell_type": "code",
   "execution_count": null,
   "metadata": {},
   "outputs": [],
   "source": [
    "params = batman.TransitParams()       #object to store transit parameters\n",
    "params.t0 = 0.                        #time of inferior conjunction\n",
    "params.per = 0.1                      #orbital period\n",
    "params.rp = 0.05                       #planet radius (in units of stellar radii)\n",
    "params.a = 15.                        #semi-major axis (in units of stellar radii)\n",
    "params.inc = 87.                      #orbital inclination (in degrees)\n",
    "params.ecc = 0.5                       #eccentricity\n",
    "params.w = 50.                        #longitude of periastron (in degrees)\n",
    "params.limb_dark = \"nonlinear\"        #limb darkening model\n",
    "params.u = [0.5, 0.1, 0.1, -0.1]      #limb darkening coefficients [u1, u2, u3, u4]\n",
    "\n",
    "t = np.linspace(-0.025, 0.025, 1000)  #times at which to calculate light curve\n",
    "m = batman.TransitModel(params, t)    #initializes model"
   ]
  },
  {
   "cell_type": "code",
   "execution_count": null,
   "metadata": {},
   "outputs": [],
   "source": [
    "flux = m.light_curve(params)                    #calculates light curve"
   ]
  },
  {
   "cell_type": "code",
   "execution_count": null,
   "metadata": {},
   "outputs": [],
   "source": [
    "plt.plot(t, flux)"
   ]
  },
  {
   "cell_type": "code",
   "execution_count": null,
   "metadata": {},
   "outputs": [],
   "source": [
    "time = np.linspace(-12, 12, 4000)"
   ]
  },
  {
   "cell_type": "code",
   "execution_count": null,
   "metadata": {},
   "outputs": [],
   "source": [
    "def planetlc(time, per, rp, a, inc):\n",
    "    params = batman.TransitParams()       #object to store transit parameters\n",
    "    params.t0 = 00.                        #time of inferior conjunction\n",
    "    params.per = per                      #orbital period\n",
    "    params.rp = rp                       #planet radius (in units of stellar radii)\n",
    "    params.a = a                        #semi-major axis (in units of stellar radii)\n",
    "    params.inc = inc                      #orbital inclination (in degrees)\n",
    "    params.ecc = 0.4                       #eccentricity\n",
    "    params.w = 100.                        #longitude of periastron (in degrees)\n",
    "    params.limb_dark = \"nonlinear\"        #limb darkening model\n",
    "    params.u = [0.5, 0.1, 0.1, -0.1]      #limb darkening coefficients [u1, u2, u3, u4]\n",
    "    \n",
    "    #times at which to calculate light curve\n",
    "    m = batman.TransitModel(params, time)\n",
    "    \n",
    "    flux = m.light_curve(params)\n",
    "    \n",
    "    return flux"
   ]
  },
  {
   "cell_type": "code",
   "execution_count": null,
   "metadata": {},
   "outputs": [],
   "source": [
    "flux = planetlc(time, 5, 0.07, 27, 87)"
   ]
  },
  {
   "cell_type": "code",
   "execution_count": null,
   "metadata": {},
   "outputs": [],
   "source": [
    "# Adding gaussian noise\n",
    "noise = np.random.normal(0,0.0001,len(time))\n",
    "nflux = flux+noise"
   ]
  },
  {
   "cell_type": "code",
   "execution_count": null,
   "metadata": {},
   "outputs": [],
   "source": [
    "#plt.plot(time, flux)\n",
    "plt.plot(time, flux+noise)"
   ]
  },
  {
   "cell_type": "code",
   "execution_count": null,
   "metadata": {},
   "outputs": [],
   "source": [
    "import astropy.units as u\n",
    "from astropy.timeseries import BoxLeastSquares"
   ]
  },
  {
   "cell_type": "code",
   "execution_count": null,
   "metadata": {},
   "outputs": [],
   "source": [
    "mod = BoxLeastSquares(time*u.day, flux, dy=0.01)\n",
    "periodogram = mod.autopower(0.2, objective=\"snr\")"
   ]
  },
  {
   "cell_type": "code",
   "execution_count": null,
   "metadata": {},
   "outputs": [],
   "source": [
    "plt.plot(periodogram.period, periodogram.power)\n",
    "periodogram.period = np.asarray(periodogram.period)\n",
    "per_guess = periodogram.period[int(np.median(np.argmax(periodogram.power)))]"
   ]
  },
  {
   "cell_type": "code",
   "execution_count": null,
   "metadata": {},
   "outputs": [],
   "source": [
    "from scipy.optimize import curve_fit"
   ]
  },
  {
   "cell_type": "code",
   "execution_count": null,
   "metadata": {},
   "outputs": [],
   "source": [
    "p0=[per_guess, 0.08, 30, 88]"
   ]
  },
  {
   "cell_type": "code",
   "execution_count": null,
   "metadata": {},
   "outputs": [],
   "source": [
    "popt, pcov = curve_fit(planetlc, xdata=time, ydata=flux, p0=p0)"
   ]
  },
  {
   "cell_type": "code",
   "execution_count": null,
   "metadata": {},
   "outputs": [],
   "source": [
    "fit = planetlc(time, *popt)"
   ]
  },
  {
   "cell_type": "code",
   "execution_count": null,
   "metadata": {},
   "outputs": [],
   "source": [
    "plt.plot(time, flux)\n",
    "plt.plot(time, fit)"
   ]
  },
  {
   "cell_type": "code",
   "execution_count": null,
   "metadata": {},
   "outputs": [],
   "source": [
    "p = popt[0]\n",
    "rprs = popt[1]\n",
    "# Assuming 0.5 Rsun stellar radius\n",
    "a = popt[2]*.005*0.5\n",
    "i = popt[3]"
   ]
  },
  {
   "cell_type": "code",
   "execution_count": null,
   "metadata": {},
   "outputs": [],
   "source": [
    "\n",
    "def get_g_distribution(row, n_rhos):\n",
    "    \"\"\"Gets g distribution for a KOI.\n",
    "    \n",
    "    Parameters\n",
    "    ----------\n",
    "    row: int\n",
    "        Row in pandas.dataframe of info from Exoplanet Archive. (change this to take KIC/KOI)\n",
    "    n_rhos: int\n",
    "        Number of values in distribution\n",
    "        \n",
    "    Returns\n",
    "    -------\n",
    "    gs: np.array\n",
    "        g distribution for star/planet.\n",
    "    \"\"\"\n",
    "\n",
    "    targ = spectplanets.iloc[row]\n",
    "    print('KIC: ', targ.kepid)\n",
    "\n",
    "    rhos = rho_lum[str(targ.kepid)].dropna()\n",
    "    rhos = np.array(rhos)\n",
    "\n",
    "    while len(rhos) > n_rhos:\n",
    "        rhos = np.delete(rhos, [np.random.randint(0, len(rhos))])\n",
    "\n",
    "    #ws = np.arange(-90., 300., 1.)\n",
    "\n",
    "    gs = np.zeros((len(rhos)))\n",
    "    #es = np.zeros(len(rhos))\n",
    "    #es = np.zeros((len(ws), len(rhos)))\n",
    "\n",
    "    rho_circ = np.zeros(len(rhos))\n",
    "    rho_ratios = np.zeros(len(rhos))\n",
    "    T23_dist = np.zeros((len(rhos)))\n",
    "\n",
    "    per_dist = mt.asymmetric_gaussian(targ.koi_period, targ.koi_period_err1, targ.koi_period_err2, len(rhos))\n",
    "    \n",
    "    rs_dist = mt.asymmetric_gaussian(targ.koi_srad, targ.koi_srad_err1, targ.koi_srad_err2, len(rhos))\n",
    "    rp_earth_dist = mt.asymmetric_gaussian(targ.koi_prad, targ.koi_prad_err1, targ.koi_prad_err2, len(rhos))\n",
    "    rprs_dist = mt.asymmetric_gaussian(targ.koi_ror, targ.koi_ror_err1, targ.koi_ror_err2, len(rhos))\n",
    "\n",
    "    T14_dist = mt.asymmetric_gaussian(targ.koi_duration, targ.koi_duration_err1, targ.koi_duration_err2, len(rhos))\n",
    "\n",
    "    a = targ.koi_sma\n",
    "    i = targ.koi_incl\n",
    "\n",
    "    for j in tqdm(range(len(rhos))): #for element in histogram for star:\n",
    "        T23_dist[j] = get_T23(per_dist[j], rp_earth_dist[j], rs_dist[j], T14_dist[j], a, i)\n",
    "        \n",
    "        p_seconds, T14_seconds, T23_seconds = get_planet_params(per_dist[j], T14_dist[j], T23_dist[j])\n",
    "        rho_circ[j] = get_rho_circ(rprs_dist[j], T14_seconds, T23_seconds, p_seconds)\n",
    "\n",
    "        rho_ratios[j] = rho_circ[j]/rhos[j]\n",
    "        g = get_g(rho_circ[j], rhos[j])\n",
    "        gs[j] = g\n",
    "\n",
    "    return gs\n",
    "    \n",
    "    "
   ]
  },
  {
   "cell_type": "code",
   "execution_count": null,
   "metadata": {},
   "outputs": [],
   "source": []
  },
  {
   "cell_type": "code",
   "execution_count": null,
   "metadata": {},
   "outputs": [],
   "source": []
  }
 ],
 "metadata": {
  "kernelspec": {
   "display_name": "Python 3",
   "language": "python",
   "name": "python3"
  },
  "language_info": {
   "codemirror_mode": {
    "name": "ipython",
    "version": 3
   },
   "file_extension": ".py",
   "mimetype": "text/x-python",
   "name": "python",
   "nbconvert_exporter": "python",
   "pygments_lexer": "ipython3",
   "version": "3.7.6"
  }
 },
 "nbformat": 4,
 "nbformat_minor": 4
}
