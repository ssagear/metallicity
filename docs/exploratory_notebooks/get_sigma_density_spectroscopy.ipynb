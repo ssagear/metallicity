{
 "cells": [
  {
   "cell_type": "markdown",
   "metadata": {},
   "source": [
    "# Get sigma_density for stars with spectroscopy"
   ]
  },
  {
   "cell_type": "code",
   "execution_count": 1,
   "metadata": {},
   "outputs": [],
   "source": [
    "import numpy as np\n",
    "import matplotlib.pyplot as plt\n",
    "import pandas as pd\n",
    "import glob\n",
    "import csv\n",
    "plt.rcParams['figure.figsize'] = [10, 5]"
   ]
  },
  {
   "cell_type": "markdown",
   "metadata": {},
   "source": [
    "## Calculate rho"
   ]
  },
  {
   "cell_type": "markdown",
   "metadata": {},
   "source": [
    "We want to calculate rho (which takes in mass and radius) for each isochrone."
   ]
  },
  {
   "cell_type": "code",
   "execution_count": 2,
   "metadata": {},
   "outputs": [],
   "source": [
    "def solar_density():\n",
    "    #Define Solar density for 1 Msol and 1 Rsol in kg/m3\n",
    "    sol_density = ((1.*1.989e30)/((4./3.)*np.pi*1.**3*696.34e6**3))\n",
    "    return sol_density\n",
    "\n",
    "def find_density_dist(mass_dist, rad_dist, norm=None):\n",
    "    \n",
    "    rho_dist = np.zeros(len(mass_dist))\n",
    "\n",
    "    #for point from 0 to len(isochrones)\n",
    "    #Adding each density point to rho_dist\n",
    "    for point in range(len(mass_dist)):\n",
    "        rho_dist[point] = density(mass_dist[point], rad_dist[point], norm=norm)\n",
    "    \n",
    "    return rho_dist\n",
    "\n",
    "def density(mass, radius, norm=None):\n",
    "    \"\"\"Mass in solar density\n",
    "    Radius in solar density\n",
    "    sol_density in kg/m^3\"\"\"\n",
    "    \n",
    "    if norm==None:\n",
    "        return ((mass*1.989e30)/((4./3.)*np.pi*radius**3*696.34e6**3))\n",
    "    else:\n",
    "        return ((mass*1.989e30)/((4./3.)*np.pi*radius**3*696.34e6**3))/float(norm)\n",
    "\n",
    "def iso_lists(path):\n",
    "    iso_lst = []\n",
    "    files = glob.glob(path)\n",
    "    for f in files:\n",
    "        iso_lst.append(pd.read_csv(f))\n",
    "    return iso_lst\n",
    "\n",
    "\n",
    "def dict_rhos(isos):\n",
    "    dict = {}\n",
    "    for i in range(len(isos)):\n",
    "        kic = isos[i].KIC[0]\n",
    "        dict[\"{0}\".format(kic)] = find_density_dist(np.array(isos[i].mstar), np.array(isos[i].radius))\n",
    "    return dict\n",
    "\n",
    "\n",
    "def rho_dict_to_csv(rho_dict, filename):\n",
    "    pd.DataFrame.from_dict(rho_dict, orient='index').transpose().to_csv(filename, index=False)"
   ]
  },
  {
   "cell_type": "code",
   "execution_count": 3,
   "metadata": {},
   "outputs": [],
   "source": [
    "iso_fits = iso_lists('isochrone_fits/spectroscopy/*.csv')\n",
    "iso_fits_lum = iso_lists('isochrone_fits/spectroscopy_luminosity/*.csv')"
   ]
  },
  {
   "cell_type": "code",
   "execution_count": 4,
   "metadata": {},
   "outputs": [],
   "source": [
    "rhos_spec = [find_density_dist(np.array(iso_fits[i].mstar), np.array(iso_fits[i].radius)) for i in range(len(iso_fits))]"
   ]
  },
  {
   "cell_type": "code",
   "execution_count": 5,
   "metadata": {},
   "outputs": [],
   "source": [
    "rhos_lum = [find_density_dist(np.array(iso_fits_lum[i].mstar), np.array(iso_fits_lum[i].radius)) for i in range(len(iso_fits_lum))]"
   ]
  },
  {
   "cell_type": "code",
   "execution_count": 6,
   "metadata": {},
   "outputs": [],
   "source": [
    "rho_spec = dict_rhos(iso_fits)"
   ]
  },
  {
   "cell_type": "code",
   "execution_count": 7,
   "metadata": {},
   "outputs": [],
   "source": [
    "rho_lum = dict_rhos(iso_fits_lum)"
   ]
  },
  {
   "cell_type": "markdown",
   "metadata": {},
   "source": [
    "Save rho distributions for each star to csv"
   ]
  },
  {
   "cell_type": "code",
   "execution_count": 8,
   "metadata": {},
   "outputs": [],
   "source": [
    "rho_dict_to_csv(rho_spec, 'rho_spec.csv')\n",
    "rho_dict_to_csv(rho_lum, 'rho_lum.csv')"
   ]
  },
  {
   "cell_type": "markdown",
   "metadata": {},
   "source": [
    "# Find sigma_rho"
   ]
  },
  {
   "cell_type": "code",
   "execution_count": 9,
   "metadata": {},
   "outputs": [],
   "source": [
    "def get_cdf(dist, nbins=100):\n",
    "    counts, bin_edges = np.histogram(dist, bins=nbins, range=(np.min(dist), np.max(dist)))\n",
    "    cdf = np.cumsum(counts)\n",
    "    cdf = cdf/np.max(cdf)\n",
    "    return bin_edges[1:], cdf\n",
    "\n",
    "def find_nearest_index(array, value):\n",
    "    array = np.asarray(array)\n",
    "    idx = (np.abs(array - value)).argmin()\n",
    "    return int(np.where(array == array[idx])[0])\n",
    "\n",
    "def find_nearest_index(array, value):\n",
    "    array = np.asarray(array)\n",
    "    idx = (np.abs(array - value)).argmin()\n",
    "    if len(np.where(array == array[idx])[0]) == 1:\n",
    "        return int(np.where(array == array[idx])[0])\n",
    "    else:\n",
    "        return int(np.where(array == array[idx])[0][0])\n",
    "\n",
    "def find_sigma(x, cdf, sign):\n",
    "    med = x[find_nearest_index(cdf, 0.5)]\n",
    "    if sign == \"-\":\n",
    "        sigma = x[find_nearest_index(cdf, 0.16)] - med\n",
    "    elif sign == \"+\":\n",
    "        sigma = x[find_nearest_index(cdf, 0.84)] - med\n",
    "    return sigma\n",
    "\n",
    "def plot_cdf(x, cdf):\n",
    "    plt.plot(x, cdf)\n",
    "    plt.axvline(x=x[find_nearest_index(cdf, 0.5)], c='r', label='Median')\n",
    "    plt.axvline(x=x[find_nearest_index(cdf, 0.5)]+find_sigma(x, cdf, \"-\"), c='blue', label='- sigma')\n",
    "    plt.axvline(x=x[find_nearest_index(cdf, 0.5)]+find_sigma(x, cdf, \"+\"), c='orange', label='+ sigma')\n",
    "    plt.legend()\n",
    "    plt.xlabel('Density')\n",
    "    \n",
    "    \n",
    "def iterate_stars(rho_dict): \n",
    "    for key, val in rho_dict.items():\n",
    "        x, cdf = get_cdf(rho_spec[key])\n",
    "        sigma_minus = find_sigma(x, cdf, \"-\")\n",
    "        sigma_plus = find_sigma(x, cdf, \"+\")\n",
    "        \n",
    "        df = pd.DataFrame({\"x\" : x, \"cdf\" : cdf, \"sigma_minus\": sigma_minus, \"sigma_plus\": sigma_plus})\n",
    "        df.to_csv(\"cdfs/cdf_lum/cdf_lum_\" + str(key) + \".csv\", index=False)"
   ]
  },
  {
   "cell_type": "code",
   "execution_count": 10,
   "metadata": {},
   "outputs": [],
   "source": [
    "iterate_stars(rho_spec)"
   ]
  },
  {
   "cell_type": "code",
   "execution_count": 11,
   "metadata": {},
   "outputs": [],
   "source": [
    "iterate_stars(rho_lum)"
   ]
  },
  {
   "cell_type": "markdown",
   "metadata": {},
   "source": [
    "## Pull sigmas from CSVs and plot"
   ]
  },
  {
   "cell_type": "code",
   "execution_count": 12,
   "metadata": {},
   "outputs": [],
   "source": [
    "cdf_spec = iso_lists('/Users/sheilasagear/Dropbox (UFL)/Research/MetallicityProject/Code/cdfs/cdf_spec/*.csv')\n",
    "cdf_lum = iso_lists('/Users/sheilasagear/Dropbox (UFL)/Research/MetallicityProject/Code/cdfs/cdf_lum/*.csv')"
   ]
  },
  {
   "cell_type": "code",
   "execution_count": 13,
   "metadata": {},
   "outputs": [],
   "source": [
    "sigma_minus_spec = [cdf_spec[x].sigma_minus[0] for x in range(len(cdf_spec))]\n",
    "sigma_plus_spec = [cdf_spec[x].sigma_plus[0] for x in range(len(cdf_spec))]\n",
    "\n",
    "sigma_minus_lum = [cdf_lum[x].sigma_minus[0] for x in range(len(cdf_lum))]\n",
    "sigma_plus_lum = [cdf_lum[x].sigma_plus[0] for x in range(len(cdf_lum))]"
   ]
  },
  {
   "cell_type": "code",
   "execution_count": 14,
   "metadata": {},
   "outputs": [
    {
     "name": "stderr",
     "output_type": "stream",
     "text": [
      "/Users/sheilasagear/opt/anaconda3/lib/python3.7/site-packages/numpy/lib/histograms.py:908: RuntimeWarning: invalid value encountered in true_divide\n",
      "  return n/db/n.sum(), bin_edges\n"
     ]
    },
    {
     "data": {
      "text/plain": [
       "Text(0.5, 1.0, '')"
      ]
     },
     "execution_count": 14,
     "metadata": {},
     "output_type": "execute_result"
    },
    {
     "data": {
      "image/png": "[encoded data removed]",
      "text/plain": [
       "<Figure size 720x360 with 1 Axes>"
      ]
     },
     "metadata": {
      "needs_background": "light"
     },
     "output_type": "display_data"
    }
   ],
   "source": [
    "plt.hist(sigma_minus_spec, bins=55, density=True, color='blue', label='Only Spectroscopy (Muirhead et al. (2013)', alpha=0.5);\n",
    "plt.hist(sigma_minus_lum, bins=55, density=True, color='red', label='Spectroscopy + Gaia', alpha=0.5);\n",
    "plt.legend()\n",
    "plt.xlabel(r\"$\\sigma_{\\rho}$ $(kg/m^3)$\", size=22)\n",
    "plt.title(\"\")"
   ]
  },
  {
   "cell_type": "code",
   "execution_count": 15,
   "metadata": {},
   "outputs": [
    {
     "data": {
      "text/plain": [
       "[]"
      ]
     },
     "execution_count": 15,
     "metadata": {},
     "output_type": "execute_result"
    }
   ],
   "source": [
    "sigma_minus_spec[0:10]"
   ]
  },
  {
   "cell_type": "code",
   "execution_count": 373,
   "metadata": {},
   "outputs": [
    {
     "data": {
      "text/plain": [
       "[-431.03359129979714,\n",
       " -599.8463217738072,\n",
       " -467.5330176142188,\n",
       " -1057.382449614901,\n",
       " -517.3585076603795,\n",
       " -382.6772484170815,\n",
       " -852.7961026013309,\n",
       " -578.5999676349802,\n",
       " -555.4165541599505,\n",
       " -456.84901166309373]"
      ]
     },
     "execution_count": 373,
     "metadata": {},
     "output_type": "execute_result"
    }
   ],
   "source": [
    "sigma_minus_lum[0:10]"
   ]
  },
  {
   "cell_type": "markdown",
   "metadata": {},
   "source": [
    "## Extra (Comparing sigma from spectroscopy to sigma from spectroscopy + Gaia)"
   ]
  },
  {
   "cell_type": "code",
   "execution_count": 320,
   "metadata": {},
   "outputs": [
    {
     "data": {
      "text/plain": [
       "Text(0.5, 0, 'Density (kg/m^3)')"
      ]
     },
     "execution_count": 320,
     "metadata": {},
     "output_type": "execute_result"
    },
    {
     "data": {
      "image/png": "[encoded data removed]",
      "text/plain": [
       "<Figure size 720x360 with 1 Axes>"
      ]
     },
     "metadata": {
      "needs_background": "light"
     },
     "output_type": "display_data"
    }
   ],
   "source": [
    "df1 = pd.read_csv(r'/Users/sheilasagear/Dropbox (UFL)/Research/MetallicityProject/Code/isochrone_fits/spectroscopy_luminosity/iso_lums_5868793.csv')\n",
    "rho5868793 = find_density_dist(np.array(df1.mstar), np.array(df1.radius))\n",
    "plt.hist(rho5868793, bins=25);\n",
    "plt.title('KIC 5868793 - With Gaia Lums, sigma=2')\n",
    "plt.xlabel('Density (kg/m^3)')"
   ]
  },
  {
   "cell_type": "code",
   "execution_count": 321,
   "metadata": {},
   "outputs": [
    {
     "data": {
      "text/plain": [
       "Text(0.5, 0, 'Density (Sol Density)')"
      ]
     },
     "execution_count": 321,
     "metadata": {},
     "output_type": "execute_result"
    },
    {
     "data": {
      "image/png": "[encoded data removed]",
      "text/plain": [
       "<Figure size 720x360 with 1 Axes>"
      ]
     },
     "metadata": {
      "needs_background": "light"
     },
     "output_type": "display_data"
    }
   ],
   "source": [
    "dfnolum = pd.read_csv(r'/Users/sheilasagear/Dropbox (UFL)/Research/MetallicityProject/Code/isochrone_fits/spectroscopy/iso_fits_5868793.csv')\n",
    "rho5868793nolum = find_density_dist(np.array(dfnolum.mstar), np.array(dfnolum.radius))\n",
    "plt.hist(rho5868793nolum, bins=20);\n",
    "plt.title('KIC 5868793 - Without Gaia Lums, sigma=3.7')\n",
    "plt.xlabel('Density (Sol Density)')"
   ]
  }
 ],
 "metadata": {
  "kernelspec": {
   "display_name": "Python 3",
   "language": "python",
   "name": "python3"
  },
  "language_info": {
   "codemirror_mode": {
    "name": "ipython",
    "version": 3
   },
   "file_extension": ".py",
   "mimetype": "text/x-python",
   "name": "python",
   "nbconvert_exporter": "python",
   "pygments_lexer": "ipython3",
   "version": "3.7.6"
  }
 },
 "nbformat": 4,
 "nbformat_minor": 4
}
