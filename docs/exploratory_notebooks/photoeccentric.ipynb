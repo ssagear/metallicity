{
 "cells": [
  {
   "cell_type": "code",
   "execution_count": 6,
   "metadata": {},
   "outputs": [],
   "source": [
    "import numpy as np\n",
    "import matplotlib.pyplot as plt\n",
    "import pandas as pd\n",
    "import scipy.constants as c\n",
    "import PyAstronomy.pyasl as pya\n",
    "\n",
    "import metallicity as mt"
   ]
  },
  {
   "cell_type": "markdown",
   "metadata": {},
   "source": [
    "get_planet_params()\n",
    "\n",
    "get_rho_circ()\n",
    "\n",
    "get_g()\n",
    "\n",
    "get_e()"
   ]
  },
  {
   "cell_type": "code",
   "execution_count": 7,
   "metadata": {},
   "outputs": [],
   "source": [
    "def get_T23(p, rp_earth, rs, T14, a, i):\n",
    "    \n",
    "    ing_eg = 2*pya.ingressDuration(a, rp_earth*11.2, rs, i, p)#rp needs to in jovian radii\n",
    "    T23 = T14-ing_eg\n",
    "    \n",
    "    return T23\n",
    "\n",
    "def get_T23_errs(T23_dist):\n",
    "    \n",
    "    x, cdf = mt.get_cdf(T23_dist)\n",
    "    T23_sigma_minus = mt.find_sigma(x, cdf, \"-\")\n",
    "    T23_sigma_plus = mt.find_sigma(x, cdf, \"+\")\n",
    "    \n",
    "    return T23_sigma_minus, T23_sigma_plus\n",
    "\n",
    "\n",
    "def get_planet_params(p, rp_earth, rs, T14, T23):\n",
    "    \"\"\"Returns planet parameters in correct units.\n",
    "\n",
    "    Parameters\n",
    "    ----------\n",
    "    p: float\n",
    "        Planet orbital period (days)\n",
    "    rp_earth: float\n",
    "        Planet radius (earth radii)\n",
    "    rs: float\n",
    "        Stellar radius (solar radii)\n",
    "    T14: float\n",
    "        Total transit time - first to fourth contact (hours)\n",
    "    a: float\n",
    "        Planet semi-major axis (AU)\n",
    "    i: float\n",
    "        Orbital inclination (degrees)\n",
    "\n",
    "    Returns\n",
    "    -------\n",
    "    p_seconds: float\n",
    "        Orbital period (seconds)\n",
    "    rprs: float\n",
    "        Planet radius (stellar host radii)\n",
    "    T14_seconds: float\n",
    "        Total transit time - first to fourth contact (seconds)\n",
    "    T23_seconds: float\n",
    "        Full transit time - second to third contact (seconds)\n",
    "    \"\"\"\n",
    "\n",
    "    rp = rp_earth*0.0091577\n",
    "    rprs = rp/rs\n",
    "\n",
    "    p_seconds = p*86400\n",
    "    T14_seconds = T14*3600\n",
    "    T23_seconds = T23*3600\n",
    "\n",
    "    return p_seconds, rprs, T14_seconds, T23_seconds\n",
    "\n",
    "\n",
    "def get_rho_circ(rprs, T14, T23, p):\n",
    "    \"\"\"Returns stellar density, assuming a perfectly circular planetary orbit.\n",
    "\n",
    "    Parameters\n",
    "    ----------\n",
    "    rprs: float\n",
    "        Planet radius (stellar host radii)\n",
    "    T14: float\n",
    "        Total transit time - first to fourth contact (seconds)\n",
    "    T23: float\n",
    "        Full transit time - second to third contact (seconds)\n",
    "    p: float\n",
    "        Orbital period (seconds)\n",
    "\n",
    "    Returns\n",
    "    -------\n",
    "    rho_circ: float\n",
    "        Stellar density, assuming a circular orbit (kg/m^3)\n",
    "    \"\"\"\n",
    "    delta = rprs**2\n",
    "    num1 = 2*delta**(1/4)\n",
    "    den1 = np.sqrt(T14**2- T23**2)\n",
    "    term1 = (num1/den1)**3\n",
    "\n",
    "    num2 = 3*p\n",
    "    den2 = c.G*c.pi**2\n",
    "    term2 = num2/den2\n",
    "\n",
    "    rho_circ = term1*term2\n",
    "\n",
    "    return rho_circ\n",
    "\n",
    "\n",
    "def get_g(rho_circ, rho_star):\n",
    "    \"\"\"Gets g\n",
    "\n",
    "    Parameters\n",
    "    ----------\n",
    "    rho_circ: float\n",
    "        Stellar density, assuming a circular orbit (kg/m^3)\n",
    "    rho_star: float\n",
    "        Stellar density, calculated from Kepler/Gaia/spectroscopy (kg/m^3)\n",
    "\n",
    "    Returns\n",
    "    -------\n",
    "    g: float\n",
    "        Cube root of ratio between rho_circ and rho_star\n",
    "    \"\"\"\n",
    "    g = np.cbrt(rho_c/rho_star)\n",
    "    return g\n",
    "\n",
    "\n",
    "def get_e(g, w):\n",
    "    \"\"\"Gets eccentricity (from photoeccentric effect)\n",
    "\n",
    "    Parameters\n",
    "    ----------\n",
    "    g: float\n",
    "        Cube root of ratio between rho_circ and rho_star\n",
    "    w: float\n",
    "        Angle of apoapse or periapse (?) (degrees, -90 < w < 90)\n",
    "\n",
    "    Returns\n",
    "    -------\n",
    "    e: float\n",
    "        Eccentricity of planet orbit\n",
    "    \"\"\"\n",
    "    e = (np.sqrt(2)*(np.sqrt(2*g**4 - g**2*np.cos(2*w) - g**2 - 2*np.sin(w))))/(2*(g**2 + np.sin(w)**2))\n",
    "    return e"
   ]
  },
  {
   "cell_type": "code",
   "execution_count": 8,
   "metadata": {},
   "outputs": [],
   "source": [
    "#Kepler planets with spectroscopy\n",
    "rho_lum = pd.read_csv('/Users/sheilasagear/Dropbox (UFL)/Research/MetallicityProject/Data/rhos/rho_lum.csv')\n",
    "\n",
    "# ALL Kepler planets from exo archive\n",
    "planets = pd.read_csv('/Users/sheilasagear/Dropbox (UFL)/Research/MetallicityProject/Data/exoplanetarchive/cumulative_kois.csv')"
   ]
  },
  {
   "cell_type": "code",
   "execution_count": 9,
   "metadata": {},
   "outputs": [],
   "source": [
    "spectplanets = planets[planets['kepid'].isin(list(rho_lum.columns))]"
   ]
  },
  {
   "cell_type": "code",
   "execution_count": null,
   "metadata": {},
   "outputs": [],
   "source": []
  },
  {
   "cell_type": "code",
   "execution_count": 17,
   "metadata": {},
   "outputs": [],
   "source": [
    "per_dist = mt.asymmetric_gaussian(2, 1, -1, 30000)"
   ]
  },
  {
   "cell_type": "code",
   "execution_count": 18,
   "metadata": {},
   "outputs": [
    {
     "data": {
      "text/plain": [
       "(array([  15.,  204., 1247., 4794., 9033., 8804., 4551., 1179.,  159.,\n",
       "          14.]),\n",
       " array([-2.14048899, -1.3084293 , -0.4763696 ,  0.3556901 ,  1.1877498 ,\n",
       "         2.01980949,  2.85186919,  3.68392889,  4.51598858,  5.34804828,\n",
       "         6.18010798]),\n",
       " <a list of 10 Patch objects>)"
      ]
     },
     "execution_count": 18,
     "metadata": {},
     "output_type": "execute_result"
    },
    {
     "data": {
      "image/png": "[encoded data removed]",
      "text/plain": [
       "<Figure size 432x288 with 1 Axes>"
      ]
     },
     "metadata": {
      "needs_background": "light"
     },
     "output_type": "display_data"
    }
   ],
   "source": [
    "plt.hist(per_dist)"
   ]
  },
  {
   "cell_type": "code",
   "execution_count": 37,
   "metadata": {},
   "outputs": [],
   "source": [
    "from tqdm import tqdm"
   ]
  },
  {
   "cell_type": "code",
   "execution_count": null,
   "metadata": {},
   "outputs": [
    {
     "name": "stderr",
     "output_type": "stream",
     "text": [
      " 22%|██▏       | 6665/30506 [17:44<1:04:49,  6.13it/s]"
     ]
    }
   ],
   "source": [
    "for targ in spectplanets.itertuples():\n",
    "    \n",
    "    rhos = rho_lum[str(targ.kepid)].dropna()\n",
    "\n",
    "    per_dist = mt.asymmetric_gaussian(targ.koi_period, targ.koi_period_err1, targ.koi_period_err2, len(rhos))\n",
    "    \n",
    "    rp_earth_dist = mt.asymmetric_gaussian(targ.koi_srad, targ.koi_srad_err1, targ.koi_srad_err2, len(rhos))\n",
    "    rs_dist = mt.asymmetric_gaussian(targ.koi_prad, targ.koi_prad_err1, targ.koi_prad_err2, len(rhos))\n",
    "    \n",
    "    a = targ.koi_sma\n",
    "    i = targ.koi_incl\n",
    "    \n",
    "    T14_dist = mt.asymmetric_gaussian(targ.koi_duration, targ.koi_duration_err1, targ.koi_duration_err2, len(rhos))\n",
    "    T23_dist = np.zeros((len(rhos)))\n",
    "    \n",
    "    for i in tqdm(range(len(rhos))):\n",
    "        T23_dist[i] = get_T23(per_dist[i], rp_earth_dist[i], rs_dist[i], T14_dist[i], a, i)\n",
    "    plt.hist(T23_dist)\n",
    "    plt.show()\n",
    "    "
   ]
  },
  {
   "cell_type": "code",
   "execution_count": null,
   "metadata": {},
   "outputs": [],
   "source": [
    "for i in range(len(rhos)): #for element in histogram for star 0:\n",
    "    \n",
    "    \n",
    "    p_seconds, rprs, T14_seconds, T23_seconds = get_planet_params(per_dist[i], rp_earth_dist[i], rs_dist[i], T14_dist[i], T23_dist[i])\n",
    "    rho_circ = get_rho_circ(rprs, T14_seconds, T23_seconds, p_seconds)\n",
    "    g = get_g(rho_circ, rhos[i])\n",
    "    e = get_e(g, 0)\n",
    "    \n",
    "    #make a heatmap with w on one axis, e on the other, frequency colorbar\n",
    "    \n",
    "\n",
    "\n",
    "    "
   ]
  },
  {
   "cell_type": "code",
   "execution_count": null,
   "metadata": {},
   "outputs": [],
   "source": []
  },
  {
   "cell_type": "code",
   "execution_count": null,
   "metadata": {},
   "outputs": [],
   "source": []
  },
  {
   "cell_type": "code",
   "execution_count": null,
   "metadata": {},
   "outputs": [],
   "source": [
    "es = []\n",
    "gs = []\n",
    "\n",
    "for i in range(len(rho_f)):\n",
    "    rho_c = rho_circ(rprs_dist[i], T14_dist[i], T23_dist[i], p_dist[i])\n",
    "    g = get_g(rho_c, rho_f[i])\n",
    "    gs.append(g)\n",
    "    es.append(get_e(g, 90))"
   ]
  }
 ],
 "metadata": {
  "kernelspec": {
   "display_name": "Python 3",
   "language": "python",
   "name": "python3"
  },
  "language_info": {
   "codemirror_mode": {
    "name": "ipython",
    "version": 3
   },
   "file_extension": ".py",
   "mimetype": "text/x-python",
   "name": "python",
   "nbconvert_exporter": "python",
   "pygments_lexer": "ipython3",
   "version": "3.7.6"
  }
 },
 "nbformat": 4,
 "nbformat_minor": 4
}
