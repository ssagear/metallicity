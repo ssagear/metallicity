{
 "cells": [
  {
   "cell_type": "markdown",
   "metadata": {},
   "source": [
    "# Sigma_density: M Dwarfs with Spectroscopic Constraints"
   ]
  },
  {
   "cell_type": "markdown",
   "metadata": {},
   "source": [
    "Calculating density constraints for M Dwarf KOIs with spectroscopic constraints on properties."
   ]
  },
  {
   "cell_type": "markdown",
   "metadata": {},
   "source": [
    "1. From spectroscopy, we know Temperature, Mass, and Radius.\n",
    "2. Which isochrones (stellar models, with Temperature, Mass, and Radius as parameters) fit above star?\n",
    "3. Now take into account GAIA distance for the star. From this, we know the Luminosity.\n",
    "4. Look back at stellar models - which isochrone fits the Temperature, Mass Radius, and Luminority (from GAIA)?"
   ]
  },
  {
   "cell_type": "code",
   "execution_count": 1,
   "metadata": {},
   "outputs": [],
   "source": [
    "import numpy as np\n",
    "import matplotlib.pyplot as plt\n",
    "from astropy.io import fits\n",
    "from pprint import pprint\n",
    "import pandas as pd\n",
    "from tqdm import tqdm\n",
    "from astropy.table import Table\n",
    "\n",
    "plt.rcParams['figure.figsize'] = [10, 5]"
   ]
  },
  {
   "cell_type": "code",
   "execution_count": 2,
   "metadata": {},
   "outputs": [],
   "source": [
    "headers = ['KOI', 'KIC', 'Teff', 'ETeff', 'eTeff', 'Fe/H', 'e_Fe/H', 'M/H', 'e_M/H', 'SpType', 'Mstar', 'e_Mstar', 'Rstar', 'e_Rstar', 'Dis', 'Fe/H-T', 'e_Fe/H-T', 'Fe/H-M', 'e_Fe/H-M', 'M/H-M', 'e_M/H-M']"
   ]
  },
  {
   "cell_type": "markdown",
   "metadata": {},
   "source": [
    "For now, removed any rows with missing data and saved them into \"muirhead_data_no_missing_data.txt\"."
   ]
  },
  {
   "cell_type": "raw",
   "metadata": {},
   "source": [
    "================================================================================\n",
    "Byte-by-byte Description of file: apjs496235t1_mrt.txt\n",
    "--------------------------------------------------------------------------------\n",
    "   Bytes Format Units     Label  Explanations\n",
    "--------------------------------------------------------------------------------\n",
    "   1-  7 A7     ---       KOI    KOI Number with A or B for visual binaries\n",
    "   9- 16 I8     ---       KIC    KIC identifier\n",
    "  18- 21 I4     K         Teff   ? Stellar effective temperature (1)\n",
    "  23- 26 I4     K       E_Teff   ? Positive uncertainty in Teff (1)\n",
    "  28- 31 I4     K       e_Teff   ? Negative uncertainty in Teff (1)\n",
    "  33- 37 F5.2   [Sun]     Fe/H   ? Iron abundance using R12 calibration (1)\n",
    "  39- 42 F4.2   [Sun]   e_Fe/H   ? Uncertainty in Fe/H (1)\n",
    "\n",
    "  44- 48 F5.2   [Sun]     M/H    ? Overall metallicity using R12 calibration (1)\n",
    "  50- 53 F4.2   [Sun]   e_M/H    ? Uncertainty in M/H (1)\n",
    "  55- 57 A3     ---       SpType KHM Spectral type using R12 calibration (1)\n",
    "  59- 62 F4.2   solMass   Mstar  ? Stellar mass (2)\n",
    "  64- 67 F4.2   solMass e_Mstar  ? Uncertainty in Mstar (2)\n",
    "  69- 72 F4.2   solMass   Rstar  ? Stellar radius (2)\n",
    "  74- 77 F4.2   solRad  e_Rstar  ? Uncertainty in Rstar (2)\n",
    "  79- 81 I3     pc        Dis    ? Estimated distance to star (3) \n",
    "  83- 87 F5.2   [Sun]     Fe/H-T ? Iron abundance using T12 calibration (4)\n",
    "  89- 92 F4.2   [Sun]   e_Fe/H-T ? Uncertainty in Fe/H-T (4)\n",
    "  94- 98 F5.2   [Sun]     Fe/H-M ? Iron abundance using M13 calibration (4)\n",
    " 100-103 F4.2   [Sun]   e_Fe/H-M ? Uncertainty in Fe/H-M (4)\n",
    " 105-109 F5.2   [Sun]     M/H-M  ? Overall metallicity using M13 calibration (4)\n",
    " 111-114 F4.2   [Sun]   e_M/H-M  ? Uncertainty in M/H-M (4)\n",
    "--------------------------------------------------------------------------------\n",
    "Note (1): Stellar parameters determined using the K-band spectroscopic indices \n",
    "          of Rojas-Ayala et al. (2012), referred to as B12 in the table.  \n",
    "          Metallicity measurements for stars earlier than M0 (effective \n",
    "          temperature > 4000 K) represent an extrapolation of the calibrations.\n",
    "          KHM refers to the Kirkpatrick et al. (1991) spectral type system.  \n",
    "          For KOI 961, we use the effective temperature from \n",
    "          Muirhead et al. (2012a), which was determined by comparison to \n",
    "          empirical measurements of Barnard's Star.\n",
    "Note (2): Stellar parameters determined by interpolation onto a 5-Gyr isochrone\n",
    "          from the  Dartmouth Stellar Evolution Database (Dotter et al. 2008).\n",
    "Note (3): Distance determined by combining the predicted Mk from the Dartmouth \n",
    "          isochrones to the apparent K-band magnitude from 2MASS \n",
    "          Cutri et al. (2003).\n",
    "Note (4): For completeness, we include metallicity determinations using H-band \n",
    "          indices of Terrien et al. (2012), referred to as T12, and the K-band \n",
    "          indices of Mann et al. (2013a), referred to as M13.\n",
    "--------------------------------------------------------------------------------"
   ]
  },
  {
   "cell_type": "code",
   "execution_count": 3,
   "metadata": {},
   "outputs": [],
   "source": [
    "muirhead_data = pd.read_csv(\"muirhead_data_no_missing_data.txt\", sep=\" \")\n",
    "#muirhead_data"
   ]
  },
  {
   "cell_type": "code",
   "execution_count": 4,
   "metadata": {},
   "outputs": [],
   "source": [
    "isochrones = pd.read_csv('isochrones_sdss_spitzer_lowmass.dat', sep='\\s\\s+', engine='python')\n",
    "#isochrones"
   ]
  },
  {
   "cell_type": "markdown",
   "metadata": {},
   "source": [
    "#### First, let's work with muirhead_data[0]: KIC 5868793."
   ]
  },
  {
   "cell_type": "markdown",
   "metadata": {},
   "source": [
    "1. Take Teff, Mass, and Radius.\n",
    "2. Which isochrones fit these Teff, Mass, and Radius?"
   ]
  },
  {
   "cell_type": "markdown",
   "metadata": {},
   "source": [
    "#### Reading Gaia-Kepler data (luminosities)"
   ]
  },
  {
   "cell_type": "code",
   "execution_count": 5,
   "metadata": {},
   "outputs": [
    {
     "name": "stderr",
     "output_type": "stream",
     "text": [
      "/Users/sheilasagear/opt/anaconda3/lib/python3.7/site-packages/IPython/core/interactiveshell.py:3331: TableReplaceWarning: converted column 'r_result_flag' from integer to float\n",
      "  exec(code_obj, self.user_global_ns, self.user_ns)\n",
      "/Users/sheilasagear/opt/anaconda3/lib/python3.7/site-packages/IPython/core/interactiveshell.py:3331: TableReplaceWarning: converted column 'r_modality_flag' from integer to float\n",
      "  exec(code_obj, self.user_global_ns, self.user_ns)\n",
      "/Users/sheilasagear/opt/anaconda3/lib/python3.7/site-packages/IPython/core/interactiveshell.py:3331: TableReplaceWarning: converted column 'teff_err1' from integer to float\n",
      "  exec(code_obj, self.user_global_ns, self.user_ns)\n",
      "/Users/sheilasagear/opt/anaconda3/lib/python3.7/site-packages/IPython/core/interactiveshell.py:3331: TableReplaceWarning: converted column 'teff_err2' from integer to float\n",
      "  exec(code_obj, self.user_global_ns, self.user_ns)\n"
     ]
    }
   ],
   "source": [
    "dat = Table.read('kepler_dr2_1arcsec.fits', format='fits')\n",
    "df = dat.to_pandas()"
   ]
  },
  {
   "cell_type": "code",
   "execution_count": 6,
   "metadata": {},
   "outputs": [],
   "source": [
    "muirhead_gaia = df[df['kepid'].isin(list(muirhead_data.KIC))]\n",
    "muirhead_gaia = muirhead_gaia.reset_index()\n",
    "muirhead_gaia.rename(columns={\"index\": \"KIC\"})\n",
    "\n",
    "#muirhead_comb: planet hosts with spectroscopic data + Gaia/Kepler data in one table\n",
    "muirhead_comb = pd.concat([muirhead_data, muirhead_gaia], axis=1)"
   ]
  },
  {
   "cell_type": "code",
   "execution_count": 17,
   "metadata": {},
   "outputs": [],
   "source": [
    "def fit_isochrone(data, isochrones):\n",
    "    \"\"\"\n",
    "       Inputs:\n",
    "       data: pd.DataFrame. Spectroscopic data + Kepler/Gaia data for n stars in one table. (muirhead_comb)\n",
    "       isochrones: pd.DataFrame. Isochrones table. (isochrones)\n",
    "       \n",
    "       Returns: list of pd.DataFrames. Each element of list is a pd.DataFrame of the isochrones that fit this star (index) BASED ONLY ON SPECTROSCOPY.\n",
    "       \"\"\"            \n",
    "    \n",
    "    iso_fits_final = list()\n",
    "    \n",
    "    #test each star in spectroscopy sample:\n",
    "    #for i in tqdm(range(len(muirhead_comb))):\n",
    "    for i in tqdm(range(1)):\n",
    "\n",
    "        iso_fits = pd.DataFrame() \n",
    "\n",
    "        Teff_range = [data.Teff[i]-data.eTeff[i], data.Teff[i]+data.ETeff[i]]\n",
    "        Mstar_range = [data.Mstar[i]-data.e_Mstar[i], data.Mstar[i]+data.e_Mstar[i]]\n",
    "        Rstar_range = [data.Rstar[i]-data.e_Rstar[i], data.Rstar[i]+data.e_Rstar[i]]\n",
    "\n",
    "        #test each stellar model to see if it falls within error bars:\n",
    "        for j in range(len(isochrones)):\n",
    "            if Teff_range[0] < 10**isochrones.logt[j] < Teff_range[1] and Mstar_range[0] < isochrones.mstar[j] < Mstar_range[1] and Rstar_range[0] < isochrones.radius[j] < Rstar_range[1]:\n",
    "                iso_fits = iso_fits.append(isochrones.loc[[j]])\n",
    "\n",
    "        iso_fits['KIC'] = muirhead_comb['KIC'][i]\n",
    "        iso_fits['KOI'] = muirhead_comb['KOI'][i]\n",
    "\n",
    "        iso_fits_final.append(iso_fits)\n",
    "\n",
    "    return iso_fits_final\n"
   ]
  },
  {
   "cell_type": "code",
   "execution_count": 18,
   "metadata": {},
   "outputs": [
    {
     "name": "stderr",
     "output_type": "stream",
     "text": [
      "100%|██████████| 1/1 [01:30<00:00, 90.56s/it]\n"
     ]
    }
   ],
   "source": [
    "isos = fit_isochrone(muirhead_comb, isochrones)"
   ]
  },
  {
   "cell_type": "code",
   "execution_count": 9,
   "metadata": {},
   "outputs": [],
   "source": [
    "#for i in range(len(isos)):\n",
    "#    isos[i].to_csv(\"isochrone_fits/spectroscopy/iso_fits_\" + str([i]) + \".csv\")"
   ]
  },
  {
   "cell_type": "code",
   "execution_count": 10,
   "metadata": {},
   "outputs": [],
   "source": [
    "#for i in range(12, len(isos)):\n",
    "#    isos[i].to_csv(\"isochrone_fits/spectroscopy/iso_fits_\" + str(isos[i]['KIC'].iloc[0]) + \".csv\")"
   ]
  },
  {
   "cell_type": "code",
   "execution_count": 19,
   "metadata": {},
   "outputs": [],
   "source": [
    "def fit_isochrone_lum(data, isochrones):\n",
    "    \"\"\"\n",
    "       Inputs:\n",
    "       data: pd.DataFrame. Spectroscopic data + Kepler/Gaia for n stars in one table. (muirhead_comb)\n",
    "       isochrones: pd.DataFrame. Isochrones table. (isochrones)\n",
    "       \n",
    "       Returns: list of pd.DataFrames. Each element of list is a pd.DataFrame of the isochrones that fit this star (index) BASED ON SPECTROSCOPY AND GAIA LUMINOSITY.\n",
    "       \"\"\"    \n",
    "    \n",
    "    iso_fits_final = list()\n",
    "    \n",
    "    #for i in tqdm(range(len(muirhead_comb))):\n",
    "    for i in range(1):\n",
    "        \n",
    "        iso_fits = pd.DataFrame() \n",
    "    \n",
    "        Teff_range = [data.Teff[i]-data.eTeff[i], data.Teff[i]+data.ETeff[i]]\n",
    "        Mstar_range = [data.Mstar[i]-data.e_Mstar[i], data.Mstar[i]+data.e_Mstar[i]]\n",
    "        Rstar_range = [data.Rstar[i]-data.e_Rstar[i], data.Rstar[i]+data.e_Rstar[i]]\n",
    "        lum_range = [data.lum_val[i]-data.lum_percentile_lower[i], data.lum_val[i]+data.lum_percentile_lower[i]]\n",
    "\n",
    "        for j in range(len(isochrones)):\n",
    "            if Teff_range[0] < 10**isochrones.logt[j] < Teff_range[1] and Mstar_range[0] < isochrones.mstar[j] < Mstar_range[1] and Rstar_range[0] < isochrones.radius[j] < Rstar_range[1] and lum_range[0] < 10**isochrones.logl_ls[j] < lum_range[1]:\n",
    "                iso_fits = iso_fits.append(isochrones.loc[[j]])\n",
    "        \n",
    "        iso_fits['KIC'] = muirhead_comb['KIC'][i]\n",
    "        iso_fits['KOI'] = muirhead_comb['KOI'][i]\n",
    "        \n",
    "        iso_fits_final.append(iso_fits)\n",
    "            \n",
    "    return iso_fits_final"
   ]
  },
  {
   "cell_type": "code",
   "execution_count": 20,
   "metadata": {
    "scrolled": true
   },
   "outputs": [],
   "source": [
    "iso_lums = fit_isochrone_lum(muirhead_comb, isochrones)\n"
   ]
  },
  {
   "cell_type": "code",
   "execution_count": 14,
   "metadata": {},
   "outputs": [],
   "source": [
    "#for i in range(37, len(iso_lums)):\n",
    "#    try:\n",
    "#        iso_lums[i].to_csv(\"isochrone_fits/spectroscopy_luminosity/iso_lums_\" + str(iso_lums[i]['KIC'].iloc[0]) + \".csv\")\n",
    "#    except IndexError:\n",
    "#        pass"
   ]
  },
  {
   "cell_type": "markdown",
   "metadata": {},
   "source": [
    "### Calculate rho"
   ]
  },
  {
   "cell_type": "code",
   "execution_count": 16,
   "metadata": {},
   "outputs": [],
   "source": [
    "#Let's just do 1 star for now\n",
    "ntargs = 1"
   ]
  },
  {
   "cell_type": "code",
   "execution_count": 1,
   "metadata": {},
   "outputs": [],
   "source": [
    "def find_density_dist_symmetric(ntargs, masses, masserr1, masserr2, radii, raderr1, raderr2):\n",
    "    \n",
    "    rho_dist = np.zeros((ntargs, 1000))\n",
    "    mass_dist = np.zeros((ntargs, 1000))\n",
    "    rad_dist = np.zeros((ntargs, 1000))\n",
    "\n",
    "    #star: indexing star\n",
    "    #point: indexing PDF point for star\n",
    "    \n",
    "    for star in tqdm(range(ntargs)):\n",
    "        \n",
    "        rho_temp = np.zeros(1200)\n",
    "        mass_temp = np.zeros(1200)\n",
    "        rad_temp = np.zeros(1200)\n",
    "        \n",
    "        #####\n",
    "        mass_temp = np.random.normal(masses[star], np.mean((abs(masserr2[star]), abs(masserr1[star]))), 1200)\n",
    "        #len 1200\n",
    "        rad_temp = np.random.normal(radii[star], np.mean((abs(raderr2[star]), abs(raderr1[star]))), 1200)\n",
    "        #len 1200\n",
    "        #####\n",
    "        \n",
    "        #for j from 0 to 1200\n",
    "        #for each point in individual star PDF\n",
    "        #Adding each density point to rho_temp (specific to this star)\n",
    "        for point in range(len(mass_temp)):\n",
    "            #if mass_dist[point] >= 0. and rad_dist[point] >= 0:\n",
    "            if True:\n",
    "                rho_temp[point] = density(mass_temp[point], rad_temp[point], sol_density)\n",
    "                \n",
    "        #Now rho_temp is a n-long array with this star. We want it to be 1000-long exactly\n",
    "                                 \n",
    "        while len(rho_temp) > 1000:\n",
    "            temp_ind = np.random.randint(0, len(rho_temp)-1)\n",
    "            rho_temp = np.delete(rho_temp, temp_ind)\n",
    "            mass_temp = np.delete(mass_temp, temp_ind)\n",
    "            rad_temp = np.delete(rad_temp, temp_ind)\n",
    "        else:\n",
    "            rho_dist[star] = rho_temp\n",
    "            mass_dist[star] = mass_temp\n",
    "            rad_dist[star] = rad_temp\n",
    "    \n",
    "    return rho_dist, mass_dist, rad_dist"
   ]
  },
  {
   "cell_type": "code",
   "execution_count": 3,
   "metadata": {},
   "outputs": [],
   "source": [
    "def density(mass, radius, sol_density):\n",
    "    \"\"\"Mass in solar density\n",
    "    Radius in solar density\n",
    "    sol_density in kg/m^3\"\"\"\n",
    "\n",
    "    return ((mass*1.989e30)/((4./3.)*np.pi*radius**3*696.34e6**3))/sol_density"
   ]
  },
  {
   "cell_type": "code",
   "execution_count": null,
   "metadata": {},
   "outputs": [],
   "source": [
    "rho, mass, radius = find_density_dist_symmetric(ntargs, mass_dwarf, masserr1_dwarf, masserr2_dwarf, rad_dwarf, raderr1_dwarf, raderr2_dwarf, logg_dwarf)"
   ]
  }
 ],
 "metadata": {
  "kernelspec": {
   "display_name": "Python 3",
   "language": "python",
   "name": "python3"
  },
  "language_info": {
   "codemirror_mode": {
    "name": "ipython",
    "version": 3
   },
   "file_extension": ".py",
   "mimetype": "text/x-python",
   "name": "python",
   "nbconvert_exporter": "python",
   "pygments_lexer": "ipython3",
   "version": "3.7.6"
  }
 },
 "nbformat": 4,
 "nbformat_minor": 4
}
